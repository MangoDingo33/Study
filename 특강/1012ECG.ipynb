{
  "nbformat": 4,
  "nbformat_minor": 0,
  "metadata": {
    "colab": {
      "provenance": [],
      "gpuType": "T4",
      "authorship_tag": "ABX9TyNNVBywxg4f54GcsKYdDf0u",
      "include_colab_link": true
    },
    "kernelspec": {
      "name": "python3",
      "display_name": "Python 3"
    },
    "language_info": {
      "name": "python"
    },
    "accelerator": "GPU"
  },
  "cells": [
    {
      "cell_type": "markdown",
      "metadata": {
        "id": "view-in-github",
        "colab_type": "text"
      },
      "source": [
        "<a href=\"https://colab.research.google.com/github/MangoDingo33/Study/blob/main/%ED%8A%B9%EA%B0%95/1012ECG.ipynb\" target=\"_parent\"><img src=\"https://colab.research.google.com/assets/colab-badge.svg\" alt=\"Open In Colab\"/></a>"
      ]
    },
    {
      "cell_type": "code",
      "execution_count": 2,
      "metadata": {
        "colab": {
          "base_uri": "https://localhost:8080/"
        },
        "id": "xOnvKjfTUkan",
        "outputId": "3de83196-eb74-4094-c2d0-7c9ad6f59034"
      },
      "outputs": [
        {
          "output_type": "stream",
          "name": "stdout",
          "text": [
            "Mounted at /content/drive\n"
          ]
        }
      ],
      "source": [
        "from google.colab import drive\n",
        "drive.mount('/content/drive')"
      ]
    },
    {
      "cell_type": "code",
      "source": [
        "pip install heartpy"
      ],
      "metadata": {
        "colab": {
          "base_uri": "https://localhost:8080/"
        },
        "id": "fHImLSNFY3oS",
        "outputId": "2c6ff569-1289-4f36-d9ff-dfcdacf316c4"
      },
      "execution_count": 3,
      "outputs": [
        {
          "output_type": "stream",
          "name": "stdout",
          "text": [
            "Collecting heartpy\n",
            "  Downloading heartpy-1.2.7-py3-none-any.whl (1.0 MB)\n",
            "\u001b[2K     \u001b[90m━━━━━━━━━━━━━━━━━━━━━━━━━━━━━━━━━━━━━━━━\u001b[0m \u001b[32m1.0/1.0 MB\u001b[0m \u001b[31m7.8 MB/s\u001b[0m eta \u001b[36m0:00:00\u001b[0m\n",
            "\u001b[?25hRequirement already satisfied: numpy>=1.17 in /usr/local/lib/python3.10/dist-packages (from heartpy) (1.23.5)\n",
            "Requirement already satisfied: scipy in /usr/local/lib/python3.10/dist-packages (from heartpy) (1.11.3)\n",
            "Requirement already satisfied: matplotlib in /usr/local/lib/python3.10/dist-packages (from heartpy) (3.7.1)\n",
            "Requirement already satisfied: contourpy>=1.0.1 in /usr/local/lib/python3.10/dist-packages (from matplotlib->heartpy) (1.1.1)\n",
            "Requirement already satisfied: cycler>=0.10 in /usr/local/lib/python3.10/dist-packages (from matplotlib->heartpy) (0.12.0)\n",
            "Requirement already satisfied: fonttools>=4.22.0 in /usr/local/lib/python3.10/dist-packages (from matplotlib->heartpy) (4.43.1)\n",
            "Requirement already satisfied: kiwisolver>=1.0.1 in /usr/local/lib/python3.10/dist-packages (from matplotlib->heartpy) (1.4.5)\n",
            "Requirement already satisfied: packaging>=20.0 in /usr/local/lib/python3.10/dist-packages (from matplotlib->heartpy) (23.2)\n",
            "Requirement already satisfied: pillow>=6.2.0 in /usr/local/lib/python3.10/dist-packages (from matplotlib->heartpy) (9.4.0)\n",
            "Requirement already satisfied: pyparsing>=2.3.1 in /usr/local/lib/python3.10/dist-packages (from matplotlib->heartpy) (3.1.1)\n",
            "Requirement already satisfied: python-dateutil>=2.7 in /usr/local/lib/python3.10/dist-packages (from matplotlib->heartpy) (2.8.2)\n",
            "Requirement already satisfied: six>=1.5 in /usr/local/lib/python3.10/dist-packages (from python-dateutil>=2.7->matplotlib->heartpy) (1.16.0)\n",
            "Installing collected packages: heartpy\n",
            "Successfully installed heartpy-1.2.7\n"
          ]
        }
      ]
    },
    {
      "cell_type": "code",
      "source": [
        "pip install neurokit2"
      ],
      "metadata": {
        "colab": {
          "base_uri": "https://localhost:8080/"
        },
        "id": "UJE8leBbZGWn",
        "outputId": "06ad1c18-bcfa-41ea-e1bc-27bb5717246e"
      },
      "execution_count": 4,
      "outputs": [
        {
          "output_type": "stream",
          "name": "stdout",
          "text": [
            "Collecting neurokit2\n",
            "  Downloading neurokit2-0.2.6-py2.py3-none-any.whl (1.3 MB)\n",
            "\u001b[?25l     \u001b[90m━━━━━━━━━━━━━━━━━━━━━━━━━━━━━━━━━━━━━━━━\u001b[0m \u001b[32m0.0/1.3 MB\u001b[0m \u001b[31m?\u001b[0m eta \u001b[36m-:--:--\u001b[0m\r\u001b[2K     \u001b[91m━━━━━━━\u001b[0m\u001b[90m╺\u001b[0m\u001b[90m━━━━━━━━━━━━━━━━━━━━━━━━━━━━━━━━\u001b[0m \u001b[32m0.2/1.3 MB\u001b[0m \u001b[31m7.1 MB/s\u001b[0m eta \u001b[36m0:00:01\u001b[0m\r\u001b[2K     \u001b[91m━━━━━━━━━━━━━━━━\u001b[0m\u001b[91m╸\u001b[0m\u001b[90m━━━━━━━━━━━━━━━━━━━━━━━\u001b[0m \u001b[32m0.5/1.3 MB\u001b[0m \u001b[31m9.6 MB/s\u001b[0m eta \u001b[36m0:00:01\u001b[0m\r\u001b[2K     \u001b[91m━━━━━━━━━━━━━━━━━━━━━━━━━━━━━━━━━\u001b[0m\u001b[90m╺\u001b[0m\u001b[90m━━━━━━\u001b[0m \u001b[32m1.1/1.3 MB\u001b[0m \u001b[31m10.1 MB/s\u001b[0m eta \u001b[36m0:00:01\u001b[0m\r\u001b[2K     \u001b[90m━━━━━━━━━━━━━━━━━━━━━━━━━━━━━━━━━━━━━━━━\u001b[0m \u001b[32m1.3/1.3 MB\u001b[0m \u001b[31m9.4 MB/s\u001b[0m eta \u001b[36m0:00:00\u001b[0m\n",
            "\u001b[?25hRequirement already satisfied: numpy in /usr/local/lib/python3.10/dist-packages (from neurokit2) (1.23.5)\n",
            "Requirement already satisfied: pandas in /usr/local/lib/python3.10/dist-packages (from neurokit2) (1.5.3)\n",
            "Requirement already satisfied: scipy in /usr/local/lib/python3.10/dist-packages (from neurokit2) (1.11.3)\n",
            "Requirement already satisfied: scikit-learn>=1.0.0 in /usr/local/lib/python3.10/dist-packages (from neurokit2) (1.2.2)\n",
            "Requirement already satisfied: matplotlib in /usr/local/lib/python3.10/dist-packages (from neurokit2) (3.7.1)\n",
            "Requirement already satisfied: joblib>=1.1.1 in /usr/local/lib/python3.10/dist-packages (from scikit-learn>=1.0.0->neurokit2) (1.3.2)\n",
            "Requirement already satisfied: threadpoolctl>=2.0.0 in /usr/local/lib/python3.10/dist-packages (from scikit-learn>=1.0.0->neurokit2) (3.2.0)\n",
            "Requirement already satisfied: contourpy>=1.0.1 in /usr/local/lib/python3.10/dist-packages (from matplotlib->neurokit2) (1.1.1)\n",
            "Requirement already satisfied: cycler>=0.10 in /usr/local/lib/python3.10/dist-packages (from matplotlib->neurokit2) (0.12.0)\n",
            "Requirement already satisfied: fonttools>=4.22.0 in /usr/local/lib/python3.10/dist-packages (from matplotlib->neurokit2) (4.43.1)\n",
            "Requirement already satisfied: kiwisolver>=1.0.1 in /usr/local/lib/python3.10/dist-packages (from matplotlib->neurokit2) (1.4.5)\n",
            "Requirement already satisfied: packaging>=20.0 in /usr/local/lib/python3.10/dist-packages (from matplotlib->neurokit2) (23.2)\n",
            "Requirement already satisfied: pillow>=6.2.0 in /usr/local/lib/python3.10/dist-packages (from matplotlib->neurokit2) (9.4.0)\n",
            "Requirement already satisfied: pyparsing>=2.3.1 in /usr/local/lib/python3.10/dist-packages (from matplotlib->neurokit2) (3.1.1)\n",
            "Requirement already satisfied: python-dateutil>=2.7 in /usr/local/lib/python3.10/dist-packages (from matplotlib->neurokit2) (2.8.2)\n",
            "Requirement already satisfied: pytz>=2020.1 in /usr/local/lib/python3.10/dist-packages (from pandas->neurokit2) (2023.3.post1)\n",
            "Requirement already satisfied: six>=1.5 in /usr/local/lib/python3.10/dist-packages (from python-dateutil>=2.7->matplotlib->neurokit2) (1.16.0)\n",
            "Installing collected packages: neurokit2\n",
            "Successfully installed neurokit2-0.2.6\n"
          ]
        }
      ]
    },
    {
      "cell_type": "code",
      "source": [
        "pip install wfdb"
      ],
      "metadata": {
        "colab": {
          "base_uri": "https://localhost:8080/"
        },
        "id": "dJK_MxdkZXJk",
        "outputId": "a03ae958-906e-4bf8-e7d3-059e45589c85"
      },
      "execution_count": 5,
      "outputs": [
        {
          "output_type": "stream",
          "name": "stdout",
          "text": [
            "Collecting wfdb\n",
            "  Downloading wfdb-4.1.2-py3-none-any.whl (159 kB)\n",
            "\u001b[?25l     \u001b[90m━━━━━━━━━━━━━━━━━━━━━━━━━━━━━━━━━━━━━━━━\u001b[0m \u001b[32m0.0/160.0 kB\u001b[0m \u001b[31m?\u001b[0m eta \u001b[36m-:--:--\u001b[0m\r\u001b[2K     \u001b[91m━━━━━━━━━━━━━━━━━━━━━━━━━━━━━━━━━━\u001b[0m\u001b[91m╸\u001b[0m\u001b[90m━━━━\u001b[0m \u001b[32m143.4/160.0 kB\u001b[0m \u001b[31m4.0 MB/s\u001b[0m eta \u001b[36m0:00:01\u001b[0m\r\u001b[2K     \u001b[90m━━━━━━━━━━━━━━━━━━━━━━━━━━━━━━━━━━━━━━━\u001b[0m \u001b[32m160.0/160.0 kB\u001b[0m \u001b[31m3.5 MB/s\u001b[0m eta \u001b[36m0:00:00\u001b[0m\n",
            "\u001b[?25hRequirement already satisfied: SoundFile>=0.10.0 in /usr/local/lib/python3.10/dist-packages (from wfdb) (0.12.1)\n",
            "Requirement already satisfied: matplotlib>=3.2.2 in /usr/local/lib/python3.10/dist-packages (from wfdb) (3.7.1)\n",
            "Requirement already satisfied: numpy>=1.10.1 in /usr/local/lib/python3.10/dist-packages (from wfdb) (1.23.5)\n",
            "Requirement already satisfied: pandas>=1.3.0 in /usr/local/lib/python3.10/dist-packages (from wfdb) (1.5.3)\n",
            "Requirement already satisfied: requests>=2.8.1 in /usr/local/lib/python3.10/dist-packages (from wfdb) (2.31.0)\n",
            "Requirement already satisfied: scipy>=1.0.0 in /usr/local/lib/python3.10/dist-packages (from wfdb) (1.11.3)\n",
            "Requirement already satisfied: contourpy>=1.0.1 in /usr/local/lib/python3.10/dist-packages (from matplotlib>=3.2.2->wfdb) (1.1.1)\n",
            "Requirement already satisfied: cycler>=0.10 in /usr/local/lib/python3.10/dist-packages (from matplotlib>=3.2.2->wfdb) (0.12.0)\n",
            "Requirement already satisfied: fonttools>=4.22.0 in /usr/local/lib/python3.10/dist-packages (from matplotlib>=3.2.2->wfdb) (4.43.1)\n",
            "Requirement already satisfied: kiwisolver>=1.0.1 in /usr/local/lib/python3.10/dist-packages (from matplotlib>=3.2.2->wfdb) (1.4.5)\n",
            "Requirement already satisfied: packaging>=20.0 in /usr/local/lib/python3.10/dist-packages (from matplotlib>=3.2.2->wfdb) (23.2)\n",
            "Requirement already satisfied: pillow>=6.2.0 in /usr/local/lib/python3.10/dist-packages (from matplotlib>=3.2.2->wfdb) (9.4.0)\n",
            "Requirement already satisfied: pyparsing>=2.3.1 in /usr/local/lib/python3.10/dist-packages (from matplotlib>=3.2.2->wfdb) (3.1.1)\n",
            "Requirement already satisfied: python-dateutil>=2.7 in /usr/local/lib/python3.10/dist-packages (from matplotlib>=3.2.2->wfdb) (2.8.2)\n",
            "Requirement already satisfied: pytz>=2020.1 in /usr/local/lib/python3.10/dist-packages (from pandas>=1.3.0->wfdb) (2023.3.post1)\n",
            "Requirement already satisfied: charset-normalizer<4,>=2 in /usr/local/lib/python3.10/dist-packages (from requests>=2.8.1->wfdb) (3.3.0)\n",
            "Requirement already satisfied: idna<4,>=2.5 in /usr/local/lib/python3.10/dist-packages (from requests>=2.8.1->wfdb) (3.4)\n",
            "Requirement already satisfied: urllib3<3,>=1.21.1 in /usr/local/lib/python3.10/dist-packages (from requests>=2.8.1->wfdb) (2.0.6)\n",
            "Requirement already satisfied: certifi>=2017.4.17 in /usr/local/lib/python3.10/dist-packages (from requests>=2.8.1->wfdb) (2023.7.22)\n",
            "Requirement already satisfied: cffi>=1.0 in /usr/local/lib/python3.10/dist-packages (from SoundFile>=0.10.0->wfdb) (1.16.0)\n",
            "Requirement already satisfied: pycparser in /usr/local/lib/python3.10/dist-packages (from cffi>=1.0->SoundFile>=0.10.0->wfdb) (2.21)\n",
            "Requirement already satisfied: six>=1.5 in /usr/local/lib/python3.10/dist-packages (from python-dateutil>=2.7->matplotlib>=3.2.2->wfdb) (1.16.0)\n",
            "Installing collected packages: wfdb\n",
            "Successfully installed wfdb-4.1.2\n"
          ]
        }
      ]
    },
    {
      "cell_type": "code",
      "source": [
        "import numpy as np\n",
        "import heartpy as hp\n",
        "import pandas as pd\n",
        "import matplotlib.pyplot as plt\n",
        "from glob import glob\n",
        "from tqdm import tqdm\n",
        "import neurokit2 as nk\n",
        "import matplotlib.pyplot as plt\n",
        "from pandas import Series\n",
        "from scipy import signal\n",
        "import wfdb\n",
        "import time\n",
        "import os\n",
        "import re"
      ],
      "metadata": {
        "id": "lgt4gJwSYtch"
      },
      "execution_count": 6,
      "outputs": []
    },
    {
      "cell_type": "code",
      "source": [
        "!wget -r -N -c -np https://physionet.org/files/mitdb/1.0.0/"
      ],
      "metadata": {
        "colab": {
          "base_uri": "https://localhost:8080/"
        },
        "id": "1K7yLRxUZubE",
        "outputId": "e539ba70-fc4d-4038-803e-43cb7d85b202"
      },
      "execution_count": 7,
      "outputs": [
        {
          "output_type": "stream",
          "name": "stdout",
          "text": [
            "\u001b[1;30;43m스트리밍 출력 내용이 길어서 마지막 5000줄이 삭제되었습니다.\u001b[0m\n",
            "Length: 5468 (5.3K) [application/octet-stream]\n",
            "Saving to: ‘physionet.org/files/mitdb/1.0.0/223.atr’\n",
            "\n",
            "physionet.org/files 100%[===================>]   5.34K  --.-KB/s    in 0s      \n",
            "\n",
            "2023-10-12 10:32:30 (1.97 GB/s) - ‘physionet.org/files/mitdb/1.0.0/223.atr’ saved [5468/5468]\n",
            "\n",
            "--2023-10-12 10:32:30--  https://physionet.org/files/mitdb/1.0.0/223.dat\n",
            "Reusing existing connection to physionet.org:443.\n",
            "HTTP request sent, awaiting response... 200 OK\n",
            "Length: 1950000 (1.9M) [application/octet-stream]\n",
            "Saving to: ‘physionet.org/files/mitdb/1.0.0/223.dat’\n",
            "\n",
            "physionet.org/files 100%[===================>]   1.86M  1.12MB/s    in 1.7s    \n",
            "\n",
            "2023-10-12 10:32:32 (1.12 MB/s) - ‘physionet.org/files/mitdb/1.0.0/223.dat’ saved [1950000/1950000]\n",
            "\n",
            "--2023-10-12 10:32:32--  https://physionet.org/files/mitdb/1.0.0/223.hea\n",
            "Reusing existing connection to physionet.org:443.\n",
            "HTTP request sent, awaiting response... 200 OK\n",
            "Length: 258 [text/plain]\n",
            "Saving to: ‘physionet.org/files/mitdb/1.0.0/223.hea’\n",
            "\n",
            "physionet.org/files 100%[===================>]     258  --.-KB/s    in 0s      \n",
            "\n",
            "2023-10-12 10:32:32 (176 MB/s) - ‘physionet.org/files/mitdb/1.0.0/223.hea’ saved [258/258]\n",
            "\n",
            "--2023-10-12 10:32:32--  https://physionet.org/files/mitdb/1.0.0/223.xws\n",
            "Reusing existing connection to physionet.org:443.\n",
            "HTTP request sent, awaiting response... 200 OK\n",
            "Length: 88 [text/plain]\n",
            "Saving to: ‘physionet.org/files/mitdb/1.0.0/223.xws’\n",
            "\n",
            "physionet.org/files 100%[===================>]      88  --.-KB/s    in 0s      \n",
            "\n",
            "2023-10-12 10:32:32 (73.6 MB/s) - ‘physionet.org/files/mitdb/1.0.0/223.xws’ saved [88/88]\n",
            "\n",
            "--2023-10-12 10:32:32--  https://physionet.org/files/mitdb/1.0.0/228.atr\n",
            "Reusing existing connection to physionet.org:443.\n",
            "HTTP request sent, awaiting response... 200 OK\n",
            "Length: 5198 (5.1K) [application/octet-stream]\n",
            "Saving to: ‘physionet.org/files/mitdb/1.0.0/228.atr’\n",
            "\n",
            "physionet.org/files 100%[===================>]   5.08K  --.-KB/s    in 0s      \n",
            "\n",
            "2023-10-12 10:32:32 (2.37 GB/s) - ‘physionet.org/files/mitdb/1.0.0/228.atr’ saved [5198/5198]\n",
            "\n",
            "--2023-10-12 10:32:32--  https://physionet.org/files/mitdb/1.0.0/228.dat\n",
            "Reusing existing connection to physionet.org:443.\n",
            "HTTP request sent, awaiting response... 200 OK\n",
            "Length: 1950000 (1.9M) [application/octet-stream]\n",
            "Saving to: ‘physionet.org/files/mitdb/1.0.0/228.dat’\n",
            "\n",
            "physionet.org/files 100%[===================>]   1.86M  1.11MB/s    in 1.7s    \n",
            "\n",
            "2023-10-12 10:32:34 (1.11 MB/s) - ‘physionet.org/files/mitdb/1.0.0/228.dat’ saved [1950000/1950000]\n",
            "\n",
            "--2023-10-12 10:32:34--  https://physionet.org/files/mitdb/1.0.0/228.hea\n",
            "Reusing existing connection to physionet.org:443.\n",
            "HTTP request sent, awaiting response... 200 OK\n",
            "Length: 302 [text/plain]\n",
            "Saving to: ‘physionet.org/files/mitdb/1.0.0/228.hea’\n",
            "\n",
            "physionet.org/files 100%[===================>]     302  --.-KB/s    in 0s      \n",
            "\n",
            "2023-10-12 10:32:34 (209 MB/s) - ‘physionet.org/files/mitdb/1.0.0/228.hea’ saved [302/302]\n",
            "\n",
            "--2023-10-12 10:32:34--  https://physionet.org/files/mitdb/1.0.0/228.xws\n",
            "Reusing existing connection to physionet.org:443.\n",
            "HTTP request sent, awaiting response... 200 OK\n",
            "Length: 88 [text/plain]\n",
            "Saving to: ‘physionet.org/files/mitdb/1.0.0/228.xws’\n",
            "\n",
            "physionet.org/files 100%[===================>]      88  --.-KB/s    in 0s      \n",
            "\n",
            "2023-10-12 10:32:34 (66.9 MB/s) - ‘physionet.org/files/mitdb/1.0.0/228.xws’ saved [88/88]\n",
            "\n",
            "--2023-10-12 10:32:34--  https://physionet.org/files/mitdb/1.0.0/230.atr\n",
            "Reusing existing connection to physionet.org:443.\n",
            "HTTP request sent, awaiting response... 200 OK\n",
            "Length: 6386 (6.2K) [application/octet-stream]\n",
            "Saving to: ‘physionet.org/files/mitdb/1.0.0/230.atr’\n",
            "\n",
            "physionet.org/files 100%[===================>]   6.24K  --.-KB/s    in 0s      \n",
            "\n",
            "2023-10-12 10:32:34 (3.17 GB/s) - ‘physionet.org/files/mitdb/1.0.0/230.atr’ saved [6386/6386]\n",
            "\n",
            "--2023-10-12 10:32:34--  https://physionet.org/files/mitdb/1.0.0/230.dat\n",
            "Reusing existing connection to physionet.org:443.\n",
            "HTTP request sent, awaiting response... 200 OK\n",
            "Length: 1950000 (1.9M) [application/octet-stream]\n",
            "Saving to: ‘physionet.org/files/mitdb/1.0.0/230.dat’\n",
            "\n",
            "physionet.org/files 100%[===================>]   1.86M  1.14MB/s    in 1.6s    \n",
            "\n",
            "2023-10-12 10:32:36 (1.14 MB/s) - ‘physionet.org/files/mitdb/1.0.0/230.dat’ saved [1950000/1950000]\n",
            "\n",
            "--2023-10-12 10:32:36--  https://physionet.org/files/mitdb/1.0.0/230.hea\n",
            "Reusing existing connection to physionet.org:443.\n",
            "HTTP request sent, awaiting response... 200 OK\n",
            "Length: 133 [text/plain]\n",
            "Saving to: ‘physionet.org/files/mitdb/1.0.0/230.hea’\n",
            "\n",
            "physionet.org/files 100%[===================>]     133  --.-KB/s    in 0s      \n",
            "\n",
            "2023-10-12 10:32:36 (115 MB/s) - ‘physionet.org/files/mitdb/1.0.0/230.hea’ saved [133/133]\n",
            "\n",
            "--2023-10-12 10:32:36--  https://physionet.org/files/mitdb/1.0.0/230.xws\n",
            "Reusing existing connection to physionet.org:443.\n",
            "HTTP request sent, awaiting response... 200 OK\n",
            "Length: 88 [text/plain]\n",
            "Saving to: ‘physionet.org/files/mitdb/1.0.0/230.xws’\n",
            "\n",
            "physionet.org/files 100%[===================>]      88  --.-KB/s    in 0s      \n",
            "\n",
            "2023-10-12 10:32:36 (76.7 MB/s) - ‘physionet.org/files/mitdb/1.0.0/230.xws’ saved [88/88]\n",
            "\n",
            "--2023-10-12 10:32:36--  https://physionet.org/files/mitdb/1.0.0/231.atr\n",
            "Reusing existing connection to physionet.org:443.\n",
            "HTTP request sent, awaiting response... 200 OK\n",
            "Length: 7516 (7.3K) [application/octet-stream]\n",
            "Saving to: ‘physionet.org/files/mitdb/1.0.0/231.atr’\n",
            "\n",
            "physionet.org/files 100%[===================>]   7.34K  --.-KB/s    in 0s      \n",
            "\n",
            "2023-10-12 10:32:36 (2.91 GB/s) - ‘physionet.org/files/mitdb/1.0.0/231.atr’ saved [7516/7516]\n",
            "\n",
            "--2023-10-12 10:32:36--  https://physionet.org/files/mitdb/1.0.0/231.dat\n",
            "Reusing existing connection to physionet.org:443.\n",
            "HTTP request sent, awaiting response... 200 OK\n",
            "Length: 1950000 (1.9M) [application/octet-stream]\n",
            "Saving to: ‘physionet.org/files/mitdb/1.0.0/231.dat’\n",
            "\n",
            "physionet.org/files 100%[===================>]   1.86M  1.19MB/s    in 1.6s    \n",
            "\n",
            "2023-10-12 10:32:38 (1.19 MB/s) - ‘physionet.org/files/mitdb/1.0.0/231.dat’ saved [1950000/1950000]\n",
            "\n",
            "--2023-10-12 10:32:38--  https://physionet.org/files/mitdb/1.0.0/231.hea\n",
            "Reusing existing connection to physionet.org:443.\n",
            "HTTP request sent, awaiting response... 200 OK\n",
            "Length: 333 [text/plain]\n",
            "Saving to: ‘physionet.org/files/mitdb/1.0.0/231.hea’\n",
            "\n",
            "physionet.org/files 100%[===================>]     333  --.-KB/s    in 0s      \n",
            "\n",
            "2023-10-12 10:32:38 (207 MB/s) - ‘physionet.org/files/mitdb/1.0.0/231.hea’ saved [333/333]\n",
            "\n",
            "--2023-10-12 10:32:38--  https://physionet.org/files/mitdb/1.0.0/231.xws\n",
            "Reusing existing connection to physionet.org:443.\n",
            "HTTP request sent, awaiting response... 200 OK\n",
            "Length: 88 [text/plain]\n",
            "Saving to: ‘physionet.org/files/mitdb/1.0.0/231.xws’\n",
            "\n",
            "physionet.org/files 100%[===================>]      88  --.-KB/s    in 0s      \n",
            "\n",
            "2023-10-12 10:32:38 (58.6 MB/s) - ‘physionet.org/files/mitdb/1.0.0/231.xws’ saved [88/88]\n",
            "\n",
            "--2023-10-12 10:32:38--  https://physionet.org/files/mitdb/1.0.0/232.atr\n",
            "Reusing existing connection to physionet.org:443.\n",
            "HTTP request sent, awaiting response... 200 OK\n",
            "Length: 3914 (3.8K) [application/octet-stream]\n",
            "Saving to: ‘physionet.org/files/mitdb/1.0.0/232.atr’\n",
            "\n",
            "physionet.org/files 100%[===================>]   3.82K  --.-KB/s    in 0s      \n",
            "\n",
            "2023-10-12 10:32:38 (1.89 GB/s) - ‘physionet.org/files/mitdb/1.0.0/232.atr’ saved [3914/3914]\n",
            "\n",
            "--2023-10-12 10:32:38--  https://physionet.org/files/mitdb/1.0.0/232.dat\n",
            "Reusing existing connection to physionet.org:443.\n",
            "HTTP request sent, awaiting response... 200 OK\n",
            "Length: 1950000 (1.9M) [application/octet-stream]\n",
            "Saving to: ‘physionet.org/files/mitdb/1.0.0/232.dat’\n",
            "\n",
            "physionet.org/files 100%[===================>]   1.86M  1.17MB/s    in 1.6s    \n",
            "\n",
            "2023-10-12 10:32:40 (1.17 MB/s) - ‘physionet.org/files/mitdb/1.0.0/232.dat’ saved [1950000/1950000]\n",
            "\n",
            "--2023-10-12 10:32:40--  https://physionet.org/files/mitdb/1.0.0/232.hea\n",
            "Reusing existing connection to physionet.org:443.\n",
            "HTTP request sent, awaiting response... 200 OK\n",
            "Length: 389 [text/plain]\n",
            "Saving to: ‘physionet.org/files/mitdb/1.0.0/232.hea’\n",
            "\n",
            "physionet.org/files 100%[===================>]     389  --.-KB/s    in 0s      \n",
            "\n",
            "2023-10-12 10:32:40 (116 MB/s) - ‘physionet.org/files/mitdb/1.0.0/232.hea’ saved [389/389]\n",
            "\n",
            "--2023-10-12 10:32:40--  https://physionet.org/files/mitdb/1.0.0/232.xws\n",
            "Reusing existing connection to physionet.org:443.\n",
            "HTTP request sent, awaiting response... 200 OK\n",
            "Length: 88 [text/plain]\n",
            "Saving to: ‘physionet.org/files/mitdb/1.0.0/232.xws’\n",
            "\n",
            "physionet.org/files 100%[===================>]      88  --.-KB/s    in 0s      \n",
            "\n",
            "2023-10-12 10:32:40 (53.9 MB/s) - ‘physionet.org/files/mitdb/1.0.0/232.xws’ saved [88/88]\n",
            "\n",
            "--2023-10-12 10:32:40--  https://physionet.org/files/mitdb/1.0.0/233.atr\n",
            "Reusing existing connection to physionet.org:443.\n",
            "HTTP request sent, awaiting response... 200 OK\n",
            "Length: 6770 (6.6K) [application/octet-stream]\n",
            "Saving to: ‘physionet.org/files/mitdb/1.0.0/233.atr’\n",
            "\n",
            "physionet.org/files 100%[===================>]   6.61K  --.-KB/s    in 0s      \n",
            "\n",
            "2023-10-12 10:32:40 (2.03 GB/s) - ‘physionet.org/files/mitdb/1.0.0/233.atr’ saved [6770/6770]\n",
            "\n",
            "--2023-10-12 10:32:40--  https://physionet.org/files/mitdb/1.0.0/233.dat\n",
            "Reusing existing connection to physionet.org:443.\n",
            "HTTP request sent, awaiting response... 200 OK\n",
            "Length: 1950000 (1.9M) [application/octet-stream]\n",
            "Saving to: ‘physionet.org/files/mitdb/1.0.0/233.dat’\n",
            "\n",
            "physionet.org/files 100%[===================>]   1.86M  1.16MB/s    in 1.6s    \n",
            "\n",
            "2023-10-12 10:32:42 (1.16 MB/s) - ‘physionet.org/files/mitdb/1.0.0/233.dat’ saved [1950000/1950000]\n",
            "\n",
            "--2023-10-12 10:32:42--  https://physionet.org/files/mitdb/1.0.0/233.hea\n",
            "Connecting to physionet.org (physionet.org)|18.18.42.54|:443... connected.\n",
            "HTTP request sent, awaiting response... 200 OK\n",
            "Length: 162 [text/plain]\n",
            "Saving to: ‘physionet.org/files/mitdb/1.0.0/233.hea’\n",
            "\n",
            "physionet.org/files 100%[===================>]     162  --.-KB/s    in 0s      \n",
            "\n",
            "2023-10-12 10:32:42 (58.4 MB/s) - ‘physionet.org/files/mitdb/1.0.0/233.hea’ saved [162/162]\n",
            "\n",
            "--2023-10-12 10:32:42--  https://physionet.org/files/mitdb/1.0.0/233.xws\n",
            "Reusing existing connection to physionet.org:443.\n",
            "HTTP request sent, awaiting response... 200 OK\n",
            "Length: 88 [text/plain]\n",
            "Saving to: ‘physionet.org/files/mitdb/1.0.0/233.xws’\n",
            "\n",
            "physionet.org/files 100%[===================>]      88  --.-KB/s    in 0s      \n",
            "\n",
            "2023-10-12 10:32:42 (31.3 MB/s) - ‘physionet.org/files/mitdb/1.0.0/233.xws’ saved [88/88]\n",
            "\n",
            "--2023-10-12 10:32:42--  https://physionet.org/files/mitdb/1.0.0/234.atr\n",
            "Reusing existing connection to physionet.org:443.\n",
            "HTTP request sent, awaiting response... 200 OK\n",
            "Length: 5560 (5.4K) [application/octet-stream]\n",
            "Saving to: ‘physionet.org/files/mitdb/1.0.0/234.atr’\n",
            "\n",
            "physionet.org/files 100%[===================>]   5.43K  --.-KB/s    in 0s      \n",
            "\n",
            "2023-10-12 10:32:42 (1.90 GB/s) - ‘physionet.org/files/mitdb/1.0.0/234.atr’ saved [5560/5560]\n",
            "\n",
            "--2023-10-12 10:32:42--  https://physionet.org/files/mitdb/1.0.0/234.dat\n",
            "Reusing existing connection to physionet.org:443.\n",
            "HTTP request sent, awaiting response... 200 OK\n",
            "Length: 1950000 (1.9M) [application/octet-stream]\n",
            "Saving to: ‘physionet.org/files/mitdb/1.0.0/234.dat’\n",
            "\n",
            "physionet.org/files 100%[===================>]   1.86M  1.08MB/s    in 1.7s    \n",
            "\n",
            "2023-10-12 10:32:44 (1.08 MB/s) - ‘physionet.org/files/mitdb/1.0.0/234.dat’ saved [1950000/1950000]\n",
            "\n",
            "--2023-10-12 10:32:44--  https://physionet.org/files/mitdb/1.0.0/234.hea\n",
            "Reusing existing connection to physionet.org:443.\n",
            "HTTP request sent, awaiting response... 200 OK\n",
            "Length: 156 [text/plain]\n",
            "Saving to: ‘physionet.org/files/mitdb/1.0.0/234.hea’\n",
            "\n",
            "physionet.org/files 100%[===================>]     156  --.-KB/s    in 0s      \n",
            "\n",
            "2023-10-12 10:32:44 (112 MB/s) - ‘physionet.org/files/mitdb/1.0.0/234.hea’ saved [156/156]\n",
            "\n",
            "--2023-10-12 10:32:44--  https://physionet.org/files/mitdb/1.0.0/234.xws\n",
            "Reusing existing connection to physionet.org:443.\n",
            "HTTP request sent, awaiting response... 200 OK\n",
            "Length: 88 [text/plain]\n",
            "Saving to: ‘physionet.org/files/mitdb/1.0.0/234.xws’\n",
            "\n",
            "physionet.org/files 100%[===================>]      88  --.-KB/s    in 0s      \n",
            "\n",
            "2023-10-12 10:32:44 (63.3 MB/s) - ‘physionet.org/files/mitdb/1.0.0/234.xws’ saved [88/88]\n",
            "\n",
            "--2023-10-12 10:32:44--  https://physionet.org/files/mitdb/1.0.0/ANNOTATORS\n",
            "Reusing existing connection to physionet.org:443.\n",
            "HTTP request sent, awaiting response... 200 OK\n",
            "Length: 59 [text/plain]\n",
            "Saving to: ‘physionet.org/files/mitdb/1.0.0/ANNOTATORS’\n",
            "\n",
            "physionet.org/files 100%[===================>]      59  --.-KB/s    in 0s      \n",
            "\n",
            "2023-10-12 10:32:45 (43.4 MB/s) - ‘physionet.org/files/mitdb/1.0.0/ANNOTATORS’ saved [59/59]\n",
            "\n",
            "--2023-10-12 10:32:45--  https://physionet.org/files/mitdb/1.0.0/RECORDS\n",
            "Reusing existing connection to physionet.org:443.\n",
            "HTTP request sent, awaiting response... 200 OK\n",
            "Length: 192 [text/plain]\n",
            "Saving to: ‘physionet.org/files/mitdb/1.0.0/RECORDS’\n",
            "\n",
            "physionet.org/files 100%[===================>]     192  --.-KB/s    in 0s      \n",
            "\n",
            "2023-10-12 10:32:45 (164 MB/s) - ‘physionet.org/files/mitdb/1.0.0/RECORDS’ saved [192/192]\n",
            "\n",
            "--2023-10-12 10:32:45--  https://physionet.org/files/mitdb/1.0.0/SHA256SUMS.txt\n",
            "Reusing existing connection to physionet.org:443.\n",
            "HTTP request sent, awaiting response... 200 OK\n",
            "Length: 60849 (59K) [text/plain]\n",
            "Saving to: ‘physionet.org/files/mitdb/1.0.0/SHA256SUMS.txt’\n",
            "\n",
            "physionet.org/files 100%[===================>]  59.42K  --.-KB/s    in 0.04s   \n",
            "\n",
            "2023-10-12 10:32:45 (1.57 MB/s) - ‘physionet.org/files/mitdb/1.0.0/SHA256SUMS.txt’ saved [60849/60849]\n",
            "\n",
            "--2023-10-12 10:32:45--  https://physionet.org/files/mitdb/1.0.0/mitdbdir/src/makefile\n",
            "Reusing existing connection to physionet.org:443.\n",
            "HTTP request sent, awaiting response... 200 OK\n",
            "Length: 8921 (8.7K) [text/plain]\n",
            "Saving to: ‘physionet.org/files/mitdb/1.0.0/mitdbdir/src/makefile’\n",
            "\n",
            "physionet.org/files 100%[===================>]   8.71K  --.-KB/s    in 0s      \n",
            "\n",
            "2023-10-12 10:32:45 (322 MB/s) - ‘physionet.org/files/mitdb/1.0.0/mitdbdir/src/makefile’ saved [8921/8921]\n",
            "\n",
            "--2023-10-12 10:32:45--  https://physionet.org/files/mitdb/1.0.0/mitdbdir/src/printdir.bat\n",
            "Reusing existing connection to physionet.org:443.\n",
            "HTTP request sent, awaiting response... 200 OK\n",
            "Length: 3437 (3.4K) [text/plain]\n",
            "Saving to: ‘physionet.org/files/mitdb/1.0.0/mitdbdir/src/printdir.bat’\n",
            "\n",
            "physionet.org/files 100%[===================>]   3.36K  --.-KB/s    in 0s      \n",
            "\n",
            "2023-10-12 10:32:45 (1.93 GB/s) - ‘physionet.org/files/mitdb/1.0.0/mitdbdir/src/printdir.bat’ saved [3437/3437]\n",
            "\n",
            "--2023-10-12 10:32:45--  https://physionet.org/files/mitdb/1.0.0/mitdbdir/foreword.htm\n",
            "Reusing existing connection to physionet.org:443.\n",
            "HTTP request sent, awaiting response... 200 OK\n",
            "Length: 7434 (7.3K) [text/html]\n",
            "Saving to: ‘physionet.org/files/mitdb/1.0.0/mitdbdir/foreword.htm’\n",
            "\n",
            "physionet.org/files 100%[===================>]   7.26K  --.-KB/s    in 0s      \n",
            "\n",
            "2023-10-12 10:32:45 (3.29 GB/s) - ‘physionet.org/files/mitdb/1.0.0/mitdbdir/foreword.htm’ saved [7434/7434]\n",
            "\n",
            "--2023-10-12 10:32:45--  https://physionet.org/files/mitdb/1.0.0/mitdbdir/intro.htm\n",
            "Reusing existing connection to physionet.org:443.\n",
            "HTTP request sent, awaiting response... 200 OK\n",
            "Length: 17631 (17K) [text/html]\n",
            "Saving to: ‘physionet.org/files/mitdb/1.0.0/mitdbdir/intro.htm’\n",
            "\n",
            "physionet.org/files 100%[===================>]  17.22K  --.-KB/s    in 0.001s  \n",
            "\n",
            "2023-10-12 10:32:45 (19.4 MB/s) - ‘physionet.org/files/mitdb/1.0.0/mitdbdir/intro.htm’ saved [17631/17631]\n",
            "\n",
            "--2023-10-12 10:32:45--  https://physionet.org/files/mitdb/1.0.0/mitdbdir/records.htm\n",
            "Reusing existing connection to physionet.org:443.\n",
            "HTTP request sent, awaiting response... 200 OK\n",
            "Length: 100094 (98K) [text/html]\n",
            "Saving to: ‘physionet.org/files/mitdb/1.0.0/mitdbdir/records.htm’\n",
            "\n",
            "physionet.org/files 100%[===================>]  97.75K  --.-KB/s    in 0.07s   \n",
            "\n",
            "2023-10-12 10:32:45 (1.37 MB/s) - ‘physionet.org/files/mitdb/1.0.0/mitdbdir/records.htm’ saved [100094/100094]\n",
            "\n",
            "--2023-10-12 10:32:45--  https://physionet.org/files/mitdb/1.0.0/mitdbdir/tables.htm\n",
            "Reusing existing connection to physionet.org:443.\n",
            "HTTP request sent, awaiting response... 200 OK\n",
            "Length: 44278 (43K) [text/html]\n",
            "Saving to: ‘physionet.org/files/mitdb/1.0.0/mitdbdir/tables.htm’\n",
            "\n",
            "physionet.org/files 100%[===================>]  43.24K  --.-KB/s    in 0.02s   \n",
            "\n",
            "2023-10-12 10:32:45 (2.07 MB/s) - ‘physionet.org/files/mitdb/1.0.0/mitdbdir/tables.htm’ saved [44278/44278]\n",
            "\n",
            "--2023-10-12 10:32:45--  https://physionet.org/files/mitdb/1.0.0/x_mitdb/ANNOTATORS\n",
            "Reusing existing connection to physionet.org:443.\n",
            "HTTP request sent, awaiting response... 200 OK\n",
            "Length: 59 [text/plain]\n",
            "Saving to: ‘physionet.org/files/mitdb/1.0.0/x_mitdb/ANNOTATORS’\n",
            "\n",
            "physionet.org/files 100%[===================>]      59  --.-KB/s    in 0s      \n",
            "\n",
            "2023-10-12 10:32:46 (29.7 MB/s) - ‘physionet.org/files/mitdb/1.0.0/x_mitdb/ANNOTATORS’ saved [59/59]\n",
            "\n",
            "--2023-10-12 10:32:46--  https://physionet.org/files/mitdb/1.0.0/x_mitdb/RECORDS\n",
            "Reusing existing connection to physionet.org:443.\n",
            "HTTP request sent, awaiting response... 200 OK\n",
            "Length: 138 [text/plain]\n",
            "Saving to: ‘physionet.org/files/mitdb/1.0.0/x_mitdb/RECORDS’\n",
            "\n",
            "physionet.org/files 100%[===================>]     138  --.-KB/s    in 0s      \n",
            "\n",
            "2023-10-12 10:32:46 (80.7 MB/s) - ‘physionet.org/files/mitdb/1.0.0/x_mitdb/RECORDS’ saved [138/138]\n",
            "\n",
            "--2023-10-12 10:32:46--  https://physionet.org/files/mitdb/1.0.0/x_mitdb/x_108.atr\n",
            "Reusing existing connection to physionet.org:443.\n",
            "HTTP request sent, awaiting response... 200 OK\n",
            "Length: 1200 (1.2K) [application/octet-stream]\n",
            "Saving to: ‘physionet.org/files/mitdb/1.0.0/x_mitdb/x_108.atr’\n",
            "\n",
            "physionet.org/files 100%[===================>]   1.17K  --.-KB/s    in 0s      \n",
            "\n",
            "2023-10-12 10:32:46 (732 MB/s) - ‘physionet.org/files/mitdb/1.0.0/x_mitdb/x_108.atr’ saved [1200/1200]\n",
            "\n",
            "--2023-10-12 10:32:46--  https://physionet.org/files/mitdb/1.0.0/x_mitdb/x_108.dat\n",
            "Reusing existing connection to physionet.org:443.\n",
            "HTTP request sent, awaiting response... 200 OK\n",
            "Length: 648000 (633K) [application/octet-stream]\n",
            "Saving to: ‘physionet.org/files/mitdb/1.0.0/x_mitdb/x_108.dat’\n",
            "\n",
            "physionet.org/files 100%[===================>] 632.81K  1.15MB/s    in 0.5s    \n",
            "\n",
            "2023-10-12 10:32:46 (1.15 MB/s) - ‘physionet.org/files/mitdb/1.0.0/x_mitdb/x_108.dat’ saved [648000/648000]\n",
            "\n",
            "--2023-10-12 10:32:46--  https://physionet.org/files/mitdb/1.0.0/x_mitdb/x_108.hea\n",
            "Reusing existing connection to physionet.org:443.\n",
            "HTTP request sent, awaiting response... 200 OK\n",
            "Length: 373 [text/plain]\n",
            "Saving to: ‘physionet.org/files/mitdb/1.0.0/x_mitdb/x_108.hea’\n",
            "\n",
            "physionet.org/files 100%[===================>]     373  --.-KB/s    in 0s      \n",
            "\n",
            "2023-10-12 10:32:46 (306 MB/s) - ‘physionet.org/files/mitdb/1.0.0/x_mitdb/x_108.hea’ saved [373/373]\n",
            "\n",
            "--2023-10-12 10:32:46--  https://physionet.org/files/mitdb/1.0.0/x_mitdb/x_109.atr\n",
            "Reusing existing connection to physionet.org:443.\n",
            "HTTP request sent, awaiting response... 200 OK\n",
            "Length: 1724 (1.7K) [application/octet-stream]\n",
            "Saving to: ‘physionet.org/files/mitdb/1.0.0/x_mitdb/x_109.atr’\n",
            "\n",
            "physionet.org/files 100%[===================>]   1.68K  --.-KB/s    in 0s      \n",
            "\n",
            "2023-10-12 10:32:47 (705 MB/s) - ‘physionet.org/files/mitdb/1.0.0/x_mitdb/x_109.atr’ saved [1724/1724]\n",
            "\n",
            "--2023-10-12 10:32:47--  https://physionet.org/files/mitdb/1.0.0/x_mitdb/x_109.dat\n",
            "Reusing existing connection to physionet.org:443.\n",
            "HTTP request sent, awaiting response... 200 OK\n",
            "Length: 648000 (633K) [application/octet-stream]\n",
            "Saving to: ‘physionet.org/files/mitdb/1.0.0/x_mitdb/x_109.dat’\n",
            "\n",
            "physionet.org/files 100%[===================>] 632.81K  1.14MB/s    in 0.5s    \n",
            "\n",
            "2023-10-12 10:32:47 (1.14 MB/s) - ‘physionet.org/files/mitdb/1.0.0/x_mitdb/x_109.dat’ saved [648000/648000]\n",
            "\n",
            "--2023-10-12 10:32:47--  https://physionet.org/files/mitdb/1.0.0/x_mitdb/x_109.hea\n",
            "Reusing existing connection to physionet.org:443.\n",
            "HTTP request sent, awaiting response... 200 OK\n",
            "Length: 263 [text/plain]\n",
            "Saving to: ‘physionet.org/files/mitdb/1.0.0/x_mitdb/x_109.hea’\n",
            "\n",
            "physionet.org/files 100%[===================>]     263  --.-KB/s    in 0s      \n",
            "\n",
            "2023-10-12 10:32:47 (190 MB/s) - ‘physionet.org/files/mitdb/1.0.0/x_mitdb/x_109.hea’ saved [263/263]\n",
            "\n",
            "--2023-10-12 10:32:47--  https://physionet.org/files/mitdb/1.0.0/x_mitdb/x_111.atr\n",
            "Reusing existing connection to physionet.org:443.\n",
            "HTTP request sent, awaiting response... 200 OK\n",
            "Length: 1420 (1.4K) [application/octet-stream]\n",
            "Saving to: ‘physionet.org/files/mitdb/1.0.0/x_mitdb/x_111.atr’\n",
            "\n",
            "physionet.org/files 100%[===================>]   1.39K  --.-KB/s    in 0s      \n",
            "\n",
            "2023-10-12 10:32:47 (804 MB/s) - ‘physionet.org/files/mitdb/1.0.0/x_mitdb/x_111.atr’ saved [1420/1420]\n",
            "\n",
            "--2023-10-12 10:32:47--  https://physionet.org/files/mitdb/1.0.0/x_mitdb/x_111.dat\n",
            "Reusing existing connection to physionet.org:443.\n",
            "HTTP request sent, awaiting response... 200 OK\n",
            "Length: 648000 (633K) [application/octet-stream]\n",
            "Saving to: ‘physionet.org/files/mitdb/1.0.0/x_mitdb/x_111.dat’\n",
            "\n",
            "physionet.org/files 100%[===================>] 632.81K  1.13MB/s    in 0.5s    \n",
            "\n",
            "2023-10-12 10:32:48 (1.13 MB/s) - ‘physionet.org/files/mitdb/1.0.0/x_mitdb/x_111.dat’ saved [648000/648000]\n",
            "\n",
            "--2023-10-12 10:32:48--  https://physionet.org/files/mitdb/1.0.0/x_mitdb/x_111.hea\n",
            "Reusing existing connection to physionet.org:443.\n",
            "HTTP request sent, awaiting response... 200 OK\n",
            "Length: 351 [text/plain]\n",
            "Saving to: ‘physionet.org/files/mitdb/1.0.0/x_mitdb/x_111.hea’\n",
            "\n",
            "physionet.org/files 100%[===================>]     351  --.-KB/s    in 0s      \n",
            "\n",
            "2023-10-12 10:32:48 (215 MB/s) - ‘physionet.org/files/mitdb/1.0.0/x_mitdb/x_111.hea’ saved [351/351]\n",
            "\n",
            "--2023-10-12 10:32:48--  https://physionet.org/files/mitdb/1.0.0/x_mitdb/x_112.atr\n",
            "Reusing existing connection to physionet.org:443.\n",
            "HTTP request sent, awaiting response... 200 OK\n",
            "Length: 1718 (1.7K) [application/octet-stream]\n",
            "Saving to: ‘physionet.org/files/mitdb/1.0.0/x_mitdb/x_112.atr’\n",
            "\n",
            "physionet.org/files 100%[===================>]   1.68K  --.-KB/s    in 0s      \n",
            "\n",
            "2023-10-12 10:32:48 (752 MB/s) - ‘physionet.org/files/mitdb/1.0.0/x_mitdb/x_112.atr’ saved [1718/1718]\n",
            "\n",
            "--2023-10-12 10:32:48--  https://physionet.org/files/mitdb/1.0.0/x_mitdb/x_112.dat\n",
            "Reusing existing connection to physionet.org:443.\n",
            "HTTP request sent, awaiting response... 200 OK\n",
            "Length: 648000 (633K) [application/octet-stream]\n",
            "Saving to: ‘physionet.org/files/mitdb/1.0.0/x_mitdb/x_112.dat’\n",
            "\n",
            "physionet.org/files 100%[===================>] 632.81K  1.13MB/s    in 0.5s    \n",
            "\n",
            "2023-10-12 10:32:49 (1.13 MB/s) - ‘physionet.org/files/mitdb/1.0.0/x_mitdb/x_112.dat’ saved [648000/648000]\n",
            "\n",
            "--2023-10-12 10:32:49--  https://physionet.org/files/mitdb/1.0.0/x_mitdb/x_112.hea\n",
            "Reusing existing connection to physionet.org:443.\n",
            "HTTP request sent, awaiting response... 200 OK\n",
            "Length: 265 [text/plain]\n",
            "Saving to: ‘physionet.org/files/mitdb/1.0.0/x_mitdb/x_112.hea’\n",
            "\n",
            "physionet.org/files 100%[===================>]     265  --.-KB/s    in 0s      \n",
            "\n",
            "2023-10-12 10:32:49 (163 MB/s) - ‘physionet.org/files/mitdb/1.0.0/x_mitdb/x_112.hea’ saved [265/265]\n",
            "\n",
            "--2023-10-12 10:32:49--  https://physionet.org/files/mitdb/1.0.0/x_mitdb/x_113.atr\n",
            "Reusing existing connection to physionet.org:443.\n",
            "HTTP request sent, awaiting response... 200 OK\n",
            "Length: 1172 (1.1K) [application/octet-stream]\n",
            "Saving to: ‘physionet.org/files/mitdb/1.0.0/x_mitdb/x_113.atr’\n",
            "\n",
            "physionet.org/files 100%[===================>]   1.14K  --.-KB/s    in 0s      \n",
            "\n",
            "2023-10-12 10:32:49 (467 MB/s) - ‘physionet.org/files/mitdb/1.0.0/x_mitdb/x_113.atr’ saved [1172/1172]\n",
            "\n",
            "--2023-10-12 10:32:49--  https://physionet.org/files/mitdb/1.0.0/x_mitdb/x_113.dat\n",
            "Reusing existing connection to physionet.org:443.\n",
            "HTTP request sent, awaiting response... 200 OK\n",
            "Length: 648000 (633K) [application/octet-stream]\n",
            "Saving to: ‘physionet.org/files/mitdb/1.0.0/x_mitdb/x_113.dat’\n",
            "\n",
            "physionet.org/files 100%[===================>] 632.81K  1.11MB/s    in 0.6s    \n",
            "\n",
            "2023-10-12 10:32:50 (1.11 MB/s) - ‘physionet.org/files/mitdb/1.0.0/x_mitdb/x_113.dat’ saved [648000/648000]\n",
            "\n",
            "--2023-10-12 10:32:50--  https://physionet.org/files/mitdb/1.0.0/x_mitdb/x_113.hea\n",
            "Reusing existing connection to physionet.org:443.\n",
            "HTTP request sent, awaiting response... 200 OK\n",
            "Length: 300 [text/plain]\n",
            "Saving to: ‘physionet.org/files/mitdb/1.0.0/x_mitdb/x_113.hea’\n",
            "\n",
            "physionet.org/files 100%[===================>]     300  --.-KB/s    in 0s      \n",
            "\n",
            "2023-10-12 10:32:50 (247 MB/s) - ‘physionet.org/files/mitdb/1.0.0/x_mitdb/x_113.hea’ saved [300/300]\n",
            "\n",
            "--2023-10-12 10:32:50--  https://physionet.org/files/mitdb/1.0.0/x_mitdb/x_114.atr\n",
            "Reusing existing connection to physionet.org:443.\n",
            "HTTP request sent, awaiting response... 200 OK\n",
            "Length: 1180 (1.2K) [application/octet-stream]\n",
            "Saving to: ‘physionet.org/files/mitdb/1.0.0/x_mitdb/x_114.atr’\n",
            "\n",
            "physionet.org/files 100%[===================>]   1.15K  --.-KB/s    in 0s      \n",
            "\n",
            "2023-10-12 10:32:50 (610 MB/s) - ‘physionet.org/files/mitdb/1.0.0/x_mitdb/x_114.atr’ saved [1180/1180]\n",
            "\n",
            "--2023-10-12 10:32:50--  https://physionet.org/files/mitdb/1.0.0/x_mitdb/x_114.dat\n",
            "Reusing existing connection to physionet.org:443.\n",
            "HTTP request sent, awaiting response... 200 OK\n",
            "Length: 648000 (633K) [application/octet-stream]\n",
            "Saving to: ‘physionet.org/files/mitdb/1.0.0/x_mitdb/x_114.dat’\n",
            "\n",
            "physionet.org/files 100%[===================>] 632.81K  1.12MB/s    in 0.5s    \n",
            "\n",
            "2023-10-12 10:32:51 (1.12 MB/s) - ‘physionet.org/files/mitdb/1.0.0/x_mitdb/x_114.dat’ saved [648000/648000]\n",
            "\n",
            "--2023-10-12 10:32:51--  https://physionet.org/files/mitdb/1.0.0/x_mitdb/x_114.hea\n",
            "Reusing existing connection to physionet.org:443.\n",
            "HTTP request sent, awaiting response... 200 OK\n",
            "Length: 225 [text/plain]\n",
            "Saving to: ‘physionet.org/files/mitdb/1.0.0/x_mitdb/x_114.hea’\n",
            "\n",
            "physionet.org/files 100%[===================>]     225  --.-KB/s    in 0s      \n",
            "\n",
            "2023-10-12 10:32:51 (88.8 MB/s) - ‘physionet.org/files/mitdb/1.0.0/x_mitdb/x_114.hea’ saved [225/225]\n",
            "\n",
            "--2023-10-12 10:32:51--  https://physionet.org/files/mitdb/1.0.0/x_mitdb/x_115.atr\n",
            "Reusing existing connection to physionet.org:443.\n",
            "HTTP request sent, awaiting response... 200 OK\n",
            "Length: 1280 (1.2K) [application/octet-stream]\n",
            "Saving to: ‘physionet.org/files/mitdb/1.0.0/x_mitdb/x_115.atr’\n",
            "\n",
            "physionet.org/files 100%[===================>]   1.25K  --.-KB/s    in 0s      \n",
            "\n",
            "2023-10-12 10:32:51 (840 MB/s) - ‘physionet.org/files/mitdb/1.0.0/x_mitdb/x_115.atr’ saved [1280/1280]\n",
            "\n",
            "--2023-10-12 10:32:51--  https://physionet.org/files/mitdb/1.0.0/x_mitdb/x_115.dat\n",
            "Reusing existing connection to physionet.org:443.\n",
            "HTTP request sent, awaiting response... 200 OK\n",
            "Length: 648000 (633K) [application/octet-stream]\n",
            "Saving to: ‘physionet.org/files/mitdb/1.0.0/x_mitdb/x_115.dat’\n",
            "\n",
            "physionet.org/files 100%[===================>] 632.81K  1.18MB/s    in 0.5s    \n",
            "\n",
            "2023-10-12 10:32:51 (1.18 MB/s) - ‘physionet.org/files/mitdb/1.0.0/x_mitdb/x_115.dat’ saved [648000/648000]\n",
            "\n",
            "--2023-10-12 10:32:51--  https://physionet.org/files/mitdb/1.0.0/x_mitdb/x_115.hea\n",
            "Reusing existing connection to physionet.org:443.\n",
            "HTTP request sent, awaiting response... 200 OK\n",
            "Length: 194 [text/plain]\n",
            "Saving to: ‘physionet.org/files/mitdb/1.0.0/x_mitdb/x_115.hea’\n",
            "\n",
            "physionet.org/files 100%[===================>]     194  --.-KB/s    in 0s      \n",
            "\n",
            "2023-10-12 10:32:52 (188 MB/s) - ‘physionet.org/files/mitdb/1.0.0/x_mitdb/x_115.hea’ saved [194/194]\n",
            "\n",
            "--2023-10-12 10:32:52--  https://physionet.org/files/mitdb/1.0.0/x_mitdb/x_116.atr\n",
            "Reusing existing connection to physionet.org:443.\n",
            "HTTP request sent, awaiting response... 200 OK\n",
            "Length: 1604 (1.6K) [application/octet-stream]\n",
            "Saving to: ‘physionet.org/files/mitdb/1.0.0/x_mitdb/x_116.atr’\n",
            "\n",
            "physionet.org/files 100%[===================>]   1.57K  --.-KB/s    in 0s      \n",
            "\n",
            "2023-10-12 10:32:52 (1.11 GB/s) - ‘physionet.org/files/mitdb/1.0.0/x_mitdb/x_116.atr’ saved [1604/1604]\n",
            "\n",
            "--2023-10-12 10:32:52--  https://physionet.org/files/mitdb/1.0.0/x_mitdb/x_116.dat\n",
            "Reusing existing connection to physionet.org:443.\n",
            "HTTP request sent, awaiting response... 200 OK\n",
            "Length: 648000 (633K) [application/octet-stream]\n",
            "Saving to: ‘physionet.org/files/mitdb/1.0.0/x_mitdb/x_116.dat’\n",
            "\n",
            "physionet.org/files 100%[===================>] 632.81K  1.17MB/s    in 0.5s    \n",
            "\n",
            "2023-10-12 10:32:52 (1.17 MB/s) - ‘physionet.org/files/mitdb/1.0.0/x_mitdb/x_116.dat’ saved [648000/648000]\n",
            "\n",
            "--2023-10-12 10:32:52--  https://physionet.org/files/mitdb/1.0.0/x_mitdb/x_116.hea\n",
            "Reusing existing connection to physionet.org:443.\n",
            "HTTP request sent, awaiting response... 200 OK\n",
            "Length: 224 [text/plain]\n",
            "Saving to: ‘physionet.org/files/mitdb/1.0.0/x_mitdb/x_116.hea’\n",
            "\n",
            "physionet.org/files 100%[===================>]     224  --.-KB/s    in 0s      \n",
            "\n",
            "2023-10-12 10:32:52 (176 MB/s) - ‘physionet.org/files/mitdb/1.0.0/x_mitdb/x_116.hea’ saved [224/224]\n",
            "\n",
            "--2023-10-12 10:32:52--  https://physionet.org/files/mitdb/1.0.0/x_mitdb/x_117.atr\n",
            "Reusing existing connection to physionet.org:443.\n",
            "HTTP request sent, awaiting response... 200 OK\n",
            "Length: 1020 [application/octet-stream]\n",
            "Saving to: ‘physionet.org/files/mitdb/1.0.0/x_mitdb/x_117.atr’\n",
            "\n",
            "physionet.org/files 100%[===================>]    1020  --.-KB/s    in 0s      \n",
            "\n",
            "2023-10-12 10:32:53 (488 MB/s) - ‘physionet.org/files/mitdb/1.0.0/x_mitdb/x_117.atr’ saved [1020/1020]\n",
            "\n",
            "--2023-10-12 10:32:53--  https://physionet.org/files/mitdb/1.0.0/x_mitdb/x_117.dat\n",
            "Reusing existing connection to physionet.org:443.\n",
            "HTTP request sent, awaiting response... 200 OK\n",
            "Length: 648000 (633K) [application/octet-stream]\n",
            "Saving to: ‘physionet.org/files/mitdb/1.0.0/x_mitdb/x_117.dat’\n",
            "\n",
            "physionet.org/files 100%[===================>] 632.81K  1.15MB/s    in 0.5s    \n",
            "\n",
            "2023-10-12 10:32:53 (1.15 MB/s) - ‘physionet.org/files/mitdb/1.0.0/x_mitdb/x_117.dat’ saved [648000/648000]\n",
            "\n",
            "--2023-10-12 10:32:53--  https://physionet.org/files/mitdb/1.0.0/x_mitdb/x_117.hea\n",
            "Reusing existing connection to physionet.org:443.\n",
            "HTTP request sent, awaiting response... 200 OK\n",
            "Length: 194 [text/plain]\n",
            "Saving to: ‘physionet.org/files/mitdb/1.0.0/x_mitdb/x_117.hea’\n",
            "\n",
            "physionet.org/files 100%[===================>]     194  --.-KB/s    in 0s      \n",
            "\n",
            "2023-10-12 10:32:53 (165 MB/s) - ‘physionet.org/files/mitdb/1.0.0/x_mitdb/x_117.hea’ saved [194/194]\n",
            "\n",
            "--2023-10-12 10:32:53--  https://physionet.org/files/mitdb/1.0.0/x_mitdb/x_121.atr\n",
            "Reusing existing connection to physionet.org:443.\n",
            "HTTP request sent, awaiting response... 200 OK\n",
            "Length: 1234 (1.2K) [application/octet-stream]\n",
            "Saving to: ‘physionet.org/files/mitdb/1.0.0/x_mitdb/x_121.atr’\n",
            "\n",
            "physionet.org/files 100%[===================>]   1.21K  --.-KB/s    in 0s      \n",
            "\n",
            "2023-10-12 10:32:53 (745 MB/s) - ‘physionet.org/files/mitdb/1.0.0/x_mitdb/x_121.atr’ saved [1234/1234]\n",
            "\n",
            "--2023-10-12 10:32:53--  https://physionet.org/files/mitdb/1.0.0/x_mitdb/x_121.dat\n",
            "Reusing existing connection to physionet.org:443.\n",
            "HTTP request sent, awaiting response... 200 OK\n",
            "Length: 648000 (633K) [application/octet-stream]\n",
            "Saving to: ‘physionet.org/files/mitdb/1.0.0/x_mitdb/x_121.dat’\n",
            "\n",
            "physionet.org/files 100%[===================>] 632.81K  1.14MB/s    in 0.5s    \n",
            "\n",
            "2023-10-12 10:32:54 (1.14 MB/s) - ‘physionet.org/files/mitdb/1.0.0/x_mitdb/x_121.dat’ saved [648000/648000]\n",
            "\n",
            "--2023-10-12 10:32:54--  https://physionet.org/files/mitdb/1.0.0/x_mitdb/x_121.hea\n",
            "Reusing existing connection to physionet.org:443.\n",
            "HTTP request sent, awaiting response... 200 OK\n",
            "Length: 220 [text/plain]\n",
            "Saving to: ‘physionet.org/files/mitdb/1.0.0/x_mitdb/x_121.hea’\n",
            "\n",
            "physionet.org/files 100%[===================>]     220  --.-KB/s    in 0s      \n",
            "\n",
            "2023-10-12 10:32:54 (184 MB/s) - ‘physionet.org/files/mitdb/1.0.0/x_mitdb/x_121.hea’ saved [220/220]\n",
            "\n",
            "--2023-10-12 10:32:54--  https://physionet.org/files/mitdb/1.0.0/x_mitdb/x_122.atr\n",
            "Reusing existing connection to physionet.org:443.\n",
            "HTTP request sent, awaiting response... 200 OK\n",
            "Length: 1692 (1.7K) [application/octet-stream]\n",
            "Saving to: ‘physionet.org/files/mitdb/1.0.0/x_mitdb/x_122.atr’\n",
            "\n",
            "physionet.org/files 100%[===================>]   1.65K  --.-KB/s    in 0s      \n",
            "\n",
            "2023-10-12 10:32:54 (898 MB/s) - ‘physionet.org/files/mitdb/1.0.0/x_mitdb/x_122.atr’ saved [1692/1692]\n",
            "\n",
            "--2023-10-12 10:32:54--  https://physionet.org/files/mitdb/1.0.0/x_mitdb/x_122.dat\n",
            "Reusing existing connection to physionet.org:443.\n",
            "HTTP request sent, awaiting response... 200 OK\n",
            "Length: 648000 (633K) [application/octet-stream]\n",
            "Saving to: ‘physionet.org/files/mitdb/1.0.0/x_mitdb/x_122.dat’\n",
            "\n",
            "physionet.org/files 100%[===================>] 632.81K  1.13MB/s    in 0.5s    \n",
            "\n",
            "2023-10-12 10:32:55 (1.13 MB/s) - ‘physionet.org/files/mitdb/1.0.0/x_mitdb/x_122.dat’ saved [648000/648000]\n",
            "\n",
            "--2023-10-12 10:32:55--  https://physionet.org/files/mitdb/1.0.0/x_mitdb/x_122.hea\n",
            "Reusing existing connection to physionet.org:443.\n",
            "HTTP request sent, awaiting response... 200 OK\n",
            "Length: 288 [text/plain]\n",
            "Saving to: ‘physionet.org/files/mitdb/1.0.0/x_mitdb/x_122.hea’\n",
            "\n",
            "physionet.org/files 100%[===================>]     288  --.-KB/s    in 0s      \n",
            "\n",
            "2023-10-12 10:32:55 (143 MB/s) - ‘physionet.org/files/mitdb/1.0.0/x_mitdb/x_122.hea’ saved [288/288]\n",
            "\n",
            "--2023-10-12 10:32:55--  https://physionet.org/files/mitdb/1.0.0/x_mitdb/x_123.atr\n",
            "Reusing existing connection to physionet.org:443.\n",
            "HTTP request sent, awaiting response... 200 OK\n",
            "Length: 1022 [application/octet-stream]\n",
            "Saving to: ‘physionet.org/files/mitdb/1.0.0/x_mitdb/x_123.atr’\n",
            "\n",
            "physionet.org/files 100%[===================>]    1022  --.-KB/s    in 0s      \n",
            "\n",
            "2023-10-12 10:32:55 (438 MB/s) - ‘physionet.org/files/mitdb/1.0.0/x_mitdb/x_123.atr’ saved [1022/1022]\n",
            "\n",
            "--2023-10-12 10:32:55--  https://physionet.org/files/mitdb/1.0.0/x_mitdb/x_123.dat\n",
            "Reusing existing connection to physionet.org:443.\n",
            "HTTP request sent, awaiting response... 200 OK\n",
            "Length: 648000 (633K) [application/octet-stream]\n",
            "Saving to: ‘physionet.org/files/mitdb/1.0.0/x_mitdb/x_123.dat’\n",
            "\n",
            "physionet.org/files 100%[===================>] 632.81K  1.16MB/s    in 0.5s    \n",
            "\n",
            "2023-10-12 10:32:56 (1.16 MB/s) - ‘physionet.org/files/mitdb/1.0.0/x_mitdb/x_123.dat’ saved [648000/648000]\n",
            "\n",
            "--2023-10-12 10:32:56--  https://physionet.org/files/mitdb/1.0.0/x_mitdb/x_123.hea\n",
            "Reusing existing connection to physionet.org:443.\n",
            "HTTP request sent, awaiting response... 200 OK\n",
            "Length: 246 [text/plain]\n",
            "Saving to: ‘physionet.org/files/mitdb/1.0.0/x_mitdb/x_123.hea’\n",
            "\n",
            "physionet.org/files 100%[===================>]     246  --.-KB/s    in 0s      \n",
            "\n",
            "2023-10-12 10:32:56 (134 MB/s) - ‘physionet.org/files/mitdb/1.0.0/x_mitdb/x_123.hea’ saved [246/246]\n",
            "\n",
            "--2023-10-12 10:32:56--  https://physionet.org/files/mitdb/1.0.0/x_mitdb/x_124.atr\n",
            "Reusing existing connection to physionet.org:443.\n",
            "HTTP request sent, awaiting response... 200 OK\n",
            "Length: 1102 (1.1K) [application/octet-stream]\n",
            "Saving to: ‘physionet.org/files/mitdb/1.0.0/x_mitdb/x_124.atr’\n",
            "\n",
            "physionet.org/files 100%[===================>]   1.08K  --.-KB/s    in 0s      \n",
            "\n",
            "2023-10-12 10:32:56 (474 MB/s) - ‘physionet.org/files/mitdb/1.0.0/x_mitdb/x_124.atr’ saved [1102/1102]\n",
            "\n",
            "--2023-10-12 10:32:56--  https://physionet.org/files/mitdb/1.0.0/x_mitdb/x_124.dat\n",
            "Reusing existing connection to physionet.org:443.\n",
            "HTTP request sent, awaiting response... 200 OK\n",
            "Length: 648000 (633K) [application/octet-stream]\n",
            "Saving to: ‘physionet.org/files/mitdb/1.0.0/x_mitdb/x_124.dat’\n",
            "\n",
            "physionet.org/files 100%[===================>] 632.81K  1.14MB/s    in 0.5s    \n",
            "\n",
            "2023-10-12 10:32:57 (1.14 MB/s) - ‘physionet.org/files/mitdb/1.0.0/x_mitdb/x_124.dat’ saved [648000/648000]\n",
            "\n",
            "--2023-10-12 10:32:57--  https://physionet.org/files/mitdb/1.0.0/x_mitdb/x_124.hea\n",
            "Reusing existing connection to physionet.org:443.\n",
            "HTTP request sent, awaiting response... 200 OK\n",
            "Length: 287 [text/plain]\n",
            "Saving to: ‘physionet.org/files/mitdb/1.0.0/x_mitdb/x_124.hea’\n",
            "\n",
            "physionet.org/files 100%[===================>]     287  --.-KB/s    in 0s      \n",
            "\n",
            "2023-10-12 10:32:57 (243 MB/s) - ‘physionet.org/files/mitdb/1.0.0/x_mitdb/x_124.hea’ saved [287/287]\n",
            "\n",
            "--2023-10-12 10:32:57--  https://physionet.org/files/mitdb/1.0.0/x_mitdb/x_220.atr\n",
            "Reusing existing connection to physionet.org:443.\n",
            "HTTP request sent, awaiting response... 200 OK\n",
            "Length: 1504 (1.5K) [application/octet-stream]\n",
            "Saving to: ‘physionet.org/files/mitdb/1.0.0/x_mitdb/x_220.atr’\n",
            "\n",
            "physionet.org/files 100%[===================>]   1.47K  --.-KB/s    in 0s      \n",
            "\n",
            "2023-10-12 10:32:57 (783 MB/s) - ‘physionet.org/files/mitdb/1.0.0/x_mitdb/x_220.atr’ saved [1504/1504]\n",
            "\n",
            "--2023-10-12 10:32:57--  https://physionet.org/files/mitdb/1.0.0/x_mitdb/x_220.dat\n",
            "Reusing existing connection to physionet.org:443.\n",
            "HTTP request sent, awaiting response... 200 OK\n",
            "Length: 648000 (633K) [application/octet-stream]\n",
            "Saving to: ‘physionet.org/files/mitdb/1.0.0/x_mitdb/x_220.dat’\n",
            "\n",
            "physionet.org/files 100%[===================>] 632.81K  1.12MB/s    in 0.6s    \n",
            "\n",
            "2023-10-12 10:32:57 (1.12 MB/s) - ‘physionet.org/files/mitdb/1.0.0/x_mitdb/x_220.dat’ saved [648000/648000]\n",
            "\n",
            "--2023-10-12 10:32:57--  https://physionet.org/files/mitdb/1.0.0/x_mitdb/x_220.hea\n",
            "Reusing existing connection to physionet.org:443.\n",
            "HTTP request sent, awaiting response... 200 OK\n",
            "Length: 197 [text/plain]\n",
            "Saving to: ‘physionet.org/files/mitdb/1.0.0/x_mitdb/x_220.hea’\n",
            "\n",
            "physionet.org/files 100%[===================>]     197  --.-KB/s    in 0s      \n",
            "\n",
            "2023-10-12 10:32:57 (146 MB/s) - ‘physionet.org/files/mitdb/1.0.0/x_mitdb/x_220.hea’ saved [197/197]\n",
            "\n",
            "--2023-10-12 10:32:57--  https://physionet.org/files/mitdb/1.0.0/x_mitdb/x_221.atr\n",
            "Reusing existing connection to physionet.org:443.\n",
            "HTTP request sent, awaiting response... 200 OK\n",
            "Length: 2052 (2.0K) [application/octet-stream]\n",
            "Saving to: ‘physionet.org/files/mitdb/1.0.0/x_mitdb/x_221.atr’\n",
            "\n",
            "physionet.org/files 100%[===================>]   2.00K  --.-KB/s    in 0s      \n",
            "\n",
            "2023-10-12 10:32:58 (1.14 GB/s) - ‘physionet.org/files/mitdb/1.0.0/x_mitdb/x_221.atr’ saved [2052/2052]\n",
            "\n",
            "--2023-10-12 10:32:58--  https://physionet.org/files/mitdb/1.0.0/x_mitdb/x_221.dat\n",
            "Reusing existing connection to physionet.org:443.\n",
            "HTTP request sent, awaiting response... 200 OK\n",
            "Length: 648000 (633K) [application/octet-stream]\n",
            "Saving to: ‘physionet.org/files/mitdb/1.0.0/x_mitdb/x_221.dat’\n",
            "\n",
            "physionet.org/files 100%[===================>] 632.81K  1.12MB/s    in 0.6s    \n",
            "\n",
            "2023-10-12 10:32:58 (1.12 MB/s) - ‘physionet.org/files/mitdb/1.0.0/x_mitdb/x_221.dat’ saved [648000/648000]\n",
            "\n",
            "--2023-10-12 10:32:58--  https://physionet.org/files/mitdb/1.0.0/x_mitdb/x_221.hea\n",
            "Reusing existing connection to physionet.org:443.\n",
            "HTTP request sent, awaiting response... 200 OK\n",
            "Length: 294 [text/plain]\n",
            "Saving to: ‘physionet.org/files/mitdb/1.0.0/x_mitdb/x_221.hea’\n",
            "\n",
            "physionet.org/files 100%[===================>]     294  --.-KB/s    in 0s      \n",
            "\n",
            "2023-10-12 10:32:58 (220 MB/s) - ‘physionet.org/files/mitdb/1.0.0/x_mitdb/x_221.hea’ saved [294/294]\n",
            "\n",
            "--2023-10-12 10:32:58--  https://physionet.org/files/mitdb/1.0.0/x_mitdb/x_222.atr\n",
            "Reusing existing connection to physionet.org:443.\n",
            "HTTP request sent, awaiting response... 200 OK\n",
            "Length: 1552 (1.5K) [application/octet-stream]\n",
            "Saving to: ‘physionet.org/files/mitdb/1.0.0/x_mitdb/x_222.atr’\n",
            "\n",
            "physionet.org/files 100%[===================>]   1.52K  --.-KB/s    in 0s      \n",
            "\n",
            "2023-10-12 10:32:58 (896 MB/s) - ‘physionet.org/files/mitdb/1.0.0/x_mitdb/x_222.atr’ saved [1552/1552]\n",
            "\n",
            "--2023-10-12 10:32:58--  https://physionet.org/files/mitdb/1.0.0/x_mitdb/x_222.dat\n",
            "Reusing existing connection to physionet.org:443.\n",
            "HTTP request sent, awaiting response... 200 OK\n",
            "Length: 648000 (633K) [application/octet-stream]\n",
            "Saving to: ‘physionet.org/files/mitdb/1.0.0/x_mitdb/x_222.dat’\n",
            "\n",
            "physionet.org/files 100%[===================>] 632.81K  1.12MB/s    in 0.6s    \n",
            "\n",
            "2023-10-12 10:32:59 (1.12 MB/s) - ‘physionet.org/files/mitdb/1.0.0/x_mitdb/x_222.dat’ saved [648000/648000]\n",
            "\n",
            "--2023-10-12 10:32:59--  https://physionet.org/files/mitdb/1.0.0/x_mitdb/x_222.hea\n",
            "Reusing existing connection to physionet.org:443.\n",
            "HTTP request sent, awaiting response... 200 OK\n",
            "Length: 397 [text/plain]\n",
            "Saving to: ‘physionet.org/files/mitdb/1.0.0/x_mitdb/x_222.hea’\n",
            "\n",
            "physionet.org/files 100%[===================>]     397  --.-KB/s    in 0s      \n",
            "\n",
            "2023-10-12 10:32:59 (325 MB/s) - ‘physionet.org/files/mitdb/1.0.0/x_mitdb/x_222.hea’ saved [397/397]\n",
            "\n",
            "--2023-10-12 10:32:59--  https://physionet.org/files/mitdb/1.0.0/x_mitdb/x_223.atr\n",
            "Reusing existing connection to physionet.org:443.\n",
            "HTTP request sent, awaiting response... 200 OK\n",
            "Length: 1724 (1.7K) [application/octet-stream]\n",
            "Saving to: ‘physionet.org/files/mitdb/1.0.0/x_mitdb/x_223.atr’\n",
            "\n",
            "physionet.org/files 100%[===================>]   1.68K  --.-KB/s    in 0s      \n",
            "\n",
            "2023-10-12 10:32:59 (811 MB/s) - ‘physionet.org/files/mitdb/1.0.0/x_mitdb/x_223.atr’ saved [1724/1724]\n",
            "\n",
            "--2023-10-12 10:32:59--  https://physionet.org/files/mitdb/1.0.0/x_mitdb/x_223.dat\n",
            "Reusing existing connection to physionet.org:443.\n",
            "HTTP request sent, awaiting response... 200 OK\n",
            "Length: 648000 (633K) [application/octet-stream]\n",
            "Saving to: ‘physionet.org/files/mitdb/1.0.0/x_mitdb/x_223.dat’\n",
            "\n",
            "physionet.org/files 100%[===================>] 632.81K  1.18MB/s    in 0.5s    \n",
            "\n",
            "2023-10-12 10:33:00 (1.18 MB/s) - ‘physionet.org/files/mitdb/1.0.0/x_mitdb/x_223.dat’ saved [648000/648000]\n",
            "\n",
            "--2023-10-12 10:33:00--  https://physionet.org/files/mitdb/1.0.0/x_mitdb/x_223.hea\n",
            "Reusing existing connection to physionet.org:443.\n",
            "HTTP request sent, awaiting response... 200 OK\n",
            "Length: 323 [text/plain]\n",
            "Saving to: ‘physionet.org/files/mitdb/1.0.0/x_mitdb/x_223.hea’\n",
            "\n",
            "physionet.org/files 100%[===================>]     323  --.-KB/s    in 0s      \n",
            "\n",
            "2023-10-12 10:33:00 (187 MB/s) - ‘physionet.org/files/mitdb/1.0.0/x_mitdb/x_223.hea’ saved [323/323]\n",
            "\n",
            "--2023-10-12 10:33:00--  https://physionet.org/files/mitdb/1.0.0/x_mitdb/x_228.atr\n",
            "Reusing existing connection to physionet.org:443.\n",
            "HTTP request sent, awaiting response... 200 OK\n",
            "Length: 1872 (1.8K) [application/octet-stream]\n",
            "Saving to: ‘physionet.org/files/mitdb/1.0.0/x_mitdb/x_228.atr’\n",
            "\n",
            "physionet.org/files 100%[===================>]   1.83K  --.-KB/s    in 0s      \n",
            "\n",
            "2023-10-12 10:33:00 (1.15 GB/s) - ‘physionet.org/files/mitdb/1.0.0/x_mitdb/x_228.atr’ saved [1872/1872]\n",
            "\n",
            "--2023-10-12 10:33:00--  https://physionet.org/files/mitdb/1.0.0/x_mitdb/x_228.dat\n",
            "Reusing existing connection to physionet.org:443.\n",
            "HTTP request sent, awaiting response... 200 OK\n",
            "Length: 648000 (633K) [application/octet-stream]\n",
            "Saving to: ‘physionet.org/files/mitdb/1.0.0/x_mitdb/x_228.dat’\n",
            "\n",
            "physionet.org/files 100%[===================>] 632.81K  1.12MB/s    in 0.6s    \n",
            "\n",
            "2023-10-12 10:33:01 (1.12 MB/s) - ‘physionet.org/files/mitdb/1.0.0/x_mitdb/x_228.dat’ saved [648000/648000]\n",
            "\n",
            "--2023-10-12 10:33:01--  https://physionet.org/files/mitdb/1.0.0/x_mitdb/x_228.hea\n",
            "Reusing existing connection to physionet.org:443.\n",
            "HTTP request sent, awaiting response... 200 OK\n",
            "Length: 367 [text/plain]\n",
            "Saving to: ‘physionet.org/files/mitdb/1.0.0/x_mitdb/x_228.hea’\n",
            "\n",
            "physionet.org/files 100%[===================>]     367  --.-KB/s    in 0s      \n",
            "\n",
            "2023-10-12 10:33:01 (247 MB/s) - ‘physionet.org/files/mitdb/1.0.0/x_mitdb/x_228.hea’ saved [367/367]\n",
            "\n",
            "--2023-10-12 10:33:01--  https://physionet.org/files/mitdb/1.0.0/x_mitdb/x_230.atr\n",
            "Reusing existing connection to physionet.org:443.\n",
            "HTTP request sent, awaiting response... 200 OK\n",
            "Length: 2288 (2.2K) [application/octet-stream]\n",
            "Saving to: ‘physionet.org/files/mitdb/1.0.0/x_mitdb/x_230.atr’\n",
            "\n",
            "physionet.org/files 100%[===================>]   2.23K  --.-KB/s    in 0s      \n",
            "\n",
            "2023-10-12 10:33:01 (1.38 GB/s) - ‘physionet.org/files/mitdb/1.0.0/x_mitdb/x_230.atr’ saved [2288/2288]\n",
            "\n",
            "--2023-10-12 10:33:01--  https://physionet.org/files/mitdb/1.0.0/x_mitdb/x_230.dat\n",
            "Reusing existing connection to physionet.org:443.\n",
            "HTTP request sent, awaiting response... 200 OK\n",
            "Length: 648000 (633K) [application/octet-stream]\n",
            "Saving to: ‘physionet.org/files/mitdb/1.0.0/x_mitdb/x_230.dat’\n",
            "\n",
            "physionet.org/files 100%[===================>] 632.81K  1.15MB/s    in 0.5s    \n",
            "\n",
            "2023-10-12 10:33:02 (1.15 MB/s) - ‘physionet.org/files/mitdb/1.0.0/x_mitdb/x_230.dat’ saved [648000/648000]\n",
            "\n",
            "--2023-10-12 10:33:02--  https://physionet.org/files/mitdb/1.0.0/x_mitdb/x_230.hea\n",
            "Reusing existing connection to physionet.org:443.\n",
            "HTTP request sent, awaiting response... 200 OK\n",
            "Length: 198 [text/plain]\n",
            "Saving to: ‘physionet.org/files/mitdb/1.0.0/x_mitdb/x_230.hea’\n",
            "\n",
            "physionet.org/files 100%[===================>]     198  --.-KB/s    in 0s      \n",
            "\n",
            "2023-10-12 10:33:02 (170 MB/s) - ‘physionet.org/files/mitdb/1.0.0/x_mitdb/x_230.hea’ saved [198/198]\n",
            "\n",
            "--2023-10-12 10:33:02--  https://physionet.org/files/mitdb/1.0.0/x_mitdb/x_231.atr\n",
            "Reusing existing connection to physionet.org:443.\n",
            "HTTP request sent, awaiting response... 200 OK\n",
            "Length: 2760 (2.7K) [application/octet-stream]\n",
            "Saving to: ‘physionet.org/files/mitdb/1.0.0/x_mitdb/x_231.atr’\n",
            "\n",
            "physionet.org/files 100%[===================>]   2.70K  --.-KB/s    in 0s      \n",
            "\n",
            "2023-10-12 10:33:02 (1.61 GB/s) - ‘physionet.org/files/mitdb/1.0.0/x_mitdb/x_231.atr’ saved [2760/2760]\n",
            "\n",
            "--2023-10-12 10:33:02--  https://physionet.org/files/mitdb/1.0.0/x_mitdb/x_231.dat\n",
            "Reusing existing connection to physionet.org:443.\n",
            "HTTP request sent, awaiting response... 200 OK\n",
            "Length: 648000 (633K) [application/octet-stream]\n",
            "Saving to: ‘physionet.org/files/mitdb/1.0.0/x_mitdb/x_231.dat’\n",
            "\n",
            "physionet.org/files 100%[===================>] 632.81K  1.14MB/s    in 0.5s    \n",
            "\n",
            "2023-10-12 10:33:02 (1.14 MB/s) - ‘physionet.org/files/mitdb/1.0.0/x_mitdb/x_231.dat’ saved [648000/648000]\n",
            "\n",
            "--2023-10-12 10:33:02--  https://physionet.org/files/mitdb/1.0.0/x_mitdb/x_231.hea\n",
            "Reusing existing connection to physionet.org:443.\n",
            "HTTP request sent, awaiting response... 200 OK\n",
            "Length: 397 [text/plain]\n",
            "Saving to: ‘physionet.org/files/mitdb/1.0.0/x_mitdb/x_231.hea’\n",
            "\n",
            "physionet.org/files 100%[===================>]     397  --.-KB/s    in 0s      \n",
            "\n",
            "2023-10-12 10:33:03 (233 MB/s) - ‘physionet.org/files/mitdb/1.0.0/x_mitdb/x_231.hea’ saved [397/397]\n",
            "\n",
            "--2023-10-12 10:33:03--  https://physionet.org/files/mitdb/1.0.0/x_mitdb/x_232.atr\n",
            "Reusing existing connection to physionet.org:443.\n",
            "HTTP request sent, awaiting response... 200 OK\n",
            "Length: 1294 (1.3K) [application/octet-stream]\n",
            "Saving to: ‘physionet.org/files/mitdb/1.0.0/x_mitdb/x_232.atr’\n",
            "\n",
            "physionet.org/files 100%[===================>]   1.26K  --.-KB/s    in 0s      \n",
            "\n",
            "2023-10-12 10:33:03 (834 MB/s) - ‘physionet.org/files/mitdb/1.0.0/x_mitdb/x_232.atr’ saved [1294/1294]\n",
            "\n",
            "--2023-10-12 10:33:03--  https://physionet.org/files/mitdb/1.0.0/x_mitdb/x_232.dat\n",
            "Reusing existing connection to physionet.org:443.\n",
            "HTTP request sent, awaiting response... 200 OK\n",
            "Length: 648000 (633K) [application/octet-stream]\n",
            "Saving to: ‘physionet.org/files/mitdb/1.0.0/x_mitdb/x_232.dat’\n",
            "\n",
            "physionet.org/files 100%[===================>] 632.81K  1.14MB/s    in 0.5s    \n",
            "\n",
            "2023-10-12 10:33:03 (1.14 MB/s) - ‘physionet.org/files/mitdb/1.0.0/x_mitdb/x_232.dat’ saved [648000/648000]\n",
            "\n",
            "--2023-10-12 10:33:03--  https://physionet.org/files/mitdb/1.0.0/x_mitdb/x_232.hea\n",
            "Reusing existing connection to physionet.org:443.\n",
            "HTTP request sent, awaiting response... 200 OK\n",
            "Length: 453 [text/plain]\n",
            "Saving to: ‘physionet.org/files/mitdb/1.0.0/x_mitdb/x_232.hea’\n",
            "\n",
            "physionet.org/files 100%[===================>]     453  --.-KB/s    in 0s      \n",
            "\n",
            "2023-10-12 10:33:03 (279 MB/s) - ‘physionet.org/files/mitdb/1.0.0/x_mitdb/x_232.hea’ saved [453/453]\n",
            "\n",
            "--2023-10-12 10:33:03--  https://physionet.org/files/mitdb/1.0.0/x_mitdb/x_233.atr\n",
            "Reusing existing connection to physionet.org:443.\n",
            "HTTP request sent, awaiting response... 200 OK\n",
            "Length: 2272 (2.2K) [application/octet-stream]\n",
            "Saving to: ‘physionet.org/files/mitdb/1.0.0/x_mitdb/x_233.atr’\n",
            "\n",
            "physionet.org/files 100%[===================>]   2.22K  --.-KB/s    in 0s      \n",
            "\n",
            "2023-10-12 10:33:03 (1.27 GB/s) - ‘physionet.org/files/mitdb/1.0.0/x_mitdb/x_233.atr’ saved [2272/2272]\n",
            "\n",
            "--2023-10-12 10:33:03--  https://physionet.org/files/mitdb/1.0.0/x_mitdb/x_233.dat\n",
            "Reusing existing connection to physionet.org:443.\n",
            "HTTP request sent, awaiting response... 200 OK\n",
            "Length: 648000 (633K) [application/octet-stream]\n",
            "Saving to: ‘physionet.org/files/mitdb/1.0.0/x_mitdb/x_233.dat’\n",
            "\n",
            "physionet.org/files 100%[===================>] 632.81K  1.19MB/s    in 0.5s    \n",
            "\n",
            "2023-10-12 10:33:04 (1.19 MB/s) - ‘physionet.org/files/mitdb/1.0.0/x_mitdb/x_233.dat’ saved [648000/648000]\n",
            "\n",
            "--2023-10-12 10:33:04--  https://physionet.org/files/mitdb/1.0.0/x_mitdb/x_233.hea\n",
            "Reusing existing connection to physionet.org:443.\n",
            "HTTP request sent, awaiting response... 200 OK\n",
            "Length: 229 [text/plain]\n",
            "Saving to: ‘physionet.org/files/mitdb/1.0.0/x_mitdb/x_233.hea’\n",
            "\n",
            "physionet.org/files 100%[===================>]     229  --.-KB/s    in 0s      \n",
            "\n",
            "2023-10-12 10:33:04 (118 MB/s) - ‘physionet.org/files/mitdb/1.0.0/x_mitdb/x_233.hea’ saved [229/229]\n",
            "\n",
            "--2023-10-12 10:33:04--  https://physionet.org/files/mitdb/1.0.0/x_mitdb/x_234.atr\n",
            "Reusing existing connection to physionet.org:443.\n",
            "HTTP request sent, awaiting response... 200 OK\n",
            "Length: 1866 (1.8K) [application/octet-stream]\n",
            "Saving to: ‘physionet.org/files/mitdb/1.0.0/x_mitdb/x_234.atr’\n",
            "\n",
            "physionet.org/files 100%[===================>]   1.82K  --.-KB/s    in 0s      \n",
            "\n",
            "2023-10-12 10:33:04 (1.05 GB/s) - ‘physionet.org/files/mitdb/1.0.0/x_mitdb/x_234.atr’ saved [1866/1866]\n",
            "\n",
            "--2023-10-12 10:33:04--  https://physionet.org/files/mitdb/1.0.0/x_mitdb/x_234.dat\n",
            "Reusing existing connection to physionet.org:443.\n",
            "HTTP request sent, awaiting response... 200 OK\n",
            "Length: 648000 (633K) [application/octet-stream]\n",
            "Saving to: ‘physionet.org/files/mitdb/1.0.0/x_mitdb/x_234.dat’\n",
            "\n",
            "physionet.org/files 100%[===================>] 632.81K  1.10MB/s    in 0.6s    \n",
            "\n",
            "2023-10-12 10:33:05 (1.10 MB/s) - ‘physionet.org/files/mitdb/1.0.0/x_mitdb/x_234.dat’ saved [648000/648000]\n",
            "\n",
            "--2023-10-12 10:33:05--  https://physionet.org/files/mitdb/1.0.0/x_mitdb/x_234.hea\n",
            "Reusing existing connection to physionet.org:443.\n",
            "HTTP request sent, awaiting response... 200 OK\n",
            "Length: 223 [text/plain]\n",
            "Saving to: ‘physionet.org/files/mitdb/1.0.0/x_mitdb/x_234.hea’\n",
            "\n",
            "physionet.org/files 100%[===================>]     223  --.-KB/s    in 0s      \n",
            "\n",
            "2023-10-12 10:33:05 (130 MB/s) - ‘physionet.org/files/mitdb/1.0.0/x_mitdb/x_234.hea’ saved [223/223]\n",
            "\n",
            "--2023-10-12 10:33:05--  https://physionet.org/files/mitdb/1.0.0/mitdbdir/mitdbdir.htm\n",
            "Reusing existing connection to physionet.org:443.\n",
            "HTTP request sent, awaiting response... 200 OK\n",
            "Length: 6131 (6.0K) [text/html]\n",
            "Saving to: ‘physionet.org/files/mitdb/1.0.0/mitdbdir/mitdbdir.htm’\n",
            "\n",
            "physionet.org/files 100%[===================>]   5.99K  --.-KB/s    in 0s      \n",
            "\n",
            "2023-10-12 10:33:05 (3.02 GB/s) - ‘physionet.org/files/mitdb/1.0.0/mitdbdir/mitdbdir.htm’ saved [6131/6131]\n",
            "\n",
            "--2023-10-12 10:33:05--  https://physionet.org/files/mitdb/1.0.0/mitdbdir/samples/1001103.xws\n",
            "Reusing existing connection to physionet.org:443.\n",
            "HTTP request sent, awaiting response... 200 OK\n",
            "Length: 92 [text/plain]\n",
            "Saving to: ‘physionet.org/files/mitdb/1.0.0/mitdbdir/samples/1001103.xws’\n",
            "\n",
            "physionet.org/files 100%[===================>]      92  --.-KB/s    in 0s      \n",
            "\n",
            "2023-10-12 10:33:05 (68.7 MB/s) - ‘physionet.org/files/mitdb/1.0.0/mitdbdir/samples/1001103.xws’ saved [92/92]\n",
            "\n",
            "--2023-10-12 10:33:05--  https://physionet.org/files/mitdb/1.0.0/mitdbdir/samples/1002513.xws\n",
            "Reusing existing connection to physionet.org:443.\n",
            "HTTP request sent, awaiting response... 200 OK\n",
            "Length: 92 [text/plain]\n",
            "Saving to: ‘physionet.org/files/mitdb/1.0.0/mitdbdir/samples/1002513.xws’\n",
            "\n",
            "physionet.org/files 100%[===================>]      92  --.-KB/s    in 0s      \n",
            "\n",
            "2023-10-12 10:33:05 (69.0 MB/s) - ‘physionet.org/files/mitdb/1.0.0/mitdbdir/samples/1002513.xws’ saved [92/92]\n",
            "\n",
            "--2023-10-12 10:33:05--  https://physionet.org/files/mitdb/1.0.0/mitdbdir/samples/1002609.xws\n",
            "Reusing existing connection to physionet.org:443.\n",
            "HTTP request sent, awaiting response... 200 OK\n",
            "Length: 92 [text/plain]\n",
            "Saving to: ‘physionet.org/files/mitdb/1.0.0/mitdbdir/samples/1002609.xws’\n",
            "\n",
            "physionet.org/files 100%[===================>]      92  --.-KB/s    in 0s      \n",
            "\n",
            "2023-10-12 10:33:05 (58.6 MB/s) - ‘physionet.org/files/mitdb/1.0.0/mitdbdir/samples/1002609.xws’ saved [92/92]\n",
            "\n",
            "--2023-10-12 10:33:05--  https://physionet.org/files/mitdb/1.0.0/mitdbdir/samples/1002755.xws\n",
            "Reusing existing connection to physionet.org:443.\n",
            "HTTP request sent, awaiting response... 200 OK\n",
            "Length: 92 [text/plain]\n",
            "Saving to: ‘physionet.org/files/mitdb/1.0.0/mitdbdir/samples/1002755.xws’\n",
            "\n",
            "physionet.org/files 100%[===================>]      92  --.-KB/s    in 0s      \n",
            "\n",
            "2023-10-12 10:33:06 (66.0 MB/s) - ‘physionet.org/files/mitdb/1.0.0/mitdbdir/samples/1002755.xws’ saved [92/92]\n",
            "\n",
            "--2023-10-12 10:33:06--  https://physionet.org/files/mitdb/1.0.0/mitdbdir/samples/1010134.xws\n",
            "Reusing existing connection to physionet.org:443.\n",
            "HTTP request sent, awaiting response... 200 OK\n",
            "Length: 91 [text/plain]\n",
            "Saving to: ‘physionet.org/files/mitdb/1.0.0/mitdbdir/samples/1010134.xws’\n",
            "\n",
            "physionet.org/files 100%[===================>]      91  --.-KB/s    in 0s      \n",
            "\n",
            "2023-10-12 10:33:06 (62.9 MB/s) - ‘physionet.org/files/mitdb/1.0.0/mitdbdir/samples/1010134.xws’ saved [91/91]\n",
            "\n",
            "--2023-10-12 10:33:06--  https://physionet.org/files/mitdb/1.0.0/mitdbdir/samples/1010148.xws\n",
            "Reusing existing connection to physionet.org:443.\n",
            "HTTP request sent, awaiting response... 200 OK\n",
            "Length: 91 [text/plain]\n",
            "Saving to: ‘physionet.org/files/mitdb/1.0.0/mitdbdir/samples/1010148.xws’\n",
            "\n",
            "physionet.org/files 100%[===================>]      91  --.-KB/s    in 0s      \n",
            "\n",
            "2023-10-12 10:33:06 (60.3 MB/s) - ‘physionet.org/files/mitdb/1.0.0/mitdbdir/samples/1010148.xws’ saved [91/91]\n",
            "\n",
            "--2023-10-12 10:33:06--  https://physionet.org/files/mitdb/1.0.0/mitdbdir/samples/1010513.xws\n",
            "Reusing existing connection to physionet.org:443.\n",
            "HTTP request sent, awaiting response... 200 OK\n",
            "Length: 91 [text/plain]\n",
            "Saving to: ‘physionet.org/files/mitdb/1.0.0/mitdbdir/samples/1010513.xws’\n",
            "\n",
            "physionet.org/files 100%[===================>]      91  --.-KB/s    in 0s      \n",
            "\n",
            "2023-10-12 10:33:06 (70.6 MB/s) - ‘physionet.org/files/mitdb/1.0.0/mitdbdir/samples/1010513.xws’ saved [91/91]\n",
            "\n",
            "--2023-10-12 10:33:06--  https://physionet.org/files/mitdb/1.0.0/mitdbdir/samples/1010954.xws\n",
            "Reusing existing connection to physionet.org:443.\n",
            "HTTP request sent, awaiting response... 200 OK\n",
            "Length: 91 [text/plain]\n",
            "Saving to: ‘physionet.org/files/mitdb/1.0.0/mitdbdir/samples/1010954.xws’\n",
            "\n",
            "physionet.org/files 100%[===================>]      91  --.-KB/s    in 0s      \n",
            "\n",
            "2023-10-12 10:33:06 (73.5 MB/s) - ‘physionet.org/files/mitdb/1.0.0/mitdbdir/samples/1010954.xws’ saved [91/91]\n",
            "\n",
            "--2023-10-12 10:33:06--  https://physionet.org/files/mitdb/1.0.0/mitdbdir/samples/1012432.xws\n",
            "Reusing existing connection to physionet.org:443.\n",
            "HTTP request sent, awaiting response... 200 OK\n",
            "Length: 92 [text/plain]\n",
            "Saving to: ‘physionet.org/files/mitdb/1.0.0/mitdbdir/samples/1012432.xws’\n",
            "\n",
            "physionet.org/files 100%[===================>]      92  --.-KB/s    in 0s      \n",
            "\n",
            "2023-10-12 10:33:06 (49.8 MB/s) - ‘physionet.org/files/mitdb/1.0.0/mitdbdir/samples/1012432.xws’ saved [92/92]\n",
            "\n",
            "--2023-10-12 10:33:06--  https://physionet.org/files/mitdb/1.0.0/mitdbdir/samples/1020055.xws\n",
            "Reusing existing connection to physionet.org:443.\n",
            "HTTP request sent, awaiting response... 200 OK\n",
            "Length: 91 [text/plain]\n",
            "Saving to: ‘physionet.org/files/mitdb/1.0.0/mitdbdir/samples/1020055.xws’\n",
            "\n",
            "physionet.org/files 100%[===================>]      91  --.-KB/s    in 0s      \n",
            "\n",
            "2023-10-12 10:33:06 (72.1 MB/s) - ‘physionet.org/files/mitdb/1.0.0/mitdbdir/samples/1020055.xws’ saved [91/91]\n",
            "\n",
            "--2023-10-12 10:33:06--  https://physionet.org/files/mitdb/1.0.0/mitdbdir/samples/1020112.xws\n",
            "Reusing existing connection to physionet.org:443.\n",
            "HTTP request sent, awaiting response... 200 OK\n",
            "Length: 91 [text/plain]\n",
            "Saving to: ‘physionet.org/files/mitdb/1.0.0/mitdbdir/samples/1020112.xws’\n",
            "\n",
            "physionet.org/files 100%[===================>]      91  --.-KB/s    in 0s      \n",
            "\n",
            "2023-10-12 10:33:06 (71.2 MB/s) - ‘physionet.org/files/mitdb/1.0.0/mitdbdir/samples/1020112.xws’ saved [91/91]\n",
            "\n",
            "--2023-10-12 10:33:06--  https://physionet.org/files/mitdb/1.0.0/mitdbdir/samples/1020128.xws\n",
            "Reusing existing connection to physionet.org:443.\n",
            "HTTP request sent, awaiting response... 200 OK\n",
            "Length: 91 [text/plain]\n",
            "Saving to: ‘physionet.org/files/mitdb/1.0.0/mitdbdir/samples/1020128.xws’\n",
            "\n",
            "physionet.org/files 100%[===================>]      91  --.-KB/s    in 0s      \n",
            "\n",
            "2023-10-12 10:33:06 (53.9 MB/s) - ‘physionet.org/files/mitdb/1.0.0/mitdbdir/samples/1020128.xws’ saved [91/91]\n",
            "\n",
            "--2023-10-12 10:33:06--  https://physionet.org/files/mitdb/1.0.0/mitdbdir/samples/1020230.xws\n",
            "Reusing existing connection to physionet.org:443.\n",
            "HTTP request sent, awaiting response... 200 OK\n",
            "Length: 91 [text/plain]\n",
            "Saving to: ‘physionet.org/files/mitdb/1.0.0/mitdbdir/samples/1020230.xws’\n",
            "\n",
            "physionet.org/files 100%[===================>]      91  --.-KB/s    in 0s      \n",
            "\n",
            "2023-10-12 10:33:06 (54.1 MB/s) - ‘physionet.org/files/mitdb/1.0.0/mitdbdir/samples/1020230.xws’ saved [91/91]\n",
            "\n",
            "--2023-10-12 10:33:06--  https://physionet.org/files/mitdb/1.0.0/mitdbdir/samples/1020451.xws\n",
            "Connecting to physionet.org (physionet.org)|18.18.42.54|:443... connected.\n",
            "HTTP request sent, awaiting response... 200 OK\n",
            "Length: 91 [text/plain]\n",
            "Saving to: ‘physionet.org/files/mitdb/1.0.0/mitdbdir/samples/1020451.xws’\n",
            "\n",
            "physionet.org/files 100%[===================>]      91  --.-KB/s    in 0s      \n",
            "\n",
            "2023-10-12 10:33:07 (47.6 MB/s) - ‘physionet.org/files/mitdb/1.0.0/mitdbdir/samples/1020451.xws’ saved [91/91]\n",
            "\n",
            "--2023-10-12 10:33:07--  https://physionet.org/files/mitdb/1.0.0/mitdbdir/samples/1020935.xws\n",
            "Reusing existing connection to physionet.org:443.\n",
            "HTTP request sent, awaiting response... 200 OK\n",
            "Length: 91 [text/plain]\n",
            "Saving to: ‘physionet.org/files/mitdb/1.0.0/mitdbdir/samples/1020935.xws’\n",
            "\n",
            "physionet.org/files 100%[===================>]      91  --.-KB/s    in 0s      \n",
            "\n",
            "2023-10-12 10:33:07 (65.8 MB/s) - ‘physionet.org/files/mitdb/1.0.0/mitdbdir/samples/1020935.xws’ saved [91/91]\n",
            "\n",
            "--2023-10-12 10:33:07--  https://physionet.org/files/mitdb/1.0.0/mitdbdir/samples/1021612.xws\n",
            "Reusing existing connection to physionet.org:443.\n",
            "HTTP request sent, awaiting response... 200 OK\n",
            "Length: 92 [text/plain]\n",
            "Saving to: ‘physionet.org/files/mitdb/1.0.0/mitdbdir/samples/1021612.xws’\n",
            "\n",
            "physionet.org/files 100%[===================>]      92  --.-KB/s    in 0s      \n",
            "\n",
            "2023-10-12 10:33:07 (64.5 MB/s) - ‘physionet.org/files/mitdb/1.0.0/mitdbdir/samples/1021612.xws’ saved [92/92]\n",
            "\n",
            "--2023-10-12 10:33:07--  https://physionet.org/files/mitdb/1.0.0/mitdbdir/samples/1030109.xws\n",
            "Reusing existing connection to physionet.org:443.\n",
            "HTTP request sent, awaiting response... 200 OK\n",
            "Length: 91 [text/plain]\n",
            "Saving to: ‘physionet.org/files/mitdb/1.0.0/mitdbdir/samples/1030109.xws’\n",
            "\n",
            "physionet.org/files 100%[===================>]      91  --.-KB/s    in 0s      \n",
            "\n",
            "2023-10-12 10:33:07 (71.4 MB/s) - ‘physionet.org/files/mitdb/1.0.0/mitdbdir/samples/1030109.xws’ saved [91/91]\n",
            "\n",
            "--2023-10-12 10:33:07--  https://physionet.org/files/mitdb/1.0.0/mitdbdir/samples/1031721.xws\n",
            "Reusing existing connection to physionet.org:443.\n",
            "HTTP request sent, awaiting response... 200 OK\n",
            "Length: 92 [text/plain]\n",
            "Saving to: ‘physionet.org/files/mitdb/1.0.0/mitdbdir/samples/1031721.xws’\n",
            "\n",
            "physionet.org/files 100%[===================>]      92  --.-KB/s    in 0s      \n",
            "\n",
            "2023-10-12 10:33:07 (45.9 MB/s) - ‘physionet.org/files/mitdb/1.0.0/mitdbdir/samples/1031721.xws’ saved [92/92]\n",
            "\n",
            "--2023-10-12 10:33:07--  https://physionet.org/files/mitdb/1.0.0/mitdbdir/samples/1031915.xws\n",
            "Reusing existing connection to physionet.org:443.\n",
            "HTTP request sent, awaiting response... 200 OK\n",
            "Length: 92 [text/plain]\n",
            "Saving to: ‘physionet.org/files/mitdb/1.0.0/mitdbdir/samples/1031915.xws’\n",
            "\n",
            "physionet.org/files 100%[===================>]      92  --.-KB/s    in 0s      \n",
            "\n",
            "2023-10-12 10:33:07 (68.9 MB/s) - ‘physionet.org/files/mitdb/1.0.0/mitdbdir/samples/1031915.xws’ saved [92/92]\n",
            "\n",
            "--2023-10-12 10:33:07--  https://physionet.org/files/mitdb/1.0.0/mitdbdir/samples/1032213.xws\n",
            "Reusing existing connection to physionet.org:443.\n",
            "HTTP request sent, awaiting response... 200 OK\n",
            "Length: 92 [text/plain]\n",
            "Saving to: ‘physionet.org/files/mitdb/1.0.0/mitdbdir/samples/1032213.xws’\n",
            "\n",
            "physionet.org/files 100%[===================>]      92  --.-KB/s    in 0s      \n",
            "\n",
            "2023-10-12 10:33:07 (58.4 MB/s) - ‘physionet.org/files/mitdb/1.0.0/mitdbdir/samples/1032213.xws’ saved [92/92]\n",
            "\n",
            "--2023-10-12 10:33:07--  https://physionet.org/files/mitdb/1.0.0/mitdbdir/samples/1032333.xws\n",
            "Reusing existing connection to physionet.org:443.\n",
            "HTTP request sent, awaiting response... 200 OK\n",
            "Length: 92 [text/plain]\n",
            "Saving to: ‘physionet.org/files/mitdb/1.0.0/mitdbdir/samples/1032333.xws’\n",
            "\n",
            "physionet.org/files 100%[===================>]      92  --.-KB/s    in 0s      \n",
            "\n",
            "2023-10-12 10:33:07 (56.4 MB/s) - ‘physionet.org/files/mitdb/1.0.0/mitdbdir/samples/1032333.xws’ saved [92/92]\n",
            "\n",
            "--2023-10-12 10:33:07--  https://physionet.org/files/mitdb/1.0.0/mitdbdir/samples/1032858.xws\n",
            "Reusing existing connection to physionet.org:443.\n",
            "HTTP request sent, awaiting response... 200 OK\n",
            "Length: 92 [text/plain]\n",
            "Saving to: ‘physionet.org/files/mitdb/1.0.0/mitdbdir/samples/1032858.xws’\n",
            "\n",
            "physionet.org/files 100%[===================>]      92  --.-KB/s    in 0s      \n",
            "\n",
            "2023-10-12 10:33:08 (72.8 MB/s) - ‘physionet.org/files/mitdb/1.0.0/mitdbdir/samples/1032858.xws’ saved [92/92]\n",
            "\n",
            "--2023-10-12 10:33:08--  https://physionet.org/files/mitdb/1.0.0/mitdbdir/samples/1040342.xws\n",
            "Reusing existing connection to physionet.org:443.\n",
            "HTTP request sent, awaiting response... 200 OK\n",
            "Length: 91 [text/plain]\n",
            "Saving to: ‘physionet.org/files/mitdb/1.0.0/mitdbdir/samples/1040342.xws’\n",
            "\n",
            "physionet.org/files 100%[===================>]      91  --.-KB/s    in 0s      \n",
            "\n",
            "2023-10-12 10:33:08 (9.46 MB/s) - ‘physionet.org/files/mitdb/1.0.0/mitdbdir/samples/1040342.xws’ saved [91/91]\n",
            "\n",
            "--2023-10-12 10:33:08--  https://physionet.org/files/mitdb/1.0.0/mitdbdir/samples/1040513.xws\n",
            "Reusing existing connection to physionet.org:443.\n",
            "HTTP request sent, awaiting response... 200 OK\n",
            "Length: 91 [text/plain]\n",
            "Saving to: ‘physionet.org/files/mitdb/1.0.0/mitdbdir/samples/1040513.xws’\n",
            "\n",
            "physionet.org/files 100%[===================>]      91  --.-KB/s    in 0s      \n",
            "\n",
            "2023-10-12 10:33:08 (43.0 MB/s) - ‘physionet.org/files/mitdb/1.0.0/mitdbdir/samples/1040513.xws’ saved [91/91]\n",
            "\n",
            "--2023-10-12 10:33:08--  https://physionet.org/files/mitdb/1.0.0/mitdbdir/samples/1040552.xws\n",
            "Reusing existing connection to physionet.org:443.\n",
            "HTTP request sent, awaiting response... 200 OK\n",
            "Length: 91 [text/plain]\n",
            "Saving to: ‘physionet.org/files/mitdb/1.0.0/mitdbdir/samples/1040552.xws’\n",
            "\n",
            "physionet.org/files 100%[===================>]      91  --.-KB/s    in 0s      \n",
            "\n",
            "2023-10-12 10:33:08 (58.6 MB/s) - ‘physionet.org/files/mitdb/1.0.0/mitdbdir/samples/1040552.xws’ saved [91/91]\n",
            "\n",
            "--2023-10-12 10:33:08--  https://physionet.org/files/mitdb/1.0.0/mitdbdir/samples/1040617.xws\n",
            "Reusing existing connection to physionet.org:443.\n",
            "HTTP request sent, awaiting response... 200 OK\n",
            "Length: 91 [text/plain]\n",
            "Saving to: ‘physionet.org/files/mitdb/1.0.0/mitdbdir/samples/1040617.xws’\n",
            "\n",
            "physionet.org/files 100%[===================>]      91  --.-KB/s    in 0s      \n",
            "\n",
            "2023-10-12 10:33:08 (52.6 MB/s) - ‘physionet.org/files/mitdb/1.0.0/mitdbdir/samples/1040617.xws’ saved [91/91]\n",
            "\n",
            "--2023-10-12 10:33:08--  https://physionet.org/files/mitdb/1.0.0/mitdbdir/samples/1040822.xws\n",
            "Reusing existing connection to physionet.org:443.\n",
            "HTTP request sent, awaiting response... 200 OK\n",
            "Length: 91 [text/plain]\n",
            "Saving to: ‘physionet.org/files/mitdb/1.0.0/mitdbdir/samples/1040822.xws’\n",
            "\n",
            "physionet.org/files 100%[===================>]      91  --.-KB/s    in 0s      \n",
            "\n",
            "2023-10-12 10:33:08 (59.6 MB/s) - ‘physionet.org/files/mitdb/1.0.0/mitdbdir/samples/1040822.xws’ saved [91/91]\n",
            "\n",
            "--2023-10-12 10:33:08--  https://physionet.org/files/mitdb/1.0.0/mitdbdir/samples/1042651.xws\n",
            "Reusing existing connection to physionet.org:443.\n",
            "HTTP request sent, awaiting response... 200 OK\n",
            "Length: 92 [text/plain]\n",
            "Saving to: ‘physionet.org/files/mitdb/1.0.0/mitdbdir/samples/1042651.xws’\n",
            "\n",
            "physionet.org/files 100%[===================>]      92  --.-KB/s    in 0s      \n",
            "\n",
            "2023-10-12 10:33:08 (57.9 MB/s) - ‘physionet.org/files/mitdb/1.0.0/mitdbdir/samples/1042651.xws’ saved [92/92]\n",
            "\n",
            "--2023-10-12 10:33:08--  https://physionet.org/files/mitdb/1.0.0/mitdbdir/samples/1042910.xws\n",
            "Reusing existing connection to physionet.org:443.\n",
            "HTTP request sent, awaiting response... 200 OK\n",
            "Length: 92 [text/plain]\n",
            "Saving to: ‘physionet.org/files/mitdb/1.0.0/mitdbdir/samples/1042910.xws’\n",
            "\n",
            "physionet.org/files 100%[===================>]      92  --.-KB/s    in 0s      \n",
            "\n",
            "2023-10-12 10:33:08 (61.3 MB/s) - ‘physionet.org/files/mitdb/1.0.0/mitdbdir/samples/1042910.xws’ saved [92/92]\n",
            "\n",
            "--2023-10-12 10:33:08--  https://physionet.org/files/mitdb/1.0.0/mitdbdir/samples/1050527.xws\n",
            "Reusing existing connection to physionet.org:443.\n",
            "HTTP request sent, awaiting response... 200 OK\n",
            "Length: 91 [text/plain]\n",
            "Saving to: ‘physionet.org/files/mitdb/1.0.0/mitdbdir/samples/1050527.xws’\n",
            "\n",
            "physionet.org/files 100%[===================>]      91  --.-KB/s    in 0s      \n",
            "\n",
            "2023-10-12 10:33:08 (70.5 MB/s) - ‘physionet.org/files/mitdb/1.0.0/mitdbdir/samples/1050527.xws’ saved [91/91]\n",
            "\n",
            "--2023-10-12 10:33:08--  https://physionet.org/files/mitdb/1.0.0/mitdbdir/samples/1050757.xws\n",
            "Reusing existing connection to physionet.org:443.\n",
            "HTTP request sent, awaiting response... 200 OK\n",
            "Length: 91 [text/plain]\n",
            "Saving to: ‘physionet.org/files/mitdb/1.0.0/mitdbdir/samples/1050757.xws’\n",
            "\n",
            "physionet.org/files 100%[===================>]      91  --.-KB/s    in 0s      \n",
            "\n",
            "2023-10-12 10:33:08 (62.5 MB/s) - ‘physionet.org/files/mitdb/1.0.0/mitdbdir/samples/1050757.xws’ saved [91/91]\n",
            "\n",
            "--2023-10-12 10:33:08--  https://physionet.org/files/mitdb/1.0.0/mitdbdir/samples/1051516.xws\n",
            "Reusing existing connection to physionet.org:443.\n",
            "HTTP request sent, awaiting response... 200 OK\n",
            "Length: 92 [text/plain]\n",
            "Saving to: ‘physionet.org/files/mitdb/1.0.0/mitdbdir/samples/1051516.xws’\n",
            "\n",
            "physionet.org/files 100%[===================>]      92  --.-KB/s    in 0s      \n",
            "\n",
            "2023-10-12 10:33:08 (78.6 MB/s) - ‘physionet.org/files/mitdb/1.0.0/mitdbdir/samples/1051516.xws’ saved [92/92]\n",
            "\n",
            "--2023-10-12 10:33:08--  https://physionet.org/files/mitdb/1.0.0/mitdbdir/samples/1051752.xws\n",
            "Reusing existing connection to physionet.org:443.\n",
            "HTTP request sent, awaiting response... 200 OK\n",
            "Length: 92 [text/plain]\n",
            "Saving to: ‘physionet.org/files/mitdb/1.0.0/mitdbdir/samples/1051752.xws’\n",
            "\n",
            "physionet.org/files 100%[===================>]      92  --.-KB/s    in 0s      \n",
            "\n",
            "2023-10-12 10:33:09 (52.8 MB/s) - ‘physionet.org/files/mitdb/1.0.0/mitdbdir/samples/1051752.xws’ saved [92/92]\n",
            "\n",
            "--2023-10-12 10:33:09--  https://physionet.org/files/mitdb/1.0.0/mitdbdir/samples/1052202.xws\n",
            "Reusing existing connection to physionet.org:443.\n",
            "HTTP request sent, awaiting response... 200 OK\n",
            "Length: 92 [text/plain]\n",
            "Saving to: ‘physionet.org/files/mitdb/1.0.0/mitdbdir/samples/1052202.xws’\n",
            "\n",
            "physionet.org/files 100%[===================>]      92  --.-KB/s    in 0s      \n",
            "\n",
            "2023-10-12 10:33:09 (76.3 MB/s) - ‘physionet.org/files/mitdb/1.0.0/mitdbdir/samples/1052202.xws’ saved [92/92]\n",
            "\n",
            "--2023-10-12 10:33:09--  https://physionet.org/files/mitdb/1.0.0/mitdbdir/samples/1052645.xws\n",
            "Reusing existing connection to physionet.org:443.\n",
            "HTTP request sent, awaiting response... 200 OK\n",
            "Length: 92 [text/plain]\n",
            "Saving to: ‘physionet.org/files/mitdb/1.0.0/mitdbdir/samples/1052645.xws’\n",
            "\n",
            "physionet.org/files 100%[===================>]      92  --.-KB/s    in 0s      \n",
            "\n",
            "2023-10-12 10:33:09 (34.6 MB/s) - ‘physionet.org/files/mitdb/1.0.0/mitdbdir/samples/1052645.xws’ saved [92/92]\n",
            "\n",
            "--2023-10-12 10:33:09--  https://physionet.org/files/mitdb/1.0.0/mitdbdir/samples/1052727.xws\n",
            "Reusing existing connection to physionet.org:443.\n",
            "HTTP request sent, awaiting response... 200 OK\n",
            "Length: 92 [text/plain]\n",
            "Saving to: ‘physionet.org/files/mitdb/1.0.0/mitdbdir/samples/1052727.xws’\n",
            "\n",
            "physionet.org/files 100%[===================>]      92  --.-KB/s    in 0s      \n",
            "\n",
            "2023-10-12 10:33:09 (80.3 MB/s) - ‘physionet.org/files/mitdb/1.0.0/mitdbdir/samples/1052727.xws’ saved [92/92]\n",
            "\n",
            "--2023-10-12 10:33:09--  https://physionet.org/files/mitdb/1.0.0/mitdbdir/samples/1052808.xws\n",
            "Reusing existing connection to physionet.org:443.\n",
            "HTTP request sent, awaiting response... 200 OK\n",
            "Length: 92 [text/plain]\n",
            "Saving to: ‘physionet.org/files/mitdb/1.0.0/mitdbdir/samples/1052808.xws’\n",
            "\n",
            "physionet.org/files 100%[===================>]      92  --.-KB/s    in 0s      \n",
            "\n",
            "2023-10-12 10:33:09 (60.5 MB/s) - ‘physionet.org/files/mitdb/1.0.0/mitdbdir/samples/1052808.xws’ saved [92/92]\n",
            "\n",
            "--2023-10-12 10:33:09--  https://physionet.org/files/mitdb/1.0.0/mitdbdir/samples/1052907.xws\n",
            "Reusing existing connection to physionet.org:443.\n",
            "HTTP request sent, awaiting response... 200 OK\n",
            "Length: 92 [text/plain]\n",
            "Saving to: ‘physionet.org/files/mitdb/1.0.0/mitdbdir/samples/1052907.xws’\n",
            "\n",
            "physionet.org/files 100%[===================>]      92  --.-KB/s    in 0s      \n",
            "\n",
            "2023-10-12 10:33:09 (75.8 MB/s) - ‘physionet.org/files/mitdb/1.0.0/mitdbdir/samples/1052907.xws’ saved [92/92]\n",
            "\n",
            "--2023-10-12 10:33:09--  https://physionet.org/files/mitdb/1.0.0/mitdbdir/samples/1060019.xws\n",
            "Reusing existing connection to physionet.org:443.\n",
            "HTTP request sent, awaiting response... 200 OK\n",
            "Length: 91 [text/plain]\n",
            "Saving to: ‘physionet.org/files/mitdb/1.0.0/mitdbdir/samples/1060019.xws’\n",
            "\n",
            "physionet.org/files 100%[===================>]      91  --.-KB/s    in 0s      \n",
            "\n",
            "2023-10-12 10:33:09 (63.9 MB/s) - ‘physionet.org/files/mitdb/1.0.0/mitdbdir/samples/1060019.xws’ saved [91/91]\n",
            "\n",
            "--2023-10-12 10:33:09--  https://physionet.org/files/mitdb/1.0.0/mitdbdir/samples/1060137.xws\n",
            "Reusing existing connection to physionet.org:443.\n",
            "HTTP request sent, awaiting response... 200 OK\n",
            "Length: 91 [text/plain]\n",
            "Saving to: ‘physionet.org/files/mitdb/1.0.0/mitdbdir/samples/1060137.xws’\n",
            "\n",
            "physionet.org/files 100%[===================>]      91  --.-KB/s    in 0s      \n",
            "\n",
            "2023-10-12 10:33:09 (77.4 MB/s) - ‘physionet.org/files/mitdb/1.0.0/mitdbdir/samples/1060137.xws’ saved [91/91]\n",
            "\n",
            "--2023-10-12 10:33:09--  https://physionet.org/files/mitdb/1.0.0/mitdbdir/samples/1060253.xws\n",
            "Reusing existing connection to physionet.org:443.\n",
            "HTTP request sent, awaiting response... 200 OK\n",
            "Length: 91 [text/plain]\n",
            "Saving to: ‘physionet.org/files/mitdb/1.0.0/mitdbdir/samples/1060253.xws’\n",
            "\n",
            "physionet.org/files 100%[===================>]      91  --.-KB/s    in 0s      \n",
            "\n",
            "2023-10-12 10:33:09 (53.7 MB/s) - ‘physionet.org/files/mitdb/1.0.0/mitdbdir/samples/1060253.xws’ saved [91/91]\n",
            "\n",
            "--2023-10-12 10:33:09--  https://physionet.org/files/mitdb/1.0.0/mitdbdir/samples/1060423.xws\n",
            "Reusing existing connection to physionet.org:443.\n",
            "HTTP request sent, awaiting response... 200 OK\n",
            "Length: 91 [text/plain]\n",
            "Saving to: ‘physionet.org/files/mitdb/1.0.0/mitdbdir/samples/1060423.xws’\n",
            "\n",
            "physionet.org/files 100%[===================>]      91  --.-KB/s    in 0s      \n",
            "\n",
            "2023-10-12 10:33:09 (65.0 MB/s) - ‘physionet.org/files/mitdb/1.0.0/mitdbdir/samples/1060423.xws’ saved [91/91]\n",
            "\n",
            "--2023-10-12 10:33:09--  https://physionet.org/files/mitdb/1.0.0/mitdbdir/samples/1060757.xws\n",
            "Reusing existing connection to physionet.org:443.\n",
            "HTTP request sent, awaiting response... 200 OK\n",
            "Length: 91 [text/plain]\n",
            "Saving to: ‘physionet.org/files/mitdb/1.0.0/mitdbdir/samples/1060757.xws’\n",
            "\n",
            "physionet.org/files 100%[===================>]      91  --.-KB/s    in 0s      \n",
            "\n",
            "2023-10-12 10:33:10 (55.2 MB/s) - ‘physionet.org/files/mitdb/1.0.0/mitdbdir/samples/1060757.xws’ saved [91/91]\n",
            "\n",
            "--2023-10-12 10:33:10--  https://physionet.org/files/mitdb/1.0.0/mitdbdir/samples/1061052.xws\n",
            "Reusing existing connection to physionet.org:443.\n",
            "HTTP request sent, awaiting response... 200 OK\n",
            "Length: 92 [text/plain]\n",
            "Saving to: ‘physionet.org/files/mitdb/1.0.0/mitdbdir/samples/1061052.xws’\n",
            "\n",
            "physionet.org/files 100%[===================>]      92  --.-KB/s    in 0s      \n",
            "\n",
            "2023-10-12 10:33:10 (28.6 MB/s) - ‘physionet.org/files/mitdb/1.0.0/mitdbdir/samples/1061052.xws’ saved [92/92]\n",
            "\n",
            "--2023-10-12 10:33:10--  https://physionet.org/files/mitdb/1.0.0/mitdbdir/samples/1061227.xws\n",
            "Reusing existing connection to physionet.org:443.\n",
            "HTTP request sent, awaiting response... 200 OK\n",
            "Length: 92 [text/plain]\n",
            "Saving to: ‘physionet.org/files/mitdb/1.0.0/mitdbdir/samples/1061227.xws’\n",
            "\n",
            "physionet.org/files 100%[===================>]      92  --.-KB/s    in 0s      \n",
            "\n",
            "2023-10-12 10:33:10 (40.8 MB/s) - ‘physionet.org/files/mitdb/1.0.0/mitdbdir/samples/1061227.xws’ saved [92/92]\n",
            "\n",
            "--2023-10-12 10:33:10--  https://physionet.org/files/mitdb/1.0.0/mitdbdir/samples/1061617.xws\n",
            "Reusing existing connection to physionet.org:443.\n",
            "HTTP request sent, awaiting response... 200 OK\n",
            "Length: 92 [text/plain]\n",
            "Saving to: ‘physionet.org/files/mitdb/1.0.0/mitdbdir/samples/1061617.xws’\n",
            "\n",
            "physionet.org/files 100%[===================>]      92  --.-KB/s    in 0s      \n",
            "\n",
            "2023-10-12 10:33:10 (77.6 MB/s) - ‘physionet.org/files/mitdb/1.0.0/mitdbdir/samples/1061617.xws’ saved [92/92]\n",
            "\n",
            "--2023-10-12 10:33:10--  https://physionet.org/files/mitdb/1.0.0/mitdbdir/samples/1062513.xws\n",
            "Reusing existing connection to physionet.org:443.\n",
            "HTTP request sent, awaiting response... 200 OK\n",
            "Length: 92 [text/plain]\n",
            "Saving to: ‘physionet.org/files/mitdb/1.0.0/mitdbdir/samples/1062513.xws’\n",
            "\n",
            "physionet.org/files 100%[===================>]      92  --.-KB/s    in 0s      \n",
            "\n",
            "2023-10-12 10:33:10 (87.3 MB/s) - ‘physionet.org/files/mitdb/1.0.0/mitdbdir/samples/1062513.xws’ saved [92/92]\n",
            "\n",
            "--2023-10-12 10:33:10--  https://physionet.org/files/mitdb/1.0.0/mitdbdir/samples/1062552.xws\n",
            "Reusing existing connection to physionet.org:443.\n",
            "HTTP request sent, awaiting response... 200 OK\n",
            "Length: 92 [text/plain]\n",
            "Saving to: ‘physionet.org/files/mitdb/1.0.0/mitdbdir/samples/1062552.xws’\n",
            "\n",
            "physionet.org/files 100%[===================>]      92  --.-KB/s    in 0s      \n",
            "\n",
            "2023-10-12 10:33:10 (72.2 MB/s) - ‘physionet.org/files/mitdb/1.0.0/mitdbdir/samples/1062552.xws’ saved [92/92]\n",
            "\n",
            "--2023-10-12 10:33:10--  https://physionet.org/files/mitdb/1.0.0/mitdbdir/samples/1070044.xws\n",
            "Reusing existing connection to physionet.org:443.\n",
            "HTTP request sent, awaiting response... 200 OK\n",
            "Length: 91 [text/plain]\n",
            "Saving to: ‘physionet.org/files/mitdb/1.0.0/mitdbdir/samples/1070044.xws’\n",
            "\n",
            "physionet.org/files 100%[===================>]      91  --.-KB/s    in 0s      \n",
            "\n",
            "2023-10-12 10:33:10 (79.4 MB/s) - ‘physionet.org/files/mitdb/1.0.0/mitdbdir/samples/1070044.xws’ saved [91/91]\n",
            "\n",
            "--2023-10-12 10:33:10--  https://physionet.org/files/mitdb/1.0.0/mitdbdir/samples/1071230.xws\n",
            "Reusing existing connection to physionet.org:443.\n",
            "HTTP request sent, awaiting response... 200 OK\n",
            "Length: 92 [text/plain]\n",
            "Saving to: ‘physionet.org/files/mitdb/1.0.0/mitdbdir/samples/1071230.xws’\n",
            "\n",
            "physionet.org/files 100%[===================>]      92  --.-KB/s    in 0s      \n",
            "\n",
            "2023-10-12 10:33:10 (61.3 MB/s) - ‘physionet.org/files/mitdb/1.0.0/mitdbdir/samples/1071230.xws’ saved [92/92]\n",
            "\n",
            "--2023-10-12 10:33:10--  https://physionet.org/files/mitdb/1.0.0/mitdbdir/samples/1071954.xws\n",
            "Reusing existing connection to physionet.org:443.\n",
            "HTTP request sent, awaiting response... 200 OK\n",
            "Length: 92 [text/plain]\n",
            "Saving to: ‘physionet.org/files/mitdb/1.0.0/mitdbdir/samples/1071954.xws’\n",
            "\n",
            "physionet.org/files 100%[===================>]      92  --.-KB/s    in 0s      \n",
            "\n",
            "2023-10-12 10:33:10 (47.7 MB/s) - ‘physionet.org/files/mitdb/1.0.0/mitdbdir/samples/1071954.xws’ saved [92/92]\n",
            "\n",
            "--2023-10-12 10:33:10--  https://physionet.org/files/mitdb/1.0.0/mitdbdir/samples/1072038.xws\n",
            "Reusing existing connection to physionet.org:443.\n",
            "HTTP request sent, awaiting response... 200 OK\n",
            "Length: 92 [text/plain]\n",
            "Saving to: ‘physionet.org/files/mitdb/1.0.0/mitdbdir/samples/1072038.xws’\n",
            "\n",
            "physionet.org/files 100%[===================>]      92  --.-KB/s    in 0s      \n",
            "\n",
            "2023-10-12 10:33:10 (83.4 MB/s) - ‘physionet.org/files/mitdb/1.0.0/mitdbdir/samples/1072038.xws’ saved [92/92]\n",
            "\n",
            "--2023-10-12 10:33:10--  https://physionet.org/files/mitdb/1.0.0/mitdbdir/samples/1072552.xws\n",
            "Reusing existing connection to physionet.org:443.\n",
            "HTTP request sent, awaiting response... 200 OK\n",
            "Length: 92 [text/plain]\n",
            "Saving to: ‘physionet.org/files/mitdb/1.0.0/mitdbdir/samples/1072552.xws’\n",
            "\n",
            "physionet.org/files 100%[===================>]      92  --.-KB/s    in 0s      \n",
            "\n",
            "2023-10-12 10:33:10 (68.2 MB/s) - ‘physionet.org/files/mitdb/1.0.0/mitdbdir/samples/1072552.xws’ saved [92/92]\n",
            "\n",
            "--2023-10-12 10:33:10--  https://physionet.org/files/mitdb/1.0.0/mitdbdir/samples/1080022.xws\n",
            "Reusing existing connection to physionet.org:443.\n",
            "HTTP request sent, awaiting response... 200 OK\n",
            "Length: 91 [text/plain]\n",
            "Saving to: ‘physionet.org/files/mitdb/1.0.0/mitdbdir/samples/1080022.xws’\n",
            "\n",
            "physionet.org/files 100%[===================>]      91  --.-KB/s    in 0s      \n",
            "\n",
            "2023-10-12 10:33:11 (70.2 MB/s) - ‘physionet.org/files/mitdb/1.0.0/mitdbdir/samples/1080022.xws’ saved [91/91]\n",
            "\n",
            "--2023-10-12 10:33:11--  https://physionet.org/files/mitdb/1.0.0/mitdbdir/samples/1080451.xws\n",
            "Reusing existing connection to physionet.org:443.\n",
            "HTTP request sent, awaiting response... 200 OK\n",
            "Length: 91 [text/plain]\n",
            "Saving to: ‘physionet.org/files/mitdb/1.0.0/mitdbdir/samples/1080451.xws’\n",
            "\n",
            "physionet.org/files 100%[===================>]      91  --.-KB/s    in 0s      \n",
            "\n",
            "2023-10-12 10:33:11 (88.8 MB/s) - ‘physionet.org/files/mitdb/1.0.0/mitdbdir/samples/1080451.xws’ saved [91/91]\n",
            "\n",
            "--2023-10-12 10:33:11--  https://physionet.org/files/mitdb/1.0.0/mitdbdir/samples/1080741.xws\n",
            "Reusing existing connection to physionet.org:443.\n",
            "HTTP request sent, awaiting response... 200 OK\n",
            "Length: 91 [text/plain]\n",
            "Saving to: ‘physionet.org/files/mitdb/1.0.0/mitdbdir/samples/1080741.xws’\n",
            "\n",
            "physionet.org/files 100%[===================>]      91  --.-KB/s    in 0s      \n",
            "\n",
            "2023-10-12 10:33:11 (77.8 MB/s) - ‘physionet.org/files/mitdb/1.0.0/mitdbdir/samples/1080741.xws’ saved [91/91]\n",
            "\n",
            "--2023-10-12 10:33:11--  https://physionet.org/files/mitdb/1.0.0/mitdbdir/samples/1080813.xws\n",
            "Reusing existing connection to physionet.org:443.\n",
            "HTTP request sent, awaiting response... 200 OK\n",
            "Length: 91 [text/plain]\n",
            "Saving to: ‘physionet.org/files/mitdb/1.0.0/mitdbdir/samples/1080813.xws’\n",
            "\n",
            "physionet.org/files 100%[===================>]      91  --.-KB/s    in 0s      \n",
            "\n",
            "2023-10-12 10:33:11 (62.8 MB/s) - ‘physionet.org/files/mitdb/1.0.0/mitdbdir/samples/1080813.xws’ saved [91/91]\n",
            "\n",
            "--2023-10-12 10:33:11--  https://physionet.org/files/mitdb/1.0.0/mitdbdir/samples/1081055.xws\n",
            "Reusing existing connection to physionet.org:443.\n",
            "HTTP request sent, awaiting response... 200 OK\n",
            "Length: 92 [text/plain]\n",
            "Saving to: ‘physionet.org/files/mitdb/1.0.0/mitdbdir/samples/1081055.xws’\n",
            "\n",
            "physionet.org/files 100%[===================>]      92  --.-KB/s    in 0s      \n",
            "\n",
            "2023-10-12 10:33:11 (68.4 MB/s) - ‘physionet.org/files/mitdb/1.0.0/mitdbdir/samples/1081055.xws’ saved [92/92]\n",
            "\n",
            "--2023-10-12 10:33:11--  https://physionet.org/files/mitdb/1.0.0/mitdbdir/samples/1081808.xws\n",
            "Reusing existing connection to physionet.org:443.\n",
            "HTTP request sent, awaiting response... 200 OK\n",
            "Length: 92 [text/plain]\n",
            "Saving to: ‘physionet.org/files/mitdb/1.0.0/mitdbdir/samples/1081808.xws’\n",
            "\n",
            "physionet.org/files 100%[===================>]      92  --.-KB/s    in 0s      \n",
            "\n",
            "2023-10-12 10:33:11 (66.7 MB/s) - ‘physionet.org/files/mitdb/1.0.0/mitdbdir/samples/1081808.xws’ saved [92/92]\n",
            "\n",
            "--2023-10-12 10:33:11--  https://physionet.org/files/mitdb/1.0.0/mitdbdir/samples/1082005.xws\n",
            "Reusing existing connection to physionet.org:443.\n",
            "HTTP request sent, awaiting response... 200 OK\n",
            "Length: 92 [text/plain]\n",
            "Saving to: ‘physionet.org/files/mitdb/1.0.0/mitdbdir/samples/1082005.xws’\n",
            "\n",
            "physionet.org/files 100%[===================>]      92  --.-KB/s    in 0s      \n",
            "\n",
            "2023-10-12 10:33:11 (93.7 MB/s) - ‘physionet.org/files/mitdb/1.0.0/mitdbdir/samples/1082005.xws’ saved [92/92]\n",
            "\n",
            "--2023-10-12 10:33:11--  https://physionet.org/files/mitdb/1.0.0/mitdbdir/samples/1082420.xws\n",
            "Reusing existing connection to physionet.org:443.\n",
            "HTTP request sent, awaiting response... 200 OK\n",
            "Length: 92 [text/plain]\n",
            "Saving to: ‘physionet.org/files/mitdb/1.0.0/mitdbdir/samples/1082420.xws’\n",
            "\n",
            "physionet.org/files 100%[===================>]      92  --.-KB/s    in 0s      \n",
            "\n",
            "2023-10-12 10:33:11 (93.4 MB/s) - ‘physionet.org/files/mitdb/1.0.0/mitdbdir/samples/1082420.xws’ saved [92/92]\n",
            "\n",
            "--2023-10-12 10:33:11--  https://physionet.org/files/mitdb/1.0.0/mitdbdir/samples/1082810.xws\n",
            "Reusing existing connection to physionet.org:443.\n",
            "HTTP request sent, awaiting response... 200 OK\n",
            "Length: 92 [text/plain]\n",
            "Saving to: ‘physionet.org/files/mitdb/1.0.0/mitdbdir/samples/1082810.xws’\n",
            "\n",
            "physionet.org/files 100%[===================>]      92  --.-KB/s    in 0s      \n",
            "\n",
            "2023-10-12 10:33:11 (46.2 MB/s) - ‘physionet.org/files/mitdb/1.0.0/mitdbdir/samples/1082810.xws’ saved [92/92]\n",
            "\n",
            "--2023-10-12 10:33:11--  https://physionet.org/files/mitdb/1.0.0/mitdbdir/samples/1082900.xws\n",
            "Reusing existing connection to physionet.org:443.\n",
            "HTTP request sent, awaiting response... 200 OK\n",
            "Length: 92 [text/plain]\n",
            "Saving to: ‘physionet.org/files/mitdb/1.0.0/mitdbdir/samples/1082900.xws’\n",
            "\n",
            "physionet.org/files 100%[===================>]      92  --.-KB/s    in 0s      \n",
            "\n",
            "2023-10-12 10:33:11 (83.3 MB/s) - ‘physionet.org/files/mitdb/1.0.0/mitdbdir/samples/1082900.xws’ saved [92/92]\n",
            "\n",
            "--2023-10-12 10:33:11--  https://physionet.org/files/mitdb/1.0.0/mitdbdir/samples/1090013.xws\n",
            "Reusing existing connection to physionet.org:443.\n",
            "HTTP request sent, awaiting response... 200 OK\n",
            "Length: 91 [text/plain]\n",
            "Saving to: ‘physionet.org/files/mitdb/1.0.0/mitdbdir/samples/1090013.xws’\n",
            "\n",
            "physionet.org/files 100%[===================>]      91  --.-KB/s    in 0s      \n",
            "\n",
            "2023-10-12 10:33:12 (68.6 MB/s) - ‘physionet.org/files/mitdb/1.0.0/mitdbdir/samples/1090013.xws’ saved [91/91]\n",
            "\n",
            "--2023-10-12 10:33:12--  https://physionet.org/files/mitdb/1.0.0/mitdbdir/samples/1090128.xws\n",
            "Reusing existing connection to physionet.org:443.\n",
            "HTTP request sent, awaiting response... 200 OK\n",
            "Length: 91 [text/plain]\n",
            "Saving to: ‘physionet.org/files/mitdb/1.0.0/mitdbdir/samples/1090128.xws’\n",
            "\n",
            "physionet.org/files 100%[===================>]      91  --.-KB/s    in 0s      \n",
            "\n",
            "2023-10-12 10:33:12 (65.2 MB/s) - ‘physionet.org/files/mitdb/1.0.0/mitdbdir/samples/1090128.xws’ saved [91/91]\n",
            "\n",
            "--2023-10-12 10:33:12--  https://physionet.org/files/mitdb/1.0.0/mitdbdir/samples/1090336.xws\n",
            "Reusing existing connection to physionet.org:443.\n",
            "HTTP request sent, awaiting response... 200 OK\n",
            "Length: 91 [text/plain]\n",
            "Saving to: ‘physionet.org/files/mitdb/1.0.0/mitdbdir/samples/1090336.xws’\n",
            "\n",
            "physionet.org/files 100%[===================>]      91  --.-KB/s    in 0s      \n",
            "\n",
            "2023-10-12 10:33:12 (51.0 MB/s) - ‘physionet.org/files/mitdb/1.0.0/mitdbdir/samples/1090336.xws’ saved [91/91]\n",
            "\n",
            "--2023-10-12 10:33:12--  https://physionet.org/files/mitdb/1.0.0/mitdbdir/samples/1090446.xws\n",
            "Reusing existing connection to physionet.org:443.\n",
            "HTTP request sent, awaiting response... 200 OK\n",
            "Length: 91 [text/plain]\n",
            "Saving to: ‘physionet.org/files/mitdb/1.0.0/mitdbdir/samples/1090446.xws’\n",
            "\n",
            "physionet.org/files 100%[===================>]      91  --.-KB/s    in 0s      \n",
            "\n",
            "2023-10-12 10:33:12 (61.9 MB/s) - ‘physionet.org/files/mitdb/1.0.0/mitdbdir/samples/1090446.xws’ saved [91/91]\n",
            "\n",
            "--2023-10-12 10:33:12--  https://physionet.org/files/mitdb/1.0.0/mitdbdir/samples/1090527.xws\n",
            "Reusing existing connection to physionet.org:443.\n",
            "HTTP request sent, awaiting response... 200 OK\n",
            "Length: 91 [text/plain]\n",
            "Saving to: ‘physionet.org/files/mitdb/1.0.0/mitdbdir/samples/1090527.xws’\n",
            "\n",
            "physionet.org/files 100%[===================>]      91  --.-KB/s    in 0s      \n",
            "\n",
            "2023-10-12 10:33:12 (55.8 MB/s) - ‘physionet.org/files/mitdb/1.0.0/mitdbdir/samples/1090527.xws’ saved [91/91]\n",
            "\n",
            "--2023-10-12 10:33:12--  https://physionet.org/files/mitdb/1.0.0/mitdbdir/samples/1091401.xws\n",
            "Reusing existing connection to physionet.org:443.\n",
            "HTTP request sent, awaiting response... 200 OK\n",
            "Length: 92 [text/plain]\n",
            "Saving to: ‘physionet.org/files/mitdb/1.0.0/mitdbdir/samples/1091401.xws’\n",
            "\n",
            "physionet.org/files 100%[===================>]      92  --.-KB/s    in 0s      \n",
            "\n",
            "2023-10-12 10:33:12 (58.5 MB/s) - ‘physionet.org/files/mitdb/1.0.0/mitdbdir/samples/1091401.xws’ saved [92/92]\n",
            "\n",
            "--2023-10-12 10:33:12--  https://physionet.org/files/mitdb/1.0.0/mitdbdir/samples/1091713.xws\n",
            "Reusing existing connection to physionet.org:443.\n",
            "HTTP request sent, awaiting response... 200 OK\n",
            "Length: 92 [text/plain]\n",
            "Saving to: ‘physionet.org/files/mitdb/1.0.0/mitdbdir/samples/1091713.xws’\n",
            "\n",
            "physionet.org/files 100%[===================>]      92  --.-KB/s    in 0s      \n",
            "\n",
            "2023-10-12 10:33:12 (61.4 MB/s) - ‘physionet.org/files/mitdb/1.0.0/mitdbdir/samples/1091713.xws’ saved [92/92]\n",
            "\n",
            "--2023-10-12 10:33:12--  https://physionet.org/files/mitdb/1.0.0/mitdbdir/samples/1091921.xws\n",
            "Reusing existing connection to physionet.org:443.\n",
            "HTTP request sent, awaiting response... 200 OK\n",
            "Length: 92 [text/plain]\n",
            "Saving to: ‘physionet.org/files/mitdb/1.0.0/mitdbdir/samples/1091921.xws’\n",
            "\n",
            "physionet.org/files 100%[===================>]      92  --.-KB/s    in 0s      \n",
            "\n",
            "2023-10-12 10:33:12 (67.4 MB/s) - ‘physionet.org/files/mitdb/1.0.0/mitdbdir/samples/1091921.xws’ saved [92/92]\n",
            "\n",
            "--2023-10-12 10:33:12--  https://physionet.org/files/mitdb/1.0.0/mitdbdir/samples/1092609.xws\n",
            "Reusing existing connection to physionet.org:443.\n",
            "HTTP request sent, awaiting response... 200 OK\n",
            "Length: 92 [text/plain]\n",
            "Saving to: ‘physionet.org/files/mitdb/1.0.0/mitdbdir/samples/1092609.xws’\n",
            "\n",
            "physionet.org/files 100%[===================>]      92  --.-KB/s    in 0s      \n",
            "\n",
            "2023-10-12 10:33:12 (72.2 MB/s) - ‘physionet.org/files/mitdb/1.0.0/mitdbdir/samples/1092609.xws’ saved [92/92]\n",
            "\n",
            "--2023-10-12 10:33:12--  https://physionet.org/files/mitdb/1.0.0/mitdbdir/samples/1092803.xws\n",
            "Reusing existing connection to physionet.org:443.\n",
            "HTTP request sent, awaiting response... 200 OK\n",
            "Length: 92 [text/plain]\n",
            "Saving to: ‘physionet.org/files/mitdb/1.0.0/mitdbdir/samples/1092803.xws’\n",
            "\n",
            "physionet.org/files 100%[===================>]      92  --.-KB/s    in 0s      \n",
            "\n",
            "2023-10-12 10:33:12 (52.9 MB/s) - ‘physionet.org/files/mitdb/1.0.0/mitdbdir/samples/1092803.xws’ saved [92/92]\n",
            "\n",
            "--2023-10-12 10:33:12--  https://physionet.org/files/mitdb/1.0.0/mitdbdir/samples/1092828.xws\n",
            "Reusing existing connection to physionet.org:443.\n",
            "HTTP request sent, awaiting response... 200 OK\n",
            "Length: 92 [text/plain]\n",
            "Saving to: ‘physionet.org/files/mitdb/1.0.0/mitdbdir/samples/1092828.xws’\n",
            "\n",
            "physionet.org/files 100%[===================>]      92  --.-KB/s    in 0s      \n",
            "\n",
            "2023-10-12 10:33:12 (65.9 MB/s) - ‘physionet.org/files/mitdb/1.0.0/mitdbdir/samples/1092828.xws’ saved [92/92]\n",
            "\n",
            "--2023-10-12 10:33:12--  https://physionet.org/files/mitdb/1.0.0/mitdbdir/samples/1092910.xws\n",
            "Reusing existing connection to physionet.org:443.\n",
            "HTTP request sent, awaiting response... 200 OK\n",
            "Length: 92 [text/plain]\n",
            "Saving to: ‘physionet.org/files/mitdb/1.0.0/mitdbdir/samples/1092910.xws’\n",
            "\n",
            "physionet.org/files 100%[===================>]      92  --.-KB/s    in 0s      \n",
            "\n",
            "2023-10-12 10:33:13 (56.3 MB/s) - ‘physionet.org/files/mitdb/1.0.0/mitdbdir/samples/1092910.xws’ saved [92/92]\n",
            "\n",
            "--2023-10-12 10:33:13--  https://physionet.org/files/mitdb/1.0.0/mitdbdir/samples/1110025.xws\n",
            "Reusing existing connection to physionet.org:443.\n",
            "HTTP request sent, awaiting response... 200 OK\n",
            "Length: 91 [text/plain]\n",
            "Saving to: ‘physionet.org/files/mitdb/1.0.0/mitdbdir/samples/1110025.xws’\n",
            "\n",
            "physionet.org/files 100%[===================>]      91  --.-KB/s    in 0s      \n",
            "\n",
            "2023-10-12 10:33:13 (82.8 MB/s) - ‘physionet.org/files/mitdb/1.0.0/mitdbdir/samples/1110025.xws’ saved [91/91]\n",
            "\n",
            "--2023-10-12 10:33:13--  https://physionet.org/files/mitdb/1.0.0/mitdbdir/samples/1110241.xws\n",
            "Reusing existing connection to physionet.org:443.\n",
            "HTTP request sent, awaiting response... 200 OK\n",
            "Length: 91 [text/plain]\n",
            "Saving to: ‘physionet.org/files/mitdb/1.0.0/mitdbdir/samples/1110241.xws’\n",
            "\n",
            "physionet.org/files 100%[===================>]      91  --.-KB/s    in 0s      \n",
            "\n",
            "2023-10-12 10:33:13 (54.5 MB/s) - ‘physionet.org/files/mitdb/1.0.0/mitdbdir/samples/1110241.xws’ saved [91/91]\n",
            "\n",
            "--2023-10-12 10:33:13--  https://physionet.org/files/mitdb/1.0.0/mitdbdir/samples/1110352.xws\n",
            "Reusing existing connection to physionet.org:443.\n",
            "HTTP request sent, awaiting response... 200 OK\n",
            "Length: 91 [text/plain]\n",
            "Saving to: ‘physionet.org/files/mitdb/1.0.0/mitdbdir/samples/1110352.xws’\n",
            "\n",
            "physionet.org/files 100%[===================>]      91  --.-KB/s    in 0s      \n",
            "\n",
            "2023-10-12 10:33:13 (100 MB/s) - ‘physionet.org/files/mitdb/1.0.0/mitdbdir/samples/1110352.xws’ saved [91/91]\n",
            "\n",
            "--2023-10-12 10:33:13--  https://physionet.org/files/mitdb/1.0.0/mitdbdir/samples/1110404.xws\n",
            "Reusing existing connection to physionet.org:443.\n",
            "HTTP request sent, awaiting response... 200 OK\n",
            "Length: 91 [text/plain]\n",
            "Saving to: ‘physionet.org/files/mitdb/1.0.0/mitdbdir/samples/1110404.xws’\n",
            "\n",
            "physionet.org/files 100%[===================>]      91  --.-KB/s    in 0s      \n",
            "\n",
            "2023-10-12 10:33:13 (45.6 MB/s) - ‘physionet.org/files/mitdb/1.0.0/mitdbdir/samples/1110404.xws’ saved [91/91]\n",
            "\n",
            "--2023-10-12 10:33:13--  https://physionet.org/files/mitdb/1.0.0/mitdbdir/samples/1110831.xws\n",
            "Reusing existing connection to physionet.org:443.\n",
            "HTTP request sent, awaiting response... 200 OK\n",
            "Length: 91 [text/plain]\n",
            "Saving to: ‘physionet.org/files/mitdb/1.0.0/mitdbdir/samples/1110831.xws’\n",
            "\n",
            "physionet.org/files 100%[===================>]      91  --.-KB/s    in 0s      \n",
            "\n",
            "2023-10-12 10:33:13 (55.2 MB/s) - ‘physionet.org/files/mitdb/1.0.0/mitdbdir/samples/1110831.xws’ saved [91/91]\n",
            "\n",
            "--2023-10-12 10:33:13--  https://physionet.org/files/mitdb/1.0.0/mitdbdir/samples/1111153.xws\n",
            "Reusing existing connection to physionet.org:443.\n",
            "HTTP request sent, awaiting response... 200 OK\n",
            "Length: 92 [text/plain]\n",
            "Saving to: ‘physionet.org/files/mitdb/1.0.0/mitdbdir/samples/1111153.xws’\n",
            "\n",
            "physionet.org/files 100%[===================>]      92  --.-KB/s    in 0s      \n",
            "\n",
            "2023-10-12 10:33:13 (62.1 MB/s) - ‘physionet.org/files/mitdb/1.0.0/mitdbdir/samples/1111153.xws’ saved [92/92]\n",
            "\n",
            "--2023-10-12 10:33:13--  https://physionet.org/files/mitdb/1.0.0/mitdbdir/samples/1111541.xws\n",
            "Reusing existing connection to physionet.org:443.\n",
            "HTTP request sent, awaiting response... 200 OK\n",
            "Length: 92 [text/plain]\n",
            "Saving to: ‘physionet.org/files/mitdb/1.0.0/mitdbdir/samples/1111541.xws’\n",
            "\n",
            "physionet.org/files 100%[===================>]      92  --.-KB/s    in 0s      \n",
            "\n",
            "2023-10-12 10:33:13 (76.7 MB/s) - ‘physionet.org/files/mitdb/1.0.0/mitdbdir/samples/1111541.xws’ saved [92/92]\n",
            "\n",
            "--2023-10-12 10:33:13--  https://physionet.org/files/mitdb/1.0.0/mitdbdir/samples/1111954.xws\n",
            "Reusing existing connection to physionet.org:443.\n",
            "HTTP request sent, awaiting response... 200 OK\n",
            "Length: 92 [text/plain]\n",
            "Saving to: ‘physionet.org/files/mitdb/1.0.0/mitdbdir/samples/1111954.xws’\n",
            "\n",
            "physionet.org/files 100%[===================>]      92  --.-KB/s    in 0s      \n",
            "\n",
            "2023-10-12 10:33:13 (65.7 MB/s) - ‘physionet.org/files/mitdb/1.0.0/mitdbdir/samples/1111954.xws’ saved [92/92]\n",
            "\n",
            "--2023-10-12 10:33:13--  https://physionet.org/files/mitdb/1.0.0/mitdbdir/samples/1112702.xws\n",
            "Reusing existing connection to physionet.org:443.\n",
            "HTTP request sent, awaiting response... 200 OK\n",
            "Length: 92 [text/plain]\n",
            "Saving to: ‘physionet.org/files/mitdb/1.0.0/mitdbdir/samples/1112702.xws’\n",
            "\n",
            "physionet.org/files 100%[===================>]      92  --.-KB/s    in 0s      \n",
            "\n",
            "2023-10-12 10:33:13 (66.0 MB/s) - ‘physionet.org/files/mitdb/1.0.0/mitdbdir/samples/1112702.xws’ saved [92/92]\n",
            "\n",
            "--2023-10-12 10:33:13--  https://physionet.org/files/mitdb/1.0.0/mitdbdir/samples/1121140.xws\n",
            "Reusing existing connection to physionet.org:443.\n",
            "HTTP request sent, awaiting response... 200 OK\n",
            "Length: 92 [text/plain]\n",
            "Saving to: ‘physionet.org/files/mitdb/1.0.0/mitdbdir/samples/1121140.xws’\n",
            "\n",
            "physionet.org/files 100%[===================>]      92  --.-KB/s    in 0s      \n",
            "\n",
            "2023-10-12 10:33:14 (71.9 MB/s) - ‘physionet.org/files/mitdb/1.0.0/mitdbdir/samples/1121140.xws’ saved [92/92]\n",
            "\n",
            "--2023-10-12 10:33:14--  https://physionet.org/files/mitdb/1.0.0/mitdbdir/samples/1121230.xws\n",
            "Reusing existing connection to physionet.org:443.\n",
            "HTTP request sent, awaiting response... 200 OK\n",
            "Length: 92 [text/plain]\n",
            "Saving to: ‘physionet.org/files/mitdb/1.0.0/mitdbdir/samples/1121230.xws’\n",
            "\n",
            "physionet.org/files 100%[===================>]      92  --.-KB/s    in 0s      \n",
            "\n",
            "2023-10-12 10:33:14 (71.8 MB/s) - ‘physionet.org/files/mitdb/1.0.0/mitdbdir/samples/1121230.xws’ saved [92/92]\n",
            "\n",
            "--2023-10-12 10:33:14--  https://physionet.org/files/mitdb/1.0.0/mitdbdir/samples/1121249.xws\n",
            "Reusing existing connection to physionet.org:443.\n",
            "HTTP request sent, awaiting response... 200 OK\n",
            "Length: 92 [text/plain]\n",
            "Saving to: ‘physionet.org/files/mitdb/1.0.0/mitdbdir/samples/1121249.xws’\n",
            "\n",
            "physionet.org/files 100%[===================>]      92  --.-KB/s    in 0s      \n",
            "\n",
            "2023-10-12 10:33:14 (82.2 MB/s) - ‘physionet.org/files/mitdb/1.0.0/mitdbdir/samples/1121249.xws’ saved [92/92]\n",
            "\n",
            "--2023-10-12 10:33:14--  https://physionet.org/files/mitdb/1.0.0/mitdbdir/samples/1130420.xws\n",
            "Reusing existing connection to physionet.org:443.\n",
            "HTTP request sent, awaiting response... 200 OK\n",
            "Length: 91 [text/plain]\n",
            "Saving to: ‘physionet.org/files/mitdb/1.0.0/mitdbdir/samples/1130420.xws’\n",
            "\n",
            "physionet.org/files 100%[===================>]      91  --.-KB/s    in 0s      \n",
            "\n",
            "2023-10-12 10:33:14 (69.3 MB/s) - ‘physionet.org/files/mitdb/1.0.0/mitdbdir/samples/1130420.xws’ saved [91/91]\n",
            "\n",
            "--2023-10-12 10:33:14--  https://physionet.org/files/mitdb/1.0.0/mitdbdir/samples/1130822.xws\n",
            "Reusing existing connection to physionet.org:443.\n",
            "HTTP request sent, awaiting response... 200 OK\n",
            "Length: 91 [text/plain]\n",
            "Saving to: ‘physionet.org/files/mitdb/1.0.0/mitdbdir/samples/1130822.xws’\n",
            "\n",
            "physionet.org/files 100%[===================>]      91  --.-KB/s    in 0s      \n",
            "\n",
            "2023-10-12 10:33:14 (110 MB/s) - ‘physionet.org/files/mitdb/1.0.0/mitdbdir/samples/1130822.xws’ saved [91/91]\n",
            "\n",
            "--2023-10-12 10:33:14--  https://physionet.org/files/mitdb/1.0.0/mitdbdir/samples/1131148.xws\n",
            "Reusing existing connection to physionet.org:443.\n",
            "HTTP request sent, awaiting response... 200 OK\n",
            "Length: 92 [text/plain]\n",
            "Saving to: ‘physionet.org/files/mitdb/1.0.0/mitdbdir/samples/1131148.xws’\n",
            "\n",
            "physionet.org/files 100%[===================>]      92  --.-KB/s    in 0s      \n",
            "\n",
            "2023-10-12 10:33:14 (66.4 MB/s) - ‘physionet.org/files/mitdb/1.0.0/mitdbdir/samples/1131148.xws’ saved [92/92]\n",
            "\n",
            "--2023-10-12 10:33:14--  https://physionet.org/files/mitdb/1.0.0/mitdbdir/samples/1131227.xws\n",
            "Reusing existing connection to physionet.org:443.\n",
            "HTTP request sent, awaiting response... 200 OK\n",
            "Length: 92 [text/plain]\n",
            "Saving to: ‘physionet.org/files/mitdb/1.0.0/mitdbdir/samples/1131227.xws’\n",
            "\n",
            "physionet.org/files 100%[===================>]      92  --.-KB/s    in 0s      \n",
            "\n",
            "2023-10-12 10:33:14 (108 MB/s) - ‘physionet.org/files/mitdb/1.0.0/mitdbdir/samples/1131227.xws’ saved [92/92]\n",
            "\n",
            "--2023-10-12 10:33:14--  https://physionet.org/files/mitdb/1.0.0/mitdbdir/samples/1132210.xws\n",
            "Reusing existing connection to physionet.org:443.\n",
            "HTTP request sent, awaiting response... 200 OK\n",
            "Length: 92 [text/plain]\n",
            "Saving to: ‘physionet.org/files/mitdb/1.0.0/mitdbdir/samples/1132210.xws’\n",
            "\n",
            "physionet.org/files 100%[===================>]      92  --.-KB/s    in 0s      \n",
            "\n",
            "2023-10-12 10:33:14 (57.3 MB/s) - ‘physionet.org/files/mitdb/1.0.0/mitdbdir/samples/1132210.xws’ saved [92/92]\n",
            "\n",
            "--2023-10-12 10:33:14--  https://physionet.org/files/mitdb/1.0.0/mitdbdir/samples/1132901.xws\n",
            "Reusing existing connection to physionet.org:443.\n",
            "HTTP request sent, awaiting response... 200 OK\n",
            "Length: 92 [text/plain]\n",
            "Saving to: ‘physionet.org/files/mitdb/1.0.0/mitdbdir/samples/1132901.xws’\n",
            "\n",
            "physionet.org/files 100%[===================>]      92  --.-KB/s    in 0s      \n",
            "\n",
            "2023-10-12 10:33:14 (54.1 MB/s) - ‘physionet.org/files/mitdb/1.0.0/mitdbdir/samples/1132901.xws’ saved [92/92]\n",
            "\n",
            "--2023-10-12 10:33:14--  https://physionet.org/files/mitdb/1.0.0/mitdbdir/samples/1140000.xws\n",
            "Reusing existing connection to physionet.org:443.\n",
            "HTTP request sent, awaiting response... 200 OK\n",
            "Length: 91 [text/plain]\n",
            "Saving to: ‘physionet.org/files/mitdb/1.0.0/mitdbdir/samples/1140000.xws’\n",
            "\n",
            "physionet.org/files 100%[===================>]      91  --.-KB/s    in 0s      \n",
            "\n",
            "2023-10-12 10:33:14 (62.2 MB/s) - ‘physionet.org/files/mitdb/1.0.0/mitdbdir/samples/1140000.xws’ saved [91/91]\n",
            "\n",
            "--2023-10-12 10:33:14--  https://physionet.org/files/mitdb/1.0.0/mitdbdir/samples/1140120.xws\n",
            "Reusing existing connection to physionet.org:443.\n",
            "HTTP request sent, awaiting response... 200 OK\n",
            "Length: 91 [text/plain]\n",
            "Saving to: ‘physionet.org/files/mitdb/1.0.0/mitdbdir/samples/1140120.xws’\n",
            "\n",
            "physionet.org/files 100%[===================>]      91  --.-KB/s    in 0s      \n",
            "\n",
            "2023-10-12 10:33:14 (45.1 MB/s) - ‘physionet.org/files/mitdb/1.0.0/mitdbdir/samples/1140120.xws’ saved [91/91]\n",
            "\n",
            "--2023-10-12 10:33:14--  https://physionet.org/files/mitdb/1.0.0/mitdbdir/samples/1140339.xws\n",
            "Reusing existing connection to physionet.org:443.\n",
            "HTTP request sent, awaiting response... 200 OK\n",
            "Length: 91 [text/plain]\n",
            "Saving to: ‘physionet.org/files/mitdb/1.0.0/mitdbdir/samples/1140339.xws’\n",
            "\n",
            "physionet.org/files 100%[===================>]      91  --.-KB/s    in 0s      \n",
            "\n",
            "2023-10-12 10:33:15 (71.7 MB/s) - ‘physionet.org/files/mitdb/1.0.0/mitdbdir/samples/1140339.xws’ saved [91/91]\n",
            "\n",
            "--2023-10-12 10:33:15--  https://physionet.org/files/mitdb/1.0.0/mitdbdir/samples/1140356.xws\n",
            "Reusing existing connection to physionet.org:443.\n",
            "HTTP request sent, awaiting response... 200 OK\n",
            "Length: 91 [text/plain]\n",
            "Saving to: ‘physionet.org/files/mitdb/1.0.0/mitdbdir/samples/1140356.xws’\n",
            "\n",
            "physionet.org/files 100%[===================>]      91  --.-KB/s    in 0s      \n",
            "\n",
            "2023-10-12 10:33:15 (47.4 MB/s) - ‘physionet.org/files/mitdb/1.0.0/mitdbdir/samples/1140356.xws’ saved [91/91]\n",
            "\n",
            "--2023-10-12 10:33:15--  https://physionet.org/files/mitdb/1.0.0/mitdbdir/samples/1140435.xws\n",
            "Reusing existing connection to physionet.org:443.\n",
            "HTTP request sent, awaiting response... 200 OK\n",
            "Length: 91 [text/plain]\n",
            "Saving to: ‘physionet.org/files/mitdb/1.0.0/mitdbdir/samples/1140435.xws’\n",
            "\n",
            "physionet.org/files 100%[===================>]      91  --.-KB/s    in 0s      \n",
            "\n",
            "2023-10-12 10:33:15 (53.8 MB/s) - ‘physionet.org/files/mitdb/1.0.0/mitdbdir/samples/1140435.xws’ saved [91/91]\n",
            "\n",
            "--2023-10-12 10:33:15--  https://physionet.org/files/mitdb/1.0.0/mitdbdir/samples/1140536.xws\n",
            "Reusing existing connection to physionet.org:443.\n",
            "HTTP request sent, awaiting response... 200 OK\n",
            "Length: 91 [text/plain]\n",
            "Saving to: ‘physionet.org/files/mitdb/1.0.0/mitdbdir/samples/1140536.xws’\n",
            "\n",
            "physionet.org/files 100%[===================>]      91  --.-KB/s    in 0s      \n",
            "\n",
            "2023-10-12 10:33:15 (58.2 MB/s) - ‘physionet.org/files/mitdb/1.0.0/mitdbdir/samples/1140536.xws’ saved [91/91]\n",
            "\n",
            "--2023-10-12 10:33:15--  https://physionet.org/files/mitdb/1.0.0/mitdbdir/samples/1140831.xws\n",
            "Reusing existing connection to physionet.org:443.\n",
            "HTTP request sent, awaiting response... 200 OK\n",
            "Length: 91 [text/plain]\n",
            "Saving to: ‘physionet.org/files/mitdb/1.0.0/mitdbdir/samples/1140831.xws’\n",
            "\n",
            "physionet.org/files 100%[===================>]      91  --.-KB/s    in 0s      \n",
            "\n",
            "2023-10-12 10:33:15 (79.0 MB/s) - ‘physionet.org/files/mitdb/1.0.0/mitdbdir/samples/1140831.xws’ saved [91/91]\n",
            "\n",
            "--2023-10-12 10:33:15--  https://physionet.org/files/mitdb/1.0.0/mitdbdir/samples/1140926.xws\n",
            "Reusing existing connection to physionet.org:443.\n",
            "HTTP request sent, awaiting response... 200 OK\n",
            "Length: 91 [text/plain]\n",
            "Saving to: ‘physionet.org/files/mitdb/1.0.0/mitdbdir/samples/1140926.xws’\n",
            "\n",
            "physionet.org/files 100%[===================>]      91  --.-KB/s    in 0s      \n",
            "\n",
            "2023-10-12 10:33:15 (50.5 MB/s) - ‘physionet.org/files/mitdb/1.0.0/mitdbdir/samples/1140926.xws’ saved [91/91]\n",
            "\n",
            "--2023-10-12 10:33:15--  https://physionet.org/files/mitdb/1.0.0/mitdbdir/samples/1141137.xws\n",
            "Reusing existing connection to physionet.org:443.\n",
            "HTTP request sent, awaiting response... 200 OK\n",
            "Length: 92 [text/plain]\n",
            "Saving to: ‘physionet.org/files/mitdb/1.0.0/mitdbdir/samples/1141137.xws’\n",
            "\n",
            "physionet.org/files 100%[===================>]      92  --.-KB/s    in 0s      \n",
            "\n",
            "2023-10-12 10:33:15 (73.5 MB/s) - ‘physionet.org/files/mitdb/1.0.0/mitdbdir/samples/1141137.xws’ saved [92/92]\n",
            "\n",
            "--2023-10-12 10:33:15--  https://physionet.org/files/mitdb/1.0.0/mitdbdir/samples/1142002.xws\n",
            "Reusing existing connection to physionet.org:443.\n",
            "HTTP request sent, awaiting response... 200 OK\n",
            "Length: 92 [text/plain]\n",
            "Saving to: ‘physionet.org/files/mitdb/1.0.0/mitdbdir/samples/1142002.xws’\n",
            "\n",
            "physionet.org/files 100%[===================>]      92  --.-KB/s    in 0s      \n",
            "\n",
            "2023-10-12 10:33:15 (73.5 MB/s) - ‘physionet.org/files/mitdb/1.0.0/mitdbdir/samples/1142002.xws’ saved [92/92]\n",
            "\n",
            "--2023-10-12 10:33:15--  https://physionet.org/files/mitdb/1.0.0/mitdbdir/samples/1142929.xws\n",
            "Reusing existing connection to physionet.org:443.\n",
            "HTTP request sent, awaiting response... 200 OK\n",
            "Length: 92 [text/plain]\n",
            "Saving to: ‘physionet.org/files/mitdb/1.0.0/mitdbdir/samples/1142929.xws’\n",
            "\n",
            "physionet.org/files 100%[===================>]      92  --.-KB/s    in 0s      \n",
            "\n",
            "2023-10-12 10:33:15 (48.4 MB/s) - ‘physionet.org/files/mitdb/1.0.0/mitdbdir/samples/1142929.xws’ saved [92/92]\n",
            "\n",
            "--2023-10-12 10:33:15--  https://physionet.org/files/mitdb/1.0.0/mitdbdir/samples/1150055.xws\n",
            "Reusing existing connection to physionet.org:443.\n",
            "HTTP request sent, awaiting response... 200 OK\n",
            "Length: 91 [text/plain]\n",
            "Saving to: ‘physionet.org/files/mitdb/1.0.0/mitdbdir/samples/1150055.xws’\n",
            "\n",
            "physionet.org/files 100%[===================>]      91  --.-KB/s    in 0s      \n",
            "\n",
            "2023-10-12 10:33:15 (58.1 MB/s) - ‘physionet.org/files/mitdb/1.0.0/mitdbdir/samples/1150055.xws’ saved [91/91]\n",
            "\n",
            "--2023-10-12 10:33:15--  https://physionet.org/files/mitdb/1.0.0/mitdbdir/samples/1150322.xws\n",
            "Reusing existing connection to physionet.org:443.\n",
            "HTTP request sent, awaiting response... 200 OK\n",
            "Length: 91 [text/plain]\n",
            "Saving to: ‘physionet.org/files/mitdb/1.0.0/mitdbdir/samples/1150322.xws’\n",
            "\n",
            "physionet.org/files 100%[===================>]      91  --.-KB/s    in 0s      \n",
            "\n",
            "2023-10-12 10:33:15 (75.0 MB/s) - ‘physionet.org/files/mitdb/1.0.0/mitdbdir/samples/1150322.xws’ saved [91/91]\n",
            "\n",
            "--2023-10-12 10:33:15--  https://physionet.org/files/mitdb/1.0.0/mitdbdir/samples/1151552.xws\n",
            "Reusing existing connection to physionet.org:443.\n",
            "HTTP request sent, awaiting response... 200 OK\n",
            "Length: 92 [text/plain]\n",
            "Saving to: ‘physionet.org/files/mitdb/1.0.0/mitdbdir/samples/1151552.xws’\n",
            "\n",
            "physionet.org/files 100%[===================>]      92  --.-KB/s    in 0s      \n",
            "\n",
            "2023-10-12 10:33:16 (75.9 MB/s) - ‘physionet.org/files/mitdb/1.0.0/mitdbdir/samples/1151552.xws’ saved [92/92]\n",
            "\n",
            "--2023-10-12 10:33:16--  https://physionet.org/files/mitdb/1.0.0/mitdbdir/samples/1152128.xws\n",
            "Reusing existing connection to physionet.org:443.\n",
            "HTTP request sent, awaiting response... 200 OK\n",
            "Length: 92 [text/plain]\n",
            "Saving to: ‘physionet.org/files/mitdb/1.0.0/mitdbdir/samples/1152128.xws’\n",
            "\n",
            "physionet.org/files 100%[===================>]      92  --.-KB/s    in 0s      \n",
            "\n",
            "2023-10-12 10:33:16 (55.7 MB/s) - ‘physionet.org/files/mitdb/1.0.0/mitdbdir/samples/1152128.xws’ saved [92/92]\n",
            "\n",
            "--2023-10-12 10:33:16--  https://physionet.org/files/mitdb/1.0.0/mitdbdir/samples/1152705.xws\n",
            "Reusing existing connection to physionet.org:443.\n",
            "HTTP request sent, awaiting response... 200 OK\n",
            "Length: 92 [text/plain]\n",
            "Saving to: ‘physionet.org/files/mitdb/1.0.0/mitdbdir/samples/1152705.xws’\n",
            "\n",
            "physionet.org/files 100%[===================>]      92  --.-KB/s    in 0s      \n",
            "\n",
            "2023-10-12 10:33:16 (57.7 MB/s) - ‘physionet.org/files/mitdb/1.0.0/mitdbdir/samples/1152705.xws’ saved [92/92]\n",
            "\n",
            "--2023-10-12 10:33:16--  https://physionet.org/files/mitdb/1.0.0/mitdbdir/samples/1152842.xws\n",
            "Reusing existing connection to physionet.org:443.\n",
            "HTTP request sent, awaiting response... 200 OK\n",
            "Length: 92 [text/plain]\n",
            "Saving to: ‘physionet.org/files/mitdb/1.0.0/mitdbdir/samples/1152842.xws’\n",
            "\n",
            "physionet.org/files 100%[===================>]      92  --.-KB/s    in 0s      \n",
            "\n",
            "2023-10-12 10:33:16 (77.6 MB/s) - ‘physionet.org/files/mitdb/1.0.0/mitdbdir/samples/1152842.xws’ saved [92/92]\n",
            "\n",
            "--2023-10-12 10:33:16--  https://physionet.org/files/mitdb/1.0.0/mitdbdir/samples/1160044.xws\n",
            "Reusing existing connection to physionet.org:443.\n",
            "HTTP request sent, awaiting response... 200 OK\n",
            "Length: 91 [text/plain]\n",
            "Saving to: ‘physionet.org/files/mitdb/1.0.0/mitdbdir/samples/1160044.xws’\n",
            "\n",
            "physionet.org/files 100%[===================>]      91  --.-KB/s    in 0s      \n",
            "\n",
            "2023-10-12 10:33:16 (7.15 MB/s) - ‘physionet.org/files/mitdb/1.0.0/mitdbdir/samples/1160044.xws’ saved [91/91]\n",
            "\n",
            "--2023-10-12 10:33:16--  https://physionet.org/files/mitdb/1.0.0/mitdbdir/samples/1160131.xws\n",
            "Reusing existing connection to physionet.org:443.\n",
            "HTTP request sent, awaiting response... 200 OK\n",
            "Length: 91 [text/plain]\n",
            "Saving to: ‘physionet.org/files/mitdb/1.0.0/mitdbdir/samples/1160131.xws’\n",
            "\n",
            "physionet.org/files 100%[===================>]      91  --.-KB/s    in 0s      \n",
            "\n",
            "2023-10-12 10:33:16 (72.8 MB/s) - ‘physionet.org/files/mitdb/1.0.0/mitdbdir/samples/1160131.xws’ saved [91/91]\n",
            "\n",
            "--2023-10-12 10:33:16--  https://physionet.org/files/mitdb/1.0.0/mitdbdir/samples/1161000.xws\n",
            "Reusing existing connection to physionet.org:443.\n",
            "HTTP request sent, awaiting response... 200 OK\n",
            "Length: 92 [text/plain]\n",
            "Saving to: ‘physionet.org/files/mitdb/1.0.0/mitdbdir/samples/1161000.xws’\n",
            "\n",
            "physionet.org/files 100%[===================>]      92  --.-KB/s    in 0s      \n",
            "\n",
            "2023-10-12 10:33:16 (74.9 MB/s) - ‘physionet.org/files/mitdb/1.0.0/mitdbdir/samples/1161000.xws’ saved [92/92]\n",
            "\n",
            "--2023-10-12 10:33:16--  https://physionet.org/files/mitdb/1.0.0/mitdbdir/samples/1161232.xws\n",
            "Connecting to physionet.org (physionet.org)|18.18.42.54|:443... connected.\n",
            "HTTP request sent, awaiting response... 200 OK\n",
            "Length: 92 [text/plain]\n",
            "Saving to: ‘physionet.org/files/mitdb/1.0.0/mitdbdir/samples/1161232.xws’\n",
            "\n",
            "physionet.org/files 100%[===================>]      92  --.-KB/s    in 0s      \n",
            "\n",
            "2023-10-12 10:33:16 (83.2 MB/s) - ‘physionet.org/files/mitdb/1.0.0/mitdbdir/samples/1161232.xws’ saved [92/92]\n",
            "\n",
            "--2023-10-12 10:33:16--  https://physionet.org/files/mitdb/1.0.0/mitdbdir/samples/1161637.xws\n",
            "Reusing existing connection to physionet.org:443.\n",
            "HTTP request sent, awaiting response... 200 OK\n",
            "Length: 92 [text/plain]\n",
            "Saving to: ‘physionet.org/files/mitdb/1.0.0/mitdbdir/samples/1161637.xws’\n",
            "\n",
            "physionet.org/files 100%[===================>]      92  --.-KB/s    in 0s      \n",
            "\n",
            "2023-10-12 10:33:17 (54.6 MB/s) - ‘physionet.org/files/mitdb/1.0.0/mitdbdir/samples/1161637.xws’ saved [92/92]\n",
            "\n",
            "--2023-10-12 10:33:17--  https://physionet.org/files/mitdb/1.0.0/mitdbdir/samples/1162308.xws\n",
            "Reusing existing connection to physionet.org:443.\n",
            "HTTP request sent, awaiting response... 200 OK\n",
            "Length: 92 [text/plain]\n",
            "Saving to: ‘physionet.org/files/mitdb/1.0.0/mitdbdir/samples/1162308.xws’\n",
            "\n",
            "physionet.org/files 100%[===================>]      92  --.-KB/s    in 0s      \n",
            "\n",
            "2023-10-12 10:33:17 (66.8 MB/s) - ‘physionet.org/files/mitdb/1.0.0/mitdbdir/samples/1162308.xws’ saved [92/92]\n",
            "\n",
            "--2023-10-12 10:33:17--  https://physionet.org/files/mitdb/1.0.0/mitdbdir/samples/1162547.xws\n",
            "Reusing existing connection to physionet.org:443.\n",
            "HTTP request sent, awaiting response... 200 OK\n",
            "Length: 92 [text/plain]\n",
            "Saving to: ‘physionet.org/files/mitdb/1.0.0/mitdbdir/samples/1162547.xws’\n",
            "\n",
            "physionet.org/files 100%[===================>]      92  --.-KB/s    in 0s      \n",
            "\n",
            "2023-10-12 10:33:17 (62.6 MB/s) - ‘physionet.org/files/mitdb/1.0.0/mitdbdir/samples/1162547.xws’ saved [92/92]\n",
            "\n",
            "--2023-10-12 10:33:17--  https://physionet.org/files/mitdb/1.0.0/mitdbdir/samples/1170356.xws\n",
            "Reusing existing connection to physionet.org:443.\n",
            "HTTP request sent, awaiting response... 200 OK\n",
            "Length: 91 [text/plain]\n",
            "Saving to: ‘physionet.org/files/mitdb/1.0.0/mitdbdir/samples/1170356.xws’\n",
            "\n",
            "physionet.org/files 100%[===================>]      91  --.-KB/s    in 0s      \n",
            "\n",
            "2023-10-12 10:33:17 (54.2 MB/s) - ‘physionet.org/files/mitdb/1.0.0/mitdbdir/samples/1170356.xws’ saved [91/91]\n",
            "\n",
            "--2023-10-12 10:33:17--  https://physionet.org/files/mitdb/1.0.0/mitdbdir/samples/1171158.xws\n",
            "Reusing existing connection to physionet.org:443.\n",
            "HTTP request sent, awaiting response... 200 OK\n",
            "Length: 92 [text/plain]\n",
            "Saving to: ‘physionet.org/files/mitdb/1.0.0/mitdbdir/samples/1171158.xws’\n",
            "\n",
            "physionet.org/files 100%[===================>]      92  --.-KB/s    in 0s      \n",
            "\n",
            "2023-10-12 10:33:17 (67.6 MB/s) - ‘physionet.org/files/mitdb/1.0.0/mitdbdir/samples/1171158.xws’ saved [92/92]\n",
            "\n",
            "--2023-10-12 10:33:17--  https://physionet.org/files/mitdb/1.0.0/mitdbdir/samples/1172227.xws\n",
            "Reusing existing connection to physionet.org:443.\n",
            "HTTP request sent, awaiting response... 200 OK\n",
            "Length: 92 [text/plain]\n",
            "Saving to: ‘physionet.org/files/mitdb/1.0.0/mitdbdir/samples/1172227.xws’\n",
            "\n",
            "physionet.org/files 100%[===================>]      92  --.-KB/s    in 0s      \n",
            "\n",
            "2023-10-12 10:33:17 (66.1 MB/s) - ‘physionet.org/files/mitdb/1.0.0/mitdbdir/samples/1172227.xws’ saved [92/92]\n",
            "\n",
            "--2023-10-12 10:33:17--  https://physionet.org/files/mitdb/1.0.0/mitdbdir/samples/1180339.xws\n",
            "Reusing existing connection to physionet.org:443.\n",
            "HTTP request sent, awaiting response... 200 OK\n",
            "Length: 91 [text/plain]\n",
            "Saving to: ‘physionet.org/files/mitdb/1.0.0/mitdbdir/samples/1180339.xws’\n",
            "\n",
            "physionet.org/files 100%[===================>]      91  --.-KB/s    in 0s      \n",
            "\n",
            "2023-10-12 10:33:17 (38.2 MB/s) - ‘physionet.org/files/mitdb/1.0.0/mitdbdir/samples/1180339.xws’ saved [91/91]\n",
            "\n",
            "--2023-10-12 10:33:17--  https://physionet.org/files/mitdb/1.0.0/mitdbdir/samples/1180831.xws\n",
            "Reusing existing connection to physionet.org:443.\n",
            "HTTP request sent, awaiting response... 200 OK\n",
            "Length: 91 [text/plain]\n",
            "Saving to: ‘physionet.org/files/mitdb/1.0.0/mitdbdir/samples/1180831.xws’\n",
            "\n",
            "physionet.org/files 100%[===================>]      91  --.-KB/s    in 0s      \n",
            "\n",
            "2023-10-12 10:33:17 (94.6 MB/s) - ‘physionet.org/files/mitdb/1.0.0/mitdbdir/samples/1180831.xws’ saved [91/91]\n",
            "\n",
            "--2023-10-12 10:33:17--  https://physionet.org/files/mitdb/1.0.0/mitdbdir/samples/1180923.xws\n",
            "Reusing existing connection to physionet.org:443.\n",
            "HTTP request sent, awaiting response... 200 OK\n",
            "Length: 91 [text/plain]\n",
            "Saving to: ‘physionet.org/files/mitdb/1.0.0/mitdbdir/samples/1180923.xws’\n",
            "\n",
            "physionet.org/files 100%[===================>]      91  --.-KB/s    in 0s      \n",
            "\n",
            "2023-10-12 10:33:17 (61.6 MB/s) - ‘physionet.org/files/mitdb/1.0.0/mitdbdir/samples/1180923.xws’ saved [91/91]\n",
            "\n",
            "--2023-10-12 10:33:17--  https://physionet.org/files/mitdb/1.0.0/mitdbdir/samples/1181347.xws\n",
            "Reusing existing connection to physionet.org:443.\n",
            "HTTP request sent, awaiting response... 200 OK\n",
            "Length: 92 [text/plain]\n",
            "Saving to: ‘physionet.org/files/mitdb/1.0.0/mitdbdir/samples/1181347.xws’\n",
            "\n",
            "physionet.org/files 100%[===================>]      92  --.-KB/s    in 0s      \n",
            "\n",
            "2023-10-12 10:33:17 (56.0 MB/s) - ‘physionet.org/files/mitdb/1.0.0/mitdbdir/samples/1181347.xws’ saved [92/92]\n",
            "\n",
            "--2023-10-12 10:33:17--  https://physionet.org/files/mitdb/1.0.0/mitdbdir/samples/1182232.xws\n",
            "Reusing existing connection to physionet.org:443.\n",
            "HTTP request sent, awaiting response... 200 OK\n",
            "Length: 92 [text/plain]\n",
            "Saving to: ‘physionet.org/files/mitdb/1.0.0/mitdbdir/samples/1182232.xws’\n",
            "\n",
            "physionet.org/files 100%[===================>]      92  --.-KB/s    in 0s      \n",
            "\n",
            "2023-10-12 10:33:17 (77.4 MB/s) - ‘physionet.org/files/mitdb/1.0.0/mitdbdir/samples/1182232.xws’ saved [92/92]\n",
            "\n",
            "--2023-10-12 10:33:17--  https://physionet.org/files/mitdb/1.0.0/mitdbdir/samples/1182325.xws\n",
            "Reusing existing connection to physionet.org:443.\n",
            "HTTP request sent, awaiting response... 200 OK\n",
            "Length: 92 [text/plain]\n",
            "Saving to: ‘physionet.org/files/mitdb/1.0.0/mitdbdir/samples/1182325.xws’\n",
            "\n",
            "physionet.org/files 100%[===================>]      92  --.-KB/s    in 0s      \n",
            "\n",
            "2023-10-12 10:33:18 (46.9 MB/s) - ‘physionet.org/files/mitdb/1.0.0/mitdbdir/samples/1182325.xws’ saved [92/92]\n",
            "\n",
            "--2023-10-12 10:33:18--  https://physionet.org/files/mitdb/1.0.0/mitdbdir/samples/1182541.xws\n",
            "Reusing existing connection to physionet.org:443.\n",
            "HTTP request sent, awaiting response... 200 OK\n",
            "Length: 92 [text/plain]\n",
            "Saving to: ‘physionet.org/files/mitdb/1.0.0/mitdbdir/samples/1182541.xws’\n",
            "\n",
            "physionet.org/files 100%[===================>]      92  --.-KB/s    in 0s      \n",
            "\n",
            "2023-10-12 10:33:18 (29.9 MB/s) - ‘physionet.org/files/mitdb/1.0.0/mitdbdir/samples/1182541.xws’ saved [92/92]\n",
            "\n",
            "--2023-10-12 10:33:18--  https://physionet.org/files/mitdb/1.0.0/mitdbdir/samples/1182623.xws\n",
            "Reusing existing connection to physionet.org:443.\n",
            "HTTP request sent, awaiting response... 200 OK\n",
            "Length: 92 [text/plain]\n",
            "Saving to: ‘physionet.org/files/mitdb/1.0.0/mitdbdir/samples/1182623.xws’\n",
            "\n",
            "physionet.org/files 100%[===================>]      92  --.-KB/s    in 0s      \n",
            "\n",
            "2023-10-12 10:33:18 (57.1 MB/s) - ‘physionet.org/files/mitdb/1.0.0/mitdbdir/samples/1182623.xws’ saved [92/92]\n",
            "\n",
            "--2023-10-12 10:33:18--  https://physionet.org/files/mitdb/1.0.0/mitdbdir/samples/1182648.xws\n",
            "Reusing existing connection to physionet.org:443.\n",
            "HTTP request sent, awaiting response... 200 OK\n",
            "Length: 92 [text/plain]\n",
            "Saving to: ‘physionet.org/files/mitdb/1.0.0/mitdbdir/samples/1182648.xws’\n",
            "\n",
            "physionet.org/files 100%[===================>]      92  --.-KB/s    in 0s      \n",
            "\n",
            "2023-10-12 10:33:18 (51.4 MB/s) - ‘physionet.org/files/mitdb/1.0.0/mitdbdir/samples/1182648.xws’ saved [92/92]\n",
            "\n",
            "--2023-10-12 10:33:18--  https://physionet.org/files/mitdb/1.0.0/mitdbdir/samples/1182858.xws\n",
            "Reusing existing connection to physionet.org:443.\n",
            "HTTP request sent, awaiting response... 200 OK\n",
            "Length: 92 [text/plain]\n",
            "Saving to: ‘physionet.org/files/mitdb/1.0.0/mitdbdir/samples/1182858.xws’\n",
            "\n",
            "physionet.org/files 100%[===================>]      92  --.-KB/s    in 0s      \n",
            "\n",
            "2023-10-12 10:33:18 (50.2 MB/s) - ‘physionet.org/files/mitdb/1.0.0/mitdbdir/samples/1182858.xws’ saved [92/92]\n",
            "\n",
            "--2023-10-12 10:33:18--  https://physionet.org/files/mitdb/1.0.0/mitdbdir/samples/1182953.xws\n",
            "Reusing existing connection to physionet.org:443.\n",
            "HTTP request sent, awaiting response... 200 OK\n",
            "Length: 92 [text/plain]\n",
            "Saving to: ‘physionet.org/files/mitdb/1.0.0/mitdbdir/samples/1182953.xws’\n",
            "\n",
            "physionet.org/files 100%[===================>]      92  --.-KB/s    in 0s      \n",
            "\n",
            "2023-10-12 10:33:18 (30.3 MB/s) - ‘physionet.org/files/mitdb/1.0.0/mitdbdir/samples/1182953.xws’ saved [92/92]\n",
            "\n",
            "--2023-10-12 10:33:18--  https://physionet.org/files/mitdb/1.0.0/mitdbdir/samples/1190155.xws\n",
            "Reusing existing connection to physionet.org:443.\n",
            "HTTP request sent, awaiting response... 200 OK\n",
            "Length: 91 [text/plain]\n",
            "Saving to: ‘physionet.org/files/mitdb/1.0.0/mitdbdir/samples/1190155.xws’\n",
            "\n",
            "physionet.org/files 100%[===================>]      91  --.-KB/s    in 0s      \n",
            "\n",
            "2023-10-12 10:33:18 (43.9 MB/s) - ‘physionet.org/files/mitdb/1.0.0/mitdbdir/samples/1190155.xws’ saved [91/91]\n",
            "\n",
            "--2023-10-12 10:33:18--  https://physionet.org/files/mitdb/1.0.0/mitdbdir/samples/1190238.xws\n",
            "Reusing existing connection to physionet.org:443.\n",
            "HTTP request sent, awaiting response... 200 OK\n",
            "Length: 91 [text/plain]\n",
            "Saving to: ‘physionet.org/files/mitdb/1.0.0/mitdbdir/samples/1190238.xws’\n",
            "\n",
            "physionet.org/files 100%[===================>]      91  --.-KB/s    in 0s      \n",
            "\n",
            "2023-10-12 10:33:18 (50.9 MB/s) - ‘physionet.org/files/mitdb/1.0.0/mitdbdir/samples/1190238.xws’ saved [91/91]\n",
            "\n",
            "--2023-10-12 10:33:18--  https://physionet.org/files/mitdb/1.0.0/mitdbdir/samples/1190451.xws\n",
            "Reusing existing connection to physionet.org:443.\n",
            "HTTP request sent, awaiting response... 200 OK\n",
            "Length: 91 [text/plain]\n",
            "Saving to: ‘physionet.org/files/mitdb/1.0.0/mitdbdir/samples/1190451.xws’\n",
            "\n",
            "physionet.org/files 100%[===================>]      91  --.-KB/s    in 0s      \n",
            "\n",
            "2023-10-12 10:33:18 (53.1 MB/s) - ‘physionet.org/files/mitdb/1.0.0/mitdbdir/samples/1190451.xws’ saved [91/91]\n",
            "\n",
            "--2023-10-12 10:33:18--  https://physionet.org/files/mitdb/1.0.0/mitdbdir/samples/1190842.xws\n",
            "Reusing existing connection to physionet.org:443.\n",
            "HTTP request sent, awaiting response... 200 OK\n",
            "Length: 91 [text/plain]\n",
            "Saving to: ‘physionet.org/files/mitdb/1.0.0/mitdbdir/samples/1190842.xws’\n",
            "\n",
            "physionet.org/files 100%[===================>]      91  --.-KB/s    in 0s      \n",
            "\n",
            "2023-10-12 10:33:18 (34.3 MB/s) - ‘physionet.org/files/mitdb/1.0.0/mitdbdir/samples/1190842.xws’ saved [91/91]\n",
            "\n",
            "--2023-10-12 10:33:18--  https://physionet.org/files/mitdb/1.0.0/mitdbdir/samples/1192005.xws\n",
            "Reusing existing connection to physionet.org:443.\n",
            "HTTP request sent, awaiting response... 200 OK\n",
            "Length: 92 [text/plain]\n",
            "Saving to: ‘physionet.org/files/mitdb/1.0.0/mitdbdir/samples/1192005.xws’\n",
            "\n",
            "physionet.org/files 100%[===================>]      92  --.-KB/s    in 0s      \n",
            "\n",
            "2023-10-12 10:33:19 (55.5 MB/s) - ‘physionet.org/files/mitdb/1.0.0/mitdbdir/samples/1192005.xws’ saved [92/92]\n",
            "\n",
            "--2023-10-12 10:33:19--  https://physionet.org/files/mitdb/1.0.0/mitdbdir/samples/1192533.xws\n",
            "Reusing existing connection to physionet.org:443.\n",
            "HTTP request sent, awaiting response... 200 OK\n",
            "Length: 92 [text/plain]\n",
            "Saving to: ‘physionet.org/files/mitdb/1.0.0/mitdbdir/samples/1192533.xws’\n",
            "\n",
            "physionet.org/files 100%[===================>]      92  --.-KB/s    in 0s      \n",
            "\n",
            "2023-10-12 10:33:19 (40.3 MB/s) - ‘physionet.org/files/mitdb/1.0.0/mitdbdir/samples/1192533.xws’ saved [92/92]\n",
            "\n",
            "--2023-10-12 10:33:19--  https://physionet.org/files/mitdb/1.0.0/mitdbdir/samples/1210106.xws\n",
            "Reusing existing connection to physionet.org:443.\n",
            "HTTP request sent, awaiting response... 200 OK\n",
            "Length: 91 [text/plain]\n",
            "Saving to: ‘physionet.org/files/mitdb/1.0.0/mitdbdir/samples/1210106.xws’\n",
            "\n",
            "physionet.org/files 100%[===================>]      91  --.-KB/s    in 0s      \n",
            "\n",
            "2023-10-12 10:33:19 (33.9 MB/s) - ‘physionet.org/files/mitdb/1.0.0/mitdbdir/samples/1210106.xws’ saved [91/91]\n",
            "\n",
            "--2023-10-12 10:33:19--  https://physionet.org/files/mitdb/1.0.0/mitdbdir/samples/1210333.xws\n",
            "Reusing existing connection to physionet.org:443.\n",
            "HTTP request sent, awaiting response... 200 OK\n",
            "Length: 91 [text/plain]\n",
            "Saving to: ‘physionet.org/files/mitdb/1.0.0/mitdbdir/samples/1210333.xws’\n",
            "\n",
            "physionet.org/files 100%[===================>]      91  --.-KB/s    in 0s      \n",
            "\n",
            "2023-10-12 10:33:19 (36.7 MB/s) - ‘physionet.org/files/mitdb/1.0.0/mitdbdir/samples/1210333.xws’ saved [91/91]\n",
            "\n",
            "--2023-10-12 10:33:19--  https://physionet.org/files/mitdb/1.0.0/mitdbdir/samples/1211648.xws\n",
            "Reusing existing connection to physionet.org:443.\n",
            "HTTP request sent, awaiting response... 200 OK\n",
            "Length: 92 [text/plain]\n",
            "Saving to: ‘physionet.org/files/mitdb/1.0.0/mitdbdir/samples/1211648.xws’\n",
            "\n",
            "physionet.org/files 100%[===================>]      92  --.-KB/s    in 0s      \n",
            "\n",
            "2023-10-12 10:33:19 (51.4 MB/s) - ‘physionet.org/files/mitdb/1.0.0/mitdbdir/samples/1211648.xws’ saved [92/92]\n",
            "\n",
            "--2023-10-12 10:33:19--  https://physionet.org/files/mitdb/1.0.0/mitdbdir/samples/1212432.xws\n",
            "Reusing existing connection to physionet.org:443.\n",
            "HTTP request sent, awaiting response... 200 OK\n",
            "Length: 92 [text/plain]\n",
            "Saving to: ‘physionet.org/files/mitdb/1.0.0/mitdbdir/samples/1212432.xws’\n",
            "\n",
            "physionet.org/files 100%[===================>]      92  --.-KB/s    in 0s      \n",
            "\n",
            "2023-10-12 10:33:19 (50.1 MB/s) - ‘physionet.org/files/mitdb/1.0.0/mitdbdir/samples/1212432.xws’ saved [92/92]\n",
            "\n",
            "--2023-10-12 10:33:19--  https://physionet.org/files/mitdb/1.0.0/mitdbdir/samples/1212601.xws\n",
            "Reusing existing connection to physionet.org:443.\n",
            "HTTP request sent, awaiting response... 200 OK\n",
            "Length: 92 [text/plain]\n",
            "Saving to: ‘physionet.org/files/mitdb/1.0.0/mitdbdir/samples/1212601.xws’\n",
            "\n",
            "physionet.org/files 100%[===================>]      92  --.-KB/s    in 0s      \n",
            "\n",
            "2023-10-12 10:33:19 (65.8 MB/s) - ‘physionet.org/files/mitdb/1.0.0/mitdbdir/samples/1212601.xws’ saved [92/92]\n",
            "\n",
            "--2023-10-12 10:33:19--  https://physionet.org/files/mitdb/1.0.0/mitdbdir/samples/1220109.xws\n",
            "Reusing existing connection to physionet.org:443.\n",
            "HTTP request sent, awaiting response... 200 OK\n",
            "Length: 91 [text/plain]\n",
            "Saving to: ‘physionet.org/files/mitdb/1.0.0/mitdbdir/samples/1220109.xws’\n",
            "\n",
            "physionet.org/files 100%[===================>]      91  --.-KB/s    in 0s      \n",
            "\n",
            "2023-10-12 10:33:19 (44.9 MB/s) - ‘physionet.org/files/mitdb/1.0.0/mitdbdir/samples/1220109.xws’ saved [91/91]\n",
            "\n",
            "--2023-10-12 10:33:19--  https://physionet.org/files/mitdb/1.0.0/mitdbdir/samples/1221347.xws\n",
            "Reusing existing connection to physionet.org:443.\n",
            "HTTP request sent, awaiting response... 200 OK\n",
            "Length: 92 [text/plain]\n",
            "Saving to: ‘physionet.org/files/mitdb/1.0.0/mitdbdir/samples/1221347.xws’\n",
            "\n",
            "physionet.org/files 100%[===================>]      92  --.-KB/s    in 0s      \n",
            "\n",
            "2023-10-12 10:33:19 (41.9 MB/s) - ‘physionet.org/files/mitdb/1.0.0/mitdbdir/samples/1221347.xws’ saved [92/92]\n",
            "\n",
            "--2023-10-12 10:33:19--  https://physionet.org/files/mitdb/1.0.0/mitdbdir/samples/1222825.xws\n",
            "Reusing existing connection to physionet.org:443.\n",
            "HTTP request sent, awaiting response... 200 OK\n",
            "Length: 92 [text/plain]\n",
            "Saving to: ‘physionet.org/files/mitdb/1.0.0/mitdbdir/samples/1222825.xws’\n",
            "\n",
            "physionet.org/files 100%[===================>]      92  --.-KB/s    in 0s      \n",
            "\n",
            "2023-10-12 10:33:19 (65.5 MB/s) - ‘physionet.org/files/mitdb/1.0.0/mitdbdir/samples/1222825.xws’ saved [92/92]\n",
            "\n",
            "--2023-10-12 10:33:19--  https://physionet.org/files/mitdb/1.0.0/mitdbdir/samples/1232210.xws\n",
            "Reusing existing connection to physionet.org:443.\n",
            "HTTP request sent, awaiting response... 200 OK\n",
            "Length: 92 [text/plain]\n",
            "Saving to: ‘physionet.org/files/mitdb/1.0.0/mitdbdir/samples/1232210.xws’\n",
            "\n",
            "physionet.org/files 100%[===================>]      92  --.-KB/s    in 0s      \n",
            "\n",
            "2023-10-12 10:33:19 (28.1 MB/s) - ‘physionet.org/files/mitdb/1.0.0/mitdbdir/samples/1232210.xws’ saved [92/92]\n",
            "\n",
            "--2023-10-12 10:33:19--  https://physionet.org/files/mitdb/1.0.0/mitdbdir/samples/1232511.xws\n",
            "Reusing existing connection to physionet.org:443.\n",
            "HTTP request sent, awaiting response... 200 OK\n",
            "Length: 92 [text/plain]\n",
            "Saving to: ‘physionet.org/files/mitdb/1.0.0/mitdbdir/samples/1232511.xws’\n",
            "\n",
            "physionet.org/files 100%[===================>]      92  --.-KB/s    in 0s      \n",
            "\n",
            "2023-10-12 10:33:20 (54.8 MB/s) - ‘physionet.org/files/mitdb/1.0.0/mitdbdir/samples/1232511.xws’ saved [92/92]\n",
            "\n",
            "--2023-10-12 10:33:20--  https://physionet.org/files/mitdb/1.0.0/mitdbdir/samples/1232741.xws\n",
            "Reusing existing connection to physionet.org:443.\n",
            "HTTP request sent, awaiting response... 200 OK\n",
            "Length: 92 [text/plain]\n",
            "Saving to: ‘physionet.org/files/mitdb/1.0.0/mitdbdir/samples/1232741.xws’\n",
            "\n",
            "physionet.org/files 100%[===================>]      92  --.-KB/s    in 0s      \n",
            "\n",
            "2023-10-12 10:33:20 (48.3 MB/s) - ‘physionet.org/files/mitdb/1.0.0/mitdbdir/samples/1232741.xws’ saved [92/92]\n",
            "\n",
            "--2023-10-12 10:33:20--  https://physionet.org/files/mitdb/1.0.0/mitdbdir/samples/1232836.xws\n",
            "Reusing existing connection to physionet.org:443.\n",
            "HTTP request sent, awaiting response... 200 OK\n",
            "Length: 92 [text/plain]\n",
            "Saving to: ‘physionet.org/files/mitdb/1.0.0/mitdbdir/samples/1232836.xws’\n",
            "\n",
            "physionet.org/files 100%[===================>]      92  --.-KB/s    in 0s      \n",
            "\n",
            "2023-10-12 10:33:20 (40.4 MB/s) - ‘physionet.org/files/mitdb/1.0.0/mitdbdir/samples/1232836.xws’ saved [92/92]\n",
            "\n",
            "--2023-10-12 10:33:20--  https://physionet.org/files/mitdb/1.0.0/mitdbdir/samples/1240443.xws\n",
            "Reusing existing connection to physionet.org:443.\n",
            "HTTP request sent, awaiting response... 200 OK\n",
            "Length: 91 [text/plain]\n",
            "Saving to: ‘physionet.org/files/mitdb/1.0.0/mitdbdir/samples/1240443.xws’\n",
            "\n",
            "physionet.org/files 100%[===================>]      91  --.-KB/s    in 0s      \n",
            "\n",
            "2023-10-12 10:33:20 (34.0 MB/s) - ‘physionet.org/files/mitdb/1.0.0/mitdbdir/samples/1240443.xws’ saved [91/91]\n",
            "\n",
            "--2023-10-12 10:33:20--  https://physionet.org/files/mitdb/1.0.0/mitdbdir/samples/1240509.xws\n",
            "Reusing existing connection to physionet.org:443.\n",
            "HTTP request sent, awaiting response... 200 OK\n",
            "Length: 91 [text/plain]\n",
            "Saving to: ‘physionet.org/files/mitdb/1.0.0/mitdbdir/samples/1240509.xws’\n",
            "\n",
            "physionet.org/files 100%[===================>]      91  --.-KB/s    in 0s      \n",
            "\n",
            "2023-10-12 10:33:20 (44.7 MB/s) - ‘physionet.org/files/mitdb/1.0.0/mitdbdir/samples/1240509.xws’ saved [91/91]\n",
            "\n",
            "--2023-10-12 10:33:20--  https://physionet.org/files/mitdb/1.0.0/mitdbdir/samples/1240521.xws\n",
            "Reusing existing connection to physionet.org:443.\n",
            "HTTP request sent, awaiting response... 200 OK\n",
            "Length: 91 [text/plain]\n",
            "Saving to: ‘physionet.org/files/mitdb/1.0.0/mitdbdir/samples/1240521.xws’\n",
            "\n",
            "physionet.org/files 100%[===================>]      91  --.-KB/s    in 0s      \n",
            "\n",
            "2023-10-12 10:33:20 (62.0 MB/s) - ‘physionet.org/files/mitdb/1.0.0/mitdbdir/samples/1240521.xws’ saved [91/91]\n",
            "\n",
            "--2023-10-12 10:33:20--  https://physionet.org/files/mitdb/1.0.0/mitdbdir/samples/1240905.xws\n",
            "Reusing existing connection to physionet.org:443.\n",
            "HTTP request sent, awaiting response... 200 OK\n",
            "Length: 91 [text/plain]\n",
            "Saving to: ‘physionet.org/files/mitdb/1.0.0/mitdbdir/samples/1240905.xws’\n",
            "\n",
            "physionet.org/files 100%[===================>]      91  --.-KB/s    in 0s      \n",
            "\n",
            "2023-10-12 10:33:20 (52.9 MB/s) - ‘physionet.org/files/mitdb/1.0.0/mitdbdir/samples/1240905.xws’ saved [91/91]\n",
            "\n",
            "--2023-10-12 10:33:20--  https://physionet.org/files/mitdb/1.0.0/mitdbdir/samples/1241027.xws\n",
            "Reusing existing connection to physionet.org:443.\n",
            "HTTP request sent, awaiting response... 200 OK\n",
            "Length: 92 [text/plain]\n",
            "Saving to: ‘physionet.org/files/mitdb/1.0.0/mitdbdir/samples/1241027.xws’\n",
            "\n",
            "physionet.org/files 100%[===================>]      92  --.-KB/s    in 0s      \n",
            "\n",
            "2023-10-12 10:33:20 (35.8 MB/s) - ‘physionet.org/files/mitdb/1.0.0/mitdbdir/samples/1241027.xws’ saved [92/92]\n",
            "\n",
            "--2023-10-12 10:33:20--  https://physionet.org/files/mitdb/1.0.0/mitdbdir/samples/1241738.xws\n",
            "Reusing existing connection to physionet.org:443.\n",
            "HTTP request sent, awaiting response... 200 OK\n",
            "Length: 92 [text/plain]\n",
            "Saving to: ‘physionet.org/files/mitdb/1.0.0/mitdbdir/samples/1241738.xws’\n",
            "\n",
            "physionet.org/files 100%[===================>]      92  --.-KB/s    in 0s      \n",
            "\n",
            "2023-10-12 10:33:20 (38.4 MB/s) - ‘physionet.org/files/mitdb/1.0.0/mitdbdir/samples/1241738.xws’ saved [92/92]\n",
            "\n",
            "--2023-10-12 10:33:20--  https://physionet.org/files/mitdb/1.0.0/mitdbdir/samples/1242013.xws\n",
            "Reusing existing connection to physionet.org:443.\n",
            "HTTP request sent, awaiting response... 200 OK\n",
            "Length: 92 [text/plain]\n",
            "Saving to: ‘physionet.org/files/mitdb/1.0.0/mitdbdir/samples/1242013.xws’\n",
            "\n",
            "physionet.org/files 100%[===================>]      92  --.-KB/s    in 0s      \n",
            "\n",
            "2023-10-12 10:33:20 (30.5 MB/s) - ‘physionet.org/files/mitdb/1.0.0/mitdbdir/samples/1242013.xws’ saved [92/92]\n",
            "\n",
            "--2023-10-12 10:33:20--  https://physionet.org/files/mitdb/1.0.0/mitdbdir/samples/1242322.xws\n",
            "Reusing existing connection to physionet.org:443.\n",
            "HTTP request sent, awaiting response... 200 OK\n",
            "Length: 92 [text/plain]\n",
            "Saving to: ‘physionet.org/files/mitdb/1.0.0/mitdbdir/samples/1242322.xws’\n",
            "\n",
            "physionet.org/files 100%[===================>]      92  --.-KB/s    in 0s      \n",
            "\n",
            "2023-10-12 10:33:21 (28.0 MB/s) - ‘physionet.org/files/mitdb/1.0.0/mitdbdir/samples/1242322.xws’ saved [92/92]\n",
            "\n",
            "--2023-10-12 10:33:21--  https://physionet.org/files/mitdb/1.0.0/mitdbdir/samples/1242603.xws\n",
            "Reusing existing connection to physionet.org:443.\n",
            "HTTP request sent, awaiting response... 200 OK\n",
            "Length: 92 [text/plain]\n",
            "Saving to: ‘physionet.org/files/mitdb/1.0.0/mitdbdir/samples/1242603.xws’\n",
            "\n",
            "physionet.org/files 100%[===================>]      92  --.-KB/s    in 0s      \n",
            "\n",
            "2023-10-12 10:33:21 (31.6 MB/s) - ‘physionet.org/files/mitdb/1.0.0/mitdbdir/samples/1242603.xws’ saved [92/92]\n",
            "\n",
            "--2023-10-12 10:33:21--  https://physionet.org/files/mitdb/1.0.0/mitdbdir/samples/1242741.xws\n",
            "Reusing existing connection to physionet.org:443.\n",
            "HTTP request sent, awaiting response... 200 OK\n",
            "Length: 92 [text/plain]\n",
            "Saving to: ‘physionet.org/files/mitdb/1.0.0/mitdbdir/samples/1242741.xws’\n",
            "\n",
            "physionet.org/files 100%[===================>]      92  --.-KB/s    in 0s      \n",
            "\n",
            "2023-10-12 10:33:21 (37.5 MB/s) - ‘physionet.org/files/mitdb/1.0.0/mitdbdir/samples/1242741.xws’ saved [92/92]\n",
            "\n",
            "--2023-10-12 10:33:21--  https://physionet.org/files/mitdb/1.0.0/mitdbdir/samples/2000142.xws\n",
            "Reusing existing connection to physionet.org:443.\n",
            "HTTP request sent, awaiting response... 200 OK\n",
            "Length: 91 [text/plain]\n",
            "Saving to: ‘physionet.org/files/mitdb/1.0.0/mitdbdir/samples/2000142.xws’\n",
            "\n",
            "physionet.org/files 100%[===================>]      91  --.-KB/s    in 0s      \n",
            "\n",
            "2023-10-12 10:33:21 (25.0 MB/s) - ‘physionet.org/files/mitdb/1.0.0/mitdbdir/samples/2000142.xws’ saved [91/91]\n",
            "\n",
            "--2023-10-12 10:33:21--  https://physionet.org/files/mitdb/1.0.0/mitdbdir/samples/2000538.xws\n",
            "Reusing existing connection to physionet.org:443.\n",
            "HTTP request sent, awaiting response... 200 OK\n",
            "Length: 91 [text/plain]\n",
            "Saving to: ‘physionet.org/files/mitdb/1.0.0/mitdbdir/samples/2000538.xws’\n",
            "\n",
            "physionet.org/files 100%[===================>]      91  --.-KB/s    in 0s      \n",
            "\n",
            "2023-10-12 10:33:21 (45.7 MB/s) - ‘physionet.org/files/mitdb/1.0.0/mitdbdir/samples/2000538.xws’ saved [91/91]\n",
            "\n",
            "--2023-10-12 10:33:21--  https://physionet.org/files/mitdb/1.0.0/mitdbdir/samples/2001814.xws\n",
            "Reusing existing connection to physionet.org:443.\n",
            "HTTP request sent, awaiting response... 200 OK\n",
            "Length: 92 [text/plain]\n",
            "Saving to: ‘physionet.org/files/mitdb/1.0.0/mitdbdir/samples/2001814.xws’\n",
            "\n",
            "physionet.org/files 100%[===================>]      92  --.-KB/s    in 0s      \n",
            "\n",
            "2023-10-12 10:33:21 (41.8 MB/s) - ‘physionet.org/files/mitdb/1.0.0/mitdbdir/samples/2001814.xws’ saved [92/92]\n",
            "\n",
            "--2023-10-12 10:33:21--  https://physionet.org/files/mitdb/1.0.0/mitdbdir/samples/2002052.xws\n",
            "Reusing existing connection to physionet.org:443.\n",
            "HTTP request sent, awaiting response... 200 OK\n",
            "Length: 92 [text/plain]\n",
            "Saving to: ‘physionet.org/files/mitdb/1.0.0/mitdbdir/samples/2002052.xws’\n",
            "\n",
            "physionet.org/files 100%[===================>]      92  --.-KB/s    in 0s      \n",
            "\n",
            "2023-10-12 10:33:21 (32.1 MB/s) - ‘physionet.org/files/mitdb/1.0.0/mitdbdir/samples/2002052.xws’ saved [92/92]\n",
            "\n",
            "--2023-10-12 10:33:21--  https://physionet.org/files/mitdb/1.0.0/mitdbdir/samples/2002449.xws\n",
            "Reusing existing connection to physionet.org:443.\n",
            "HTTP request sent, awaiting response... 200 OK\n",
            "Length: 92 [text/plain]\n",
            "Saving to: ‘physionet.org/files/mitdb/1.0.0/mitdbdir/samples/2002449.xws’\n",
            "\n",
            "physionet.org/files 100%[===================>]      92  --.-KB/s    in 0s      \n",
            "\n",
            "2023-10-12 10:33:21 (31.8 MB/s) - ‘physionet.org/files/mitdb/1.0.0/mitdbdir/samples/2002449.xws’ saved [92/92]\n",
            "\n",
            "--2023-10-12 10:33:21--  https://physionet.org/files/mitdb/1.0.0/mitdbdir/samples/2002612.xws\n",
            "Reusing existing connection to physionet.org:443.\n",
            "HTTP request sent, awaiting response... 200 OK\n",
            "Length: 92 [text/plain]\n",
            "Saving to: ‘physionet.org/files/mitdb/1.0.0/mitdbdir/samples/2002612.xws’\n",
            "\n",
            "physionet.org/files 100%[===================>]      92  --.-KB/s    in 0s      \n",
            "\n",
            "2023-10-12 10:33:21 (38.7 MB/s) - ‘physionet.org/files/mitdb/1.0.0/mitdbdir/samples/2002612.xws’ saved [92/92]\n",
            "\n",
            "--2023-10-12 10:33:21--  https://physionet.org/files/mitdb/1.0.0/mitdbdir/samples/2002831.xws\n",
            "Reusing existing connection to physionet.org:443.\n",
            "HTTP request sent, awaiting response... 200 OK\n",
            "Length: 92 [text/plain]\n",
            "Saving to: ‘physionet.org/files/mitdb/1.0.0/mitdbdir/samples/2002831.xws’\n",
            "\n",
            "physionet.org/files 100%[===================>]      92  --.-KB/s    in 0s      \n",
            "\n",
            "2023-10-12 10:33:21 (39.5 MB/s) - ‘physionet.org/files/mitdb/1.0.0/mitdbdir/samples/2002831.xws’ saved [92/92]\n",
            "\n",
            "--2023-10-12 10:33:21--  https://physionet.org/files/mitdb/1.0.0/mitdbdir/samples/2002901.xws\n",
            "Reusing existing connection to physionet.org:443.\n",
            "HTTP request sent, awaiting response... 200 OK\n",
            "Length: 92 [text/plain]\n",
            "Saving to: ‘physionet.org/files/mitdb/1.0.0/mitdbdir/samples/2002901.xws’\n",
            "\n",
            "physionet.org/files 100%[===================>]      92  --.-KB/s    in 0s      \n",
            "\n",
            "2023-10-12 10:33:21 (43.7 MB/s) - ‘physionet.org/files/mitdb/1.0.0/mitdbdir/samples/2002901.xws’ saved [92/92]\n",
            "\n",
            "--2023-10-12 10:33:21--  https://physionet.org/files/mitdb/1.0.0/mitdbdir/samples/2002918.xws\n",
            "Reusing existing connection to physionet.org:443.\n",
            "HTTP request sent, awaiting response... 200 OK\n",
            "Length: 92 [text/plain]\n",
            "Saving to: ‘physionet.org/files/mitdb/1.0.0/mitdbdir/samples/2002918.xws’\n",
            "\n",
            "physionet.org/files 100%[===================>]      92  --.-KB/s    in 0s      \n",
            "\n",
            "2023-10-12 10:33:22 (44.1 MB/s) - ‘physionet.org/files/mitdb/1.0.0/mitdbdir/samples/2002918.xws’ saved [92/92]\n",
            "\n",
            "--2023-10-12 10:33:22--  https://physionet.org/files/mitdb/1.0.0/mitdbdir/samples/2002951.xws\n",
            "Reusing existing connection to physionet.org:443.\n",
            "HTTP request sent, awaiting response... 200 OK\n",
            "Length: 92 [text/plain]\n",
            "Saving to: ‘physionet.org/files/mitdb/1.0.0/mitdbdir/samples/2002951.xws’\n",
            "\n",
            "physionet.org/files 100%[===================>]      92  --.-KB/s    in 0s      \n",
            "\n",
            "2023-10-12 10:33:22 (38.8 MB/s) - ‘physionet.org/files/mitdb/1.0.0/mitdbdir/samples/2002951.xws’ saved [92/92]\n",
            "\n",
            "--2023-10-12 10:33:22--  https://physionet.org/files/mitdb/1.0.0/mitdbdir/samples/2010000.xws\n",
            "Reusing existing connection to physionet.org:443.\n",
            "HTTP request sent, awaiting response... 200 OK\n",
            "Length: 91 [text/plain]\n",
            "Saving to: ‘physionet.org/files/mitdb/1.0.0/mitdbdir/samples/2010000.xws’\n",
            "\n",
            "physionet.org/files 100%[===================>]      91  --.-KB/s    in 0s      \n",
            "\n",
            "2023-10-12 10:33:22 (65.7 MB/s) - ‘physionet.org/files/mitdb/1.0.0/mitdbdir/samples/2010000.xws’ saved [91/91]\n",
            "\n",
            "--2023-10-12 10:33:22--  https://physionet.org/files/mitdb/1.0.0/mitdbdir/samples/2010615.xws\n",
            "Reusing existing connection to physionet.org:443.\n",
            "HTTP request sent, awaiting response... 200 OK\n",
            "Length: 91 [text/plain]\n",
            "Saving to: ‘physionet.org/files/mitdb/1.0.0/mitdbdir/samples/2010615.xws’\n",
            "\n",
            "physionet.org/files 100%[===================>]      91  --.-KB/s    in 0s      \n",
            "\n",
            "2023-10-12 10:33:22 (54.0 MB/s) - ‘physionet.org/files/mitdb/1.0.0/mitdbdir/samples/2010615.xws’ saved [91/91]\n",
            "\n",
            "--2023-10-12 10:33:22--  https://physionet.org/files/mitdb/1.0.0/mitdbdir/samples/2010752.xws\n",
            "Reusing existing connection to physionet.org:443.\n",
            "HTTP request sent, awaiting response... 200 OK\n",
            "Length: 91 [text/plain]\n",
            "Saving to: ‘physionet.org/files/mitdb/1.0.0/mitdbdir/samples/2010752.xws’\n",
            "\n",
            "physionet.org/files 100%[===================>]      91  --.-KB/s    in 0s      \n",
            "\n",
            "2023-10-12 10:33:22 (34.3 MB/s) - ‘physionet.org/files/mitdb/1.0.0/mitdbdir/samples/2010752.xws’ saved [91/91]\n",
            "\n",
            "--2023-10-12 10:33:22--  https://physionet.org/files/mitdb/1.0.0/mitdbdir/samples/2010853.xws\n",
            "Reusing existing connection to physionet.org:443.\n",
            "HTTP request sent, awaiting response... 200 OK\n",
            "Length: 91 [text/plain]\n",
            "Saving to: ‘physionet.org/files/mitdb/1.0.0/mitdbdir/samples/2010853.xws’\n",
            "\n",
            "physionet.org/files 100%[===================>]      91  --.-KB/s    in 0s      \n",
            "\n",
            "2023-10-12 10:33:22 (59.4 MB/s) - ‘physionet.org/files/mitdb/1.0.0/mitdbdir/samples/2010853.xws’ saved [91/91]\n",
            "\n",
            "--2023-10-12 10:33:22--  https://physionet.org/files/mitdb/1.0.0/mitdbdir/samples/2011814.xws\n",
            "Reusing existing connection to physionet.org:443.\n",
            "HTTP request sent, awaiting response... 200 OK\n",
            "Length: 92 [text/plain]\n",
            "Saving to: ‘physionet.org/files/mitdb/1.0.0/mitdbdir/samples/2011814.xws’\n",
            "\n",
            "physionet.org/files 100%[===================>]      92  --.-KB/s    in 0s      \n",
            "\n",
            "2023-10-12 10:33:22 (76.4 MB/s) - ‘physionet.org/files/mitdb/1.0.0/mitdbdir/samples/2011814.xws’ saved [92/92]\n",
            "\n",
            "--2023-10-12 10:33:22--  https://physionet.org/files/mitdb/1.0.0/mitdbdir/samples/2012016.xws\n",
            "Reusing existing connection to physionet.org:443.\n",
            "HTTP request sent, awaiting response... 200 OK\n",
            "Length: 92 [text/plain]\n",
            "Saving to: ‘physionet.org/files/mitdb/1.0.0/mitdbdir/samples/2012016.xws’\n",
            "\n",
            "physionet.org/files 100%[===================>]      92  --.-KB/s    in 0s      \n",
            "\n",
            "2023-10-12 10:33:22 (61.8 MB/s) - ‘physionet.org/files/mitdb/1.0.0/mitdbdir/samples/2012016.xws’ saved [92/92]\n",
            "\n",
            "--2023-10-12 10:33:22--  https://physionet.org/files/mitdb/1.0.0/mitdbdir/samples/2012233.xws\n",
            "Reusing existing connection to physionet.org:443.\n",
            "HTTP request sent, awaiting response... 200 OK\n",
            "Length: 92 [text/plain]\n",
            "Saving to: ‘physionet.org/files/mitdb/1.0.0/mitdbdir/samples/2012233.xws’\n",
            "\n",
            "physionet.org/files 100%[===================>]      92  --.-KB/s    in 0s      \n",
            "\n",
            "2023-10-12 10:33:22 (27.2 MB/s) - ‘physionet.org/files/mitdb/1.0.0/mitdbdir/samples/2012233.xws’ saved [92/92]\n",
            "\n",
            "--2023-10-12 10:33:22--  https://physionet.org/files/mitdb/1.0.0/mitdbdir/samples/2012350.xws\n",
            "Reusing existing connection to physionet.org:443.\n",
            "HTTP request sent, awaiting response... 200 OK\n",
            "Length: 92 [text/plain]\n",
            "Saving to: ‘physionet.org/files/mitdb/1.0.0/mitdbdir/samples/2012350.xws’\n",
            "\n",
            "physionet.org/files 100%[===================>]      92  --.-KB/s    in 0s      \n",
            "\n",
            "2023-10-12 10:33:22 (33.9 MB/s) - ‘physionet.org/files/mitdb/1.0.0/mitdbdir/samples/2012350.xws’ saved [92/92]\n",
            "\n",
            "--2023-10-12 10:33:22--  https://physionet.org/files/mitdb/1.0.0/mitdbdir/samples/2012415.xws\n",
            "Reusing existing connection to physionet.org:443.\n",
            "HTTP request sent, awaiting response... 200 OK\n",
            "Length: 92 [text/plain]\n",
            "Saving to: ‘physionet.org/files/mitdb/1.0.0/mitdbdir/samples/2012415.xws’\n",
            "\n",
            "physionet.org/files 100%[===================>]      92  --.-KB/s    in 0s      \n",
            "\n",
            "2023-10-12 10:33:23 (53.2 MB/s) - ‘physionet.org/files/mitdb/1.0.0/mitdbdir/samples/2012415.xws’ saved [92/92]\n",
            "\n",
            "--2023-10-12 10:33:23--  https://physionet.org/files/mitdb/1.0.0/mitdbdir/samples/2012519.xws\n",
            "Reusing existing connection to physionet.org:443.\n",
            "HTTP request sent, awaiting response... 200 OK\n",
            "Length: 92 [text/plain]\n",
            "Saving to: ‘physionet.org/files/mitdb/1.0.0/mitdbdir/samples/2012519.xws’\n",
            "\n",
            "physionet.org/files 100%[===================>]      92  --.-KB/s    in 0s      \n",
            "\n",
            "2023-10-12 10:33:23 (78.3 MB/s) - ‘physionet.org/files/mitdb/1.0.0/mitdbdir/samples/2012519.xws’ saved [92/92]\n",
            "\n",
            "--2023-10-12 10:33:23--  https://physionet.org/files/mitdb/1.0.0/mitdbdir/samples/2012620.xws\n",
            "Reusing existing connection to physionet.org:443.\n",
            "HTTP request sent, awaiting response... 200 OK\n",
            "Length: 92 [text/plain]\n",
            "Saving to: ‘physionet.org/files/mitdb/1.0.0/mitdbdir/samples/2012620.xws’\n",
            "\n",
            "physionet.org/files 100%[===================>]      92  --.-KB/s    in 0s      \n",
            "\n",
            "2023-10-12 10:33:23 (74.2 MB/s) - ‘physionet.org/files/mitdb/1.0.0/mitdbdir/samples/2012620.xws’ saved [92/92]\n",
            "\n",
            "--2023-10-12 10:33:23--  https://physionet.org/files/mitdb/1.0.0/mitdbdir/samples/2012803.xws\n",
            "Reusing existing connection to physionet.org:443.\n",
            "HTTP request sent, awaiting response... 200 OK\n",
            "Length: 92 [text/plain]\n",
            "Saving to: ‘physionet.org/files/mitdb/1.0.0/mitdbdir/samples/2012803.xws’\n",
            "\n",
            "physionet.org/files 100%[===================>]      92  --.-KB/s    in 0s      \n",
            "\n",
            "2023-10-12 10:33:23 (86.7 MB/s) - ‘physionet.org/files/mitdb/1.0.0/mitdbdir/samples/2012803.xws’ saved [92/92]\n",
            "\n",
            "--2023-10-12 10:33:23--  https://physionet.org/files/mitdb/1.0.0/mitdbdir/samples/2021016.xws\n",
            "Reusing existing connection to physionet.org:443.\n",
            "HTTP request sent, awaiting response... 200 OK\n",
            "Length: 92 [text/plain]\n",
            "Saving to: ‘physionet.org/files/mitdb/1.0.0/mitdbdir/samples/2021016.xws’\n",
            "\n",
            "physionet.org/files 100%[===================>]      92  --.-KB/s    in 0s      \n",
            "\n",
            "2023-10-12 10:33:23 (52.7 MB/s) - ‘physionet.org/files/mitdb/1.0.0/mitdbdir/samples/2021016.xws’ saved [92/92]\n",
            "\n",
            "--2023-10-12 10:33:23--  https://physionet.org/files/mitdb/1.0.0/mitdbdir/samples/2021224.xws\n",
            "Reusing existing connection to physionet.org:443.\n",
            "HTTP request sent, awaiting response... 200 OK\n",
            "Length: 92 [text/plain]\n",
            "Saving to: ‘physionet.org/files/mitdb/1.0.0/mitdbdir/samples/2021224.xws’\n",
            "\n",
            "physionet.org/files 100%[===================>]      92  --.-KB/s    in 0s      \n",
            "\n",
            "2023-10-12 10:33:23 (75.4 MB/s) - ‘physionet.org/files/mitdb/1.0.0/mitdbdir/samples/2021224.xws’ saved [92/92]\n",
            "\n",
            "--2023-10-12 10:33:23--  https://physionet.org/files/mitdb/1.0.0/mitdbdir/samples/2021241.xws\n",
            "Reusing existing connection to physionet.org:443.\n",
            "HTTP request sent, awaiting response... 200 OK\n",
            "Length: 92 [text/plain]\n",
            "Saving to: ‘physionet.org/files/mitdb/1.0.0/mitdbdir/samples/2021241.xws’\n",
            "\n",
            "physionet.org/files 100%[===================>]      92  --.-KB/s    in 0s      \n",
            "\n",
            "2023-10-12 10:33:23 (41.7 MB/s) - ‘physionet.org/files/mitdb/1.0.0/mitdbdir/samples/2021241.xws’ saved [92/92]\n",
            "\n",
            "--2023-10-12 10:33:23--  https://physionet.org/files/mitdb/1.0.0/mitdbdir/samples/2021822.xws\n",
            "Reusing existing connection to physionet.org:443.\n",
            "HTTP request sent, awaiting response... 200 OK\n",
            "Length: 92 [text/plain]\n",
            "Saving to: ‘physionet.org/files/mitdb/1.0.0/mitdbdir/samples/2021822.xws’\n",
            "\n",
            "physionet.org/files 100%[===================>]      92  --.-KB/s    in 0s      \n",
            "\n",
            "2023-10-12 10:33:23 (31.0 MB/s) - ‘physionet.org/files/mitdb/1.0.0/mitdbdir/samples/2021822.xws’ saved [92/92]\n",
            "\n",
            "--2023-10-12 10:33:23--  https://physionet.org/files/mitdb/1.0.0/mitdbdir/samples/2021845.xws\n",
            "Reusing existing connection to physionet.org:443.\n",
            "HTTP request sent, awaiting response... 200 OK\n",
            "Length: 92 [text/plain]\n",
            "Saving to: ‘physionet.org/files/mitdb/1.0.0/mitdbdir/samples/2021845.xws’\n",
            "\n",
            "physionet.org/files 100%[===================>]      92  --.-KB/s    in 0s      \n",
            "\n",
            "2023-10-12 10:33:23 (60.2 MB/s) - ‘physionet.org/files/mitdb/1.0.0/mitdbdir/samples/2021845.xws’ saved [92/92]\n",
            "\n",
            "--2023-10-12 10:33:23--  https://physionet.org/files/mitdb/1.0.0/mitdbdir/samples/2021859.xws\n",
            "Reusing existing connection to physionet.org:443.\n",
            "HTTP request sent, awaiting response... 200 OK\n",
            "Length: 92 [text/plain]\n",
            "Saving to: ‘physionet.org/files/mitdb/1.0.0/mitdbdir/samples/2021859.xws’\n",
            "\n",
            "physionet.org/files 100%[===================>]      92  --.-KB/s    in 0s      \n",
            "\n",
            "2023-10-12 10:33:23 (47.1 MB/s) - ‘physionet.org/files/mitdb/1.0.0/mitdbdir/samples/2021859.xws’ saved [92/92]\n",
            "\n",
            "--2023-10-12 10:33:23--  https://physionet.org/files/mitdb/1.0.0/mitdbdir/samples/2022110.xws\n",
            "Reusing existing connection to physionet.org:443.\n",
            "HTTP request sent, awaiting response... 200 OK\n",
            "Length: 92 [text/plain]\n",
            "Saving to: ‘physionet.org/files/mitdb/1.0.0/mitdbdir/samples/2022110.xws’\n",
            "\n",
            "physionet.org/files 100%[===================>]      92  --.-KB/s    in 0s      \n",
            "\n",
            "2023-10-12 10:33:24 (63.6 MB/s) - ‘physionet.org/files/mitdb/1.0.0/mitdbdir/samples/2022110.xws’ saved [92/92]\n",
            "\n",
            "--2023-10-12 10:33:24--  https://physionet.org/files/mitdb/1.0.0/mitdbdir/samples/2022126.xws\n",
            "Reusing existing connection to physionet.org:443.\n",
            "HTTP request sent, awaiting response... 200 OK\n",
            "Length: 92 [text/plain]\n",
            "Saving to: ‘physionet.org/files/mitdb/1.0.0/mitdbdir/samples/2022126.xws’\n",
            "\n",
            "physionet.org/files 100%[===================>]      92  --.-KB/s    in 0s      \n",
            "\n",
            "2023-10-12 10:33:24 (27.1 MB/s) - ‘physionet.org/files/mitdb/1.0.0/mitdbdir/samples/2022126.xws’ saved [92/92]\n",
            "\n",
            "--2023-10-12 10:33:24--  https://physionet.org/files/mitdb/1.0.0/mitdbdir/samples/2022213.xws\n",
            "Reusing existing connection to physionet.org:443.\n",
            "HTTP request sent, awaiting response... 200 OK\n",
            "Length: 92 [text/plain]\n",
            "Saving to: ‘physionet.org/files/mitdb/1.0.0/mitdbdir/samples/2022213.xws’\n",
            "\n",
            "physionet.org/files 100%[===================>]      92  --.-KB/s    in 0s      \n",
            "\n",
            "2023-10-12 10:33:24 (86.0 MB/s) - ‘physionet.org/files/mitdb/1.0.0/mitdbdir/samples/2022213.xws’ saved [92/92]\n",
            "\n",
            "--2023-10-12 10:33:24--  https://physionet.org/files/mitdb/1.0.0/mitdbdir/samples/2022558.xws\n",
            "Reusing existing connection to physionet.org:443.\n",
            "HTTP request sent, awaiting response... 200 OK\n",
            "Length: 92 [text/plain]\n",
            "Saving to: ‘physionet.org/files/mitdb/1.0.0/mitdbdir/samples/2022558.xws’\n",
            "\n",
            "physionet.org/files 100%[===================>]      92  --.-KB/s    in 0s      \n",
            "\n",
            "2023-10-12 10:33:24 (61.1 MB/s) - ‘physionet.org/files/mitdb/1.0.0/mitdbdir/samples/2022558.xws’ saved [92/92]\n",
            "\n",
            "--2023-10-12 10:33:24--  https://physionet.org/files/mitdb/1.0.0/mitdbdir/samples/2022755.xws\n",
            "Reusing existing connection to physionet.org:443.\n",
            "HTTP request sent, awaiting response... 200 OK\n",
            "Length: 92 [text/plain]\n",
            "Saving to: ‘physionet.org/files/mitdb/1.0.0/mitdbdir/samples/2022755.xws’\n",
            "\n",
            "physionet.org/files 100%[===================>]      92  --.-KB/s    in 0s      \n",
            "\n",
            "2023-10-12 10:33:24 (30.5 MB/s) - ‘physionet.org/files/mitdb/1.0.0/mitdbdir/samples/2022755.xws’ saved [92/92]\n",
            "\n",
            "--2023-10-12 10:33:24--  https://physionet.org/files/mitdb/1.0.0/mitdbdir/samples/2022935.xws\n",
            "Reusing existing connection to physionet.org:443.\n",
            "HTTP request sent, awaiting response... 200 OK\n",
            "Length: 92 [text/plain]\n",
            "Saving to: ‘physionet.org/files/mitdb/1.0.0/mitdbdir/samples/2022935.xws’\n",
            "\n",
            "physionet.org/files 100%[===================>]      92  --.-KB/s    in 0s      \n",
            "\n",
            "2023-10-12 10:33:24 (66.5 MB/s) - ‘physionet.org/files/mitdb/1.0.0/mitdbdir/samples/2022935.xws’ saved [92/92]\n",
            "\n",
            "--2023-10-12 10:33:24--  https://physionet.org/files/mitdb/1.0.0/mitdbdir/samples/2030500.xws\n",
            "Reusing existing connection to physionet.org:443.\n",
            "HTTP request sent, awaiting response... 200 OK\n",
            "Length: 91 [text/plain]\n",
            "Saving to: ‘physionet.org/files/mitdb/1.0.0/mitdbdir/samples/2030500.xws’\n",
            "\n",
            "physionet.org/files 100%[===================>]      91  --.-KB/s    in 0s      \n",
            "\n",
            "2023-10-12 10:33:24 (72.9 MB/s) - ‘physionet.org/files/mitdb/1.0.0/mitdbdir/samples/2030500.xws’ saved [91/91]\n",
            "\n",
            "--2023-10-12 10:33:24--  https://physionet.org/files/mitdb/1.0.0/mitdbdir/samples/2031314.xws\n",
            "Reusing existing connection to physionet.org:443.\n",
            "HTTP request sent, awaiting response... 200 OK\n",
            "Length: 92 [text/plain]\n",
            "Saving to: ‘physionet.org/files/mitdb/1.0.0/mitdbdir/samples/2031314.xws’\n",
            "\n",
            "physionet.org/files 100%[===================>]      92  --.-KB/s    in 0s      \n",
            "\n",
            "2023-10-12 10:33:24 (75.0 MB/s) - ‘physionet.org/files/mitdb/1.0.0/mitdbdir/samples/2031314.xws’ saved [92/92]\n",
            "\n",
            "--2023-10-12 10:33:24--  https://physionet.org/files/mitdb/1.0.0/mitdbdir/samples/2031502.xws\n",
            "Reusing existing connection to physionet.org:443.\n",
            "HTTP request sent, awaiting response... 200 OK\n",
            "Length: 92 [text/plain]\n",
            "Saving to: ‘physionet.org/files/mitdb/1.0.0/mitdbdir/samples/2031502.xws’\n",
            "\n",
            "physionet.org/files 100%[===================>]      92  --.-KB/s    in 0s      \n",
            "\n",
            "2023-10-12 10:33:24 (72.0 MB/s) - ‘physionet.org/files/mitdb/1.0.0/mitdbdir/samples/2031502.xws’ saved [92/92]\n",
            "\n",
            "--2023-10-12 10:33:24--  https://physionet.org/files/mitdb/1.0.0/mitdbdir/samples/2032202.xws\n",
            "Reusing existing connection to physionet.org:443.\n",
            "HTTP request sent, awaiting response... 200 OK\n",
            "Length: 92 [text/plain]\n",
            "Saving to: ‘physionet.org/files/mitdb/1.0.0/mitdbdir/samples/2032202.xws’\n",
            "\n",
            "physionet.org/files 100%[===================>]      92  --.-KB/s    in 0s      \n",
            "\n",
            "2023-10-12 10:33:24 (80.6 MB/s) - ‘physionet.org/files/mitdb/1.0.0/mitdbdir/samples/2032202.xws’ saved [92/92]\n",
            "\n",
            "--2023-10-12 10:33:24--  https://physionet.org/files/mitdb/1.0.0/mitdbdir/samples/2032325.xws\n",
            "Reusing existing connection to physionet.org:443.\n",
            "HTTP request sent, awaiting response... 200 OK\n",
            "Length: 92 [text/plain]\n",
            "Saving to: ‘physionet.org/files/mitdb/1.0.0/mitdbdir/samples/2032325.xws’\n",
            "\n",
            "physionet.org/files 100%[===================>]      92  --.-KB/s    in 0s      \n",
            "\n",
            "2023-10-12 10:33:24 (22.3 MB/s) - ‘physionet.org/files/mitdb/1.0.0/mitdbdir/samples/2032325.xws’ saved [92/92]\n",
            "\n",
            "--2023-10-12 10:33:24--  https://physionet.org/files/mitdb/1.0.0/mitdbdir/samples/2032404.xws\n",
            "Reusing existing connection to physionet.org:443.\n",
            "HTTP request sent, awaiting response... 200 OK\n",
            "Length: 92 [text/plain]\n",
            "Saving to: ‘physionet.org/files/mitdb/1.0.0/mitdbdir/samples/2032404.xws’\n",
            "\n",
            "physionet.org/files 100%[===================>]      92  --.-KB/s    in 0s      \n",
            "\n",
            "2023-10-12 10:33:25 (48.9 MB/s) - ‘physionet.org/files/mitdb/1.0.0/mitdbdir/samples/2032404.xws’ saved [92/92]\n",
            "\n",
            "--2023-10-12 10:33:25--  https://physionet.org/files/mitdb/1.0.0/mitdbdir/samples/2032446.xws\n",
            "Reusing existing connection to physionet.org:443.\n",
            "HTTP request sent, awaiting response... 200 OK\n",
            "Length: 92 [text/plain]\n",
            "Saving to: ‘physionet.org/files/mitdb/1.0.0/mitdbdir/samples/2032446.xws’\n",
            "\n",
            "physionet.org/files 100%[===================>]      92  --.-KB/s    in 0s      \n",
            "\n",
            "2023-10-12 10:33:25 (68.1 MB/s) - ‘physionet.org/files/mitdb/1.0.0/mitdbdir/samples/2032446.xws’ saved [92/92]\n",
            "\n",
            "--2023-10-12 10:33:25--  https://physionet.org/files/mitdb/1.0.0/mitdbdir/samples/2032639.xws\n",
            "Reusing existing connection to physionet.org:443.\n",
            "HTTP request sent, awaiting response... 200 OK\n",
            "Length: 92 [text/plain]\n",
            "Saving to: ‘physionet.org/files/mitdb/1.0.0/mitdbdir/samples/2032639.xws’\n",
            "\n",
            "physionet.org/files 100%[===================>]      92  --.-KB/s    in 0s      \n",
            "\n",
            "2023-10-12 10:33:25 (56.2 MB/s) - ‘physionet.org/files/mitdb/1.0.0/mitdbdir/samples/2032639.xws’ saved [92/92]\n",
            "\n",
            "--2023-10-12 10:33:25--  https://physionet.org/files/mitdb/1.0.0/mitdbdir/samples/2032651.xws\n",
            "Reusing existing connection to physionet.org:443.\n",
            "HTTP request sent, awaiting response... 200 OK\n",
            "Length: 92 [text/plain]\n",
            "Saving to: ‘physionet.org/files/mitdb/1.0.0/mitdbdir/samples/2032651.xws’\n",
            "\n",
            "physionet.org/files 100%[===================>]      92  --.-KB/s    in 0s      \n",
            "\n",
            "2023-10-12 10:33:25 (44.4 MB/s) - ‘physionet.org/files/mitdb/1.0.0/mitdbdir/samples/2032651.xws’ saved [92/92]\n",
            "\n",
            "--2023-10-12 10:33:25--  https://physionet.org/files/mitdb/1.0.0/mitdbdir/samples/2032715.xws\n",
            "Reusing existing connection to physionet.org:443.\n",
            "HTTP request sent, awaiting response... 200 OK\n",
            "Length: 92 [text/plain]\n",
            "Saving to: ‘physionet.org/files/mitdb/1.0.0/mitdbdir/samples/2032715.xws’\n",
            "\n",
            "physionet.org/files 100%[===================>]      92  --.-KB/s    in 0s      \n",
            "\n",
            "2023-10-12 10:33:25 (62.1 MB/s) - ‘physionet.org/files/mitdb/1.0.0/mitdbdir/samples/2032715.xws’ saved [92/92]\n",
            "\n",
            "--2023-10-12 10:33:25--  https://physionet.org/files/mitdb/1.0.0/mitdbdir/samples/2050457.xws\n",
            "Reusing existing connection to physionet.org:443.\n",
            "HTTP request sent, awaiting response... 200 OK\n",
            "Length: 91 [text/plain]\n",
            "Saving to: ‘physionet.org/files/mitdb/1.0.0/mitdbdir/samples/2050457.xws’\n",
            "\n",
            "physionet.org/files 100%[===================>]      91  --.-KB/s    in 0s      \n",
            "\n",
            "2023-10-12 10:33:25 (40.4 MB/s) - ‘physionet.org/files/mitdb/1.0.0/mitdbdir/samples/2050457.xws’ saved [91/91]\n",
            "\n",
            "--2023-10-12 10:33:25--  https://physionet.org/files/mitdb/1.0.0/mitdbdir/samples/2051454.xws\n",
            "Reusing existing connection to physionet.org:443.\n",
            "HTTP request sent, awaiting response... 200 OK\n",
            "Length: 92 [text/plain]\n",
            "Saving to: ‘physionet.org/files/mitdb/1.0.0/mitdbdir/samples/2051454.xws’\n",
            "\n",
            "physionet.org/files 100%[===================>]      92  --.-KB/s    in 0s      \n",
            "\n",
            "2023-10-12 10:33:25 (39.6 MB/s) - ‘physionet.org/files/mitdb/1.0.0/mitdbdir/samples/2051454.xws’ saved [92/92]\n",
            "\n",
            "--2023-10-12 10:33:25--  https://physionet.org/files/mitdb/1.0.0/mitdbdir/samples/2051522.xws\n",
            "Reusing existing connection to physionet.org:443.\n",
            "HTTP request sent, awaiting response... 200 OK\n",
            "Length: 92 [text/plain]\n",
            "Saving to: ‘physionet.org/files/mitdb/1.0.0/mitdbdir/samples/2051522.xws’\n",
            "\n",
            "physionet.org/files 100%[===================>]      92  --.-KB/s    in 0s      \n",
            "\n",
            "2023-10-12 10:33:25 (65.9 MB/s) - ‘physionet.org/files/mitdb/1.0.0/mitdbdir/samples/2051522.xws’ saved [92/92]\n",
            "\n",
            "--2023-10-12 10:33:25--  https://physionet.org/files/mitdb/1.0.0/mitdbdir/samples/2051603.xws\n",
            "Reusing existing connection to physionet.org:443.\n",
            "HTTP request sent, awaiting response... 200 OK\n",
            "Length: 92 [text/plain]\n",
            "Saving to: ‘physionet.org/files/mitdb/1.0.0/mitdbdir/samples/2051603.xws’\n",
            "\n",
            "physionet.org/files 100%[===================>]      92  --.-KB/s    in 0s      \n",
            "\n",
            "2023-10-12 10:33:25 (60.6 MB/s) - ‘physionet.org/files/mitdb/1.0.0/mitdbdir/samples/2051603.xws’ saved [92/92]\n",
            "\n",
            "--2023-10-12 10:33:25--  https://physionet.org/files/mitdb/1.0.0/mitdbdir/samples/2051615.xws\n",
            "Reusing existing connection to physionet.org:443.\n",
            "HTTP request sent, awaiting response... 200 OK\n",
            "Length: 92 [text/plain]\n",
            "Saving to: ‘physionet.org/files/mitdb/1.0.0/mitdbdir/samples/2051615.xws’\n",
            "\n",
            "physionet.org/files 100%[===================>]      92  --.-KB/s    in 0s      \n",
            "\n",
            "2023-10-12 10:33:25 (60.5 MB/s) - ‘physionet.org/files/mitdb/1.0.0/mitdbdir/samples/2051615.xws’ saved [92/92]\n",
            "\n",
            "--2023-10-12 10:33:25--  https://physionet.org/files/mitdb/1.0.0/mitdbdir/samples/2051957.xws\n",
            "Reusing existing connection to physionet.org:443.\n",
            "HTTP request sent, awaiting response... 200 OK\n",
            "Length: 92 [text/plain]\n",
            "Saving to: ‘physionet.org/files/mitdb/1.0.0/mitdbdir/samples/2051957.xws’\n",
            "\n",
            "physionet.org/files 100%[===================>]      92  --.-KB/s    in 0s      \n",
            "\n",
            "2023-10-12 10:33:26 (56.4 MB/s) - ‘physionet.org/files/mitdb/1.0.0/mitdbdir/samples/2051957.xws’ saved [92/92]\n",
            "\n",
            "--2023-10-12 10:33:26--  https://physionet.org/files/mitdb/1.0.0/mitdbdir/samples/2052418.xws\n",
            "Reusing existing connection to physionet.org:443.\n",
            "HTTP request sent, awaiting response... 200 OK\n",
            "Length: 92 [text/plain]\n",
            "Saving to: ‘physionet.org/files/mitdb/1.0.0/mitdbdir/samples/2052418.xws’\n",
            "\n",
            "physionet.org/files 100%[===================>]      92  --.-KB/s    in 0s      \n",
            "\n",
            "2023-10-12 10:33:26 (73.5 MB/s) - ‘physionet.org/files/mitdb/1.0.0/mitdbdir/samples/2052418.xws’ saved [92/92]\n",
            "\n",
            "--2023-10-12 10:33:26--  https://physionet.org/files/mitdb/1.0.0/mitdbdir/samples/2052430.xws\n",
            "Reusing existing connection to physionet.org:443.\n",
            "HTTP request sent, awaiting response... 200 OK\n",
            "Length: 92 [text/plain]\n",
            "Saving to: ‘physionet.org/files/mitdb/1.0.0/mitdbdir/samples/2052430.xws’\n",
            "\n",
            "physionet.org/files 100%[===================>]      92  --.-KB/s    in 0s      \n",
            "\n",
            "2023-10-12 10:33:26 (58.5 MB/s) - ‘physionet.org/files/mitdb/1.0.0/mitdbdir/samples/2052430.xws’ saved [92/92]\n",
            "\n",
            "--2023-10-12 10:33:26--  https://physionet.org/files/mitdb/1.0.0/mitdbdir/samples/2052757.xws\n",
            "Reusing existing connection to physionet.org:443.\n",
            "HTTP request sent, awaiting response... 200 OK\n",
            "Length: 92 [text/plain]\n",
            "Saving to: ‘physionet.org/files/mitdb/1.0.0/mitdbdir/samples/2052757.xws’\n",
            "\n",
            "physionet.org/files 100%[===================>]      92  --.-KB/s    in 0s      \n",
            "\n",
            "2023-10-12 10:33:26 (67.9 MB/s) - ‘physionet.org/files/mitdb/1.0.0/mitdbdir/samples/2052757.xws’ saved [92/92]\n",
            "\n",
            "--2023-10-12 10:33:26--  https://physionet.org/files/mitdb/1.0.0/mitdbdir/samples/2070000.xws\n",
            "Reusing existing connection to physionet.org:443.\n",
            "HTTP request sent, awaiting response... 200 OK\n",
            "Length: 91 [text/plain]\n",
            "Saving to: ‘physionet.org/files/mitdb/1.0.0/mitdbdir/samples/2070000.xws’\n",
            "\n",
            "physionet.org/files 100%[===================>]      91  --.-KB/s    in 0s      \n",
            "\n",
            "2023-10-12 10:33:26 (39.4 MB/s) - ‘physionet.org/files/mitdb/1.0.0/mitdbdir/samples/2070000.xws’ saved [91/91]\n",
            "\n",
            "--2023-10-12 10:33:26--  https://physionet.org/files/mitdb/1.0.0/mitdbdir/samples/2070033.xws\n",
            "Connecting to physionet.org (physionet.org)|18.18.42.54|:443... connected.\n",
            "HTTP request sent, awaiting response... 200 OK\n",
            "Length: 91 [text/plain]\n",
            "Saving to: ‘physionet.org/files/mitdb/1.0.0/mitdbdir/samples/2070033.xws’\n",
            "\n",
            "physionet.org/files 100%[===================>]      91  --.-KB/s    in 0s      \n",
            "\n",
            "2023-10-12 10:33:26 (23.9 MB/s) - ‘physionet.org/files/mitdb/1.0.0/mitdbdir/samples/2070033.xws’ saved [91/91]\n",
            "\n",
            "--2023-10-12 10:33:26--  https://physionet.org/files/mitdb/1.0.0/mitdbdir/samples/2070045.xws\n",
            "Reusing existing connection to physionet.org:443.\n",
            "HTTP request sent, awaiting response... 200 OK\n",
            "Length: 91 [text/plain]\n",
            "Saving to: ‘physionet.org/files/mitdb/1.0.0/mitdbdir/samples/2070045.xws’\n",
            "\n",
            "physionet.org/files 100%[===================>]      91  --.-KB/s    in 0s      \n",
            "\n",
            "2023-10-12 10:33:26 (82.6 MB/s) - ‘physionet.org/files/mitdb/1.0.0/mitdbdir/samples/2070045.xws’ saved [91/91]\n",
            "\n",
            "--2023-10-12 10:33:26--  https://physionet.org/files/mitdb/1.0.0/mitdbdir/samples/2070057.xws\n",
            "Reusing existing connection to physionet.org:443.\n",
            "HTTP request sent, awaiting response... 200 OK\n",
            "Length: 91 [text/plain]\n",
            "Saving to: ‘physionet.org/files/mitdb/1.0.0/mitdbdir/samples/2070057.xws’\n",
            "\n",
            "physionet.org/files 100%[===================>]      91  --.-KB/s    in 0s      \n",
            "\n",
            "2023-10-12 10:33:27 (31.7 MB/s) - ‘physionet.org/files/mitdb/1.0.0/mitdbdir/samples/2070057.xws’ saved [91/91]\n",
            "\n",
            "--2023-10-12 10:33:27--  https://physionet.org/files/mitdb/1.0.0/mitdbdir/samples/2070128.xws\n",
            "Reusing existing connection to physionet.org:443.\n",
            "HTTP request sent, awaiting response... 200 OK\n",
            "Length: 91 [text/plain]\n",
            "Saving to: ‘physionet.org/files/mitdb/1.0.0/mitdbdir/samples/2070128.xws’\n",
            "\n",
            "physionet.org/files 100%[===================>]      91  --.-KB/s    in 0s      \n",
            "\n",
            "2023-10-12 10:33:27 (55.5 MB/s) - ‘physionet.org/files/mitdb/1.0.0/mitdbdir/samples/2070128.xws’ saved [91/91]\n",
            "\n",
            "--2023-10-12 10:33:27--  https://physionet.org/files/mitdb/1.0.0/mitdbdir/samples/2070207.xws\n",
            "Reusing existing connection to physionet.org:443.\n",
            "HTTP request sent, awaiting response... 200 OK\n",
            "Length: 91 [text/plain]\n",
            "Saving to: ‘physionet.org/files/mitdb/1.0.0/mitdbdir/samples/2070207.xws’\n",
            "\n",
            "physionet.org/files 100%[===================>]      91  --.-KB/s    in 0s      \n",
            "\n",
            "2023-10-12 10:33:27 (71.7 MB/s) - ‘physionet.org/files/mitdb/1.0.0/mitdbdir/samples/2070207.xws’ saved [91/91]\n",
            "\n",
            "--2023-10-12 10:33:27--  https://physionet.org/files/mitdb/1.0.0/mitdbdir/samples/2070241.xws\n",
            "Reusing existing connection to physionet.org:443.\n",
            "HTTP request sent, awaiting response... 200 OK\n",
            "Length: 91 [text/plain]\n",
            "Saving to: ‘physionet.org/files/mitdb/1.0.0/mitdbdir/samples/2070241.xws’\n",
            "\n",
            "physionet.org/files 100%[===================>]      91  --.-KB/s    in 0s      \n",
            "\n",
            "2023-10-12 10:33:27 (75.9 MB/s) - ‘physionet.org/files/mitdb/1.0.0/mitdbdir/samples/2070241.xws’ saved [91/91]\n",
            "\n",
            "--2023-10-12 10:33:27--  https://physionet.org/files/mitdb/1.0.0/mitdbdir/samples/2070425.xws\n",
            "Reusing existing connection to physionet.org:443.\n",
            "HTTP request sent, awaiting response... 200 OK\n",
            "Length: 91 [text/plain]\n",
            "Saving to: ‘physionet.org/files/mitdb/1.0.0/mitdbdir/samples/2070425.xws’\n",
            "\n",
            "physionet.org/files 100%[===================>]      91  --.-KB/s    in 0s      \n",
            "\n",
            "2023-10-12 10:33:27 (38.4 MB/s) - ‘physionet.org/files/mitdb/1.0.0/mitdbdir/samples/2070425.xws’ saved [91/91]\n",
            "\n",
            "--2023-10-12 10:33:27--  https://physionet.org/files/mitdb/1.0.0/mitdbdir/samples/2070519.xws\n",
            "Reusing existing connection to physionet.org:443.\n",
            "HTTP request sent, awaiting response... 200 OK\n",
            "Length: 91 [text/plain]\n",
            "Saving to: ‘physionet.org/files/mitdb/1.0.0/mitdbdir/samples/2070519.xws’\n",
            "\n",
            "physionet.org/files 100%[===================>]      91  --.-KB/s    in 0s      \n",
            "\n",
            "2023-10-12 10:33:27 (46.3 MB/s) - ‘physionet.org/files/mitdb/1.0.0/mitdbdir/samples/2070519.xws’ saved [91/91]\n",
            "\n",
            "--2023-10-12 10:33:27--  https://physionet.org/files/mitdb/1.0.0/mitdbdir/samples/2070656.xws\n",
            "Reusing existing connection to physionet.org:443.\n",
            "HTTP request sent, awaiting response... 200 OK\n",
            "Length: 91 [text/plain]\n",
            "Saving to: ‘physionet.org/files/mitdb/1.0.0/mitdbdir/samples/2070656.xws’\n",
            "\n",
            "physionet.org/files 100%[===================>]      91  --.-KB/s    in 0s      \n",
            "\n",
            "2023-10-12 10:33:27 (37.4 MB/s) - ‘physionet.org/files/mitdb/1.0.0/mitdbdir/samples/2070656.xws’ saved [91/91]\n",
            "\n",
            "--2023-10-12 10:33:27--  https://physionet.org/files/mitdb/1.0.0/mitdbdir/samples/2071735.xws\n",
            "Reusing existing connection to physionet.org:443.\n",
            "HTTP request sent, awaiting response... 200 OK\n",
            "Length: 92 [text/plain]\n",
            "Saving to: ‘physionet.org/files/mitdb/1.0.0/mitdbdir/samples/2071735.xws’\n",
            "\n",
            "physionet.org/files 100%[===================>]      92  --.-KB/s    in 0s      \n",
            "\n",
            "2023-10-12 10:33:27 (24.1 MB/s) - ‘physionet.org/files/mitdb/1.0.0/mitdbdir/samples/2071735.xws’ saved [92/92]\n",
            "\n",
            "--2023-10-12 10:33:27--  https://physionet.org/files/mitdb/1.0.0/mitdbdir/samples/2072536.xws\n",
            "Reusing existing connection to physionet.org:443.\n",
            "HTTP request sent, awaiting response... 200 OK\n",
            "Length: 92 [text/plain]\n",
            "Saving to: ‘physionet.org/files/mitdb/1.0.0/mitdbdir/samples/2072536.xws’\n",
            "\n",
            "physionet.org/files 100%[===================>]      92  --.-KB/s    in 0s      \n",
            "\n",
            "2023-10-12 10:33:27 (72.0 MB/s) - ‘physionet.org/files/mitdb/1.0.0/mitdbdir/samples/2072536.xws’ saved [92/92]\n",
            "\n",
            "--2023-10-12 10:33:27--  https://physionet.org/files/mitdb/1.0.0/mitdbdir/samples/2072610.xws\n",
            "Reusing existing connection to physionet.org:443.\n",
            "HTTP request sent, awaiting response... 200 OK\n",
            "Length: 92 [text/plain]\n",
            "Saving to: ‘physionet.org/files/mitdb/1.0.0/mitdbdir/samples/2072610.xws’\n",
            "\n",
            "physionet.org/files 100%[===================>]      92  --.-KB/s    in 0s      \n",
            "\n",
            "2023-10-12 10:33:27 (56.6 MB/s) - ‘physionet.org/files/mitdb/1.0.0/mitdbdir/samples/2072610.xws’ saved [92/92]\n",
            "\n",
            "--2023-10-12 10:33:27--  https://physionet.org/files/mitdb/1.0.0/mitdbdir/samples/2072714.xws\n",
            "Reusing existing connection to physionet.org:443.\n",
            "HTTP request sent, awaiting response... 200 OK\n",
            "Length: 92 [text/plain]\n",
            "Saving to: ‘physionet.org/files/mitdb/1.0.0/mitdbdir/samples/2072714.xws’\n",
            "\n",
            "physionet.org/files 100%[===================>]      92  --.-KB/s    in 0s      \n",
            "\n",
            "2023-10-12 10:33:27 (51.7 MB/s) - ‘physionet.org/files/mitdb/1.0.0/mitdbdir/samples/2072714.xws’ saved [92/92]\n",
            "\n",
            "--2023-10-12 10:33:27--  https://physionet.org/files/mitdb/1.0.0/mitdbdir/samples/2072910.xws\n",
            "Reusing existing connection to physionet.org:443.\n",
            "HTTP request sent, awaiting response... 200 OK\n",
            "Length: 92 [text/plain]\n",
            "Saving to: ‘physionet.org/files/mitdb/1.0.0/mitdbdir/samples/2072910.xws’\n",
            "\n",
            "physionet.org/files 100%[===================>]      92  --.-KB/s    in 0s      \n",
            "\n",
            "2023-10-12 10:33:28 (29.0 MB/s) - ‘physionet.org/files/mitdb/1.0.0/mitdbdir/samples/2072910.xws’ saved [92/92]\n",
            "\n",
            "--2023-10-12 10:33:28--  https://physionet.org/files/mitdb/1.0.0/mitdbdir/samples/2081457.xws\n",
            "Reusing existing connection to physionet.org:443.\n",
            "HTTP request sent, awaiting response... 200 OK\n",
            "Length: 92 [text/plain]\n",
            "Saving to: ‘physionet.org/files/mitdb/1.0.0/mitdbdir/samples/2081457.xws’\n",
            "\n",
            "physionet.org/files 100%[===================>]      92  --.-KB/s    in 0s      \n",
            "\n",
            "2023-10-12 10:33:28 (72.3 MB/s) - ‘physionet.org/files/mitdb/1.0.0/mitdbdir/samples/2081457.xws’ saved [92/92]\n",
            "\n",
            "--2023-10-12 10:33:28--  https://physionet.org/files/mitdb/1.0.0/mitdbdir/samples/2081702.xws\n",
            "Reusing existing connection to physionet.org:443.\n",
            "HTTP request sent, awaiting response... 200 OK\n",
            "Length: 92 [text/plain]\n",
            "Saving to: ‘physionet.org/files/mitdb/1.0.0/mitdbdir/samples/2081702.xws’\n",
            "\n",
            "physionet.org/files 100%[===================>]      92  --.-KB/s    in 0s      \n",
            "\n",
            "2023-10-12 10:33:28 (33.6 MB/s) - ‘physionet.org/files/mitdb/1.0.0/mitdbdir/samples/2081702.xws’ saved [92/92]\n",
            "\n",
            "--2023-10-12 10:33:28--  https://physionet.org/files/mitdb/1.0.0/mitdbdir/samples/2081910.xws\n",
            "Reusing existing connection to physionet.org:443.\n",
            "HTTP request sent, awaiting response... 200 OK\n",
            "Length: 92 [text/plain]\n",
            "Saving to: ‘physionet.org/files/mitdb/1.0.0/mitdbdir/samples/2081910.xws’\n",
            "\n",
            "physionet.org/files 100%[===================>]      92  --.-KB/s    in 0s      \n",
            "\n",
            "2023-10-12 10:33:28 (67.5 MB/s) - ‘physionet.org/files/mitdb/1.0.0/mitdbdir/samples/2081910.xws’ saved [92/92]\n",
            "\n",
            "--2023-10-12 10:33:28--  https://physionet.org/files/mitdb/1.0.0/mitdbdir/samples/2082106.xws\n",
            "Reusing existing connection to physionet.org:443.\n",
            "HTTP request sent, awaiting response... 200 OK\n",
            "Length: 92 [text/plain]\n",
            "Saving to: ‘physionet.org/files/mitdb/1.0.0/mitdbdir/samples/2082106.xws’\n",
            "\n",
            "physionet.org/files 100%[===================>]      92  --.-KB/s    in 0s      \n",
            "\n",
            "2023-10-12 10:33:28 (49.0 MB/s) - ‘physionet.org/files/mitdb/1.0.0/mitdbdir/samples/2082106.xws’ saved [92/92]\n",
            "\n",
            "--2023-10-12 10:33:28--  https://physionet.org/files/mitdb/1.0.0/mitdbdir/samples/2082300.xws\n",
            "Reusing existing connection to physionet.org:443.\n",
            "HTTP request sent, awaiting response... 200 OK\n",
            "Length: 92 [text/plain]\n",
            "Saving to: ‘physionet.org/files/mitdb/1.0.0/mitdbdir/samples/2082300.xws’\n",
            "\n",
            "physionet.org/files 100%[===================>]      92  --.-KB/s    in 0s      \n",
            "\n",
            "2023-10-12 10:33:28 (29.6 MB/s) - ‘physionet.org/files/mitdb/1.0.0/mitdbdir/samples/2082300.xws’ saved [92/92]\n",
            "\n",
            "--2023-10-12 10:33:28--  https://physionet.org/files/mitdb/1.0.0/mitdbdir/samples/2082808.xws\n",
            "Reusing existing connection to physionet.org:443.\n",
            "HTTP request sent, awaiting response... 200 OK\n",
            "Length: 92 [text/plain]\n",
            "Saving to: ‘physionet.org/files/mitdb/1.0.0/mitdbdir/samples/2082808.xws’\n",
            "\n",
            "physionet.org/files 100%[===================>]      92  --.-KB/s    in 0s      \n",
            "\n",
            "2023-10-12 10:33:28 (54.3 MB/s) - ‘physionet.org/files/mitdb/1.0.0/mitdbdir/samples/2082808.xws’ saved [92/92]\n",
            "\n",
            "--2023-10-12 10:33:28--  https://physionet.org/files/mitdb/1.0.0/mitdbdir/samples/2082858.xws\n",
            "Reusing existing connection to physionet.org:443.\n",
            "HTTP request sent, awaiting response... 200 OK\n",
            "Length: 92 [text/plain]\n",
            "Saving to: ‘physionet.org/files/mitdb/1.0.0/mitdbdir/samples/2082858.xws’\n",
            "\n",
            "physionet.org/files 100%[===================>]      92  --.-KB/s    in 0s      \n",
            "\n",
            "2023-10-12 10:33:28 (84.2 MB/s) - ‘physionet.org/files/mitdb/1.0.0/mitdbdir/samples/2082858.xws’ saved [92/92]\n",
            "\n",
            "--2023-10-12 10:33:28--  https://physionet.org/files/mitdb/1.0.0/mitdbdir/samples/2082937.xws\n",
            "Reusing existing connection to physionet.org:443.\n",
            "HTTP request sent, awaiting response... 200 OK\n",
            "Length: 92 [text/plain]\n",
            "Saving to: ‘physionet.org/files/mitdb/1.0.0/mitdbdir/samples/2082937.xws’\n",
            "\n",
            "physionet.org/files 100%[===================>]      92  --.-KB/s    in 0s      \n",
            "\n",
            "2023-10-12 10:33:28 (45.5 MB/s) - ‘physionet.org/files/mitdb/1.0.0/mitdbdir/samples/2082937.xws’ saved [92/92]\n",
            "\n",
            "--2023-10-12 10:33:28--  https://physionet.org/files/mitdb/1.0.0/mitdbdir/samples/2090047.xws\n",
            "Reusing existing connection to physionet.org:443.\n",
            "HTTP request sent, awaiting response... 200 OK\n",
            "Length: 91 [text/plain]\n",
            "Saving to: ‘physionet.org/files/mitdb/1.0.0/mitdbdir/samples/2090047.xws’\n",
            "\n",
            "physionet.org/files 100%[===================>]      91  --.-KB/s    in 0s      \n",
            "\n",
            "2023-10-12 10:33:28 (33.3 MB/s) - ‘physionet.org/files/mitdb/1.0.0/mitdbdir/samples/2090047.xws’ saved [91/91]\n",
            "\n",
            "--2023-10-12 10:33:28--  https://physionet.org/files/mitdb/1.0.0/mitdbdir/samples/2090550.xws\n",
            "Reusing existing connection to physionet.org:443.\n",
            "HTTP request sent, awaiting response... 200 OK\n",
            "Length: 91 [text/plain]\n",
            "Saving to: ‘physionet.org/files/mitdb/1.0.0/mitdbdir/samples/2090550.xws’\n",
            "\n",
            "physionet.org/files 100%[===================>]      91  --.-KB/s    in 0s      \n",
            "\n",
            "2023-10-12 10:33:29 (70.8 MB/s) - ‘physionet.org/files/mitdb/1.0.0/mitdbdir/samples/2090550.xws’ saved [91/91]\n",
            "\n",
            "--2023-10-12 10:33:29--  https://physionet.org/files/mitdb/1.0.0/mitdbdir/samples/2091257.xws\n",
            "Reusing existing connection to physionet.org:443.\n",
            "HTTP request sent, awaiting response... 200 OK\n",
            "Length: 92 [text/plain]\n",
            "Saving to: ‘physionet.org/files/mitdb/1.0.0/mitdbdir/samples/2091257.xws’\n",
            "\n",
            "physionet.org/files 100%[===================>]      92  --.-KB/s    in 0s      \n",
            "\n",
            "2023-10-12 10:33:29 (89.0 MB/s) - ‘physionet.org/files/mitdb/1.0.0/mitdbdir/samples/2091257.xws’ saved [92/92]\n",
            "\n",
            "--2023-10-12 10:33:29--  https://physionet.org/files/mitdb/1.0.0/mitdbdir/samples/2091421.xws\n",
            "Reusing existing connection to physionet.org:443.\n",
            "HTTP request sent, awaiting response... 200 OK\n",
            "Length: 92 [text/plain]\n",
            "Saving to: ‘physionet.org/files/mitdb/1.0.0/mitdbdir/samples/2091421.xws’\n",
            "\n",
            "physionet.org/files 100%[===================>]      92  --.-KB/s    in 0s      \n",
            "\n",
            "2023-10-12 10:33:29 (44.6 MB/s) - ‘physionet.org/files/mitdb/1.0.0/mitdbdir/samples/2091421.xws’ saved [92/92]\n",
            "\n",
            "--2023-10-12 10:33:29--  https://physionet.org/files/mitdb/1.0.0/mitdbdir/samples/2092325.xws\n",
            "Reusing existing connection to physionet.org:443.\n",
            "HTTP request sent, awaiting response... 200 OK\n",
            "Length: 92 [text/plain]\n",
            "Saving to: ‘physionet.org/files/mitdb/1.0.0/mitdbdir/samples/2092325.xws’\n",
            "\n",
            "physionet.org/files 100%[===================>]      92  --.-KB/s    in 0s      \n",
            "\n",
            "2023-10-12 10:33:29 (29.5 MB/s) - ‘physionet.org/files/mitdb/1.0.0/mitdbdir/samples/2092325.xws’ saved [92/92]\n",
            "\n",
            "--2023-10-12 10:33:29--  https://physionet.org/files/mitdb/1.0.0/mitdbdir/samples/2092817.xws\n",
            "Reusing existing connection to physionet.org:443.\n",
            "HTTP request sent, awaiting response... 200 OK\n",
            "Length: 92 [text/plain]\n",
            "Saving to: ‘physionet.org/files/mitdb/1.0.0/mitdbdir/samples/2092817.xws’\n",
            "\n",
            "physionet.org/files 100%[===================>]      92  --.-KB/s    in 0s      \n",
            "\n",
            "2023-10-12 10:33:29 (32.8 MB/s) - ‘physionet.org/files/mitdb/1.0.0/mitdbdir/samples/2092817.xws’ saved [92/92]\n",
            "\n",
            "--2023-10-12 10:33:29--  https://physionet.org/files/mitdb/1.0.0/mitdbdir/samples/2092833.xws\n",
            "Reusing existing connection to physionet.org:443.\n",
            "HTTP request sent, awaiting response... 200 OK\n",
            "Length: 92 [text/plain]\n",
            "Saving to: ‘physionet.org/files/mitdb/1.0.0/mitdbdir/samples/2092833.xws’\n",
            "\n",
            "physionet.org/files 100%[===================>]      92  --.-KB/s    in 0s      \n",
            "\n",
            "2023-10-12 10:33:29 (23.8 MB/s) - ‘physionet.org/files/mitdb/1.0.0/mitdbdir/samples/2092833.xws’ saved [92/92]\n",
            "\n",
            "--2023-10-12 10:33:29--  https://physionet.org/files/mitdb/1.0.0/mitdbdir/samples/2092910.xws\n",
            "Reusing existing connection to physionet.org:443.\n",
            "HTTP request sent, awaiting response... 200 OK\n",
            "Length: 92 [text/plain]\n",
            "Saving to: ‘physionet.org/files/mitdb/1.0.0/mitdbdir/samples/2092910.xws’\n",
            "\n",
            "physionet.org/files 100%[===================>]      92  --.-KB/s    in 0s      \n",
            "\n",
            "2023-10-12 10:33:29 (35.3 MB/s) - ‘physionet.org/files/mitdb/1.0.0/mitdbdir/samples/2092910.xws’ saved [92/92]\n",
            "\n",
            "--2023-10-12 10:33:29--  https://physionet.org/files/mitdb/1.0.0/mitdbdir/samples/2100347.xws\n",
            "Reusing existing connection to physionet.org:443.\n",
            "HTTP request sent, awaiting response... 200 OK\n",
            "Length: 91 [text/plain]\n",
            "Saving to: ‘physionet.org/files/mitdb/1.0.0/mitdbdir/samples/2100347.xws’\n",
            "\n",
            "physionet.org/files 100%[===================>]      91  --.-KB/s    in 0s      \n",
            "\n",
            "2023-10-12 10:33:29 (61.3 MB/s) - ‘physionet.org/files/mitdb/1.0.0/mitdbdir/samples/2100347.xws’ saved [91/91]\n",
            "\n",
            "--2023-10-12 10:33:29--  https://physionet.org/files/mitdb/1.0.0/mitdbdir/samples/2100656.xws\n",
            "Reusing existing connection to physionet.org:443.\n",
            "HTTP request sent, awaiting response... 200 OK\n",
            "Length: 91 [text/plain]\n",
            "Saving to: ‘physionet.org/files/mitdb/1.0.0/mitdbdir/samples/2100656.xws’\n",
            "\n",
            "physionet.org/files 100%[===================>]      91  --.-KB/s    in 0s      \n",
            "\n",
            "2023-10-12 10:33:29 (35.7 MB/s) - ‘physionet.org/files/mitdb/1.0.0/mitdbdir/samples/2100656.xws’ saved [91/91]\n",
            "\n",
            "--2023-10-12 10:33:29--  https://physionet.org/files/mitdb/1.0.0/mitdbdir/samples/2101314.xws\n",
            "Reusing existing connection to physionet.org:443.\n",
            "HTTP request sent, awaiting response... 200 OK\n",
            "Length: 92 [text/plain]\n",
            "Saving to: ‘physionet.org/files/mitdb/1.0.0/mitdbdir/samples/2101314.xws’\n",
            "\n",
            "physionet.org/files 100%[===================>]      92  --.-KB/s    in 0s      \n",
            "\n",
            "2023-10-12 10:33:29 (37.7 MB/s) - ‘physionet.org/files/mitdb/1.0.0/mitdbdir/samples/2101314.xws’ saved [92/92]\n",
            "\n",
            "--2023-10-12 10:33:29--  https://physionet.org/files/mitdb/1.0.0/mitdbdir/samples/2101555.xws\n",
            "Reusing existing connection to physionet.org:443.\n",
            "HTTP request sent, awaiting response... 200 OK\n",
            "Length: 92 [text/plain]\n",
            "Saving to: ‘physionet.org/files/mitdb/1.0.0/mitdbdir/samples/2101555.xws’\n",
            "\n",
            "physionet.org/files 100%[===================>]      92  --.-KB/s    in 0s      \n",
            "\n",
            "2023-10-12 10:33:29 (38.2 MB/s) - ‘physionet.org/files/mitdb/1.0.0/mitdbdir/samples/2101555.xws’ saved [92/92]\n",
            "\n",
            "--2023-10-12 10:33:29--  https://physionet.org/files/mitdb/1.0.0/mitdbdir/samples/2101732.xws\n",
            "Reusing existing connection to physionet.org:443.\n",
            "HTTP request sent, awaiting response... 200 OK\n",
            "Length: 92 [text/plain]\n",
            "Saving to: ‘physionet.org/files/mitdb/1.0.0/mitdbdir/samples/2101732.xws’\n",
            "\n",
            "physionet.org/files 100%[===================>]      92  --.-KB/s    in 0s      \n",
            "\n",
            "2023-10-12 10:33:30 (31.0 MB/s) - ‘physionet.org/files/mitdb/1.0.0/mitdbdir/samples/2101732.xws’ saved [92/92]\n",
            "\n",
            "--2023-10-12 10:33:30--  https://physionet.org/files/mitdb/1.0.0/mitdbdir/samples/2101757.xws\n",
            "Reusing existing connection to physionet.org:443.\n",
            "HTTP request sent, awaiting response... 200 OK\n",
            "Length: 92 [text/plain]\n",
            "Saving to: ‘physionet.org/files/mitdb/1.0.0/mitdbdir/samples/2101757.xws’\n",
            "\n",
            "physionet.org/files 100%[===================>]      92  --.-KB/s    in 0s      \n",
            "\n",
            "2023-10-12 10:33:30 (50.0 MB/s) - ‘physionet.org/files/mitdb/1.0.0/mitdbdir/samples/2101757.xws’ saved [92/92]\n",
            "\n",
            "--2023-10-12 10:33:30--  https://physionet.org/files/mitdb/1.0.0/mitdbdir/samples/2102033.xws\n",
            "Reusing existing connection to physionet.org:443.\n",
            "HTTP request sent, awaiting response... 200 OK\n",
            "Length: 92 [text/plain]\n",
            "Saving to: ‘physionet.org/files/mitdb/1.0.0/mitdbdir/samples/2102033.xws’\n",
            "\n",
            "physionet.org/files 100%[===================>]      92  --.-KB/s    in 0s      \n",
            "\n",
            "2023-10-12 10:33:30 (67.0 MB/s) - ‘physionet.org/files/mitdb/1.0.0/mitdbdir/samples/2102033.xws’ saved [92/92]\n",
            "\n",
            "--2023-10-12 10:33:30--  https://physionet.org/files/mitdb/1.0.0/mitdbdir/samples/2102915.xws\n",
            "Reusing existing connection to physionet.org:443.\n",
            "HTTP request sent, awaiting response... 200 OK\n",
            "Length: 92 [text/plain]\n",
            "Saving to: ‘physionet.org/files/mitdb/1.0.0/mitdbdir/samples/2102915.xws’\n",
            "\n",
            "physionet.org/files 100%[===================>]      92  --.-KB/s    in 0s      \n",
            "\n",
            "2023-10-12 10:33:30 (54.5 MB/s) - ‘physionet.org/files/mitdb/1.0.0/mitdbdir/samples/2102915.xws’ saved [92/92]\n",
            "\n",
            "--2023-10-12 10:33:30--  https://physionet.org/files/mitdb/1.0.0/mitdbdir/samples/2120005.xws\n",
            "Reusing existing connection to physionet.org:443.\n",
            "HTTP request sent, awaiting response... 200 OK\n",
            "Length: 91 [text/plain]\n",
            "Saving to: ‘physionet.org/files/mitdb/1.0.0/mitdbdir/samples/2120005.xws’\n",
            "\n",
            "physionet.org/files 100%[===================>]      91  --.-KB/s    in 0s      \n",
            "\n",
            "2023-10-12 10:33:30 (59.1 MB/s) - ‘physionet.org/files/mitdb/1.0.0/mitdbdir/samples/2120005.xws’ saved [91/91]\n",
            "\n",
            "--2023-10-12 10:33:30--  https://physionet.org/files/mitdb/1.0.0/mitdbdir/samples/2121842.xws\n",
            "Reusing existing connection to physionet.org:443.\n",
            "HTTP request sent, awaiting response... 200 OK\n",
            "Length: 92 [text/plain]\n",
            "Saving to: ‘physionet.org/files/mitdb/1.0.0/mitdbdir/samples/2121842.xws’\n",
            "\n",
            "physionet.org/files 100%[===================>]      92  --.-KB/s    in 0s      \n",
            "\n",
            "2023-10-12 10:33:30 (40.4 MB/s) - ‘physionet.org/files/mitdb/1.0.0/mitdbdir/samples/2121842.xws’ saved [92/92]\n",
            "\n",
            "--2023-10-12 10:33:30--  https://physionet.org/files/mitdb/1.0.0/mitdbdir/samples/2122421.xws\n",
            "Reusing existing connection to physionet.org:443.\n",
            "HTTP request sent, awaiting response... 200 OK\n",
            "Length: 92 [text/plain]\n",
            "Saving to: ‘physionet.org/files/mitdb/1.0.0/mitdbdir/samples/2122421.xws’\n",
            "\n",
            "physionet.org/files 100%[===================>]      92  --.-KB/s    in 0s      \n",
            "\n",
            "2023-10-12 10:33:30 (29.4 MB/s) - ‘physionet.org/files/mitdb/1.0.0/mitdbdir/samples/2122421.xws’ saved [92/92]\n",
            "\n",
            "--2023-10-12 10:33:30--  https://physionet.org/files/mitdb/1.0.0/mitdbdir/samples/2122438.xws\n",
            "Reusing existing connection to physionet.org:443.\n",
            "HTTP request sent, awaiting response... 200 OK\n",
            "Length: 92 [text/plain]\n",
            "Saving to: ‘physionet.org/files/mitdb/1.0.0/mitdbdir/samples/2122438.xws’\n",
            "\n",
            "physionet.org/files 100%[===================>]      92  --.-KB/s    in 0s      \n",
            "\n",
            "2023-10-12 10:33:30 (41.5 MB/s) - ‘physionet.org/files/mitdb/1.0.0/mitdbdir/samples/2122438.xws’ saved [92/92]\n",
            "\n",
            "--2023-10-12 10:33:30--  https://physionet.org/files/mitdb/1.0.0/mitdbdir/samples/2122645.xws\n",
            "Reusing existing connection to physionet.org:443.\n",
            "HTTP request sent, awaiting response... 200 OK\n",
            "Length: 92 [text/plain]\n",
            "Saving to: ‘physionet.org/files/mitdb/1.0.0/mitdbdir/samples/2122645.xws’\n",
            "\n",
            "physionet.org/files 100%[===================>]      92  --.-KB/s    in 0s      \n",
            "\n",
            "2023-10-12 10:33:30 (64.9 MB/s) - ‘physionet.org/files/mitdb/1.0.0/mitdbdir/samples/2122645.xws’ saved [92/92]\n",
            "\n",
            "--2023-10-12 10:33:30--  https://physionet.org/files/mitdb/1.0.0/mitdbdir/samples/2122846.xws\n",
            "Reusing existing connection to physionet.org:443.\n",
            "HTTP request sent, awaiting response... 200 OK\n",
            "Length: 92 [text/plain]\n",
            "Saving to: ‘physionet.org/files/mitdb/1.0.0/mitdbdir/samples/2122846.xws’\n",
            "\n",
            "physionet.org/files 100%[===================>]      92  --.-KB/s    in 0s      \n",
            "\n",
            "2023-10-12 10:33:30 (48.4 MB/s) - ‘physionet.org/files/mitdb/1.0.0/mitdbdir/samples/2122846.xws’ saved [92/92]\n",
            "\n",
            "--2023-10-12 10:33:30--  https://physionet.org/files/mitdb/1.0.0/mitdbdir/samples/2130339.xws\n",
            "Reusing existing connection to physionet.org:443.\n",
            "HTTP request sent, awaiting response... 200 OK\n",
            "Length: 91 [text/plain]\n",
            "Saving to: ‘physionet.org/files/mitdb/1.0.0/mitdbdir/samples/2130339.xws’\n",
            "\n",
            "physionet.org/files 100%[===================>]      91  --.-KB/s    in 0s      \n",
            "\n",
            "2023-10-12 10:33:31 (33.5 MB/s) - ‘physionet.org/files/mitdb/1.0.0/mitdbdir/samples/2130339.xws’ saved [91/91]\n",
            "\n",
            "--2023-10-12 10:33:31--  https://physionet.org/files/mitdb/1.0.0/mitdbdir/samples/2131448.xws\n",
            "Reusing existing connection to physionet.org:443.\n",
            "HTTP request sent, awaiting response... 200 OK\n",
            "Length: 92 [text/plain]\n",
            "Saving to: ‘physionet.org/files/mitdb/1.0.0/mitdbdir/samples/2131448.xws’\n",
            "\n",
            "physionet.org/files 100%[===================>]      92  --.-KB/s    in 0s      \n",
            "\n",
            "2023-10-12 10:33:31 (61.7 MB/s) - ‘physionet.org/files/mitdb/1.0.0/mitdbdir/samples/2131448.xws’ saved [92/92]\n",
            "\n",
            "--2023-10-12 10:33:31--  https://physionet.org/files/mitdb/1.0.0/mitdbdir/samples/2131505.xws\n",
            "Reusing existing connection to physionet.org:443.\n",
            "HTTP request sent, awaiting response... 200 OK\n",
            "Length: 92 [text/plain]\n",
            "Saving to: ‘physionet.org/files/mitdb/1.0.0/mitdbdir/samples/2131505.xws’\n",
            "\n",
            "physionet.org/files 100%[===================>]      92  --.-KB/s    in 0s      \n",
            "\n",
            "2023-10-12 10:33:31 (29.9 MB/s) - ‘physionet.org/files/mitdb/1.0.0/mitdbdir/samples/2131505.xws’ saved [92/92]\n",
            "\n",
            "--2023-10-12 10:33:31--  https://physionet.org/files/mitdb/1.0.0/mitdbdir/samples/2131538.xws\n",
            "Reusing existing connection to physionet.org:443.\n",
            "HTTP request sent, awaiting response... 200 OK\n",
            "Length: 92 [text/plain]\n",
            "Saving to: ‘physionet.org/files/mitdb/1.0.0/mitdbdir/samples/2131538.xws’\n",
            "\n",
            "physionet.org/files 100%[===================>]      92  --.-KB/s    in 0s      \n",
            "\n",
            "2023-10-12 10:33:31 (64.3 MB/s) - ‘physionet.org/files/mitdb/1.0.0/mitdbdir/samples/2131538.xws’ saved [92/92]\n",
            "\n",
            "--2023-10-12 10:33:31--  https://physionet.org/files/mitdb/1.0.0/mitdbdir/samples/2131730.xws\n",
            "Reusing existing connection to physionet.org:443.\n",
            "HTTP request sent, awaiting response... 200 OK\n",
            "Length: 92 [text/plain]\n",
            "Saving to: ‘physionet.org/files/mitdb/1.0.0/mitdbdir/samples/2131730.xws’\n",
            "\n",
            "physionet.org/files 100%[===================>]      92  --.-KB/s    in 0s      \n",
            "\n",
            "2023-10-12 10:33:31 (73.1 MB/s) - ‘physionet.org/files/mitdb/1.0.0/mitdbdir/samples/2131730.xws’ saved [92/92]\n",
            "\n",
            "--2023-10-12 10:33:31--  https://physionet.org/files/mitdb/1.0.0/mitdbdir/samples/2131755.xws\n",
            "Reusing existing connection to physionet.org:443.\n",
            "HTTP request sent, awaiting response... 200 OK\n",
            "Length: 92 [text/plain]\n",
            "Saving to: ‘physionet.org/files/mitdb/1.0.0/mitdbdir/samples/2131755.xws’\n",
            "\n",
            "physionet.org/files 100%[===================>]      92  --.-KB/s    in 0s      \n",
            "\n",
            "2023-10-12 10:33:31 (83.4 MB/s) - ‘physionet.org/files/mitdb/1.0.0/mitdbdir/samples/2131755.xws’ saved [92/92]\n",
            "\n",
            "--2023-10-12 10:33:31--  https://physionet.org/files/mitdb/1.0.0/mitdbdir/samples/2132443.xws\n",
            "Reusing existing connection to physionet.org:443.\n",
            "HTTP request sent, awaiting response... 200 OK\n",
            "Length: 92 [text/plain]\n",
            "Saving to: ‘physionet.org/files/mitdb/1.0.0/mitdbdir/samples/2132443.xws’\n",
            "\n",
            "physionet.org/files 100%[===================>]      92  --.-KB/s    in 0s      \n",
            "\n",
            "2023-10-12 10:33:31 (45.3 MB/s) - ‘physionet.org/files/mitdb/1.0.0/mitdbdir/samples/2132443.xws’ saved [92/92]\n",
            "\n",
            "--2023-10-12 10:33:31--  https://physionet.org/files/mitdb/1.0.0/mitdbdir/samples/2132558.xws\n",
            "Reusing existing connection to physionet.org:443.\n",
            "HTTP request sent, awaiting response... 200 OK\n",
            "Length: 92 [text/plain]\n",
            "Saving to: ‘physionet.org/files/mitdb/1.0.0/mitdbdir/samples/2132558.xws’\n",
            "\n",
            "physionet.org/files 100%[===================>]      92  --.-KB/s    in 0s      \n",
            "\n",
            "2023-10-12 10:33:31 (40.8 MB/s) - ‘physionet.org/files/mitdb/1.0.0/mitdbdir/samples/2132558.xws’ saved [92/92]\n",
            "\n",
            "--2023-10-12 10:33:31--  https://physionet.org/files/mitdb/1.0.0/mitdbdir/samples/2132651.xws\n",
            "Reusing existing connection to physionet.org:443.\n",
            "HTTP request sent, awaiting response... 200 OK\n",
            "Length: 92 [text/plain]\n",
            "Saving to: ‘physionet.org/files/mitdb/1.0.0/mitdbdir/samples/2132651.xws’\n",
            "\n",
            "physionet.org/files 100%[===================>]      92  --.-KB/s    in 0s      \n",
            "\n",
            "2023-10-12 10:33:31 (59.2 MB/s) - ‘physionet.org/files/mitdb/1.0.0/mitdbdir/samples/2132651.xws’ saved [92/92]\n",
            "\n",
            "--2023-10-12 10:33:31--  https://physionet.org/files/mitdb/1.0.0/mitdbdir/samples/2132856.xws\n",
            "Reusing existing connection to physionet.org:443.\n",
            "HTTP request sent, awaiting response... 200 OK\n",
            "Length: 92 [text/plain]\n",
            "Saving to: ‘physionet.org/files/mitdb/1.0.0/mitdbdir/samples/2132856.xws’\n",
            "\n",
            "physionet.org/files 100%[===================>]      92  --.-KB/s    in 0s      \n",
            "\n",
            "2023-10-12 10:33:31 (43.7 MB/s) - ‘physionet.org/files/mitdb/1.0.0/mitdbdir/samples/2132856.xws’ saved [92/92]\n",
            "\n",
            "--2023-10-12 10:33:31--  https://physionet.org/files/mitdb/1.0.0/mitdbdir/samples/2140030.xws\n",
            "Reusing existing connection to physionet.org:443.\n",
            "HTTP request sent, awaiting response... 200 OK\n",
            "Length: 91 [text/plain]\n",
            "Saving to: ‘physionet.org/files/mitdb/1.0.0/mitdbdir/samples/2140030.xws’\n",
            "\n",
            "physionet.org/files 100%[===================>]      91  --.-KB/s    in 0s      \n",
            "\n",
            "2023-10-12 10:33:32 (37.6 MB/s) - ‘physionet.org/files/mitdb/1.0.0/mitdbdir/samples/2140030.xws’ saved [91/91]\n",
            "\n",
            "--2023-10-12 10:33:32--  https://physionet.org/files/mitdb/1.0.0/mitdbdir/samples/2140221.xws\n",
            "Reusing existing connection to physionet.org:443.\n",
            "HTTP request sent, awaiting response... 200 OK\n",
            "Length: 91 [text/plain]\n",
            "Saving to: ‘physionet.org/files/mitdb/1.0.0/mitdbdir/samples/2140221.xws’\n",
            "\n",
            "physionet.org/files 100%[===================>]      91  --.-KB/s    in 0s      \n",
            "\n",
            "2023-10-12 10:33:32 (65.3 MB/s) - ‘physionet.org/files/mitdb/1.0.0/mitdbdir/samples/2140221.xws’ saved [91/91]\n",
            "\n",
            "--2023-10-12 10:33:32--  https://physionet.org/files/mitdb/1.0.0/mitdbdir/samples/2140235.xws\n",
            "Reusing existing connection to physionet.org:443.\n",
            "HTTP request sent, awaiting response... 200 OK\n",
            "Length: 91 [text/plain]\n",
            "Saving to: ‘physionet.org/files/mitdb/1.0.0/mitdbdir/samples/2140235.xws’\n",
            "\n",
            "physionet.org/files 100%[===================>]      91  --.-KB/s    in 0s      \n",
            "\n",
            "2023-10-12 10:33:32 (30.7 MB/s) - ‘physionet.org/files/mitdb/1.0.0/mitdbdir/samples/2140235.xws’ saved [91/91]\n",
            "\n",
            "--2023-10-12 10:33:32--  https://physionet.org/files/mitdb/1.0.0/mitdbdir/samples/2140325.xws\n",
            "Reusing existing connection to physionet.org:443.\n",
            "HTTP request sent, awaiting response... 200 OK\n",
            "Length: 91 [text/plain]\n",
            "Saving to: ‘physionet.org/files/mitdb/1.0.0/mitdbdir/samples/2140325.xws’\n",
            "\n",
            "physionet.org/files 100%[===================>]      91  --.-KB/s    in 0s      \n",
            "\n",
            "2023-10-12 10:33:32 (46.4 MB/s) - ‘physionet.org/files/mitdb/1.0.0/mitdbdir/samples/2140325.xws’ saved [91/91]\n",
            "\n",
            "--2023-10-12 10:33:32--  https://physionet.org/files/mitdb/1.0.0/mitdbdir/samples/2140356.xws\n",
            "Reusing existing connection to physionet.org:443.\n",
            "HTTP request sent, awaiting response... 200 OK\n",
            "Length: 91 [text/plain]\n",
            "Saving to: ‘physionet.org/files/mitdb/1.0.0/mitdbdir/samples/2140356.xws’\n",
            "\n",
            "physionet.org/files 100%[===================>]      91  --.-KB/s    in 0s      \n",
            "\n",
            "2023-10-12 10:33:32 (30.7 MB/s) - ‘physionet.org/files/mitdb/1.0.0/mitdbdir/samples/2140356.xws’ saved [91/91]\n",
            "\n",
            "--2023-10-12 10:33:32--  https://physionet.org/files/mitdb/1.0.0/mitdbdir/samples/2140508.xws\n",
            "Reusing existing connection to physionet.org:443.\n",
            "HTTP request sent, awaiting response... 200 OK\n",
            "Length: 91 [text/plain]\n",
            "Saving to: ‘physionet.org/files/mitdb/1.0.0/mitdbdir/samples/2140508.xws’\n",
            "\n",
            "physionet.org/files 100%[===================>]      91  --.-KB/s    in 0s      \n",
            "\n",
            "2023-10-12 10:33:32 (44.9 MB/s) - ‘physionet.org/files/mitdb/1.0.0/mitdbdir/samples/2140508.xws’ saved [91/91]\n",
            "\n",
            "--2023-10-12 10:33:32--  https://physionet.org/files/mitdb/1.0.0/mitdbdir/samples/2140538.xws\n",
            "Reusing existing connection to physionet.org:443.\n",
            "HTTP request sent, awaiting response... 200 OK\n",
            "Length: 91 [text/plain]\n",
            "Saving to: ‘physionet.org/files/mitdb/1.0.0/mitdbdir/samples/2140538.xws’\n",
            "\n",
            "physionet.org/files 100%[===================>]      91  --.-KB/s    in 0s      \n",
            "\n",
            "2023-10-12 10:33:32 (26.9 MB/s) - ‘physionet.org/files/mitdb/1.0.0/mitdbdir/samples/2140538.xws’ saved [91/91]\n",
            "\n",
            "--2023-10-12 10:33:32--  https://physionet.org/files/mitdb/1.0.0/mitdbdir/samples/2141353.xws\n",
            "Reusing existing connection to physionet.org:443.\n",
            "HTTP request sent, awaiting response... 200 OK\n",
            "Length: 92 [text/plain]\n",
            "Saving to: ‘physionet.org/files/mitdb/1.0.0/mitdbdir/samples/2141353.xws’\n",
            "\n",
            "physionet.org/files 100%[===================>]      92  --.-KB/s    in 0s      \n",
            "\n",
            "2023-10-12 10:33:32 (70.6 MB/s) - ‘physionet.org/files/mitdb/1.0.0/mitdbdir/samples/2141353.xws’ saved [92/92]\n",
            "\n",
            "--2023-10-12 10:33:32--  https://physionet.org/files/mitdb/1.0.0/mitdbdir/samples/2142317.xws\n",
            "Reusing existing connection to physionet.org:443.\n",
            "HTTP request sent, awaiting response... 200 OK\n",
            "Length: 92 [text/plain]\n",
            "Saving to: ‘physionet.org/files/mitdb/1.0.0/mitdbdir/samples/2142317.xws’\n",
            "\n",
            "physionet.org/files 100%[===================>]      92  --.-KB/s    in 0s      \n",
            "\n",
            "2023-10-12 10:33:32 (31.2 MB/s) - ‘physionet.org/files/mitdb/1.0.0/mitdbdir/samples/2142317.xws’ saved [92/92]\n",
            "\n",
            "--2023-10-12 10:33:32--  https://physionet.org/files/mitdb/1.0.0/mitdbdir/samples/2142752.xws\n",
            "Reusing existing connection to physionet.org:443.\n",
            "HTTP request sent, awaiting response... 200 OK\n",
            "Length: 92 [text/plain]\n",
            "Saving to: ‘physionet.org/files/mitdb/1.0.0/mitdbdir/samples/2142752.xws’\n",
            "\n",
            "physionet.org/files 100%[===================>]      92  --.-KB/s    in 0s      \n",
            "\n",
            "2023-10-12 10:33:32 (34.8 MB/s) - ‘physionet.org/files/mitdb/1.0.0/mitdbdir/samples/2142752.xws’ saved [92/92]\n",
            "\n",
            "--2023-10-12 10:33:32--  https://physionet.org/files/mitdb/1.0.0/mitdbdir/samples/2150255.xws\n",
            "Reusing existing connection to physionet.org:443.\n",
            "HTTP request sent, awaiting response... 200 OK\n",
            "Length: 91 [text/plain]\n",
            "Saving to: ‘physionet.org/files/mitdb/1.0.0/mitdbdir/samples/2150255.xws’\n",
            "\n",
            "physionet.org/files 100%[===================>]      91  --.-KB/s    in 0s      \n",
            "\n",
            "2023-10-12 10:33:32 (40.4 MB/s) - ‘physionet.org/files/mitdb/1.0.0/mitdbdir/samples/2150255.xws’ saved [91/91]\n",
            "\n",
            "--2023-10-12 10:33:32--  https://physionet.org/files/mitdb/1.0.0/mitdbdir/samples/2150311.xws\n",
            "Reusing existing connection to physionet.org:443.\n",
            "HTTP request sent, awaiting response... 200 OK\n",
            "Length: 91 [text/plain]\n",
            "Saving to: ‘physionet.org/files/mitdb/1.0.0/mitdbdir/samples/2150311.xws’\n",
            "\n",
            "physionet.org/files 100%[===================>]      91  --.-KB/s    in 0s      \n",
            "\n",
            "2023-10-12 10:33:33 (28.8 MB/s) - ‘physionet.org/files/mitdb/1.0.0/mitdbdir/samples/2150311.xws’ saved [91/91]\n",
            "\n",
            "--2023-10-12 10:33:33--  https://physionet.org/files/mitdb/1.0.0/mitdbdir/samples/2150946.xws\n",
            "Reusing existing connection to physionet.org:443.\n",
            "HTTP request sent, awaiting response... 200 OK\n",
            "Length: 91 [text/plain]\n",
            "Saving to: ‘physionet.org/files/mitdb/1.0.0/mitdbdir/samples/2150946.xws’\n",
            "\n",
            "physionet.org/files 100%[===================>]      91  --.-KB/s    in 0s      \n",
            "\n",
            "2023-10-12 10:33:33 (36.0 MB/s) - ‘physionet.org/files/mitdb/1.0.0/mitdbdir/samples/2150946.xws’ saved [91/91]\n",
            "\n",
            "--2023-10-12 10:33:33--  https://physionet.org/files/mitdb/1.0.0/mitdbdir/samples/2151558.xws\n",
            "Reusing existing connection to physionet.org:443.\n",
            "HTTP request sent, awaiting response... 200 OK\n",
            "Length: 92 [text/plain]\n",
            "Saving to: ‘physionet.org/files/mitdb/1.0.0/mitdbdir/samples/2151558.xws’\n",
            "\n",
            "physionet.org/files 100%[===================>]      92  --.-KB/s    in 0s      \n",
            "\n",
            "2023-10-12 10:33:33 (29.9 MB/s) - ‘physionet.org/files/mitdb/1.0.0/mitdbdir/samples/2151558.xws’ saved [92/92]\n",
            "\n",
            "--2023-10-12 10:33:33--  https://physionet.org/files/mitdb/1.0.0/mitdbdir/samples/2152025.xws\n",
            "Reusing existing connection to physionet.org:443.\n",
            "HTTP request sent, awaiting response... 200 OK\n",
            "Length: 92 [text/plain]\n",
            "Saving to: ‘physionet.org/files/mitdb/1.0.0/mitdbdir/samples/2152025.xws’\n",
            "\n",
            "physionet.org/files 100%[===================>]      92  --.-KB/s    in 0s      \n",
            "\n",
            "2023-10-12 10:33:33 (32.2 MB/s) - ‘physionet.org/files/mitdb/1.0.0/mitdbdir/samples/2152025.xws’ saved [92/92]\n",
            "\n",
            "--2023-10-12 10:33:33--  https://physionet.org/files/mitdb/1.0.0/mitdbdir/samples/2152216.xws\n",
            "Reusing existing connection to physionet.org:443.\n",
            "HTTP request sent, awaiting response... 200 OK\n",
            "Length: 92 [text/plain]\n",
            "Saving to: ‘physionet.org/files/mitdb/1.0.0/mitdbdir/samples/2152216.xws’\n",
            "\n",
            "physionet.org/files 100%[===================>]      92  --.-KB/s    in 0s      \n",
            "\n",
            "2023-10-12 10:33:33 (44.7 MB/s) - ‘physionet.org/files/mitdb/1.0.0/mitdbdir/samples/2152216.xws’ saved [92/92]\n",
            "\n",
            "--2023-10-12 10:33:33--  https://physionet.org/files/mitdb/1.0.0/mitdbdir/samples/2152457.xws\n",
            "Reusing existing connection to physionet.org:443.\n",
            "HTTP request sent, awaiting response... 200 OK\n",
            "Length: 92 [text/plain]\n",
            "Saving to: ‘physionet.org/files/mitdb/1.0.0/mitdbdir/samples/2152457.xws’\n",
            "\n",
            "physionet.org/files 100%[===================>]      92  --.-KB/s    in 0s      \n",
            "\n",
            "2023-10-12 10:33:33 (35.8 MB/s) - ‘physionet.org/files/mitdb/1.0.0/mitdbdir/samples/2152457.xws’ saved [92/92]\n",
            "\n",
            "--2023-10-12 10:33:33--  https://physionet.org/files/mitdb/1.0.0/mitdbdir/samples/2152730.xws\n",
            "Reusing existing connection to physionet.org:443.\n",
            "HTTP request sent, awaiting response... 200 OK\n",
            "Length: 92 [text/plain]\n",
            "Saving to: ‘physionet.org/files/mitdb/1.0.0/mitdbdir/samples/2152730.xws’\n",
            "\n",
            "physionet.org/files 100%[===================>]      92  --.-KB/s    in 0s      \n",
            "\n",
            "2023-10-12 10:33:33 (32.2 MB/s) - ‘physionet.org/files/mitdb/1.0.0/mitdbdir/samples/2152730.xws’ saved [92/92]\n",
            "\n",
            "--2023-10-12 10:33:33--  https://physionet.org/files/mitdb/1.0.0/mitdbdir/samples/2152757.xws\n",
            "Reusing existing connection to physionet.org:443.\n",
            "HTTP request sent, awaiting response... 200 OK\n",
            "Length: 92 [text/plain]\n",
            "Saving to: ‘physionet.org/files/mitdb/1.0.0/mitdbdir/samples/2152757.xws’\n",
            "\n",
            "physionet.org/files 100%[===================>]      92  --.-KB/s    in 0s      \n",
            "\n",
            "2023-10-12 10:33:33 (27.2 MB/s) - ‘physionet.org/files/mitdb/1.0.0/mitdbdir/samples/2152757.xws’ saved [92/92]\n",
            "\n",
            "--2023-10-12 10:33:33--  https://physionet.org/files/mitdb/1.0.0/mitdbdir/samples/2152942.xws\n",
            "Reusing existing connection to physionet.org:443.\n",
            "HTTP request sent, awaiting response... 200 OK\n",
            "Length: 92 [text/plain]\n",
            "Saving to: ‘physionet.org/files/mitdb/1.0.0/mitdbdir/samples/2152942.xws’\n",
            "\n",
            "physionet.org/files 100%[===================>]      92  --.-KB/s    in 0s      \n",
            "\n",
            "2023-10-12 10:33:33 (44.3 MB/s) - ‘physionet.org/files/mitdb/1.0.0/mitdbdir/samples/2152942.xws’ saved [92/92]\n",
            "\n",
            "--2023-10-12 10:33:33--  https://physionet.org/files/mitdb/1.0.0/mitdbdir/samples/2170000.xws\n",
            "Reusing existing connection to physionet.org:443.\n",
            "HTTP request sent, awaiting response... 200 OK\n",
            "Length: 91 [text/plain]\n",
            "Saving to: ‘physionet.org/files/mitdb/1.0.0/mitdbdir/samples/2170000.xws’\n",
            "\n",
            "physionet.org/files 100%[===================>]      91  --.-KB/s    in 0s      \n",
            "\n",
            "2023-10-12 10:33:33 (22.9 MB/s) - ‘physionet.org/files/mitdb/1.0.0/mitdbdir/samples/2170000.xws’ saved [91/91]\n",
            "\n",
            "--2023-10-12 10:33:33--  https://physionet.org/files/mitdb/1.0.0/mitdbdir/samples/2170033.xws\n",
            "Reusing existing connection to physionet.org:443.\n",
            "HTTP request sent, awaiting response... 200 OK\n",
            "Length: 91 [text/plain]\n",
            "Saving to: ‘physionet.org/files/mitdb/1.0.0/mitdbdir/samples/2170033.xws’\n",
            "\n",
            "physionet.org/files 100%[===================>]      91  --.-KB/s    in 0s      \n",
            "\n",
            "2023-10-12 10:33:34 (55.5 MB/s) - ‘physionet.org/files/mitdb/1.0.0/mitdbdir/samples/2170033.xws’ saved [91/91]\n",
            "\n",
            "--2023-10-12 10:33:34--  https://physionet.org/files/mitdb/1.0.0/mitdbdir/samples/2170123.xws\n",
            "Reusing existing connection to physionet.org:443.\n",
            "HTTP request sent, awaiting response... 200 OK\n",
            "Length: 91 [text/plain]\n",
            "Saving to: ‘physionet.org/files/mitdb/1.0.0/mitdbdir/samples/2170123.xws’\n",
            "\n",
            "physionet.org/files 100%[===================>]      91  --.-KB/s    in 0s      \n",
            "\n",
            "2023-10-12 10:33:34 (34.5 MB/s) - ‘physionet.org/files/mitdb/1.0.0/mitdbdir/samples/2170123.xws’ saved [91/91]\n",
            "\n",
            "--2023-10-12 10:33:34--  https://physionet.org/files/mitdb/1.0.0/mitdbdir/samples/2170418.xws\n",
            "Reusing existing connection to physionet.org:443.\n",
            "HTTP request sent, awaiting response... 200 OK\n",
            "Length: 91 [text/plain]\n",
            "Saving to: ‘physionet.org/files/mitdb/1.0.0/mitdbdir/samples/2170418.xws’\n",
            "\n",
            "physionet.org/files 100%[===================>]      91  --.-KB/s    in 0s      \n",
            "\n",
            "2023-10-12 10:33:34 (46.1 MB/s) - ‘physionet.org/files/mitdb/1.0.0/mitdbdir/samples/2170418.xws’ saved [91/91]\n",
            "\n",
            "--2023-10-12 10:33:34--  https://physionet.org/files/mitdb/1.0.0/mitdbdir/samples/2170612.xws\n",
            "Reusing existing connection to physionet.org:443.\n",
            "HTTP request sent, awaiting response... 200 OK\n",
            "Length: 91 [text/plain]\n",
            "Saving to: ‘physionet.org/files/mitdb/1.0.0/mitdbdir/samples/2170612.xws’\n",
            "\n",
            "physionet.org/files 100%[===================>]      91  --.-KB/s    in 0s      \n",
            "\n",
            "2023-10-12 10:33:34 (57.7 MB/s) - ‘physionet.org/files/mitdb/1.0.0/mitdbdir/samples/2170612.xws’ saved [91/91]\n",
            "\n",
            "--2023-10-12 10:33:34--  https://physionet.org/files/mitdb/1.0.0/mitdbdir/samples/2170651.xws\n",
            "Reusing existing connection to physionet.org:443.\n",
            "HTTP request sent, awaiting response... 200 OK\n",
            "Length: 91 [text/plain]\n",
            "Saving to: ‘physionet.org/files/mitdb/1.0.0/mitdbdir/samples/2170651.xws’\n",
            "\n",
            "physionet.org/files 100%[===================>]      91  --.-KB/s    in 0s      \n",
            "\n",
            "2023-10-12 10:33:34 (59.0 MB/s) - ‘physionet.org/files/mitdb/1.0.0/mitdbdir/samples/2170651.xws’ saved [91/91]\n",
            "\n",
            "--2023-10-12 10:33:34--  https://physionet.org/files/mitdb/1.0.0/mitdbdir/samples/2170705.xws\n",
            "Reusing existing connection to physionet.org:443.\n",
            "HTTP request sent, awaiting response... 200 OK\n",
            "Length: 91 [text/plain]\n",
            "Saving to: ‘physionet.org/files/mitdb/1.0.0/mitdbdir/samples/2170705.xws’\n",
            "\n",
            "physionet.org/files 100%[===================>]      91  --.-KB/s    in 0s      \n",
            "\n",
            "2023-10-12 10:33:34 (24.4 MB/s) - ‘physionet.org/files/mitdb/1.0.0/mitdbdir/samples/2170705.xws’ saved [91/91]\n",
            "\n",
            "--2023-10-12 10:33:34--  https://physionet.org/files/mitdb/1.0.0/mitdbdir/samples/2171227.xws\n",
            "Reusing existing connection to physionet.org:443.\n",
            "HTTP request sent, awaiting response... 200 OK\n",
            "Length: 92 [text/plain]\n",
            "Saving to: ‘physionet.org/files/mitdb/1.0.0/mitdbdir/samples/2171227.xws’\n",
            "\n",
            "physionet.org/files 100%[===================>]      92  --.-KB/s    in 0s      \n",
            "\n",
            "2023-10-12 10:33:34 (59.4 MB/s) - ‘physionet.org/files/mitdb/1.0.0/mitdbdir/samples/2171227.xws’ saved [92/92]\n",
            "\n",
            "--2023-10-12 10:33:34--  https://physionet.org/files/mitdb/1.0.0/mitdbdir/samples/2171401.xws\n",
            "Reusing existing connection to physionet.org:443.\n",
            "HTTP request sent, awaiting response... 200 OK\n",
            "Length: 92 [text/plain]\n",
            "Saving to: ‘physionet.org/files/mitdb/1.0.0/mitdbdir/samples/2171401.xws’\n",
            "\n",
            "physionet.org/files 100%[===================>]      92  --.-KB/s    in 0s      \n",
            "\n",
            "2023-10-12 10:33:34 (66.6 MB/s) - ‘physionet.org/files/mitdb/1.0.0/mitdbdir/samples/2171401.xws’ saved [92/92]\n",
            "\n",
            "--2023-10-12 10:33:34--  https://physionet.org/files/mitdb/1.0.0/mitdbdir/samples/2171530.xws\n",
            "Reusing existing connection to physionet.org:443.\n",
            "HTTP request sent, awaiting response... 200 OK\n",
            "Length: 92 [text/plain]\n",
            "Saving to: ‘physionet.org/files/mitdb/1.0.0/mitdbdir/samples/2171530.xws’\n",
            "\n",
            "physionet.org/files 100%[===================>]      92  --.-KB/s    in 0s      \n",
            "\n",
            "2023-10-12 10:33:35 (54.4 MB/s) - ‘physionet.org/files/mitdb/1.0.0/mitdbdir/samples/2171530.xws’ saved [92/92]\n",
            "\n",
            "--2023-10-12 10:33:35--  https://physionet.org/files/mitdb/1.0.0/mitdbdir/samples/2171656.xws\n",
            "Reusing existing connection to physionet.org:443.\n",
            "HTTP request sent, awaiting response... 200 OK\n",
            "Length: 92 [text/plain]\n",
            "Saving to: ‘physionet.org/files/mitdb/1.0.0/mitdbdir/samples/2171656.xws’\n",
            "\n",
            "physionet.org/files 100%[===================>]      92  --.-KB/s    in 0s      \n",
            "\n",
            "2023-10-12 10:33:35 (50.3 MB/s) - ‘physionet.org/files/mitdb/1.0.0/mitdbdir/samples/2171656.xws’ saved [92/92]\n",
            "\n",
            "--2023-10-12 10:33:35--  https://physionet.org/files/mitdb/1.0.0/mitdbdir/samples/2172227.xws\n",
            "Reusing existing connection to physionet.org:443.\n",
            "HTTP request sent, awaiting response... 200 OK\n",
            "Length: 92 [text/plain]\n",
            "Saving to: ‘physionet.org/files/mitdb/1.0.0/mitdbdir/samples/2172227.xws’\n",
            "\n",
            "physionet.org/files 100%[===================>]      92  --.-KB/s    in 0s      \n",
            "\n",
            "2023-10-12 10:33:35 (30.9 MB/s) - ‘physionet.org/files/mitdb/1.0.0/mitdbdir/samples/2172227.xws’ saved [92/92]\n",
            "\n",
            "--2023-10-12 10:33:35--  https://physionet.org/files/mitdb/1.0.0/mitdbdir/samples/2190249.xws\n",
            "Reusing existing connection to physionet.org:443.\n",
            "HTTP request sent, awaiting response... 200 OK\n",
            "Length: 91 [text/plain]\n",
            "Saving to: ‘physionet.org/files/mitdb/1.0.0/mitdbdir/samples/2190249.xws’\n",
            "\n",
            "physionet.org/files 100%[===================>]      91  --.-KB/s    in 0s      \n",
            "\n",
            "2023-10-12 10:33:35 (54.8 MB/s) - ‘physionet.org/files/mitdb/1.0.0/mitdbdir/samples/2190249.xws’ saved [91/91]\n",
            "\n",
            "--2023-10-12 10:33:35--  https://physionet.org/files/mitdb/1.0.0/mitdbdir/samples/2190508.xws\n",
            "Reusing existing connection to physionet.org:443.\n",
            "HTTP request sent, awaiting response... 200 OK\n",
            "Length: 91 [text/plain]\n",
            "Saving to: ‘physionet.org/files/mitdb/1.0.0/mitdbdir/samples/2190508.xws’\n",
            "\n",
            "physionet.org/files 100%[===================>]      91  --.-KB/s    in 0s      \n",
            "\n",
            "2023-10-12 10:33:35 (25.2 MB/s) - ‘physionet.org/files/mitdb/1.0.0/mitdbdir/samples/2190508.xws’ saved [91/91]\n",
            "\n",
            "--2023-10-12 10:33:35--  https://physionet.org/files/mitdb/1.0.0/mitdbdir/samples/2190522.xws\n",
            "Reusing existing connection to physionet.org:443.\n",
            "HTTP request sent, awaiting response... 200 OK\n",
            "Length: 91 [text/plain]\n",
            "Saving to: ‘physionet.org/files/mitdb/1.0.0/mitdbdir/samples/2190522.xws’\n",
            "\n",
            "physionet.org/files 100%[===================>]      91  --.-KB/s    in 0s      \n",
            "\n",
            "2023-10-12 10:33:35 (24.1 MB/s) - ‘physionet.org/files/mitdb/1.0.0/mitdbdir/samples/2190522.xws’ saved [91/91]\n",
            "\n",
            "--2023-10-12 10:33:35--  https://physionet.org/files/mitdb/1.0.0/mitdbdir/samples/2191350.xws\n",
            "Reusing existing connection to physionet.org:443.\n",
            "HTTP request sent, awaiting response... 200 OK\n",
            "Length: 92 [text/plain]\n",
            "Saving to: ‘physionet.org/files/mitdb/1.0.0/mitdbdir/samples/2191350.xws’\n",
            "\n",
            "physionet.org/files 100%[===================>]      92  --.-KB/s    in 0s      \n",
            "\n",
            "2023-10-12 10:33:35 (39.2 MB/s) - ‘physionet.org/files/mitdb/1.0.0/mitdbdir/samples/2191350.xws’ saved [92/92]\n",
            "\n",
            "--2023-10-12 10:33:35--  https://physionet.org/files/mitdb/1.0.0/mitdbdir/samples/2191900.xws\n",
            "Reusing existing connection to physionet.org:443.\n",
            "HTTP request sent, awaiting response... 200 OK\n",
            "Length: 92 [text/plain]\n",
            "Saving to: ‘physionet.org/files/mitdb/1.0.0/mitdbdir/samples/2191900.xws’\n",
            "\n",
            "physionet.org/files 100%[===================>]      92  --.-KB/s    in 0s      \n",
            "\n",
            "2023-10-12 10:33:35 (87.0 MB/s) - ‘physionet.org/files/mitdb/1.0.0/mitdbdir/samples/2191900.xws’ saved [92/92]\n",
            "\n",
            "--2023-10-12 10:33:35--  https://physionet.org/files/mitdb/1.0.0/mitdbdir/samples/2191957.xws\n",
            "Reusing existing connection to physionet.org:443.\n",
            "HTTP request sent, awaiting response... 200 OK\n",
            "Length: 92 [text/plain]\n",
            "Saving to: ‘physionet.org/files/mitdb/1.0.0/mitdbdir/samples/2191957.xws’\n",
            "\n",
            "physionet.org/files 100%[===================>]      92  --.-KB/s    in 0s      \n",
            "\n",
            "2023-10-12 10:33:35 (31.8 MB/s) - ‘physionet.org/files/mitdb/1.0.0/mitdbdir/samples/2191957.xws’ saved [92/92]\n",
            "\n",
            "--2023-10-12 10:33:35--  https://physionet.org/files/mitdb/1.0.0/mitdbdir/samples/2192211.xws\n",
            "Reusing existing connection to physionet.org:443.\n",
            "HTTP request sent, awaiting response... 200 OK\n",
            "Length: 92 [text/plain]\n",
            "Saving to: ‘physionet.org/files/mitdb/1.0.0/mitdbdir/samples/2192211.xws’\n",
            "\n",
            "physionet.org/files 100%[===================>]      92  --.-KB/s    in 0s      \n",
            "\n",
            "2023-10-12 10:33:35 (31.0 MB/s) - ‘physionet.org/files/mitdb/1.0.0/mitdbdir/samples/2192211.xws’ saved [92/92]\n",
            "\n",
            "--2023-10-12 10:33:35--  https://physionet.org/files/mitdb/1.0.0/mitdbdir/samples/2192243.xws\n",
            "Reusing existing connection to physionet.org:443.\n",
            "HTTP request sent, awaiting response... 200 OK\n",
            "Length: 92 [text/plain]\n",
            "Saving to: ‘physionet.org/files/mitdb/1.0.0/mitdbdir/samples/2192243.xws’\n",
            "\n",
            "physionet.org/files 100%[===================>]      92  --.-KB/s    in 0s      \n",
            "\n",
            "2023-10-12 10:33:35 (38.8 MB/s) - ‘physionet.org/files/mitdb/1.0.0/mitdbdir/samples/2192243.xws’ saved [92/92]\n",
            "\n",
            "--2023-10-12 10:33:35--  https://physionet.org/files/mitdb/1.0.0/mitdbdir/samples/2192443.xws\n",
            "Reusing existing connection to physionet.org:443.\n",
            "HTTP request sent, awaiting response... 200 OK\n",
            "Length: 92 [text/plain]\n",
            "Saving to: ‘physionet.org/files/mitdb/1.0.0/mitdbdir/samples/2192443.xws’\n",
            "\n",
            "physionet.org/files 100%[===================>]      92  --.-KB/s    in 0s      \n",
            "\n",
            "2023-10-12 10:33:36 (41.4 MB/s) - ‘physionet.org/files/mitdb/1.0.0/mitdbdir/samples/2192443.xws’ saved [92/92]\n",
            "\n",
            "--2023-10-12 10:33:36--  https://physionet.org/files/mitdb/1.0.0/mitdbdir/samples/2192609.xws\n",
            "Reusing existing connection to physionet.org:443.\n",
            "HTTP request sent, awaiting response... 200 OK\n",
            "Length: 92 [text/plain]\n",
            "Saving to: ‘physionet.org/files/mitdb/1.0.0/mitdbdir/samples/2192609.xws’\n",
            "\n",
            "physionet.org/files 100%[===================>]      92  --.-KB/s    in 0s      \n",
            "\n",
            "2023-10-12 10:33:36 (40.1 MB/s) - ‘physionet.org/files/mitdb/1.0.0/mitdbdir/samples/2192609.xws’ saved [92/92]\n",
            "\n",
            "--2023-10-12 10:33:36--  https://physionet.org/files/mitdb/1.0.0/mitdbdir/samples/2192855.xws\n",
            "Reusing existing connection to physionet.org:443.\n",
            "HTTP request sent, awaiting response... 200 OK\n",
            "Length: 92 [text/plain]\n",
            "Saving to: ‘physionet.org/files/mitdb/1.0.0/mitdbdir/samples/2192855.xws’\n",
            "\n",
            "physionet.org/files 100%[===================>]      92  --.-KB/s    in 0s      \n",
            "\n",
            "2023-10-12 10:33:36 (66.4 MB/s) - ‘physionet.org/files/mitdb/1.0.0/mitdbdir/samples/2192855.xws’ saved [92/92]\n",
            "\n",
            "--2023-10-12 10:33:36--  https://physionet.org/files/mitdb/1.0.0/mitdbdir/samples/2200646.xws\n",
            "Reusing existing connection to physionet.org:443.\n",
            "HTTP request sent, awaiting response... 200 OK\n",
            "Length: 91 [text/plain]\n",
            "Saving to: ‘physionet.org/files/mitdb/1.0.0/mitdbdir/samples/2200646.xws’\n",
            "\n",
            "physionet.org/files 100%[===================>]      91  --.-KB/s    in 0s      \n",
            "\n",
            "2023-10-12 10:33:36 (48.2 MB/s) - ‘physionet.org/files/mitdb/1.0.0/mitdbdir/samples/2200646.xws’ saved [91/91]\n",
            "\n",
            "--2023-10-12 10:33:36--  https://physionet.org/files/mitdb/1.0.0/mitdbdir/samples/2201041.xws\n",
            "Reusing existing connection to physionet.org:443.\n",
            "HTTP request sent, awaiting response... 200 OK\n",
            "Length: 92 [text/plain]\n",
            "Saving to: ‘physionet.org/files/mitdb/1.0.0/mitdbdir/samples/2201041.xws’\n",
            "\n",
            "physionet.org/files 100%[===================>]      92  --.-KB/s    in 0s      \n",
            "\n",
            "2023-10-12 10:33:36 (59.1 MB/s) - ‘physionet.org/files/mitdb/1.0.0/mitdbdir/samples/2201041.xws’ saved [92/92]\n",
            "\n",
            "--2023-10-12 10:33:36--  https://physionet.org/files/mitdb/1.0.0/mitdbdir/samples/2201810.xws\n",
            "Reusing existing connection to physionet.org:443.\n",
            "HTTP request sent, awaiting response... 200 OK\n",
            "Length: 92 [text/plain]\n",
            "Saving to: ‘physionet.org/files/mitdb/1.0.0/mitdbdir/samples/2201810.xws’\n",
            "\n",
            "physionet.org/files 100%[===================>]      92  --.-KB/s    in 0s      \n",
            "\n",
            "2023-10-12 10:33:36 (61.5 MB/s) - ‘physionet.org/files/mitdb/1.0.0/mitdbdir/samples/2201810.xws’ saved [92/92]\n",
            "\n",
            "--2023-10-12 10:33:36--  https://physionet.org/files/mitdb/1.0.0/mitdbdir/samples/2202029.xws\n",
            "Connecting to physionet.org (physionet.org)|18.18.42.54|:443... connected.\n",
            "HTTP request sent, awaiting response... 200 OK\n",
            "Length: 92 [text/plain]\n",
            "Saving to: ‘physionet.org/files/mitdb/1.0.0/mitdbdir/samples/2202029.xws’\n",
            "\n",
            "physionet.org/files 100%[===================>]      92  --.-KB/s    in 0s      \n",
            "\n",
            "2023-10-12 10:33:36 (55.0 MB/s) - ‘physionet.org/files/mitdb/1.0.0/mitdbdir/samples/2202029.xws’ saved [92/92]\n",
            "\n",
            "--2023-10-12 10:33:36--  https://physionet.org/files/mitdb/1.0.0/mitdbdir/samples/2202358.xws\n",
            "Reusing existing connection to physionet.org:443.\n",
            "HTTP request sent, awaiting response... 200 OK\n",
            "Length: 92 [text/plain]\n",
            "Saving to: ‘physionet.org/files/mitdb/1.0.0/mitdbdir/samples/2202358.xws’\n",
            "\n",
            "physionet.org/files 100%[===================>]      92  --.-KB/s    in 0s      \n",
            "\n",
            "2023-10-12 10:33:36 (27.5 MB/s) - ‘physionet.org/files/mitdb/1.0.0/mitdbdir/samples/2202358.xws’ saved [92/92]\n",
            "\n",
            "--2023-10-12 10:33:36--  https://physionet.org/files/mitdb/1.0.0/mitdbdir/samples/2202544.xws\n",
            "Reusing existing connection to physionet.org:443.\n",
            "HTTP request sent, awaiting response... 200 OK\n",
            "Length: 92 [text/plain]\n",
            "Saving to: ‘physionet.org/files/mitdb/1.0.0/mitdbdir/samples/2202544.xws’\n",
            "\n",
            "physionet.org/files 100%[===================>]      92  --.-KB/s    in 0s      \n",
            "\n",
            "2023-10-12 10:33:37 (34.3 MB/s) - ‘physionet.org/files/mitdb/1.0.0/mitdbdir/samples/2202544.xws’ saved [92/92]\n",
            "\n",
            "--2023-10-12 10:33:37--  https://physionet.org/files/mitdb/1.0.0/mitdbdir/samples/2202940.xws\n",
            "Reusing existing connection to physionet.org:443.\n",
            "HTTP request sent, awaiting response... 200 OK\n",
            "Length: 92 [text/plain]\n",
            "Saving to: ‘physionet.org/files/mitdb/1.0.0/mitdbdir/samples/2202940.xws’\n",
            "\n",
            "physionet.org/files 100%[===================>]      92  --.-KB/s    in 0s      \n",
            "\n",
            "2023-10-12 10:33:37 (76.8 MB/s) - ‘physionet.org/files/mitdb/1.0.0/mitdbdir/samples/2202940.xws’ saved [92/92]\n",
            "\n",
            "--2023-10-12 10:33:37--  https://physionet.org/files/mitdb/1.0.0/mitdbdir/samples/2210000.xws\n",
            "Reusing existing connection to physionet.org:443.\n",
            "HTTP request sent, awaiting response... 200 OK\n",
            "Length: 91 [text/plain]\n",
            "Saving to: ‘physionet.org/files/mitdb/1.0.0/mitdbdir/samples/2210000.xws’\n",
            "\n",
            "physionet.org/files 100%[===================>]      91  --.-KB/s    in 0s      \n",
            "\n",
            "2023-10-12 10:33:37 (57.4 MB/s) - ‘physionet.org/files/mitdb/1.0.0/mitdbdir/samples/2210000.xws’ saved [91/91]\n",
            "\n",
            "--2023-10-12 10:33:37--  https://physionet.org/files/mitdb/1.0.0/mitdbdir/samples/2210243.xws\n",
            "Reusing existing connection to physionet.org:443.\n",
            "HTTP request sent, awaiting response... 200 OK\n",
            "Length: 91 [text/plain]\n",
            "Saving to: ‘physionet.org/files/mitdb/1.0.0/mitdbdir/samples/2210243.xws’\n",
            "\n",
            "physionet.org/files 100%[===================>]      91  --.-KB/s    in 0s      \n",
            "\n",
            "2023-10-12 10:33:37 (68.0 MB/s) - ‘physionet.org/files/mitdb/1.0.0/mitdbdir/samples/2210243.xws’ saved [91/91]\n",
            "\n",
            "--2023-10-12 10:33:37--  https://physionet.org/files/mitdb/1.0.0/mitdbdir/samples/2211300.xws\n",
            "Reusing existing connection to physionet.org:443.\n",
            "HTTP request sent, awaiting response... 200 OK\n",
            "Length: 92 [text/plain]\n",
            "Saving to: ‘physionet.org/files/mitdb/1.0.0/mitdbdir/samples/2211300.xws’\n",
            "\n",
            "physionet.org/files 100%[===================>]      92  --.-KB/s    in 0s      \n",
            "\n",
            "2023-10-12 10:33:37 (26.8 MB/s) - ‘physionet.org/files/mitdb/1.0.0/mitdbdir/samples/2211300.xws’ saved [92/92]\n",
            "\n",
            "--2023-10-12 10:33:37--  https://physionet.org/files/mitdb/1.0.0/mitdbdir/samples/2211356.xws\n",
            "Reusing existing connection to physionet.org:443.\n",
            "HTTP request sent, awaiting response... 200 OK\n",
            "Length: 92 [text/plain]\n",
            "Saving to: ‘physionet.org/files/mitdb/1.0.0/mitdbdir/samples/2211356.xws’\n",
            "\n",
            "physionet.org/files 100%[===================>]      92  --.-KB/s    in 0s      \n",
            "\n",
            "2023-10-12 10:33:37 (62.8 MB/s) - ‘physionet.org/files/mitdb/1.0.0/mitdbdir/samples/2211356.xws’ saved [92/92]\n",
            "\n",
            "--2023-10-12 10:33:37--  https://physionet.org/files/mitdb/1.0.0/mitdbdir/samples/2211749.xws\n",
            "Reusing existing connection to physionet.org:443.\n",
            "HTTP request sent, awaiting response... 200 OK\n",
            "Length: 92 [text/plain]\n",
            "Saving to: ‘physionet.org/files/mitdb/1.0.0/mitdbdir/samples/2211749.xws’\n",
            "\n",
            "physionet.org/files 100%[===================>]      92  --.-KB/s    in 0s      \n",
            "\n",
            "2023-10-12 10:33:37 (43.1 MB/s) - ‘physionet.org/files/mitdb/1.0.0/mitdbdir/samples/2211749.xws’ saved [92/92]\n",
            "\n",
            "--2023-10-12 10:33:37--  https://physionet.org/files/mitdb/1.0.0/mitdbdir/samples/2211912.xws\n",
            "Reusing existing connection to physionet.org:443.\n",
            "HTTP request sent, awaiting response... 200 OK\n",
            "Length: 92 [text/plain]\n",
            "Saving to: ‘physionet.org/files/mitdb/1.0.0/mitdbdir/samples/2211912.xws’\n",
            "\n",
            "physionet.org/files 100%[===================>]      92  --.-KB/s    in 0s      \n",
            "\n",
            "2023-10-12 10:33:37 (50.6 MB/s) - ‘physionet.org/files/mitdb/1.0.0/mitdbdir/samples/2211912.xws’ saved [92/92]\n",
            "\n",
            "--2023-10-12 10:33:37--  https://physionet.org/files/mitdb/1.0.0/mitdbdir/samples/2211942.xws\n",
            "Reusing existing connection to physionet.org:443.\n",
            "HTTP request sent, awaiting response... 200 OK\n",
            "Length: 92 [text/plain]\n",
            "Saving to: ‘physionet.org/files/mitdb/1.0.0/mitdbdir/samples/2211942.xws’\n",
            "\n",
            "physionet.org/files 100%[===================>]      92  --.-KB/s    in 0s      \n",
            "\n",
            "2023-10-12 10:33:37 (60.8 MB/s) - ‘physionet.org/files/mitdb/1.0.0/mitdbdir/samples/2211942.xws’ saved [92/92]\n",
            "\n",
            "--2023-10-12 10:33:37--  https://physionet.org/files/mitdb/1.0.0/mitdbdir/samples/2212044.xws\n",
            "Reusing existing connection to physionet.org:443.\n",
            "HTTP request sent, awaiting response... 200 OK\n",
            "Length: 92 [text/plain]\n",
            "Saving to: ‘physionet.org/files/mitdb/1.0.0/mitdbdir/samples/2212044.xws’\n",
            "\n",
            "physionet.org/files 100%[===================>]      92  --.-KB/s    in 0s      \n",
            "\n",
            "2023-10-12 10:33:37 (71.8 MB/s) - ‘physionet.org/files/mitdb/1.0.0/mitdbdir/samples/2212044.xws’ saved [92/92]\n",
            "\n",
            "--2023-10-12 10:33:37--  https://physionet.org/files/mitdb/1.0.0/mitdbdir/samples/2220645.xws\n",
            "Reusing existing connection to physionet.org:443.\n",
            "HTTP request sent, awaiting response... 200 OK\n",
            "Length: 91 [text/plain]\n",
            "Saving to: ‘physionet.org/files/mitdb/1.0.0/mitdbdir/samples/2220645.xws’\n",
            "\n",
            "physionet.org/files 100%[===================>]      91  --.-KB/s    in 0s      \n",
            "\n",
            "2023-10-12 10:33:38 (60.1 MB/s) - ‘physionet.org/files/mitdb/1.0.0/mitdbdir/samples/2220645.xws’ saved [91/91]\n",
            "\n",
            "--2023-10-12 10:33:38--  https://physionet.org/files/mitdb/1.0.0/mitdbdir/samples/2221732.xws\n",
            "Reusing existing connection to physionet.org:443.\n",
            "HTTP request sent, awaiting response... 200 OK\n",
            "Length: 92 [text/plain]\n",
            "Saving to: ‘physionet.org/files/mitdb/1.0.0/mitdbdir/samples/2221732.xws’\n",
            "\n",
            "physionet.org/files 100%[===================>]      92  --.-KB/s    in 0s      \n",
            "\n",
            "2023-10-12 10:33:38 (39.7 MB/s) - ‘physionet.org/files/mitdb/1.0.0/mitdbdir/samples/2221732.xws’ saved [92/92]\n",
            "\n",
            "--2023-10-12 10:33:38--  https://physionet.org/files/mitdb/1.0.0/mitdbdir/samples/2221948.xws\n",
            "Reusing existing connection to physionet.org:443.\n",
            "HTTP request sent, awaiting response... 200 OK\n",
            "Length: 92 [text/plain]\n",
            "Saving to: ‘physionet.org/files/mitdb/1.0.0/mitdbdir/samples/2221948.xws’\n",
            "\n",
            "physionet.org/files 100%[===================>]      92  --.-KB/s    in 0s      \n",
            "\n",
            "2023-10-12 10:33:38 (5.66 MB/s) - ‘physionet.org/files/mitdb/1.0.0/mitdbdir/samples/2221948.xws’ saved [92/92]\n",
            "\n",
            "--2023-10-12 10:33:38--  https://physionet.org/files/mitdb/1.0.0/mitdbdir/samples/2222007.xws\n",
            "Reusing existing connection to physionet.org:443.\n",
            "HTTP request sent, awaiting response... 200 OK\n",
            "Length: 92 [text/plain]\n",
            "Saving to: ‘physionet.org/files/mitdb/1.0.0/mitdbdir/samples/2222007.xws’\n",
            "\n",
            "physionet.org/files 100%[===================>]      92  --.-KB/s    in 0s      \n",
            "\n",
            "2023-10-12 10:33:38 (89.5 MB/s) - ‘physionet.org/files/mitdb/1.0.0/mitdbdir/samples/2222007.xws’ saved [92/92]\n",
            "\n",
            "--2023-10-12 10:33:38--  https://physionet.org/files/mitdb/1.0.0/mitdbdir/samples/2222232.xws\n",
            "Reusing existing connection to physionet.org:443.\n",
            "HTTP request sent, awaiting response... 200 OK\n",
            "Length: 92 [text/plain]\n",
            "Saving to: ‘physionet.org/files/mitdb/1.0.0/mitdbdir/samples/2222232.xws’\n",
            "\n",
            "physionet.org/files 100%[===================>]      92  --.-KB/s    in 0s      \n",
            "\n",
            "2023-10-12 10:33:38 (81.2 MB/s) - ‘physionet.org/files/mitdb/1.0.0/mitdbdir/samples/2222232.xws’ saved [92/92]\n",
            "\n",
            "--2023-10-12 10:33:38--  https://physionet.org/files/mitdb/1.0.0/mitdbdir/samples/2222443.xws\n",
            "Reusing existing connection to physionet.org:443.\n",
            "HTTP request sent, awaiting response... 200 OK\n",
            "Length: 92 [text/plain]\n",
            "Saving to: ‘physionet.org/files/mitdb/1.0.0/mitdbdir/samples/2222443.xws’\n",
            "\n",
            "physionet.org/files 100%[===================>]      92  --.-KB/s    in 0s      \n",
            "\n",
            "2023-10-12 10:33:38 (31.4 MB/s) - ‘physionet.org/files/mitdb/1.0.0/mitdbdir/samples/2222443.xws’ saved [92/92]\n",
            "\n",
            "--2023-10-12 10:33:38--  https://physionet.org/files/mitdb/1.0.0/mitdbdir/samples/2222543.xws\n",
            "Reusing existing connection to physionet.org:443.\n",
            "HTTP request sent, awaiting response... 200 OK\n",
            "Length: 92 [text/plain]\n",
            "Saving to: ‘physionet.org/files/mitdb/1.0.0/mitdbdir/samples/2222543.xws’\n",
            "\n",
            "physionet.org/files 100%[===================>]      92  --.-KB/s    in 0s      \n",
            "\n",
            "2023-10-12 10:33:38 (54.3 MB/s) - ‘physionet.org/files/mitdb/1.0.0/mitdbdir/samples/2222543.xws’ saved [92/92]\n",
            "\n",
            "--2023-10-12 10:33:38--  https://physionet.org/files/mitdb/1.0.0/mitdbdir/samples/2222609.xws\n",
            "Reusing existing connection to physionet.org:443.\n",
            "HTTP request sent, awaiting response... 200 OK\n",
            "Length: 92 [text/plain]\n",
            "Saving to: ‘physionet.org/files/mitdb/1.0.0/mitdbdir/samples/2222609.xws’\n",
            "\n",
            "physionet.org/files 100%[===================>]      92  --.-KB/s    in 0s      \n",
            "\n",
            "2023-10-12 10:33:38 (42.0 MB/s) - ‘physionet.org/files/mitdb/1.0.0/mitdbdir/samples/2222609.xws’ saved [92/92]\n",
            "\n",
            "--2023-10-12 10:33:38--  https://physionet.org/files/mitdb/1.0.0/mitdbdir/samples/2230935.xws\n",
            "Reusing existing connection to physionet.org:443.\n",
            "HTTP request sent, awaiting response... 200 OK\n",
            "Length: 91 [text/plain]\n",
            "Saving to: ‘physionet.org/files/mitdb/1.0.0/mitdbdir/samples/2230935.xws’\n",
            "\n",
            "physionet.org/files 100%[===================>]      91  --.-KB/s    in 0s      \n",
            "\n",
            "2023-10-12 10:33:38 (87.4 MB/s) - ‘physionet.org/files/mitdb/1.0.0/mitdbdir/samples/2230935.xws’ saved [91/91]\n",
            "\n",
            "--2023-10-12 10:33:38--  https://physionet.org/files/mitdb/1.0.0/mitdbdir/samples/2231235.xws\n",
            "Reusing existing connection to physionet.org:443.\n",
            "HTTP request sent, awaiting response... 200 OK\n",
            "Length: 92 [text/plain]\n",
            "Saving to: ‘physionet.org/files/mitdb/1.0.0/mitdbdir/samples/2231235.xws’\n",
            "\n",
            "physionet.org/files 100%[===================>]      92  --.-KB/s    in 0s      \n",
            "\n",
            "2023-10-12 10:33:38 (84.6 MB/s) - ‘physionet.org/files/mitdb/1.0.0/mitdbdir/samples/2231235.xws’ saved [92/92]\n",
            "\n",
            "--2023-10-12 10:33:38--  https://physionet.org/files/mitdb/1.0.0/mitdbdir/samples/2231339.xws\n",
            "Reusing existing connection to physionet.org:443.\n",
            "HTTP request sent, awaiting response... 200 OK\n",
            "Length: 92 [text/plain]\n",
            "Saving to: ‘physionet.org/files/mitdb/1.0.0/mitdbdir/samples/2231339.xws’\n",
            "\n",
            "physionet.org/files 100%[===================>]      92  --.-KB/s    in 0s      \n",
            "\n",
            "2023-10-12 10:33:38 (57.2 MB/s) - ‘physionet.org/files/mitdb/1.0.0/mitdbdir/samples/2231339.xws’ saved [92/92]\n",
            "\n",
            "--2023-10-12 10:33:38--  https://physionet.org/files/mitdb/1.0.0/mitdbdir/samples/2231351.xws\n",
            "Reusing existing connection to physionet.org:443.\n",
            "HTTP request sent, awaiting response... 200 OK\n",
            "Length: 92 [text/plain]\n",
            "Saving to: ‘physionet.org/files/mitdb/1.0.0/mitdbdir/samples/2231351.xws’\n",
            "\n",
            "physionet.org/files 100%[===================>]      92  --.-KB/s    in 0s      \n",
            "\n",
            "2023-10-12 10:33:39 (30.7 MB/s) - ‘physionet.org/files/mitdb/1.0.0/mitdbdir/samples/2231351.xws’ saved [92/92]\n",
            "\n",
            "--2023-10-12 10:33:39--  https://physionet.org/files/mitdb/1.0.0/mitdbdir/samples/2231721.xws\n",
            "Reusing existing connection to physionet.org:443.\n",
            "HTTP request sent, awaiting response... 200 OK\n",
            "Length: 92 [text/plain]\n",
            "Saving to: ‘physionet.org/files/mitdb/1.0.0/mitdbdir/samples/2231721.xws’\n",
            "\n",
            "physionet.org/files 100%[===================>]      92  --.-KB/s    in 0s      \n",
            "\n",
            "2023-10-12 10:33:39 (26.9 MB/s) - ‘physionet.org/files/mitdb/1.0.0/mitdbdir/samples/2231721.xws’ saved [92/92]\n",
            "\n",
            "--2023-10-12 10:33:39--  https://physionet.org/files/mitdb/1.0.0/mitdbdir/samples/2231755.xws\n",
            "Reusing existing connection to physionet.org:443.\n",
            "HTTP request sent, awaiting response... 200 OK\n",
            "Length: 92 [text/plain]\n",
            "Saving to: ‘physionet.org/files/mitdb/1.0.0/mitdbdir/samples/2231755.xws’\n",
            "\n",
            "physionet.org/files 100%[===================>]      92  --.-KB/s    in 0s      \n",
            "\n",
            "2023-10-12 10:33:39 (45.1 MB/s) - ‘physionet.org/files/mitdb/1.0.0/mitdbdir/samples/2231755.xws’ saved [92/92]\n",
            "\n",
            "--2023-10-12 10:33:39--  https://physionet.org/files/mitdb/1.0.0/mitdbdir/samples/2231907.xws\n",
            "Reusing existing connection to physionet.org:443.\n",
            "HTTP request sent, awaiting response... 200 OK\n",
            "Length: 92 [text/plain]\n",
            "Saving to: ‘physionet.org/files/mitdb/1.0.0/mitdbdir/samples/2231907.xws’\n",
            "\n",
            "physionet.org/files 100%[===================>]      92  --.-KB/s    in 0s      \n",
            "\n",
            "2023-10-12 10:33:39 (31.8 MB/s) - ‘physionet.org/files/mitdb/1.0.0/mitdbdir/samples/2231907.xws’ saved [92/92]\n",
            "\n",
            "--2023-10-12 10:33:39--  https://physionet.org/files/mitdb/1.0.0/mitdbdir/samples/2232358.xws\n",
            "Reusing existing connection to physionet.org:443.\n",
            "HTTP request sent, awaiting response... 200 OK\n",
            "Length: 92 [text/plain]\n",
            "Saving to: ‘physionet.org/files/mitdb/1.0.0/mitdbdir/samples/2232358.xws’\n",
            "\n",
            "physionet.org/files 100%[===================>]      92  --.-KB/s    in 0s      \n",
            "\n",
            "2023-10-12 10:33:39 (36.3 MB/s) - ‘physionet.org/files/mitdb/1.0.0/mitdbdir/samples/2232358.xws’ saved [92/92]\n",
            "\n",
            "--2023-10-12 10:33:39--  https://physionet.org/files/mitdb/1.0.0/mitdbdir/samples/2232547.xws\n",
            "Reusing existing connection to physionet.org:443.\n",
            "HTTP request sent, awaiting response... 200 OK\n",
            "Length: 92 [text/plain]\n",
            "Saving to: ‘physionet.org/files/mitdb/1.0.0/mitdbdir/samples/2232547.xws’\n",
            "\n",
            "physionet.org/files 100%[===================>]      92  --.-KB/s    in 0s      \n",
            "\n",
            "2023-10-12 10:33:39 (43.8 MB/s) - ‘physionet.org/files/mitdb/1.0.0/mitdbdir/samples/2232547.xws’ saved [92/92]\n",
            "\n",
            "--2023-10-12 10:33:39--  https://physionet.org/files/mitdb/1.0.0/mitdbdir/samples/2232916.xws\n",
            "Reusing existing connection to physionet.org:443.\n",
            "HTTP request sent, awaiting response... 200 OK\n",
            "Length: 92 [text/plain]\n",
            "Saving to: ‘physionet.org/files/mitdb/1.0.0/mitdbdir/samples/2232916.xws’\n",
            "\n",
            "physionet.org/files 100%[===================>]      92  --.-KB/s    in 0s      \n",
            "\n",
            "2023-10-12 10:33:39 (36.3 MB/s) - ‘physionet.org/files/mitdb/1.0.0/mitdbdir/samples/2232916.xws’ saved [92/92]\n",
            "\n",
            "--2023-10-12 10:33:39--  https://physionet.org/files/mitdb/1.0.0/mitdbdir/samples/2232951.xws\n",
            "Reusing existing connection to physionet.org:443.\n",
            "HTTP request sent, awaiting response... 200 OK\n",
            "Length: 92 [text/plain]\n",
            "Saving to: ‘physionet.org/files/mitdb/1.0.0/mitdbdir/samples/2232951.xws’\n",
            "\n",
            "physionet.org/files 100%[===================>]      92  --.-KB/s    in 0s      \n",
            "\n",
            "2023-10-12 10:33:39 (68.2 MB/s) - ‘physionet.org/files/mitdb/1.0.0/mitdbdir/samples/2232951.xws’ saved [92/92]\n",
            "\n",
            "--2023-10-12 10:33:39--  https://physionet.org/files/mitdb/1.0.0/mitdbdir/samples/2280019.xws\n",
            "Reusing existing connection to physionet.org:443.\n",
            "HTTP request sent, awaiting response... 200 OK\n",
            "Length: 91 [text/plain]\n",
            "Saving to: ‘physionet.org/files/mitdb/1.0.0/mitdbdir/samples/2280019.xws’\n",
            "\n",
            "physionet.org/files 100%[===================>]      91  --.-KB/s    in 0s      \n",
            "\n",
            "2023-10-12 10:33:39 (53.8 MB/s) - ‘physionet.org/files/mitdb/1.0.0/mitdbdir/samples/2280019.xws’ saved [91/91]\n",
            "\n",
            "--2023-10-12 10:33:39--  https://physionet.org/files/mitdb/1.0.0/mitdbdir/samples/2280038.xws\n",
            "Reusing existing connection to physionet.org:443.\n",
            "HTTP request sent, awaiting response... 200 OK\n",
            "Length: 91 [text/plain]\n",
            "Saving to: ‘physionet.org/files/mitdb/1.0.0/mitdbdir/samples/2280038.xws’\n",
            "\n",
            "physionet.org/files 100%[===================>]      91  --.-KB/s    in 0s      \n",
            "\n",
            "2023-10-12 10:33:39 (55.7 MB/s) - ‘physionet.org/files/mitdb/1.0.0/mitdbdir/samples/2280038.xws’ saved [91/91]\n",
            "\n",
            "--2023-10-12 10:33:39--  https://physionet.org/files/mitdb/1.0.0/mitdbdir/samples/2280050.xws\n",
            "Reusing existing connection to physionet.org:443.\n",
            "HTTP request sent, awaiting response... 200 OK\n",
            "Length: 91 [text/plain]\n",
            "Saving to: ‘physionet.org/files/mitdb/1.0.0/mitdbdir/samples/2280050.xws’\n",
            "\n",
            "physionet.org/files 100%[===================>]      91  --.-KB/s    in 0s      \n",
            "\n",
            "2023-10-12 10:33:40 (53.5 MB/s) - ‘physionet.org/files/mitdb/1.0.0/mitdbdir/samples/2280050.xws’ saved [91/91]\n",
            "\n",
            "--2023-10-12 10:33:40--  https://physionet.org/files/mitdb/1.0.0/mitdbdir/samples/2280435.xws\n",
            "Reusing existing connection to physionet.org:443.\n",
            "HTTP request sent, awaiting response... 200 OK\n",
            "Length: 91 [text/plain]\n",
            "Saving to: ‘physionet.org/files/mitdb/1.0.0/mitdbdir/samples/2280435.xws’\n",
            "\n",
            "physionet.org/files 100%[===================>]      91  --.-KB/s    in 0s      \n",
            "\n",
            "2023-10-12 10:33:40 (40.1 MB/s) - ‘physionet.org/files/mitdb/1.0.0/mitdbdir/samples/2280435.xws’ saved [91/91]\n",
            "\n",
            "--2023-10-12 10:33:40--  https://physionet.org/files/mitdb/1.0.0/mitdbdir/samples/2281918.xws\n",
            "Reusing existing connection to physionet.org:443.\n",
            "HTTP request sent, awaiting response... 200 OK\n",
            "Length: 92 [text/plain]\n",
            "Saving to: ‘physionet.org/files/mitdb/1.0.0/mitdbdir/samples/2281918.xws’\n",
            "\n",
            "physionet.org/files 100%[===================>]      92  --.-KB/s    in 0s      \n",
            "\n",
            "2023-10-12 10:33:40 (47.7 MB/s) - ‘physionet.org/files/mitdb/1.0.0/mitdbdir/samples/2281918.xws’ saved [92/92]\n",
            "\n",
            "--2023-10-12 10:33:40--  https://physionet.org/files/mitdb/1.0.0/mitdbdir/samples/2282008.xws\n",
            "Reusing existing connection to physionet.org:443.\n",
            "HTTP request sent, awaiting response... 200 OK\n",
            "Length: 92 [text/plain]\n",
            "Saving to: ‘physionet.org/files/mitdb/1.0.0/mitdbdir/samples/2282008.xws’\n",
            "\n",
            "physionet.org/files 100%[===================>]      92  --.-KB/s    in 0s      \n",
            "\n",
            "2023-10-12 10:33:40 (37.5 MB/s) - ‘physionet.org/files/mitdb/1.0.0/mitdbdir/samples/2282008.xws’ saved [92/92]\n",
            "\n",
            "--2023-10-12 10:33:40--  https://physionet.org/files/mitdb/1.0.0/mitdbdir/samples/2282137.xws\n",
            "Reusing existing connection to physionet.org:443.\n",
            "HTTP request sent, awaiting response... 200 OK\n",
            "Length: 92 [text/plain]\n",
            "Saving to: ‘physionet.org/files/mitdb/1.0.0/mitdbdir/samples/2282137.xws’\n",
            "\n",
            "physionet.org/files 100%[===================>]      92  --.-KB/s    in 0s      \n",
            "\n",
            "2023-10-12 10:33:40 (72.9 MB/s) - ‘physionet.org/files/mitdb/1.0.0/mitdbdir/samples/2282137.xws’ saved [92/92]\n",
            "\n",
            "--2023-10-12 10:33:40--  https://physionet.org/files/mitdb/1.0.0/mitdbdir/samples/2282149.xws\n",
            "Reusing existing connection to physionet.org:443.\n",
            "HTTP request sent, awaiting response... 200 OK\n",
            "Length: 92 [text/plain]\n",
            "Saving to: ‘physionet.org/files/mitdb/1.0.0/mitdbdir/samples/2282149.xws’\n",
            "\n",
            "physionet.org/files 100%[===================>]      92  --.-KB/s    in 0s      \n",
            "\n",
            "2023-10-12 10:33:40 (36.2 MB/s) - ‘physionet.org/files/mitdb/1.0.0/mitdbdir/samples/2282149.xws’ saved [92/92]\n",
            "\n",
            "--2023-10-12 10:33:40--  https://physionet.org/files/mitdb/1.0.0/mitdbdir/samples/2282642.xws\n",
            "Reusing existing connection to physionet.org:443.\n",
            "HTTP request sent, awaiting response... 200 OK\n",
            "Length: 92 [text/plain]\n",
            "Saving to: ‘physionet.org/files/mitdb/1.0.0/mitdbdir/samples/2282642.xws’\n",
            "\n",
            "physionet.org/files 100%[===================>]      92  --.-KB/s    in 0s      \n",
            "\n",
            "2023-10-12 10:33:40 (47.5 MB/s) - ‘physionet.org/files/mitdb/1.0.0/mitdbdir/samples/2282642.xws’ saved [92/92]\n",
            "\n",
            "--2023-10-12 10:33:40--  https://physionet.org/files/mitdb/1.0.0/mitdbdir/samples/2300000.xws\n",
            "Reusing existing connection to physionet.org:443.\n",
            "HTTP request sent, awaiting response... 200 OK\n",
            "Length: 91 [text/plain]\n",
            "Saving to: ‘physionet.org/files/mitdb/1.0.0/mitdbdir/samples/2300000.xws’\n",
            "\n",
            "physionet.org/files 100%[===================>]      91  --.-KB/s    in 0s      \n",
            "\n",
            "2023-10-12 10:33:40 (40.2 MB/s) - ‘physionet.org/files/mitdb/1.0.0/mitdbdir/samples/2300000.xws’ saved [91/91]\n",
            "\n",
            "--2023-10-12 10:33:40--  https://physionet.org/files/mitdb/1.0.0/mitdbdir/samples/2300012.xws\n",
            "Reusing existing connection to physionet.org:443.\n",
            "HTTP request sent, awaiting response... 200 OK\n",
            "Length: 91 [text/plain]\n",
            "Saving to: ‘physionet.org/files/mitdb/1.0.0/mitdbdir/samples/2300012.xws’\n",
            "\n",
            "physionet.org/files 100%[===================>]      91  --.-KB/s    in 0s      \n",
            "\n",
            "2023-10-12 10:33:40 (48.0 MB/s) - ‘physionet.org/files/mitdb/1.0.0/mitdbdir/samples/2300012.xws’ saved [91/91]\n",
            "\n",
            "--2023-10-12 10:33:40--  https://physionet.org/files/mitdb/1.0.0/mitdbdir/samples/2300511.xws\n",
            "Reusing existing connection to physionet.org:443.\n",
            "HTTP request sent, awaiting response... 200 OK\n",
            "Length: 91 [text/plain]\n",
            "Saving to: ‘physionet.org/files/mitdb/1.0.0/mitdbdir/samples/2300511.xws’\n",
            "\n",
            "physionet.org/files 100%[===================>]      91  --.-KB/s    in 0s      \n",
            "\n",
            "2023-10-12 10:33:40 (54.1 MB/s) - ‘physionet.org/files/mitdb/1.0.0/mitdbdir/samples/2300511.xws’ saved [91/91]\n",
            "\n",
            "--2023-10-12 10:33:40--  https://physionet.org/files/mitdb/1.0.0/mitdbdir/samples/2300926.xws\n",
            "Reusing existing connection to physionet.org:443.\n",
            "HTTP request sent, awaiting response... 200 OK\n",
            "Length: 91 [text/plain]\n",
            "Saving to: ‘physionet.org/files/mitdb/1.0.0/mitdbdir/samples/2300926.xws’\n",
            "\n",
            "physionet.org/files 100%[===================>]      91  --.-KB/s    in 0s      \n",
            "\n",
            "2023-10-12 10:33:41 (32.4 MB/s) - ‘physionet.org/files/mitdb/1.0.0/mitdbdir/samples/2300926.xws’ saved [91/91]\n",
            "\n",
            "--2023-10-12 10:33:41--  https://physionet.org/files/mitdb/1.0.0/mitdbdir/samples/2302904.xws\n",
            "Reusing existing connection to physionet.org:443.\n",
            "HTTP request sent, awaiting response... 200 OK\n",
            "Length: 92 [text/plain]\n",
            "Saving to: ‘physionet.org/files/mitdb/1.0.0/mitdbdir/samples/2302904.xws’\n",
            "\n",
            "physionet.org/files 100%[===================>]      92  --.-KB/s    in 0s      \n",
            "\n",
            "2023-10-12 10:33:41 (52.0 MB/s) - ‘physionet.org/files/mitdb/1.0.0/mitdbdir/samples/2302904.xws’ saved [92/92]\n",
            "\n",
            "--2023-10-12 10:33:41--  https://physionet.org/files/mitdb/1.0.0/mitdbdir/samples/2310002.xws\n",
            "Reusing existing connection to physionet.org:443.\n",
            "HTTP request sent, awaiting response... 200 OK\n",
            "Length: 91 [text/plain]\n",
            "Saving to: ‘physionet.org/files/mitdb/1.0.0/mitdbdir/samples/2310002.xws’\n",
            "\n",
            "physionet.org/files 100%[===================>]      91  --.-KB/s    in 0s      \n",
            "\n",
            "2023-10-12 10:33:41 (55.4 MB/s) - ‘physionet.org/files/mitdb/1.0.0/mitdbdir/samples/2310002.xws’ saved [91/91]\n",
            "\n",
            "--2023-10-12 10:33:41--  https://physionet.org/files/mitdb/1.0.0/mitdbdir/samples/2310224.xws\n",
            "Reusing existing connection to physionet.org:443.\n",
            "HTTP request sent, awaiting response... 200 OK\n",
            "Length: 91 [text/plain]\n",
            "Saving to: ‘physionet.org/files/mitdb/1.0.0/mitdbdir/samples/2310224.xws’\n",
            "\n",
            "physionet.org/files 100%[===================>]      91  --.-KB/s    in 0s      \n",
            "\n",
            "2023-10-12 10:33:41 (56.3 MB/s) - ‘physionet.org/files/mitdb/1.0.0/mitdbdir/samples/2310224.xws’ saved [91/91]\n",
            "\n",
            "--2023-10-12 10:33:41--  https://physionet.org/files/mitdb/1.0.0/mitdbdir/samples/2312011.xws\n",
            "Reusing existing connection to physionet.org:443.\n",
            "HTTP request sent, awaiting response... 200 OK\n",
            "Length: 92 [text/plain]\n",
            "Saving to: ‘physionet.org/files/mitdb/1.0.0/mitdbdir/samples/2312011.xws’\n",
            "\n",
            "physionet.org/files 100%[===================>]      92  --.-KB/s    in 0s      \n",
            "\n",
            "2023-10-12 10:33:41 (35.8 MB/s) - ‘physionet.org/files/mitdb/1.0.0/mitdbdir/samples/2312011.xws’ saved [92/92]\n",
            "\n",
            "--2023-10-12 10:33:41--  https://physionet.org/files/mitdb/1.0.0/mitdbdir/samples/2312110.xws\n",
            "Reusing existing connection to physionet.org:443.\n",
            "HTTP request sent, awaiting response... 200 OK\n",
            "Length: 92 [text/plain]\n",
            "Saving to: ‘physionet.org/files/mitdb/1.0.0/mitdbdir/samples/2312110.xws’\n",
            "\n",
            "physionet.org/files 100%[===================>]      92  --.-KB/s    in 0s      \n",
            "\n",
            "2023-10-12 10:33:41 (41.4 MB/s) - ‘physionet.org/files/mitdb/1.0.0/mitdbdir/samples/2312110.xws’ saved [92/92]\n",
            "\n",
            "--2023-10-12 10:33:41--  https://physionet.org/files/mitdb/1.0.0/mitdbdir/samples/2312322.xws\n",
            "Reusing existing connection to physionet.org:443.\n",
            "HTTP request sent, awaiting response... 200 OK\n",
            "Length: 92 [text/plain]\n",
            "Saving to: ‘physionet.org/files/mitdb/1.0.0/mitdbdir/samples/2312322.xws’\n",
            "\n",
            "physionet.org/files 100%[===================>]      92  --.-KB/s    in 0s      \n",
            "\n",
            "2023-10-12 10:33:41 (44.4 MB/s) - ‘physionet.org/files/mitdb/1.0.0/mitdbdir/samples/2312322.xws’ saved [92/92]\n",
            "\n",
            "--2023-10-12 10:33:41--  https://physionet.org/files/mitdb/1.0.0/mitdbdir/samples/2320058.xws\n",
            "Reusing existing connection to physionet.org:443.\n",
            "HTTP request sent, awaiting response... 200 OK\n",
            "Length: 91 [text/plain]\n",
            "Saving to: ‘physionet.org/files/mitdb/1.0.0/mitdbdir/samples/2320058.xws’\n",
            "\n",
            "physionet.org/files 100%[===================>]      91  --.-KB/s    in 0s      \n",
            "\n",
            "2023-10-12 10:33:41 (85.4 MB/s) - ‘physionet.org/files/mitdb/1.0.0/mitdbdir/samples/2320058.xws’ saved [91/91]\n",
            "\n",
            "--2023-10-12 10:33:41--  https://physionet.org/files/mitdb/1.0.0/mitdbdir/samples/2320151.xws\n",
            "Reusing existing connection to physionet.org:443.\n",
            "HTTP request sent, awaiting response... 200 OK\n",
            "Length: 91 [text/plain]\n",
            "Saving to: ‘physionet.org/files/mitdb/1.0.0/mitdbdir/samples/2320151.xws’\n",
            "\n",
            "physionet.org/files 100%[===================>]      91  --.-KB/s    in 0s      \n",
            "\n",
            "2023-10-12 10:33:41 (88.4 MB/s) - ‘physionet.org/files/mitdb/1.0.0/mitdbdir/samples/2320151.xws’ saved [91/91]\n",
            "\n",
            "--2023-10-12 10:33:41--  https://physionet.org/files/mitdb/1.0.0/mitdbdir/samples/2321151.xws\n",
            "Reusing existing connection to physionet.org:443.\n",
            "HTTP request sent, awaiting response... 200 OK\n",
            "Length: 92 [text/plain]\n",
            "Saving to: ‘physionet.org/files/mitdb/1.0.0/mitdbdir/samples/2321151.xws’\n",
            "\n",
            "physionet.org/files 100%[===================>]      92  --.-KB/s    in 0s      \n",
            "\n",
            "2023-10-12 10:33:41 (74.4 MB/s) - ‘physionet.org/files/mitdb/1.0.0/mitdbdir/samples/2321151.xws’ saved [92/92]\n",
            "\n",
            "--2023-10-12 10:33:41--  https://physionet.org/files/mitdb/1.0.0/mitdbdir/samples/2321306.xws\n",
            "Reusing existing connection to physionet.org:443.\n",
            "HTTP request sent, awaiting response... 200 OK\n",
            "Length: 92 [text/plain]\n",
            "Saving to: ‘physionet.org/files/mitdb/1.0.0/mitdbdir/samples/2321306.xws’\n",
            "\n",
            "physionet.org/files 100%[===================>]      92  --.-KB/s    in 0s      \n",
            "\n",
            "2023-10-12 10:33:41 (67.8 MB/s) - ‘physionet.org/files/mitdb/1.0.0/mitdbdir/samples/2321306.xws’ saved [92/92]\n",
            "\n",
            "--2023-10-12 10:33:41--  https://physionet.org/files/mitdb/1.0.0/mitdbdir/samples/2321509.xws\n",
            "Reusing existing connection to physionet.org:443.\n",
            "HTTP request sent, awaiting response... 200 OK\n",
            "Length: 92 [text/plain]\n",
            "Saving to: ‘physionet.org/files/mitdb/1.0.0/mitdbdir/samples/2321509.xws’\n",
            "\n",
            "physionet.org/files 100%[===================>]      92  --.-KB/s    in 0s      \n",
            "\n",
            "2023-10-12 10:33:42 (54.0 MB/s) - ‘physionet.org/files/mitdb/1.0.0/mitdbdir/samples/2321509.xws’ saved [92/92]\n",
            "\n",
            "--2023-10-12 10:33:42--  https://physionet.org/files/mitdb/1.0.0/mitdbdir/samples/2321817.xws\n",
            "Reusing existing connection to physionet.org:443.\n",
            "HTTP request sent, awaiting response... 200 OK\n",
            "Length: 92 [text/plain]\n",
            "Saving to: ‘physionet.org/files/mitdb/1.0.0/mitdbdir/samples/2321817.xws’\n",
            "\n",
            "physionet.org/files 100%[===================>]      92  --.-KB/s    in 0s      \n",
            "\n",
            "2023-10-12 10:33:42 (56.9 MB/s) - ‘physionet.org/files/mitdb/1.0.0/mitdbdir/samples/2321817.xws’ saved [92/92]\n",
            "\n",
            "--2023-10-12 10:33:42--  https://physionet.org/files/mitdb/1.0.0/mitdbdir/samples/2322231.xws\n",
            "Reusing existing connection to physionet.org:443.\n",
            "HTTP request sent, awaiting response... 200 OK\n",
            "Length: 92 [text/plain]\n",
            "Saving to: ‘physionet.org/files/mitdb/1.0.0/mitdbdir/samples/2322231.xws’\n",
            "\n",
            "physionet.org/files 100%[===================>]      92  --.-KB/s    in 0s      \n",
            "\n",
            "2023-10-12 10:33:42 (63.4 MB/s) - ‘physionet.org/files/mitdb/1.0.0/mitdbdir/samples/2322231.xws’ saved [92/92]\n",
            "\n",
            "--2023-10-12 10:33:42--  https://physionet.org/files/mitdb/1.0.0/mitdbdir/samples/2322247.xws\n",
            "Reusing existing connection to physionet.org:443.\n",
            "HTTP request sent, awaiting response... 200 OK\n",
            "Length: 92 [text/plain]\n",
            "Saving to: ‘physionet.org/files/mitdb/1.0.0/mitdbdir/samples/2322247.xws’\n",
            "\n",
            "physionet.org/files 100%[===================>]      92  --.-KB/s    in 0s      \n",
            "\n",
            "2023-10-12 10:33:42 (58.4 MB/s) - ‘physionet.org/files/mitdb/1.0.0/mitdbdir/samples/2322247.xws’ saved [92/92]\n",
            "\n",
            "--2023-10-12 10:33:42--  https://physionet.org/files/mitdb/1.0.0/mitdbdir/samples/2322320.xws\n",
            "Reusing existing connection to physionet.org:443.\n",
            "HTTP request sent, awaiting response... 200 OK\n",
            "Length: 92 [text/plain]\n",
            "Saving to: ‘physionet.org/files/mitdb/1.0.0/mitdbdir/samples/2322320.xws’\n",
            "\n",
            "physionet.org/files 100%[===================>]      92  --.-KB/s    in 0s      \n",
            "\n",
            "2023-10-12 10:33:42 (58.8 MB/s) - ‘physionet.org/files/mitdb/1.0.0/mitdbdir/samples/2322320.xws’ saved [92/92]\n",
            "\n",
            "--2023-10-12 10:33:42--  https://physionet.org/files/mitdb/1.0.0/mitdbdir/samples/2322334.xws\n",
            "Reusing existing connection to physionet.org:443.\n",
            "HTTP request sent, awaiting response... 200 OK\n",
            "Length: 92 [text/plain]\n",
            "Saving to: ‘physionet.org/files/mitdb/1.0.0/mitdbdir/samples/2322334.xws’\n",
            "\n",
            "physionet.org/files 100%[===================>]      92  --.-KB/s    in 0s      \n",
            "\n",
            "2023-10-12 10:33:42 (38.0 MB/s) - ‘physionet.org/files/mitdb/1.0.0/mitdbdir/samples/2322334.xws’ saved [92/92]\n",
            "\n",
            "--2023-10-12 10:33:42--  https://physionet.org/files/mitdb/1.0.0/mitdbdir/samples/2322353.xws\n",
            "Reusing existing connection to physionet.org:443.\n",
            "HTTP request sent, awaiting response... 200 OK\n",
            "Length: 92 [text/plain]\n",
            "Saving to: ‘physionet.org/files/mitdb/1.0.0/mitdbdir/samples/2322353.xws’\n",
            "\n",
            "physionet.org/files 100%[===================>]      92  --.-KB/s    in 0s      \n",
            "\n",
            "2023-10-12 10:33:42 (55.6 MB/s) - ‘physionet.org/files/mitdb/1.0.0/mitdbdir/samples/2322353.xws’ saved [92/92]\n",
            "\n",
            "--2023-10-12 10:33:42--  https://physionet.org/files/mitdb/1.0.0/mitdbdir/samples/2330011.xws\n",
            "Reusing existing connection to physionet.org:443.\n",
            "HTTP request sent, awaiting response... 200 OK\n",
            "Length: 91 [text/plain]\n",
            "Saving to: ‘physionet.org/files/mitdb/1.0.0/mitdbdir/samples/2330011.xws’\n",
            "\n",
            "physionet.org/files 100%[===================>]      91  --.-KB/s    in 0s      \n",
            "\n",
            "2023-10-12 10:33:42 (70.3 MB/s) - ‘physionet.org/files/mitdb/1.0.0/mitdbdir/samples/2330011.xws’ saved [91/91]\n",
            "\n",
            "--2023-10-12 10:33:42--  https://physionet.org/files/mitdb/1.0.0/mitdbdir/samples/2330025.xws\n",
            "Reusing existing connection to physionet.org:443.\n",
            "HTTP request sent, awaiting response... 200 OK\n",
            "Length: 91 [text/plain]\n",
            "Saving to: ‘physionet.org/files/mitdb/1.0.0/mitdbdir/samples/2330025.xws’\n",
            "\n",
            "physionet.org/files 100%[===================>]      91  --.-KB/s    in 0s      \n",
            "\n",
            "2023-10-12 10:33:42 (66.3 MB/s) - ‘physionet.org/files/mitdb/1.0.0/mitdbdir/samples/2330025.xws’ saved [91/91]\n",
            "\n",
            "--2023-10-12 10:33:42--  https://physionet.org/files/mitdb/1.0.0/mitdbdir/samples/2330218.xws\n",
            "Reusing existing connection to physionet.org:443.\n",
            "HTTP request sent, awaiting response... 200 OK\n",
            "Length: 91 [text/plain]\n",
            "Saving to: ‘physionet.org/files/mitdb/1.0.0/mitdbdir/samples/2330218.xws’\n",
            "\n",
            "physionet.org/files 100%[===================>]      91  --.-KB/s    in 0s      \n",
            "\n",
            "2023-10-12 10:33:42 (50.4 MB/s) - ‘physionet.org/files/mitdb/1.0.0/mitdbdir/samples/2330218.xws’ saved [91/91]\n",
            "\n",
            "--2023-10-12 10:33:42--  https://physionet.org/files/mitdb/1.0.0/mitdbdir/samples/2330243.xws\n",
            "Reusing existing connection to physionet.org:443.\n",
            "HTTP request sent, awaiting response... 200 OK\n",
            "Length: 91 [text/plain]\n",
            "Saving to: ‘physionet.org/files/mitdb/1.0.0/mitdbdir/samples/2330243.xws’\n",
            "\n",
            "physionet.org/files 100%[===================>]      91  --.-KB/s    in 0s      \n",
            "\n",
            "2023-10-12 10:33:43 (44.3 MB/s) - ‘physionet.org/files/mitdb/1.0.0/mitdbdir/samples/2330243.xws’ saved [91/91]\n",
            "\n",
            "--2023-10-12 10:33:43--  https://physionet.org/files/mitdb/1.0.0/mitdbdir/samples/2330339.xws\n",
            "Reusing existing connection to physionet.org:443.\n",
            "HTTP request sent, awaiting response... 200 OK\n",
            "Length: 91 [text/plain]\n",
            "Saving to: ‘physionet.org/files/mitdb/1.0.0/mitdbdir/samples/2330339.xws’\n",
            "\n",
            "physionet.org/files 100%[===================>]      91  --.-KB/s    in 0s      \n",
            "\n",
            "2023-10-12 10:33:43 (48.0 MB/s) - ‘physionet.org/files/mitdb/1.0.0/mitdbdir/samples/2330339.xws’ saved [91/91]\n",
            "\n",
            "--2023-10-12 10:33:43--  https://physionet.org/files/mitdb/1.0.0/mitdbdir/samples/2330502.xws\n",
            "Reusing existing connection to physionet.org:443.\n",
            "HTTP request sent, awaiting response... 200 OK\n",
            "Length: 91 [text/plain]\n",
            "Saving to: ‘physionet.org/files/mitdb/1.0.0/mitdbdir/samples/2330502.xws’\n",
            "\n",
            "physionet.org/files 100%[===================>]      91  --.-KB/s    in 0s      \n",
            "\n",
            "2023-10-12 10:33:43 (77.7 MB/s) - ‘physionet.org/files/mitdb/1.0.0/mitdbdir/samples/2330502.xws’ saved [91/91]\n",
            "\n",
            "--2023-10-12 10:33:43--  https://physionet.org/files/mitdb/1.0.0/mitdbdir/samples/2330943.xws\n",
            "Reusing existing connection to physionet.org:443.\n",
            "HTTP request sent, awaiting response... 200 OK\n",
            "Length: 91 [text/plain]\n",
            "Saving to: ‘physionet.org/files/mitdb/1.0.0/mitdbdir/samples/2330943.xws’\n",
            "\n",
            "physionet.org/files 100%[===================>]      91  --.-KB/s    in 0s      \n",
            "\n",
            "2023-10-12 10:33:43 (67.7 MB/s) - ‘physionet.org/files/mitdb/1.0.0/mitdbdir/samples/2330943.xws’ saved [91/91]\n",
            "\n",
            "--2023-10-12 10:33:43--  https://physionet.org/files/mitdb/1.0.0/mitdbdir/samples/2331620.xws\n",
            "Reusing existing connection to physionet.org:443.\n",
            "HTTP request sent, awaiting response... 200 OK\n",
            "Length: 92 [text/plain]\n",
            "Saving to: ‘physionet.org/files/mitdb/1.0.0/mitdbdir/samples/2331620.xws’\n",
            "\n",
            "physionet.org/files 100%[===================>]      92  --.-KB/s    in 0s      \n",
            "\n",
            "2023-10-12 10:33:43 (47.9 MB/s) - ‘physionet.org/files/mitdb/1.0.0/mitdbdir/samples/2331620.xws’ saved [92/92]\n",
            "\n",
            "--2023-10-12 10:33:43--  https://physionet.org/files/mitdb/1.0.0/mitdbdir/samples/2331802.xws\n",
            "Reusing existing connection to physionet.org:443.\n",
            "HTTP request sent, awaiting response... 200 OK\n",
            "Length: 92 [text/plain]\n",
            "Saving to: ‘physionet.org/files/mitdb/1.0.0/mitdbdir/samples/2331802.xws’\n",
            "\n",
            "physionet.org/files 100%[===================>]      92  --.-KB/s    in 0s      \n",
            "\n",
            "2023-10-12 10:33:43 (60.9 MB/s) - ‘physionet.org/files/mitdb/1.0.0/mitdbdir/samples/2331802.xws’ saved [92/92]\n",
            "\n",
            "--2023-10-12 10:33:43--  https://physionet.org/files/mitdb/1.0.0/mitdbdir/samples/2332223.xws\n",
            "Reusing existing connection to physionet.org:443.\n",
            "HTTP request sent, awaiting response... 200 OK\n",
            "Length: 92 [text/plain]\n",
            "Saving to: ‘physionet.org/files/mitdb/1.0.0/mitdbdir/samples/2332223.xws’\n",
            "\n",
            "physionet.org/files 100%[===================>]      92  --.-KB/s    in 0s      \n",
            "\n",
            "2023-10-12 10:33:43 (62.9 MB/s) - ‘physionet.org/files/mitdb/1.0.0/mitdbdir/samples/2332223.xws’ saved [92/92]\n",
            "\n",
            "--2023-10-12 10:33:43--  https://physionet.org/files/mitdb/1.0.0/mitdbdir/samples/2340016.xws\n",
            "Reusing existing connection to physionet.org:443.\n",
            "HTTP request sent, awaiting response... 200 OK\n",
            "Length: 91 [text/plain]\n",
            "Saving to: ‘physionet.org/files/mitdb/1.0.0/mitdbdir/samples/2340016.xws’\n",
            "\n",
            "physionet.org/files 100%[===================>]      91  --.-KB/s    in 0s      \n",
            "\n",
            "2023-10-12 10:33:43 (42.5 MB/s) - ‘physionet.org/files/mitdb/1.0.0/mitdbdir/samples/2340016.xws’ saved [91/91]\n",
            "\n",
            "--2023-10-12 10:33:43--  https://physionet.org/files/mitdb/1.0.0/mitdbdir/samples/2340637.xws\n",
            "Reusing existing connection to physionet.org:443.\n",
            "HTTP request sent, awaiting response... 200 OK\n",
            "Length: 91 [text/plain]\n",
            "Saving to: ‘physionet.org/files/mitdb/1.0.0/mitdbdir/samples/2340637.xws’\n",
            "\n",
            "physionet.org/files 100%[===================>]      91  --.-KB/s    in 0s      \n",
            "\n",
            "2023-10-12 10:33:43 (60.8 MB/s) - ‘physionet.org/files/mitdb/1.0.0/mitdbdir/samples/2340637.xws’ saved [91/91]\n",
            "\n",
            "--2023-10-12 10:33:43--  https://physionet.org/files/mitdb/1.0.0/mitdbdir/samples/2341401.xws\n",
            "Reusing existing connection to physionet.org:443.\n",
            "HTTP request sent, awaiting response... 200 OK\n",
            "Length: 92 [text/plain]\n",
            "Saving to: ‘physionet.org/files/mitdb/1.0.0/mitdbdir/samples/2341401.xws’\n",
            "\n",
            "physionet.org/files 100%[===================>]      92  --.-KB/s    in 0s      \n",
            "\n",
            "2023-10-12 10:33:43 (75.0 MB/s) - ‘physionet.org/files/mitdb/1.0.0/mitdbdir/samples/2341401.xws’ saved [92/92]\n",
            "\n",
            "--2023-10-12 10:33:43--  https://physionet.org/files/mitdb/1.0.0/mitdbdir/samples/2341426.xws\n",
            "Reusing existing connection to physionet.org:443.\n",
            "HTTP request sent, awaiting response... 200 OK\n",
            "Length: 92 [text/plain]\n",
            "Saving to: ‘physionet.org/files/mitdb/1.0.0/mitdbdir/samples/2341426.xws’\n",
            "\n",
            "physionet.org/files 100%[===================>]      92  --.-KB/s    in 0s      \n",
            "\n",
            "2023-10-12 10:33:44 (81.8 MB/s) - ‘physionet.org/files/mitdb/1.0.0/mitdbdir/samples/2341426.xws’ saved [92/92]\n",
            "\n",
            "--2023-10-12 10:33:44--  https://physionet.org/files/mitdb/1.0.0/mitdbdir/samples/2341702.xws\n",
            "Reusing existing connection to physionet.org:443.\n",
            "HTTP request sent, awaiting response... 200 OK\n",
            "Length: 92 [text/plain]\n",
            "Saving to: ‘physionet.org/files/mitdb/1.0.0/mitdbdir/samples/2341702.xws’\n",
            "\n",
            "physionet.org/files 100%[===================>]      92  --.-KB/s    in 0s      \n",
            "\n",
            "2023-10-12 10:33:44 (76.9 MB/s) - ‘physionet.org/files/mitdb/1.0.0/mitdbdir/samples/2341702.xws’ saved [92/92]\n",
            "\n",
            "--2023-10-12 10:33:44--  https://physionet.org/files/mitdb/1.0.0/mitdbdir/samples/2342126.xws\n",
            "Reusing existing connection to physionet.org:443.\n",
            "HTTP request sent, awaiting response... 200 OK\n",
            "Length: 92 [text/plain]\n",
            "Saving to: ‘physionet.org/files/mitdb/1.0.0/mitdbdir/samples/2342126.xws’\n",
            "\n",
            "physionet.org/files 100%[===================>]      92  --.-KB/s    in 0s      \n",
            "\n",
            "2023-10-12 10:33:44 (81.5 MB/s) - ‘physionet.org/files/mitdb/1.0.0/mitdbdir/samples/2342126.xws’ saved [92/92]\n",
            "\n",
            "--2023-10-12 10:33:44--  https://physionet.org/files/mitdb/1.0.0/mitdbdir/samples/2342317.xws\n",
            "Reusing existing connection to physionet.org:443.\n",
            "HTTP request sent, awaiting response... 200 OK\n",
            "Length: 92 [text/plain]\n",
            "Saving to: ‘physionet.org/files/mitdb/1.0.0/mitdbdir/samples/2342317.xws’\n",
            "\n",
            "physionet.org/files 100%[===================>]      92  --.-KB/s    in 0s      \n",
            "\n",
            "2023-10-12 10:33:44 (74.9 MB/s) - ‘physionet.org/files/mitdb/1.0.0/mitdbdir/samples/2342317.xws’ saved [92/92]\n",
            "\n",
            "FINISHED --2023-10-12 10:33:44--\n",
            "Total wall clock time: 2m 39s\n",
            "Downloaded: 678 files, 104M in 1m 31s (1.15 MB/s)\n"
          ]
        }
      ]
    },
    {
      "cell_type": "code",
      "source": [
        "data_dir = 'physionet.org/files/mitdb/1.0.0/'\n",
        "\n",
        "output_dir = '/content/drive/MyDrive/Colab Notebooks/csv/'\n",
        "\n",
        "os.makedirs(output_dir, exist_ok = True)\n",
        "\n",
        "database_list = ['mitdb']\n",
        "\n",
        "for database in database_list:\n",
        "  record_list = wfdb.get_record_list(database)\n",
        "\n",
        "  for record_name in record_list:\n",
        "    record = wfdb.rdrecord(os.path.join(data_dir, record_name))\n",
        "\n",
        "    df = pd.DataFrame(record.p_signal, columns= record.sig_name)\n",
        "\n",
        "    csv_filename = os.path.join(output_dir, record_name + '.csv')\n",
        "    df.to_csv(csv_filename, index = False)\n",
        "\n",
        "    print(f'converted {record_name} to CSV: {csv_filename}')"
      ],
      "metadata": {
        "colab": {
          "base_uri": "https://localhost:8080/"
        },
        "id": "NGkkcflgZ3og",
        "outputId": "888c09ed-441b-43ab-d4b4-04886723e04f"
      },
      "execution_count": 8,
      "outputs": [
        {
          "output_type": "stream",
          "name": "stdout",
          "text": [
            "converted 100 to CSV: /content/drive/MyDrive/Colab Notebooks/csv/100.csv\n",
            "converted 101 to CSV: /content/drive/MyDrive/Colab Notebooks/csv/101.csv\n",
            "converted 102 to CSV: /content/drive/MyDrive/Colab Notebooks/csv/102.csv\n",
            "converted 103 to CSV: /content/drive/MyDrive/Colab Notebooks/csv/103.csv\n",
            "converted 104 to CSV: /content/drive/MyDrive/Colab Notebooks/csv/104.csv\n",
            "converted 105 to CSV: /content/drive/MyDrive/Colab Notebooks/csv/105.csv\n",
            "converted 106 to CSV: /content/drive/MyDrive/Colab Notebooks/csv/106.csv\n",
            "converted 107 to CSV: /content/drive/MyDrive/Colab Notebooks/csv/107.csv\n",
            "converted 108 to CSV: /content/drive/MyDrive/Colab Notebooks/csv/108.csv\n",
            "converted 109 to CSV: /content/drive/MyDrive/Colab Notebooks/csv/109.csv\n",
            "converted 111 to CSV: /content/drive/MyDrive/Colab Notebooks/csv/111.csv\n",
            "converted 112 to CSV: /content/drive/MyDrive/Colab Notebooks/csv/112.csv\n",
            "converted 113 to CSV: /content/drive/MyDrive/Colab Notebooks/csv/113.csv\n",
            "converted 114 to CSV: /content/drive/MyDrive/Colab Notebooks/csv/114.csv\n",
            "converted 115 to CSV: /content/drive/MyDrive/Colab Notebooks/csv/115.csv\n",
            "converted 116 to CSV: /content/drive/MyDrive/Colab Notebooks/csv/116.csv\n",
            "converted 117 to CSV: /content/drive/MyDrive/Colab Notebooks/csv/117.csv\n",
            "converted 118 to CSV: /content/drive/MyDrive/Colab Notebooks/csv/118.csv\n",
            "converted 119 to CSV: /content/drive/MyDrive/Colab Notebooks/csv/119.csv\n",
            "converted 121 to CSV: /content/drive/MyDrive/Colab Notebooks/csv/121.csv\n",
            "converted 122 to CSV: /content/drive/MyDrive/Colab Notebooks/csv/122.csv\n",
            "converted 123 to CSV: /content/drive/MyDrive/Colab Notebooks/csv/123.csv\n",
            "converted 124 to CSV: /content/drive/MyDrive/Colab Notebooks/csv/124.csv\n",
            "converted 200 to CSV: /content/drive/MyDrive/Colab Notebooks/csv/200.csv\n",
            "converted 201 to CSV: /content/drive/MyDrive/Colab Notebooks/csv/201.csv\n",
            "converted 202 to CSV: /content/drive/MyDrive/Colab Notebooks/csv/202.csv\n",
            "converted 203 to CSV: /content/drive/MyDrive/Colab Notebooks/csv/203.csv\n",
            "converted 205 to CSV: /content/drive/MyDrive/Colab Notebooks/csv/205.csv\n",
            "converted 207 to CSV: /content/drive/MyDrive/Colab Notebooks/csv/207.csv\n",
            "converted 208 to CSV: /content/drive/MyDrive/Colab Notebooks/csv/208.csv\n",
            "converted 209 to CSV: /content/drive/MyDrive/Colab Notebooks/csv/209.csv\n",
            "converted 210 to CSV: /content/drive/MyDrive/Colab Notebooks/csv/210.csv\n",
            "converted 212 to CSV: /content/drive/MyDrive/Colab Notebooks/csv/212.csv\n",
            "converted 213 to CSV: /content/drive/MyDrive/Colab Notebooks/csv/213.csv\n",
            "converted 214 to CSV: /content/drive/MyDrive/Colab Notebooks/csv/214.csv\n",
            "converted 215 to CSV: /content/drive/MyDrive/Colab Notebooks/csv/215.csv\n",
            "converted 217 to CSV: /content/drive/MyDrive/Colab Notebooks/csv/217.csv\n",
            "converted 219 to CSV: /content/drive/MyDrive/Colab Notebooks/csv/219.csv\n",
            "converted 220 to CSV: /content/drive/MyDrive/Colab Notebooks/csv/220.csv\n",
            "converted 221 to CSV: /content/drive/MyDrive/Colab Notebooks/csv/221.csv\n",
            "converted 222 to CSV: /content/drive/MyDrive/Colab Notebooks/csv/222.csv\n",
            "converted 223 to CSV: /content/drive/MyDrive/Colab Notebooks/csv/223.csv\n",
            "converted 228 to CSV: /content/drive/MyDrive/Colab Notebooks/csv/228.csv\n",
            "converted 230 to CSV: /content/drive/MyDrive/Colab Notebooks/csv/230.csv\n",
            "converted 231 to CSV: /content/drive/MyDrive/Colab Notebooks/csv/231.csv\n",
            "converted 232 to CSV: /content/drive/MyDrive/Colab Notebooks/csv/232.csv\n",
            "converted 233 to CSV: /content/drive/MyDrive/Colab Notebooks/csv/233.csv\n",
            "converted 234 to CSV: /content/drive/MyDrive/Colab Notebooks/csv/234.csv\n"
          ]
        }
      ]
    },
    {
      "cell_type": "code",
      "source": [
        "ECG = pd.read_csv('/content/drive/MyDrive/Colab Notebooks/csv/100.csv')\n",
        "plt.figure(figsize=(15,2))\n",
        "plt.plot(ECG.iloc[:,0])"
      ],
      "metadata": {
        "colab": {
          "base_uri": "https://localhost:8080/",
          "height": 137
        },
        "id": "7taDFps_bxKI",
        "outputId": "901ea2f1-fb18-400f-ecd8-5cbeeef72223"
      },
      "execution_count": 9,
      "outputs": [
        {
          "output_type": "execute_result",
          "data": {
            "text/plain": [
              "[<matplotlib.lines.Line2D at 0x7f3753b67d60>]"
            ]
          },
          "metadata": {},
          "execution_count": 9
        },
        {
          "output_type": "display_data",
          "data": {
            "text/plain": [
              "<Figure size 1500x200 with 1 Axes>"
            ],
            "image/png": "[encoded data removed]"
          },
          "metadata": {}
        }
      ]
    },
    {
      "cell_type": "code",
      "source": [
        "ECG = pd.read_csv('/content/drive/MyDrive/Colab Notebooks/csv/100.csv')\n",
        "plt.figure(figsize=(15,2))\n",
        "plt.plot(ECG.iloc[:,0])\n",
        "plt.xlim([0,10000])"
      ],
      "metadata": {
        "colab": {
          "base_uri": "https://localhost:8080/",
          "height": 135
        },
        "id": "oX4bD42mcZrS",
        "outputId": "35cea0c6-9af9-4a69-97ac-14d08f5a3f5a"
      },
      "execution_count": 10,
      "outputs": [
        {
          "output_type": "execute_result",
          "data": {
            "text/plain": [
              "(0.0, 10000.0)"
            ]
          },
          "metadata": {},
          "execution_count": 10
        },
        {
          "output_type": "display_data",
          "data": {
            "text/plain": [
              "<Figure size 1500x200 with 1 Axes>"
            ],
            "image/png": "[encoded data removed]"
          },
          "metadata": {}
        }
      ]
    },
    {
      "cell_type": "code",
      "source": [
        "data_url = '/content/drive/MyDrive/Colab Notebooks/csv/'\n",
        "save_url = '/content/drive/MyDrive/Colab Notebooks/bandpass/'\n",
        "os.makedirs(save_url, exist_ok=True)\n",
        "\n",
        "csv_files = os.listdir(data_url)\n",
        "\n",
        "for csv_file in tqdm(csv_files):\n",
        "  time.sleep(0.1)\n",
        "  file = os.path.join(data_url, csv_file)\n",
        "\n",
        "  ECG_bp = pd.read_csv(file, header = 0)\n",
        "  ECG_bpp = ECG_bp.transpose()\n",
        "\n",
        "  test = []\n",
        "  ECG_1 = ECG_bpp.iloc[0]\n",
        "  ECG_bandpass = hp.filter_signal(ECG_1, cutoff = [0.01, 50], sample_rate= 360.0, order = 3, filtertype='bandpass')\n",
        "\n",
        "  test.append(ECG_bandpass)\n",
        "\n",
        "  test = pd.DataFrame(test).transpose()\n",
        "  output_csv_file = os.path.join(save_url, \"ECG_bandpass_\" + csv_file)\n",
        "\n",
        "  print(output_csv_file)\n",
        "  test.to_csv(output_csv_file, index = False)"
      ],
      "metadata": {
        "colab": {
          "base_uri": "https://localhost:8080/"
        },
        "id": "N2vq1JlQchNN",
        "outputId": "b75a968a-f94c-414a-d87e-d5dda32680a9"
      },
      "execution_count": 11,
      "outputs": [
        {
          "output_type": "stream",
          "name": "stderr",
          "text": [
            "\r  0%|          | 0/48 [00:00<?, ?it/s]"
          ]
        },
        {
          "output_type": "stream",
          "name": "stdout",
          "text": [
            "/content/drive/MyDrive/Colab Notebooks/bandpass/ECG_bandpass_100.csv\n"
          ]
        },
        {
          "output_type": "stream",
          "name": "stderr",
          "text": [
            "\r  2%|▏         | 1/48 [00:14<11:39, 14.89s/it]"
          ]
        },
        {
          "output_type": "stream",
          "name": "stdout",
          "text": [
            "/content/drive/MyDrive/Colab Notebooks/bandpass/ECG_bandpass_101.csv\n"
          ]
        },
        {
          "output_type": "stream",
          "name": "stderr",
          "text": [
            "\r  4%|▍         | 2/48 [00:28<10:43, 13.98s/it]"
          ]
        },
        {
          "output_type": "stream",
          "name": "stdout",
          "text": [
            "/content/drive/MyDrive/Colab Notebooks/bandpass/ECG_bandpass_102.csv\n"
          ]
        },
        {
          "output_type": "stream",
          "name": "stderr",
          "text": [
            "\r  6%|▋         | 3/48 [00:43<10:53, 14.53s/it]"
          ]
        },
        {
          "output_type": "stream",
          "name": "stdout",
          "text": [
            "/content/drive/MyDrive/Colab Notebooks/bandpass/ECG_bandpass_103.csv\n"
          ]
        },
        {
          "output_type": "stream",
          "name": "stderr",
          "text": [
            "\r  8%|▊         | 4/48 [00:57<10:34, 14.43s/it]"
          ]
        },
        {
          "output_type": "stream",
          "name": "stdout",
          "text": [
            "/content/drive/MyDrive/Colab Notebooks/bandpass/ECG_bandpass_104.csv\n"
          ]
        },
        {
          "output_type": "stream",
          "name": "stderr",
          "text": [
            "\r 10%|█         | 5/48 [01:10<09:59, 13.95s/it]"
          ]
        },
        {
          "output_type": "stream",
          "name": "stdout",
          "text": [
            "/content/drive/MyDrive/Colab Notebooks/bandpass/ECG_bandpass_105.csv\n"
          ]
        },
        {
          "output_type": "stream",
          "name": "stderr",
          "text": [
            "\r 12%|█▎        | 6/48 [01:28<10:36, 15.16s/it]"
          ]
        },
        {
          "output_type": "stream",
          "name": "stdout",
          "text": [
            "/content/drive/MyDrive/Colab Notebooks/bandpass/ECG_bandpass_106.csv\n"
          ]
        },
        {
          "output_type": "stream",
          "name": "stderr",
          "text": [
            "\r 15%|█▍        | 7/48 [01:51<12:12, 17.86s/it]"
          ]
        },
        {
          "output_type": "stream",
          "name": "stdout",
          "text": [
            "/content/drive/MyDrive/Colab Notebooks/bandpass/ECG_bandpass_107.csv\n"
          ]
        },
        {
          "output_type": "stream",
          "name": "stderr",
          "text": [
            "\r 17%|█▋        | 8/48 [02:13<12:45, 19.15s/it]"
          ]
        },
        {
          "output_type": "stream",
          "name": "stdout",
          "text": [
            "/content/drive/MyDrive/Colab Notebooks/bandpass/ECG_bandpass_108.csv\n"
          ]
        },
        {
          "output_type": "stream",
          "name": "stderr",
          "text": [
            "\r 19%|█▉        | 9/48 [02:38<13:41, 21.06s/it]"
          ]
        },
        {
          "output_type": "stream",
          "name": "stdout",
          "text": [
            "/content/drive/MyDrive/Colab Notebooks/bandpass/ECG_bandpass_109.csv\n"
          ]
        },
        {
          "output_type": "stream",
          "name": "stderr",
          "text": [
            "\r 21%|██        | 10/48 [03:00<13:27, 21.24s/it]"
          ]
        },
        {
          "output_type": "stream",
          "name": "stdout",
          "text": [
            "/content/drive/MyDrive/Colab Notebooks/bandpass/ECG_bandpass_111.csv\n"
          ]
        },
        {
          "output_type": "stream",
          "name": "stderr",
          "text": [
            "\r 23%|██▎       | 11/48 [03:23<13:20, 21.63s/it]"
          ]
        },
        {
          "output_type": "stream",
          "name": "stdout",
          "text": [
            "/content/drive/MyDrive/Colab Notebooks/bandpass/ECG_bandpass_112.csv\n"
          ]
        },
        {
          "output_type": "stream",
          "name": "stderr",
          "text": [
            "\r 25%|██▌       | 12/48 [03:43<12:42, 21.17s/it]"
          ]
        },
        {
          "output_type": "stream",
          "name": "stdout",
          "text": [
            "/content/drive/MyDrive/Colab Notebooks/bandpass/ECG_bandpass_113.csv\n"
          ]
        },
        {
          "output_type": "stream",
          "name": "stderr",
          "text": [
            "\r 27%|██▋       | 13/48 [04:10<13:21, 22.91s/it]"
          ]
        },
        {
          "output_type": "stream",
          "name": "stdout",
          "text": [
            "/content/drive/MyDrive/Colab Notebooks/bandpass/ECG_bandpass_114.csv\n"
          ]
        },
        {
          "output_type": "stream",
          "name": "stderr",
          "text": [
            "\r 29%|██▉       | 14/48 [04:32<12:58, 22.88s/it]"
          ]
        },
        {
          "output_type": "stream",
          "name": "stdout",
          "text": [
            "/content/drive/MyDrive/Colab Notebooks/bandpass/ECG_bandpass_115.csv\n"
          ]
        },
        {
          "output_type": "stream",
          "name": "stderr",
          "text": [
            "\r 31%|███▏      | 15/48 [04:58<13:06, 23.85s/it]"
          ]
        },
        {
          "output_type": "stream",
          "name": "stdout",
          "text": [
            "/content/drive/MyDrive/Colab Notebooks/bandpass/ECG_bandpass_116.csv\n"
          ]
        },
        {
          "output_type": "stream",
          "name": "stderr",
          "text": [
            "\r 33%|███▎      | 16/48 [05:22<12:43, 23.85s/it]"
          ]
        },
        {
          "output_type": "stream",
          "name": "stdout",
          "text": [
            "/content/drive/MyDrive/Colab Notebooks/bandpass/ECG_bandpass_117.csv\n"
          ]
        },
        {
          "output_type": "stream",
          "name": "stderr",
          "text": [
            "\r 35%|███▌      | 17/48 [05:46<12:17, 23.79s/it]"
          ]
        },
        {
          "output_type": "stream",
          "name": "stdout",
          "text": [
            "/content/drive/MyDrive/Colab Notebooks/bandpass/ECG_bandpass_118.csv\n"
          ]
        },
        {
          "output_type": "stream",
          "name": "stderr",
          "text": [
            "\r 38%|███▊      | 18/48 [06:09<11:47, 23.58s/it]"
          ]
        },
        {
          "output_type": "stream",
          "name": "stdout",
          "text": [
            "/content/drive/MyDrive/Colab Notebooks/bandpass/ECG_bandpass_119.csv\n"
          ]
        },
        {
          "output_type": "stream",
          "name": "stderr",
          "text": [
            "\r 40%|███▉      | 19/48 [06:35<11:40, 24.16s/it]"
          ]
        },
        {
          "output_type": "stream",
          "name": "stdout",
          "text": [
            "/content/drive/MyDrive/Colab Notebooks/bandpass/ECG_bandpass_121.csv\n"
          ]
        },
        {
          "output_type": "stream",
          "name": "stderr",
          "text": [
            "\r 42%|████▏     | 20/48 [06:55<10:42, 22.95s/it]"
          ]
        },
        {
          "output_type": "stream",
          "name": "stdout",
          "text": [
            "/content/drive/MyDrive/Colab Notebooks/bandpass/ECG_bandpass_122.csv\n"
          ]
        },
        {
          "output_type": "stream",
          "name": "stderr",
          "text": [
            "\r 44%|████▍     | 21/48 [07:19<10:30, 23.34s/it]"
          ]
        },
        {
          "output_type": "stream",
          "name": "stdout",
          "text": [
            "/content/drive/MyDrive/Colab Notebooks/bandpass/ECG_bandpass_123.csv\n"
          ]
        },
        {
          "output_type": "stream",
          "name": "stderr",
          "text": [
            "\r 46%|████▌     | 22/48 [07:47<10:46, 24.85s/it]"
          ]
        },
        {
          "output_type": "stream",
          "name": "stdout",
          "text": [
            "/content/drive/MyDrive/Colab Notebooks/bandpass/ECG_bandpass_124.csv\n"
          ]
        },
        {
          "output_type": "stream",
          "name": "stderr",
          "text": [
            "\r 48%|████▊     | 23/48 [08:13<10:28, 25.13s/it]"
          ]
        },
        {
          "output_type": "stream",
          "name": "stdout",
          "text": [
            "/content/drive/MyDrive/Colab Notebooks/bandpass/ECG_bandpass_200.csv\n"
          ]
        },
        {
          "output_type": "stream",
          "name": "stderr",
          "text": [
            "\r 50%|█████     | 24/48 [08:29<08:57, 22.38s/it]"
          ]
        },
        {
          "output_type": "stream",
          "name": "stdout",
          "text": [
            "/content/drive/MyDrive/Colab Notebooks/bandpass/ECG_bandpass_201.csv\n"
          ]
        },
        {
          "output_type": "stream",
          "name": "stderr",
          "text": [
            "\r 52%|█████▏    | 25/48 [08:47<08:03, 21.01s/it]"
          ]
        },
        {
          "output_type": "stream",
          "name": "stdout",
          "text": [
            "/content/drive/MyDrive/Colab Notebooks/bandpass/ECG_bandpass_202.csv\n"
          ]
        },
        {
          "output_type": "stream",
          "name": "stderr",
          "text": [
            "\r 54%|█████▍    | 26/48 [09:11<07:59, 21.80s/it]"
          ]
        },
        {
          "output_type": "stream",
          "name": "stdout",
          "text": [
            "/content/drive/MyDrive/Colab Notebooks/bandpass/ECG_bandpass_203.csv\n"
          ]
        },
        {
          "output_type": "stream",
          "name": "stderr",
          "text": [
            "\r 56%|█████▋    | 27/48 [09:33<07:40, 21.91s/it]"
          ]
        },
        {
          "output_type": "stream",
          "name": "stdout",
          "text": [
            "/content/drive/MyDrive/Colab Notebooks/bandpass/ECG_bandpass_205.csv\n"
          ]
        },
        {
          "output_type": "stream",
          "name": "stderr",
          "text": [
            "\r 58%|█████▊    | 28/48 [09:56<07:25, 22.26s/it]"
          ]
        },
        {
          "output_type": "stream",
          "name": "stdout",
          "text": [
            "/content/drive/MyDrive/Colab Notebooks/bandpass/ECG_bandpass_207.csv\n"
          ]
        },
        {
          "output_type": "stream",
          "name": "stderr",
          "text": [
            "\r 60%|██████    | 29/48 [10:14<06:42, 21.19s/it]"
          ]
        },
        {
          "output_type": "stream",
          "name": "stdout",
          "text": [
            "/content/drive/MyDrive/Colab Notebooks/bandpass/ECG_bandpass_208.csv\n"
          ]
        },
        {
          "output_type": "stream",
          "name": "stderr",
          "text": [
            "\r 62%|██████▎   | 30/48 [10:35<06:16, 20.90s/it]"
          ]
        },
        {
          "output_type": "stream",
          "name": "stdout",
          "text": [
            "/content/drive/MyDrive/Colab Notebooks/bandpass/ECG_bandpass_209.csv\n"
          ]
        },
        {
          "output_type": "stream",
          "name": "stderr",
          "text": [
            "\r 65%|██████▍   | 31/48 [11:00<06:15, 22.08s/it]"
          ]
        },
        {
          "output_type": "stream",
          "name": "stdout",
          "text": [
            "/content/drive/MyDrive/Colab Notebooks/bandpass/ECG_bandpass_210.csv\n"
          ]
        },
        {
          "output_type": "stream",
          "name": "stderr",
          "text": [
            "\r 67%|██████▋   | 32/48 [11:23<05:59, 22.48s/it]"
          ]
        },
        {
          "output_type": "stream",
          "name": "stdout",
          "text": [
            "/content/drive/MyDrive/Colab Notebooks/bandpass/ECG_bandpass_212.csv\n"
          ]
        },
        {
          "output_type": "stream",
          "name": "stderr",
          "text": [
            "\r 69%|██████▉   | 33/48 [11:45<05:33, 22.23s/it]"
          ]
        },
        {
          "output_type": "stream",
          "name": "stdout",
          "text": [
            "/content/drive/MyDrive/Colab Notebooks/bandpass/ECG_bandpass_213.csv\n"
          ]
        },
        {
          "output_type": "stream",
          "name": "stderr",
          "text": [
            "\r 71%|███████   | 34/48 [12:00<04:43, 20.26s/it]"
          ]
        },
        {
          "output_type": "stream",
          "name": "stdout",
          "text": [
            "/content/drive/MyDrive/Colab Notebooks/bandpass/ECG_bandpass_214.csv\n"
          ]
        },
        {
          "output_type": "stream",
          "name": "stderr",
          "text": [
            "\r 73%|███████▎  | 35/48 [12:22<04:28, 20.65s/it]"
          ]
        },
        {
          "output_type": "stream",
          "name": "stdout",
          "text": [
            "/content/drive/MyDrive/Colab Notebooks/bandpass/ECG_bandpass_215.csv\n"
          ]
        },
        {
          "output_type": "stream",
          "name": "stderr",
          "text": [
            "\r 75%|███████▌  | 36/48 [12:38<03:52, 19.37s/it]"
          ]
        },
        {
          "output_type": "stream",
          "name": "stdout",
          "text": [
            "/content/drive/MyDrive/Colab Notebooks/bandpass/ECG_bandpass_217.csv\n"
          ]
        },
        {
          "output_type": "stream",
          "name": "stderr",
          "text": [
            "\r 77%|███████▋  | 37/48 [12:54<03:20, 18.25s/it]"
          ]
        },
        {
          "output_type": "stream",
          "name": "stdout",
          "text": [
            "/content/drive/MyDrive/Colab Notebooks/bandpass/ECG_bandpass_219.csv\n"
          ]
        },
        {
          "output_type": "stream",
          "name": "stderr",
          "text": [
            "\r 79%|███████▉  | 38/48 [13:08<02:48, 16.89s/it]"
          ]
        },
        {
          "output_type": "stream",
          "name": "stdout",
          "text": [
            "/content/drive/MyDrive/Colab Notebooks/bandpass/ECG_bandpass_220.csv\n"
          ]
        },
        {
          "output_type": "stream",
          "name": "stderr",
          "text": [
            "\r 81%|████████▏ | 39/48 [13:25<02:32, 16.99s/it]"
          ]
        },
        {
          "output_type": "stream",
          "name": "stdout",
          "text": [
            "/content/drive/MyDrive/Colab Notebooks/bandpass/ECG_bandpass_221.csv\n"
          ]
        },
        {
          "output_type": "stream",
          "name": "stderr",
          "text": [
            "\r 83%|████████▎ | 40/48 [13:38<02:07, 15.97s/it]"
          ]
        },
        {
          "output_type": "stream",
          "name": "stdout",
          "text": [
            "/content/drive/MyDrive/Colab Notebooks/bandpass/ECG_bandpass_222.csv\n"
          ]
        },
        {
          "output_type": "stream",
          "name": "stderr",
          "text": [
            "\r 85%|████████▌ | 41/48 [13:52<01:46, 15.22s/it]"
          ]
        },
        {
          "output_type": "stream",
          "name": "stdout",
          "text": [
            "/content/drive/MyDrive/Colab Notebooks/bandpass/ECG_bandpass_223.csv\n"
          ]
        },
        {
          "output_type": "stream",
          "name": "stderr",
          "text": [
            "\r 88%|████████▊ | 42/48 [14:06<01:28, 14.78s/it]"
          ]
        },
        {
          "output_type": "stream",
          "name": "stdout",
          "text": [
            "/content/drive/MyDrive/Colab Notebooks/bandpass/ECG_bandpass_228.csv\n"
          ]
        },
        {
          "output_type": "stream",
          "name": "stderr",
          "text": [
            "\r 90%|████████▉ | 43/48 [14:19<01:12, 14.40s/it]"
          ]
        },
        {
          "output_type": "stream",
          "name": "stdout",
          "text": [
            "/content/drive/MyDrive/Colab Notebooks/bandpass/ECG_bandpass_230.csv\n"
          ]
        },
        {
          "output_type": "stream",
          "name": "stderr",
          "text": [
            "\r 92%|█████████▏| 44/48 [14:33<00:56, 14.23s/it]"
          ]
        },
        {
          "output_type": "stream",
          "name": "stdout",
          "text": [
            "/content/drive/MyDrive/Colab Notebooks/bandpass/ECG_bandpass_231.csv\n"
          ]
        },
        {
          "output_type": "stream",
          "name": "stderr",
          "text": [
            "\r 94%|█████████▍| 45/48 [14:47<00:42, 14.11s/it]"
          ]
        },
        {
          "output_type": "stream",
          "name": "stdout",
          "text": [
            "/content/drive/MyDrive/Colab Notebooks/bandpass/ECG_bandpass_232.csv\n"
          ]
        },
        {
          "output_type": "stream",
          "name": "stderr",
          "text": [
            "\r 96%|█████████▌| 46/48 [15:01<00:28, 14.05s/it]"
          ]
        },
        {
          "output_type": "stream",
          "name": "stdout",
          "text": [
            "/content/drive/MyDrive/Colab Notebooks/bandpass/ECG_bandpass_233.csv\n"
          ]
        },
        {
          "output_type": "stream",
          "name": "stderr",
          "text": [
            "\r 98%|█████████▊| 47/48 [15:14<00:13, 13.95s/it]"
          ]
        },
        {
          "output_type": "stream",
          "name": "stdout",
          "text": [
            "/content/drive/MyDrive/Colab Notebooks/bandpass/ECG_bandpass_234.csv\n"
          ]
        },
        {
          "output_type": "stream",
          "name": "stderr",
          "text": [
            "100%|██████████| 48/48 [15:28<00:00, 19.34s/it]\n"
          ]
        }
      ]
    },
    {
      "cell_type": "code",
      "source": [
        "ECG = pd.read_csv('/content/drive/MyDrive/Colab Notebooks/bandpass/ECG_bandpass_100.csv')\n",
        "# plt.figure(figsize=(8,2))\n",
        "plt.plot(ECG.iloc[:,0])\n",
        "plt.xlim([0,2000])"
      ],
      "metadata": {
        "colab": {
          "base_uri": "https://localhost:8080/",
          "height": 448
        },
        "id": "BO-LlWRVe96z",
        "outputId": "bc7ac5e8-3b75-4a73-d123-a821d374c27d"
      },
      "execution_count": 12,
      "outputs": [
        {
          "output_type": "execute_result",
          "data": {
            "text/plain": [
              "(0.0, 2000.0)"
            ]
          },
          "metadata": {},
          "execution_count": 12
        },
        {
          "output_type": "display_data",
          "data": {
            "text/plain": [
              "<Figure size 640x480 with 1 Axes>"
            ],
            "image/png": "[encoded data removed]"
          },
          "metadata": {}
        }
      ]
    },
    {
      "cell_type": "code",
      "source": [
        "data_url = '/content/drive/MyDrive/Colab Notebooks/bandpass/'\n",
        "csv_files = os.listdir(data_url)\n",
        "\n",
        "number_pattern = re.compile(r'\\d+')\n",
        "\n",
        "\n",
        "for csv_file in tqdm (csv_files):\n",
        "  time.sleep(0.1)\n",
        "  file_path = os.path.join(data_url, csv_file)\n",
        "  file = pd.read_csv(file_path, header=0)\n",
        "\n",
        "  match = number_pattern.search(csv_file)\n",
        "  if match:\n",
        "    folder_number = match.group()\n",
        "\n",
        "  else:\n",
        "    folder_number = '1'\n",
        "\n",
        "  for i in tqdm(range(1, 7)):\n",
        "    save_url = '/content/drive/MyDrive/Colab Notebooks/10seconds/' + folder_number\n",
        "    os.makedirs(save_url, exist_ok=True)\n",
        "\n",
        "    start_idx = (i - 1) * 3600\n",
        "    end_idx= i * 3600\n",
        "    ECG_down = file.iloc[start_idx:end_idx]\n",
        "\n",
        "    output_csv_file = os.path.join(save_url, \"ECG bandpass_{0}.csv\".format(i))\n",
        "    print(output_csv_file)\n",
        "    ECG_down.to_csv(output_csv_file, index=False)"
      ],
      "metadata": {
        "colab": {
          "base_uri": "https://localhost:8080/"
        },
        "id": "GYr-AtLZfL_K",
        "outputId": "a960e0eb-6349-48c7-9753-88b93d28b07d"
      },
      "execution_count": 13,
      "outputs": [
        {
          "output_type": "stream",
          "name": "stderr",
          "text": [
            "  0%|          | 0/48 [00:00<?, ?it/s]\n",
            "  0%|          | 0/6 [00:00<?, ?it/s]\u001b[A"
          ]
        },
        {
          "output_type": "stream",
          "name": "stdout",
          "text": [
            "/content/drive/MyDrive/Colab Notebooks/10seconds/100/ECG bandpass_1.csv\n"
          ]
        },
        {
          "output_type": "stream",
          "name": "stderr",
          "text": [
            "\n",
            " 17%|█▋        | 1/6 [00:00<00:02,  1.99it/s]\u001b[A"
          ]
        },
        {
          "output_type": "stream",
          "name": "stdout",
          "text": [
            "/content/drive/MyDrive/Colab Notebooks/10seconds/100/ECG bandpass_2.csv\n"
          ]
        },
        {
          "output_type": "stream",
          "name": "stderr",
          "text": [
            "\n",
            " 33%|███▎      | 2/6 [00:01<00:02,  1.66it/s]\u001b[A"
          ]
        },
        {
          "output_type": "stream",
          "name": "stdout",
          "text": [
            "/content/drive/MyDrive/Colab Notebooks/10seconds/100/ECG bandpass_3.csv\n"
          ]
        },
        {
          "output_type": "stream",
          "name": "stderr",
          "text": [
            "\n",
            " 50%|█████     | 3/6 [00:01<00:01,  2.04it/s]\u001b[A"
          ]
        },
        {
          "output_type": "stream",
          "name": "stdout",
          "text": [
            "/content/drive/MyDrive/Colab Notebooks/10seconds/100/ECG bandpass_4.csv\n"
          ]
        },
        {
          "output_type": "stream",
          "name": "stderr",
          "text": [
            "\n",
            " 67%|██████▋   | 4/6 [00:01<00:00,  2.41it/s]\u001b[A"
          ]
        },
        {
          "output_type": "stream",
          "name": "stdout",
          "text": [
            "/content/drive/MyDrive/Colab Notebooks/10seconds/100/ECG bandpass_5.csv\n"
          ]
        },
        {
          "output_type": "stream",
          "name": "stderr",
          "text": [
            "\n",
            " 83%|████████▎ | 5/6 [00:02<00:00,  2.66it/s]\u001b[A"
          ]
        },
        {
          "output_type": "stream",
          "name": "stdout",
          "text": [
            "/content/drive/MyDrive/Colab Notebooks/10seconds/100/ECG bandpass_6.csv\n"
          ]
        },
        {
          "output_type": "stream",
          "name": "stderr",
          "text": [
            "\n",
            "100%|██████████| 6/6 [00:02<00:00,  2.42it/s]\n",
            "  2%|▏         | 1/48 [00:02<02:08,  2.74s/it]\n",
            "  0%|          | 0/6 [00:00<?, ?it/s]\u001b[A"
          ]
        },
        {
          "output_type": "stream",
          "name": "stdout",
          "text": [
            "/content/drive/MyDrive/Colab Notebooks/10seconds/101/ECG bandpass_1.csv\n"
          ]
        },
        {
          "output_type": "stream",
          "name": "stderr",
          "text": [
            "\n",
            " 17%|█▋        | 1/6 [00:00<00:02,  2.07it/s]\u001b[A"
          ]
        },
        {
          "output_type": "stream",
          "name": "stdout",
          "text": [
            "/content/drive/MyDrive/Colab Notebooks/10seconds/101/ECG bandpass_2.csv\n"
          ]
        },
        {
          "output_type": "stream",
          "name": "stderr",
          "text": [
            "\n",
            " 33%|███▎      | 2/6 [00:00<00:01,  2.57it/s]\u001b[A"
          ]
        },
        {
          "output_type": "stream",
          "name": "stdout",
          "text": [
            "/content/drive/MyDrive/Colab Notebooks/10seconds/101/ECG bandpass_3.csv\n"
          ]
        },
        {
          "output_type": "stream",
          "name": "stderr",
          "text": [
            "\n",
            " 50%|█████     | 3/6 [00:01<00:01,  2.85it/s]\u001b[A"
          ]
        },
        {
          "output_type": "stream",
          "name": "stdout",
          "text": [
            "/content/drive/MyDrive/Colab Notebooks/10seconds/101/ECG bandpass_4.csv\n"
          ]
        },
        {
          "output_type": "stream",
          "name": "stderr",
          "text": [
            "\n",
            " 67%|██████▋   | 4/6 [00:01<00:00,  2.84it/s]\u001b[A"
          ]
        },
        {
          "output_type": "stream",
          "name": "stdout",
          "text": [
            "/content/drive/MyDrive/Colab Notebooks/10seconds/101/ECG bandpass_5.csv\n"
          ]
        },
        {
          "output_type": "stream",
          "name": "stderr",
          "text": [
            "\n",
            " 83%|████████▎ | 5/6 [00:01<00:00,  2.96it/s]\u001b[A"
          ]
        },
        {
          "output_type": "stream",
          "name": "stdout",
          "text": [
            "/content/drive/MyDrive/Colab Notebooks/10seconds/101/ECG bandpass_6.csv\n"
          ]
        },
        {
          "output_type": "stream",
          "name": "stderr",
          "text": [
            "\n",
            "100%|██████████| 6/6 [00:02<00:00,  2.87it/s]\n",
            "  4%|▍         | 2/48 [00:05<01:55,  2.52s/it]\n",
            "  0%|          | 0/6 [00:00<?, ?it/s]\u001b[A"
          ]
        },
        {
          "output_type": "stream",
          "name": "stdout",
          "text": [
            "/content/drive/MyDrive/Colab Notebooks/10seconds/102/ECG bandpass_1.csv\n"
          ]
        },
        {
          "output_type": "stream",
          "name": "stderr",
          "text": [
            "\n",
            " 17%|█▋        | 1/6 [00:00<00:02,  1.89it/s]\u001b[A"
          ]
        },
        {
          "output_type": "stream",
          "name": "stdout",
          "text": [
            "/content/drive/MyDrive/Colab Notebooks/10seconds/102/ECG bandpass_2.csv\n"
          ]
        },
        {
          "output_type": "stream",
          "name": "stderr",
          "text": [
            "\n",
            " 33%|███▎      | 2/6 [00:00<00:01,  2.39it/s]\u001b[A"
          ]
        },
        {
          "output_type": "stream",
          "name": "stdout",
          "text": [
            "/content/drive/MyDrive/Colab Notebooks/10seconds/102/ECG bandpass_3.csv\n"
          ]
        },
        {
          "output_type": "stream",
          "name": "stderr",
          "text": [
            "\n",
            " 50%|█████     | 3/6 [00:01<00:01,  2.71it/s]\u001b[A"
          ]
        },
        {
          "output_type": "stream",
          "name": "stdout",
          "text": [
            "/content/drive/MyDrive/Colab Notebooks/10seconds/102/ECG bandpass_4.csv\n"
          ]
        },
        {
          "output_type": "stream",
          "name": "stderr",
          "text": [
            "\n",
            " 67%|██████▋   | 4/6 [00:01<00:00,  2.68it/s]\u001b[A"
          ]
        },
        {
          "output_type": "stream",
          "name": "stdout",
          "text": [
            "/content/drive/MyDrive/Colab Notebooks/10seconds/102/ECG bandpass_5.csv\n"
          ]
        },
        {
          "output_type": "stream",
          "name": "stderr",
          "text": [
            "\n",
            " 83%|████████▎ | 5/6 [00:01<00:00,  2.77it/s]\u001b[A"
          ]
        },
        {
          "output_type": "stream",
          "name": "stdout",
          "text": [
            "/content/drive/MyDrive/Colab Notebooks/10seconds/102/ECG bandpass_6.csv\n"
          ]
        },
        {
          "output_type": "stream",
          "name": "stderr",
          "text": [
            "\n",
            "100%|██████████| 6/6 [00:02<00:00,  2.68it/s]\n",
            "  6%|▋         | 3/48 [00:07<01:52,  2.51s/it]\n",
            "  0%|          | 0/6 [00:00<?, ?it/s]\u001b[A"
          ]
        },
        {
          "output_type": "stream",
          "name": "stdout",
          "text": [
            "/content/drive/MyDrive/Colab Notebooks/10seconds/103/ECG bandpass_1.csv\n"
          ]
        },
        {
          "output_type": "stream",
          "name": "stderr",
          "text": [
            "\n",
            " 17%|█▋        | 1/6 [00:00<00:02,  2.01it/s]\u001b[A"
          ]
        },
        {
          "output_type": "stream",
          "name": "stdout",
          "text": [
            "/content/drive/MyDrive/Colab Notebooks/10seconds/103/ECG bandpass_2.csv\n"
          ]
        },
        {
          "output_type": "stream",
          "name": "stderr",
          "text": [
            "\n",
            " 33%|███▎      | 2/6 [00:00<00:01,  2.72it/s]\u001b[A"
          ]
        },
        {
          "output_type": "stream",
          "name": "stdout",
          "text": [
            "/content/drive/MyDrive/Colab Notebooks/10seconds/103/ECG bandpass_3.csv\n"
          ]
        },
        {
          "output_type": "stream",
          "name": "stderr",
          "text": [
            "\n",
            " 50%|█████     | 3/6 [00:01<00:01,  2.99it/s]\u001b[A"
          ]
        },
        {
          "output_type": "stream",
          "name": "stdout",
          "text": [
            "/content/drive/MyDrive/Colab Notebooks/10seconds/103/ECG bandpass_4.csv\n"
          ]
        },
        {
          "output_type": "stream",
          "name": "stderr",
          "text": [
            "\n",
            " 67%|██████▋   | 4/6 [00:01<00:00,  3.12it/s]\u001b[A"
          ]
        },
        {
          "output_type": "stream",
          "name": "stdout",
          "text": [
            "/content/drive/MyDrive/Colab Notebooks/10seconds/103/ECG bandpass_5.csv\n"
          ]
        },
        {
          "output_type": "stream",
          "name": "stderr",
          "text": [
            "\n",
            " 83%|████████▎ | 5/6 [00:01<00:00,  3.12it/s]\u001b[A"
          ]
        },
        {
          "output_type": "stream",
          "name": "stdout",
          "text": [
            "/content/drive/MyDrive/Colab Notebooks/10seconds/103/ECG bandpass_6.csv\n"
          ]
        },
        {
          "output_type": "stream",
          "name": "stderr",
          "text": [
            "\n",
            "100%|██████████| 6/6 [00:02<00:00,  2.96it/s]\n",
            "  8%|▊         | 4/48 [00:09<01:48,  2.46s/it]\n",
            "  0%|          | 0/6 [00:00<?, ?it/s]\u001b[A"
          ]
        },
        {
          "output_type": "stream",
          "name": "stdout",
          "text": [
            "/content/drive/MyDrive/Colab Notebooks/10seconds/104/ECG bandpass_1.csv\n"
          ]
        },
        {
          "output_type": "stream",
          "name": "stderr",
          "text": [
            "\n",
            " 17%|█▋        | 1/6 [00:01<00:04,  1.00it/s]\u001b[A"
          ]
        },
        {
          "output_type": "stream",
          "name": "stdout",
          "text": [
            "/content/drive/MyDrive/Colab Notebooks/10seconds/104/ECG bandpass_2.csv\n"
          ]
        },
        {
          "output_type": "stream",
          "name": "stderr",
          "text": [
            "\n",
            " 33%|███▎      | 2/6 [00:01<00:02,  1.58it/s]\u001b[A"
          ]
        },
        {
          "output_type": "stream",
          "name": "stdout",
          "text": [
            "/content/drive/MyDrive/Colab Notebooks/10seconds/104/ECG bandpass_3.csv\n"
          ]
        },
        {
          "output_type": "stream",
          "name": "stderr",
          "text": [
            "\n",
            " 50%|█████     | 3/6 [00:01<00:01,  1.73it/s]\u001b[A"
          ]
        },
        {
          "output_type": "stream",
          "name": "stdout",
          "text": [
            "/content/drive/MyDrive/Colab Notebooks/10seconds/104/ECG bandpass_4.csv\n"
          ]
        },
        {
          "output_type": "stream",
          "name": "stderr",
          "text": [
            "\n",
            " 67%|██████▋   | 4/6 [00:02<00:00,  2.09it/s]\u001b[A"
          ]
        },
        {
          "output_type": "stream",
          "name": "stdout",
          "text": [
            "/content/drive/MyDrive/Colab Notebooks/10seconds/104/ECG bandpass_5.csv\n"
          ]
        },
        {
          "output_type": "stream",
          "name": "stderr",
          "text": [
            "\n",
            " 83%|████████▎ | 5/6 [00:02<00:00,  2.17it/s]\u001b[A"
          ]
        },
        {
          "output_type": "stream",
          "name": "stdout",
          "text": [
            "/content/drive/MyDrive/Colab Notebooks/10seconds/104/ECG bandpass_6.csv\n"
          ]
        },
        {
          "output_type": "stream",
          "name": "stderr",
          "text": [
            "\n",
            "100%|██████████| 6/6 [00:02<00:00,  2.03it/s]\n",
            " 10%|█         | 5/48 [00:13<01:57,  2.74s/it]\n",
            "  0%|          | 0/6 [00:00<?, ?it/s]\u001b[A"
          ]
        },
        {
          "output_type": "stream",
          "name": "stdout",
          "text": [
            "/content/drive/MyDrive/Colab Notebooks/10seconds/105/ECG bandpass_1.csv\n"
          ]
        },
        {
          "output_type": "stream",
          "name": "stderr",
          "text": [
            "\n",
            " 17%|█▋        | 1/6 [00:00<00:02,  2.13it/s]\u001b[A"
          ]
        },
        {
          "output_type": "stream",
          "name": "stdout",
          "text": [
            "/content/drive/MyDrive/Colab Notebooks/10seconds/105/ECG bandpass_2.csv\n"
          ]
        },
        {
          "output_type": "stream",
          "name": "stderr",
          "text": [
            "\n",
            " 33%|███▎      | 2/6 [00:00<00:01,  2.61it/s]\u001b[A"
          ]
        },
        {
          "output_type": "stream",
          "name": "stdout",
          "text": [
            "/content/drive/MyDrive/Colab Notebooks/10seconds/105/ECG bandpass_3.csv\n"
          ]
        },
        {
          "output_type": "stream",
          "name": "stderr",
          "text": [
            "\n",
            " 50%|█████     | 3/6 [00:01<00:01,  2.59it/s]\u001b[A"
          ]
        },
        {
          "output_type": "stream",
          "name": "stdout",
          "text": [
            "/content/drive/MyDrive/Colab Notebooks/10seconds/105/ECG bandpass_4.csv\n"
          ]
        },
        {
          "output_type": "stream",
          "name": "stderr",
          "text": [
            "\n",
            " 67%|██████▋   | 4/6 [00:01<00:00,  2.85it/s]\u001b[A"
          ]
        },
        {
          "output_type": "stream",
          "name": "stdout",
          "text": [
            "/content/drive/MyDrive/Colab Notebooks/10seconds/105/ECG bandpass_5.csv\n"
          ]
        },
        {
          "output_type": "stream",
          "name": "stderr",
          "text": [
            "\n",
            " 83%|████████▎ | 5/6 [00:01<00:00,  2.78it/s]\u001b[A"
          ]
        },
        {
          "output_type": "stream",
          "name": "stdout",
          "text": [
            "/content/drive/MyDrive/Colab Notebooks/10seconds/105/ECG bandpass_6.csv\n"
          ]
        },
        {
          "output_type": "stream",
          "name": "stderr",
          "text": [
            "\n",
            "100%|██████████| 6/6 [00:02<00:00,  2.61it/s]\n",
            " 12%|█▎        | 6/48 [00:15<01:52,  2.68s/it]\n",
            "  0%|          | 0/6 [00:00<?, ?it/s]\u001b[A"
          ]
        },
        {
          "output_type": "stream",
          "name": "stdout",
          "text": [
            "/content/drive/MyDrive/Colab Notebooks/10seconds/106/ECG bandpass_1.csv\n"
          ]
        },
        {
          "output_type": "stream",
          "name": "stderr",
          "text": [
            "\n",
            " 17%|█▋        | 1/6 [00:01<00:05,  1.08s/it]\u001b[A"
          ]
        },
        {
          "output_type": "stream",
          "name": "stdout",
          "text": [
            "/content/drive/MyDrive/Colab Notebooks/10seconds/106/ECG bandpass_2.csv\n"
          ]
        },
        {
          "output_type": "stream",
          "name": "stderr",
          "text": [
            "\n",
            " 33%|███▎      | 2/6 [00:01<00:02,  1.46it/s]\u001b[A"
          ]
        },
        {
          "output_type": "stream",
          "name": "stdout",
          "text": [
            "/content/drive/MyDrive/Colab Notebooks/10seconds/106/ECG bandpass_3.csv\n"
          ]
        },
        {
          "output_type": "stream",
          "name": "stderr",
          "text": [
            "\n",
            " 50%|█████     | 3/6 [00:01<00:01,  1.85it/s]\u001b[A"
          ]
        },
        {
          "output_type": "stream",
          "name": "stdout",
          "text": [
            "/content/drive/MyDrive/Colab Notebooks/10seconds/106/ECG bandpass_4.csv\n"
          ]
        },
        {
          "output_type": "stream",
          "name": "stderr",
          "text": [
            "\n",
            " 67%|██████▋   | 4/6 [00:02<00:00,  2.19it/s]\u001b[A"
          ]
        },
        {
          "output_type": "stream",
          "name": "stdout",
          "text": [
            "/content/drive/MyDrive/Colab Notebooks/10seconds/106/ECG bandpass_5.csv\n"
          ]
        },
        {
          "output_type": "stream",
          "name": "stderr",
          "text": [
            "\n",
            " 83%|████████▎ | 5/6 [00:02<00:00,  2.52it/s]\u001b[A"
          ]
        },
        {
          "output_type": "stream",
          "name": "stdout",
          "text": [
            "/content/drive/MyDrive/Colab Notebooks/10seconds/106/ECG bandpass_6.csv\n"
          ]
        },
        {
          "output_type": "stream",
          "name": "stderr",
          "text": [
            "\n",
            "100%|██████████| 6/6 [00:02<00:00,  2.14it/s]\n",
            " 15%|█▍        | 7/48 [00:18<01:54,  2.80s/it]\n",
            "  0%|          | 0/6 [00:00<?, ?it/s]\u001b[A"
          ]
        },
        {
          "output_type": "stream",
          "name": "stdout",
          "text": [
            "/content/drive/MyDrive/Colab Notebooks/10seconds/107/ECG bandpass_1.csv\n"
          ]
        },
        {
          "output_type": "stream",
          "name": "stderr",
          "text": [
            "\n",
            " 17%|█▋        | 1/6 [00:00<00:03,  1.55it/s]\u001b[A"
          ]
        },
        {
          "output_type": "stream",
          "name": "stdout",
          "text": [
            "/content/drive/MyDrive/Colab Notebooks/10seconds/107/ECG bandpass_2.csv\n"
          ]
        },
        {
          "output_type": "stream",
          "name": "stderr",
          "text": [
            "\n",
            " 33%|███▎      | 2/6 [00:00<00:01,  2.19it/s]\u001b[A"
          ]
        },
        {
          "output_type": "stream",
          "name": "stdout",
          "text": [
            "/content/drive/MyDrive/Colab Notebooks/10seconds/107/ECG bandpass_3.csv\n"
          ]
        },
        {
          "output_type": "stream",
          "name": "stderr",
          "text": [
            "\n",
            " 50%|█████     | 3/6 [00:01<00:01,  2.62it/s]\u001b[A"
          ]
        },
        {
          "output_type": "stream",
          "name": "stdout",
          "text": [
            "/content/drive/MyDrive/Colab Notebooks/10seconds/107/ECG bandpass_4.csv\n"
          ]
        },
        {
          "output_type": "stream",
          "name": "stderr",
          "text": [
            "\n",
            " 67%|██████▋   | 4/6 [00:01<00:00,  2.30it/s]\u001b[A"
          ]
        },
        {
          "output_type": "stream",
          "name": "stdout",
          "text": [
            "/content/drive/MyDrive/Colab Notebooks/10seconds/107/ECG bandpass_5.csv\n"
          ]
        },
        {
          "output_type": "stream",
          "name": "stderr",
          "text": [
            "\n",
            " 83%|████████▎ | 5/6 [00:02<00:00,  2.55it/s]\u001b[A"
          ]
        },
        {
          "output_type": "stream",
          "name": "stdout",
          "text": [
            "/content/drive/MyDrive/Colab Notebooks/10seconds/107/ECG bandpass_6.csv\n"
          ]
        },
        {
          "output_type": "stream",
          "name": "stderr",
          "text": [
            "\n",
            "100%|██████████| 6/6 [00:02<00:00,  2.42it/s]\n",
            " 17%|█▋        | 8/48 [00:21<01:51,  2.78s/it]\n",
            "  0%|          | 0/6 [00:00<?, ?it/s]\u001b[A"
          ]
        },
        {
          "output_type": "stream",
          "name": "stdout",
          "text": [
            "/content/drive/MyDrive/Colab Notebooks/10seconds/108/ECG bandpass_1.csv\n"
          ]
        },
        {
          "output_type": "stream",
          "name": "stderr",
          "text": [
            "\n",
            " 17%|█▋        | 1/6 [00:00<00:02,  1.70it/s]\u001b[A"
          ]
        },
        {
          "output_type": "stream",
          "name": "stdout",
          "text": [
            "/content/drive/MyDrive/Colab Notebooks/10seconds/108/ECG bandpass_2.csv\n"
          ]
        },
        {
          "output_type": "stream",
          "name": "stderr",
          "text": [
            "\n",
            " 33%|███▎      | 2/6 [00:00<00:01,  2.39it/s]\u001b[A"
          ]
        },
        {
          "output_type": "stream",
          "name": "stdout",
          "text": [
            "/content/drive/MyDrive/Colab Notebooks/10seconds/108/ECG bandpass_3.csv\n"
          ]
        },
        {
          "output_type": "stream",
          "name": "stderr",
          "text": [
            "\n",
            " 50%|█████     | 3/6 [00:01<00:01,  2.09it/s]\u001b[A"
          ]
        },
        {
          "output_type": "stream",
          "name": "stdout",
          "text": [
            "/content/drive/MyDrive/Colab Notebooks/10seconds/108/ECG bandpass_4.csv\n"
          ]
        },
        {
          "output_type": "stream",
          "name": "stderr",
          "text": [
            "\n",
            " 67%|██████▋   | 4/6 [00:01<00:00,  2.32it/s]\u001b[A"
          ]
        },
        {
          "output_type": "stream",
          "name": "stdout",
          "text": [
            "/content/drive/MyDrive/Colab Notebooks/10seconds/108/ECG bandpass_5.csv\n"
          ]
        },
        {
          "output_type": "stream",
          "name": "stderr",
          "text": [
            "\n",
            " 83%|████████▎ | 5/6 [00:02<00:00,  2.40it/s]\u001b[A"
          ]
        },
        {
          "output_type": "stream",
          "name": "stdout",
          "text": [
            "/content/drive/MyDrive/Colab Notebooks/10seconds/108/ECG bandpass_6.csv\n"
          ]
        },
        {
          "output_type": "stream",
          "name": "stderr",
          "text": [
            "\n",
            "100%|██████████| 6/6 [00:02<00:00,  2.38it/s]\n",
            " 19%|█▉        | 9/48 [00:24<01:49,  2.81s/it]\n",
            "  0%|          | 0/6 [00:00<?, ?it/s]\u001b[A"
          ]
        },
        {
          "output_type": "stream",
          "name": "stdout",
          "text": [
            "/content/drive/MyDrive/Colab Notebooks/10seconds/109/ECG bandpass_1.csv\n"
          ]
        },
        {
          "output_type": "stream",
          "name": "stderr",
          "text": [
            "\n",
            " 17%|█▋        | 1/6 [00:00<00:02,  2.07it/s]\u001b[A"
          ]
        },
        {
          "output_type": "stream",
          "name": "stdout",
          "text": [
            "/content/drive/MyDrive/Colab Notebooks/10seconds/109/ECG bandpass_2.csv\n"
          ]
        },
        {
          "output_type": "stream",
          "name": "stderr",
          "text": [
            "\n",
            " 33%|███▎      | 2/6 [00:00<00:01,  2.68it/s]\u001b[A"
          ]
        },
        {
          "output_type": "stream",
          "name": "stdout",
          "text": [
            "/content/drive/MyDrive/Colab Notebooks/10seconds/109/ECG bandpass_3.csv\n"
          ]
        },
        {
          "output_type": "stream",
          "name": "stderr",
          "text": [
            "\n",
            " 50%|█████     | 3/6 [00:01<00:01,  2.73it/s]\u001b[A"
          ]
        },
        {
          "output_type": "stream",
          "name": "stdout",
          "text": [
            "/content/drive/MyDrive/Colab Notebooks/10seconds/109/ECG bandpass_4.csv\n"
          ]
        },
        {
          "output_type": "stream",
          "name": "stderr",
          "text": [
            "\n",
            " 67%|██████▋   | 4/6 [00:01<00:00,  2.91it/s]\u001b[A"
          ]
        },
        {
          "output_type": "stream",
          "name": "stdout",
          "text": [
            "/content/drive/MyDrive/Colab Notebooks/10seconds/109/ECG bandpass_5.csv\n"
          ]
        },
        {
          "output_type": "stream",
          "name": "stderr",
          "text": [
            "\n",
            " 83%|████████▎ | 5/6 [00:01<00:00,  2.60it/s]\u001b[A"
          ]
        },
        {
          "output_type": "stream",
          "name": "stdout",
          "text": [
            "/content/drive/MyDrive/Colab Notebooks/10seconds/109/ECG bandpass_6.csv\n"
          ]
        },
        {
          "output_type": "stream",
          "name": "stderr",
          "text": [
            "\n",
            "100%|██████████| 6/6 [00:02<00:00,  2.68it/s]\n",
            " 21%|██        | 10/48 [00:26<01:43,  2.72s/it]\n",
            "  0%|          | 0/6 [00:00<?, ?it/s]\u001b[A"
          ]
        },
        {
          "output_type": "stream",
          "name": "stdout",
          "text": [
            "/content/drive/MyDrive/Colab Notebooks/10seconds/111/ECG bandpass_1.csv\n"
          ]
        },
        {
          "output_type": "stream",
          "name": "stderr",
          "text": [
            "\n",
            " 17%|█▋        | 1/6 [00:00<00:03,  1.35it/s]\u001b[A"
          ]
        },
        {
          "output_type": "stream",
          "name": "stdout",
          "text": [
            "/content/drive/MyDrive/Colab Notebooks/10seconds/111/ECG bandpass_2.csv\n"
          ]
        },
        {
          "output_type": "stream",
          "name": "stderr",
          "text": [
            "\n",
            " 33%|███▎      | 2/6 [00:01<00:01,  2.05it/s]\u001b[A"
          ]
        },
        {
          "output_type": "stream",
          "name": "stdout",
          "text": [
            "/content/drive/MyDrive/Colab Notebooks/10seconds/111/ECG bandpass_3.csv\n"
          ]
        },
        {
          "output_type": "stream",
          "name": "stderr",
          "text": [
            "\n",
            " 50%|█████     | 3/6 [00:01<00:01,  2.10it/s]\u001b[A"
          ]
        },
        {
          "output_type": "stream",
          "name": "stdout",
          "text": [
            "/content/drive/MyDrive/Colab Notebooks/10seconds/111/ECG bandpass_4.csv\n"
          ]
        },
        {
          "output_type": "stream",
          "name": "stderr",
          "text": [
            "\n",
            " 67%|██████▋   | 4/6 [00:01<00:00,  2.52it/s]\u001b[A"
          ]
        },
        {
          "output_type": "stream",
          "name": "stdout",
          "text": [
            "/content/drive/MyDrive/Colab Notebooks/10seconds/111/ECG bandpass_5.csv\n"
          ]
        },
        {
          "output_type": "stream",
          "name": "stderr",
          "text": [
            "\n",
            " 83%|████████▎ | 5/6 [00:02<00:00,  2.66it/s]\u001b[A"
          ]
        },
        {
          "output_type": "stream",
          "name": "stdout",
          "text": [
            "/content/drive/MyDrive/Colab Notebooks/10seconds/111/ECG bandpass_6.csv\n"
          ]
        },
        {
          "output_type": "stream",
          "name": "stderr",
          "text": [
            "\n",
            "100%|██████████| 6/6 [00:02<00:00,  2.43it/s]\n",
            " 23%|██▎       | 11/48 [00:29<01:40,  2.72s/it]\n",
            "  0%|          | 0/6 [00:00<?, ?it/s]\u001b[A"
          ]
        },
        {
          "output_type": "stream",
          "name": "stdout",
          "text": [
            "/content/drive/MyDrive/Colab Notebooks/10seconds/112/ECG bandpass_1.csv\n"
          ]
        },
        {
          "output_type": "stream",
          "name": "stderr",
          "text": [
            "\n",
            " 17%|█▋        | 1/6 [00:00<00:02,  1.81it/s]\u001b[A"
          ]
        },
        {
          "output_type": "stream",
          "name": "stdout",
          "text": [
            "/content/drive/MyDrive/Colab Notebooks/10seconds/112/ECG bandpass_2.csv\n"
          ]
        },
        {
          "output_type": "stream",
          "name": "stderr",
          "text": [
            "\n",
            " 33%|███▎      | 2/6 [00:00<00:01,  2.08it/s]\u001b[A"
          ]
        },
        {
          "output_type": "stream",
          "name": "stdout",
          "text": [
            "/content/drive/MyDrive/Colab Notebooks/10seconds/112/ECG bandpass_3.csv\n"
          ]
        },
        {
          "output_type": "stream",
          "name": "stderr",
          "text": [
            "\n",
            " 50%|█████     | 3/6 [00:01<00:01,  2.43it/s]\u001b[A"
          ]
        },
        {
          "output_type": "stream",
          "name": "stdout",
          "text": [
            "/content/drive/MyDrive/Colab Notebooks/10seconds/112/ECG bandpass_4.csv\n"
          ]
        },
        {
          "output_type": "stream",
          "name": "stderr",
          "text": [
            "\n",
            " 67%|██████▋   | 4/6 [00:01<00:00,  2.67it/s]\u001b[A"
          ]
        },
        {
          "output_type": "stream",
          "name": "stdout",
          "text": [
            "/content/drive/MyDrive/Colab Notebooks/10seconds/112/ECG bandpass_5.csv\n"
          ]
        },
        {
          "output_type": "stream",
          "name": "stderr",
          "text": [
            "\n",
            " 83%|████████▎ | 5/6 [00:01<00:00,  2.91it/s]\u001b[A"
          ]
        },
        {
          "output_type": "stream",
          "name": "stdout",
          "text": [
            "/content/drive/MyDrive/Colab Notebooks/10seconds/112/ECG bandpass_6.csv\n"
          ]
        },
        {
          "output_type": "stream",
          "name": "stderr",
          "text": [
            "\n",
            "100%|██████████| 6/6 [00:02<00:00,  2.68it/s]\n",
            " 25%|██▌       | 12/48 [00:32<01:35,  2.65s/it]\n",
            "  0%|          | 0/6 [00:00<?, ?it/s]\u001b[A"
          ]
        },
        {
          "output_type": "stream",
          "name": "stdout",
          "text": [
            "/content/drive/MyDrive/Colab Notebooks/10seconds/113/ECG bandpass_1.csv\n"
          ]
        },
        {
          "output_type": "stream",
          "name": "stderr",
          "text": [
            "\n",
            " 17%|█▋        | 1/6 [00:00<00:02,  2.08it/s]\u001b[A"
          ]
        },
        {
          "output_type": "stream",
          "name": "stdout",
          "text": [
            "/content/drive/MyDrive/Colab Notebooks/10seconds/113/ECG bandpass_2.csv\n"
          ]
        },
        {
          "output_type": "stream",
          "name": "stderr",
          "text": [
            "\n",
            " 33%|███▎      | 2/6 [00:00<00:01,  2.48it/s]\u001b[A"
          ]
        },
        {
          "output_type": "stream",
          "name": "stdout",
          "text": [
            "/content/drive/MyDrive/Colab Notebooks/10seconds/113/ECG bandpass_3.csv\n"
          ]
        },
        {
          "output_type": "stream",
          "name": "stderr",
          "text": [
            "\n",
            " 50%|█████     | 3/6 [00:01<00:01,  2.73it/s]\u001b[A"
          ]
        },
        {
          "output_type": "stream",
          "name": "stdout",
          "text": [
            "/content/drive/MyDrive/Colab Notebooks/10seconds/113/ECG bandpass_4.csv\n"
          ]
        },
        {
          "output_type": "stream",
          "name": "stderr",
          "text": [
            "\n",
            " 67%|██████▋   | 4/6 [00:01<00:00,  2.72it/s]\u001b[A"
          ]
        },
        {
          "output_type": "stream",
          "name": "stdout",
          "text": [
            "/content/drive/MyDrive/Colab Notebooks/10seconds/113/ECG bandpass_5.csv\n"
          ]
        },
        {
          "output_type": "stream",
          "name": "stderr",
          "text": [
            "\n",
            " 83%|████████▎ | 5/6 [00:01<00:00,  2.87it/s]\u001b[A"
          ]
        },
        {
          "output_type": "stream",
          "name": "stdout",
          "text": [
            "/content/drive/MyDrive/Colab Notebooks/10seconds/113/ECG bandpass_6.csv\n"
          ]
        },
        {
          "output_type": "stream",
          "name": "stderr",
          "text": [
            "\n",
            "100%|██████████| 6/6 [00:02<00:00,  2.78it/s]\n",
            " 27%|██▋       | 13/48 [00:34<01:31,  2.62s/it]\n",
            "  0%|          | 0/6 [00:00<?, ?it/s]\u001b[A"
          ]
        },
        {
          "output_type": "stream",
          "name": "stdout",
          "text": [
            "/content/drive/MyDrive/Colab Notebooks/10seconds/114/ECG bandpass_1.csv\n"
          ]
        },
        {
          "output_type": "stream",
          "name": "stderr",
          "text": [
            "\n",
            " 17%|█▋        | 1/6 [00:00<00:03,  1.51it/s]\u001b[A"
          ]
        },
        {
          "output_type": "stream",
          "name": "stdout",
          "text": [
            "/content/drive/MyDrive/Colab Notebooks/10seconds/114/ECG bandpass_2.csv\n"
          ]
        },
        {
          "output_type": "stream",
          "name": "stderr",
          "text": [
            "\n",
            " 33%|███▎      | 2/6 [00:01<00:01,  2.05it/s]\u001b[A"
          ]
        },
        {
          "output_type": "stream",
          "name": "stdout",
          "text": [
            "/content/drive/MyDrive/Colab Notebooks/10seconds/114/ECG bandpass_3.csv\n"
          ]
        },
        {
          "output_type": "stream",
          "name": "stderr",
          "text": [
            "\n",
            " 50%|█████     | 3/6 [00:01<00:01,  2.44it/s]\u001b[A"
          ]
        },
        {
          "output_type": "stream",
          "name": "stdout",
          "text": [
            "/content/drive/MyDrive/Colab Notebooks/10seconds/114/ECG bandpass_4.csv\n"
          ]
        },
        {
          "output_type": "stream",
          "name": "stderr",
          "text": [
            "\n",
            " 67%|██████▋   | 4/6 [00:01<00:00,  2.68it/s]\u001b[A"
          ]
        },
        {
          "output_type": "stream",
          "name": "stdout",
          "text": [
            "/content/drive/MyDrive/Colab Notebooks/10seconds/114/ECG bandpass_5.csv\n"
          ]
        },
        {
          "output_type": "stream",
          "name": "stderr",
          "text": [
            "\n",
            " 83%|████████▎ | 5/6 [00:01<00:00,  2.81it/s]\u001b[A"
          ]
        },
        {
          "output_type": "stream",
          "name": "stdout",
          "text": [
            "/content/drive/MyDrive/Colab Notebooks/10seconds/114/ECG bandpass_6.csv\n"
          ]
        },
        {
          "output_type": "stream",
          "name": "stderr",
          "text": [
            "\n",
            "100%|██████████| 6/6 [00:02<00:00,  2.54it/s]\n",
            " 29%|██▉       | 14/48 [00:37<01:29,  2.64s/it]\n",
            "  0%|          | 0/6 [00:00<?, ?it/s]\u001b[A"
          ]
        },
        {
          "output_type": "stream",
          "name": "stdout",
          "text": [
            "/content/drive/MyDrive/Colab Notebooks/10seconds/115/ECG bandpass_1.csv\n"
          ]
        },
        {
          "output_type": "stream",
          "name": "stderr",
          "text": [
            "\n",
            " 17%|█▋        | 1/6 [00:00<00:03,  1.65it/s]\u001b[A"
          ]
        },
        {
          "output_type": "stream",
          "name": "stdout",
          "text": [
            "/content/drive/MyDrive/Colab Notebooks/10seconds/115/ECG bandpass_2.csv\n"
          ]
        },
        {
          "output_type": "stream",
          "name": "stderr",
          "text": [
            "\n",
            " 33%|███▎      | 2/6 [00:01<00:01,  2.02it/s]\u001b[A"
          ]
        },
        {
          "output_type": "stream",
          "name": "stdout",
          "text": [
            "/content/drive/MyDrive/Colab Notebooks/10seconds/115/ECG bandpass_3.csv\n"
          ]
        },
        {
          "output_type": "stream",
          "name": "stderr",
          "text": [
            "\n",
            " 50%|█████     | 3/6 [00:01<00:01,  2.34it/s]\u001b[A"
          ]
        },
        {
          "output_type": "stream",
          "name": "stdout",
          "text": [
            "/content/drive/MyDrive/Colab Notebooks/10seconds/115/ECG bandpass_4.csv\n"
          ]
        },
        {
          "output_type": "stream",
          "name": "stderr",
          "text": [
            "\n",
            " 67%|██████▋   | 4/6 [00:01<00:00,  2.54it/s]\u001b[A"
          ]
        },
        {
          "output_type": "stream",
          "name": "stdout",
          "text": [
            "/content/drive/MyDrive/Colab Notebooks/10seconds/115/ECG bandpass_5.csv\n"
          ]
        },
        {
          "output_type": "stream",
          "name": "stderr",
          "text": [
            "\n",
            " 83%|████████▎ | 5/6 [00:02<00:00,  2.73it/s]\u001b[A"
          ]
        },
        {
          "output_type": "stream",
          "name": "stdout",
          "text": [
            "/content/drive/MyDrive/Colab Notebooks/10seconds/115/ECG bandpass_6.csv\n"
          ]
        },
        {
          "output_type": "stream",
          "name": "stderr",
          "text": [
            "\n",
            "100%|██████████| 6/6 [00:02<00:00,  2.46it/s]\n",
            " 31%|███▏      | 15/48 [00:40<01:28,  2.69s/it]\n",
            "  0%|          | 0/6 [00:00<?, ?it/s]\u001b[A"
          ]
        },
        {
          "output_type": "stream",
          "name": "stdout",
          "text": [
            "/content/drive/MyDrive/Colab Notebooks/10seconds/116/ECG bandpass_1.csv\n"
          ]
        },
        {
          "output_type": "stream",
          "name": "stderr",
          "text": [
            "\n",
            " 17%|█▋        | 1/6 [00:00<00:02,  1.70it/s]\u001b[A"
          ]
        },
        {
          "output_type": "stream",
          "name": "stdout",
          "text": [
            "/content/drive/MyDrive/Colab Notebooks/10seconds/116/ECG bandpass_2.csv\n"
          ]
        },
        {
          "output_type": "stream",
          "name": "stderr",
          "text": [
            "\n",
            " 33%|███▎      | 2/6 [00:00<00:01,  2.15it/s]\u001b[A"
          ]
        },
        {
          "output_type": "stream",
          "name": "stdout",
          "text": [
            "/content/drive/MyDrive/Colab Notebooks/10seconds/116/ECG bandpass_3.csv\n"
          ]
        },
        {
          "output_type": "stream",
          "name": "stderr",
          "text": [
            "\n",
            " 50%|█████     | 3/6 [00:01<00:01,  2.41it/s]\u001b[A"
          ]
        },
        {
          "output_type": "stream",
          "name": "stdout",
          "text": [
            "/content/drive/MyDrive/Colab Notebooks/10seconds/116/ECG bandpass_4.csv\n"
          ]
        },
        {
          "output_type": "stream",
          "name": "stderr",
          "text": [
            "\n",
            " 67%|██████▋   | 4/6 [00:01<00:00,  2.53it/s]\u001b[A"
          ]
        },
        {
          "output_type": "stream",
          "name": "stdout",
          "text": [
            "/content/drive/MyDrive/Colab Notebooks/10seconds/116/ECG bandpass_5.csv\n"
          ]
        },
        {
          "output_type": "stream",
          "name": "stderr",
          "text": [
            "\n",
            " 83%|████████▎ | 5/6 [00:02<00:00,  2.49it/s]\u001b[A"
          ]
        },
        {
          "output_type": "stream",
          "name": "stdout",
          "text": [
            "/content/drive/MyDrive/Colab Notebooks/10seconds/116/ECG bandpass_6.csv\n"
          ]
        },
        {
          "output_type": "stream",
          "name": "stderr",
          "text": [
            "\n",
            "100%|██████████| 6/6 [00:02<00:00,  2.43it/s]\n",
            " 33%|███▎      | 16/48 [00:42<01:26,  2.72s/it]\n",
            "  0%|          | 0/6 [00:00<?, ?it/s]\u001b[A"
          ]
        },
        {
          "output_type": "stream",
          "name": "stdout",
          "text": [
            "/content/drive/MyDrive/Colab Notebooks/10seconds/117/ECG bandpass_1.csv\n"
          ]
        },
        {
          "output_type": "stream",
          "name": "stderr",
          "text": [
            "\n",
            " 17%|█▋        | 1/6 [00:00<00:02,  1.74it/s]\u001b[A"
          ]
        },
        {
          "output_type": "stream",
          "name": "stdout",
          "text": [
            "/content/drive/MyDrive/Colab Notebooks/10seconds/117/ECG bandpass_2.csv\n"
          ]
        },
        {
          "output_type": "stream",
          "name": "stderr",
          "text": [
            "\n",
            " 33%|███▎      | 2/6 [00:00<00:01,  2.39it/s]\u001b[A"
          ]
        },
        {
          "output_type": "stream",
          "name": "stdout",
          "text": [
            "/content/drive/MyDrive/Colab Notebooks/10seconds/117/ECG bandpass_3.csv\n"
          ]
        },
        {
          "output_type": "stream",
          "name": "stderr",
          "text": [
            "\n",
            " 50%|█████     | 3/6 [00:01<00:01,  2.66it/s]\u001b[A"
          ]
        },
        {
          "output_type": "stream",
          "name": "stdout",
          "text": [
            "/content/drive/MyDrive/Colab Notebooks/10seconds/117/ECG bandpass_4.csv\n"
          ]
        },
        {
          "output_type": "stream",
          "name": "stderr",
          "text": [
            "\n",
            " 67%|██████▋   | 4/6 [00:01<00:00,  2.61it/s]\u001b[A"
          ]
        },
        {
          "output_type": "stream",
          "name": "stdout",
          "text": [
            "/content/drive/MyDrive/Colab Notebooks/10seconds/117/ECG bandpass_5.csv\n"
          ]
        },
        {
          "output_type": "stream",
          "name": "stderr",
          "text": [
            "\n",
            " 83%|████████▎ | 5/6 [00:02<00:00,  2.56it/s]\u001b[A"
          ]
        },
        {
          "output_type": "stream",
          "name": "stdout",
          "text": [
            "/content/drive/MyDrive/Colab Notebooks/10seconds/117/ECG bandpass_6.csv\n"
          ]
        },
        {
          "output_type": "stream",
          "name": "stderr",
          "text": [
            "\n",
            "100%|██████████| 6/6 [00:02<00:00,  2.39it/s]\n",
            " 35%|███▌      | 17/48 [00:46<01:28,  2.84s/it]\n",
            "  0%|          | 0/6 [00:00<?, ?it/s]\u001b[A"
          ]
        },
        {
          "output_type": "stream",
          "name": "stdout",
          "text": [
            "/content/drive/MyDrive/Colab Notebooks/10seconds/118/ECG bandpass_1.csv\n"
          ]
        },
        {
          "output_type": "stream",
          "name": "stderr",
          "text": [
            "\n",
            " 17%|█▋        | 1/6 [00:00<00:03,  1.46it/s]\u001b[A"
          ]
        },
        {
          "output_type": "stream",
          "name": "stdout",
          "text": [
            "/content/drive/MyDrive/Colab Notebooks/10seconds/118/ECG bandpass_2.csv\n"
          ]
        },
        {
          "output_type": "stream",
          "name": "stderr",
          "text": [
            "\n",
            " 33%|███▎      | 2/6 [00:01<00:02,  1.85it/s]\u001b[A"
          ]
        },
        {
          "output_type": "stream",
          "name": "stdout",
          "text": [
            "/content/drive/MyDrive/Colab Notebooks/10seconds/118/ECG bandpass_3.csv\n"
          ]
        },
        {
          "output_type": "stream",
          "name": "stderr",
          "text": [
            "\n",
            " 50%|█████     | 3/6 [00:01<00:01,  2.13it/s]\u001b[A"
          ]
        },
        {
          "output_type": "stream",
          "name": "stdout",
          "text": [
            "/content/drive/MyDrive/Colab Notebooks/10seconds/118/ECG bandpass_4.csv\n"
          ]
        },
        {
          "output_type": "stream",
          "name": "stderr",
          "text": [
            "\n",
            " 67%|██████▋   | 4/6 [00:01<00:00,  2.34it/s]\u001b[A"
          ]
        },
        {
          "output_type": "stream",
          "name": "stdout",
          "text": [
            "/content/drive/MyDrive/Colab Notebooks/10seconds/118/ECG bandpass_5.csv\n"
          ]
        },
        {
          "output_type": "stream",
          "name": "stderr",
          "text": [
            "\n",
            " 83%|████████▎ | 5/6 [00:02<00:00,  2.50it/s]\u001b[A"
          ]
        },
        {
          "output_type": "stream",
          "name": "stdout",
          "text": [
            "/content/drive/MyDrive/Colab Notebooks/10seconds/118/ECG bandpass_6.csv\n"
          ]
        },
        {
          "output_type": "stream",
          "name": "stderr",
          "text": [
            "\n",
            "100%|██████████| 6/6 [00:02<00:00,  2.30it/s]\n",
            " 38%|███▊      | 18/48 [00:49<01:30,  3.00s/it]\n",
            "  0%|          | 0/6 [00:00<?, ?it/s]\u001b[A"
          ]
        },
        {
          "output_type": "stream",
          "name": "stdout",
          "text": [
            "/content/drive/MyDrive/Colab Notebooks/10seconds/119/ECG bandpass_1.csv\n"
          ]
        },
        {
          "output_type": "stream",
          "name": "stderr",
          "text": [
            "\n",
            " 17%|█▋        | 1/6 [00:00<00:02,  1.91it/s]\u001b[A"
          ]
        },
        {
          "output_type": "stream",
          "name": "stdout",
          "text": [
            "/content/drive/MyDrive/Colab Notebooks/10seconds/119/ECG bandpass_2.csv\n"
          ]
        },
        {
          "output_type": "stream",
          "name": "stderr",
          "text": [
            "\n",
            " 33%|███▎      | 2/6 [00:00<00:01,  2.27it/s]\u001b[A"
          ]
        },
        {
          "output_type": "stream",
          "name": "stdout",
          "text": [
            "/content/drive/MyDrive/Colab Notebooks/10seconds/119/ECG bandpass_3.csv\n"
          ]
        },
        {
          "output_type": "stream",
          "name": "stderr",
          "text": [
            "\n",
            " 50%|█████     | 3/6 [00:01<00:01,  2.34it/s]\u001b[A"
          ]
        },
        {
          "output_type": "stream",
          "name": "stdout",
          "text": [
            "/content/drive/MyDrive/Colab Notebooks/10seconds/119/ECG bandpass_4.csv\n"
          ]
        },
        {
          "output_type": "stream",
          "name": "stderr",
          "text": [
            "\n",
            " 67%|██████▋   | 4/6 [00:01<00:00,  2.45it/s]\u001b[A"
          ]
        },
        {
          "output_type": "stream",
          "name": "stdout",
          "text": [
            "/content/drive/MyDrive/Colab Notebooks/10seconds/119/ECG bandpass_5.csv\n"
          ]
        },
        {
          "output_type": "stream",
          "name": "stderr",
          "text": [
            "\n",
            " 83%|████████▎ | 5/6 [00:02<00:00,  2.64it/s]\u001b[A"
          ]
        },
        {
          "output_type": "stream",
          "name": "stdout",
          "text": [
            "/content/drive/MyDrive/Colab Notebooks/10seconds/119/ECG bandpass_6.csv\n"
          ]
        },
        {
          "output_type": "stream",
          "name": "stderr",
          "text": [
            "\n",
            "100%|██████████| 6/6 [00:02<00:00,  2.53it/s]\n",
            " 40%|███▉      | 19/48 [00:52<01:25,  2.95s/it]\n",
            "  0%|          | 0/6 [00:00<?, ?it/s]\u001b[A"
          ]
        },
        {
          "output_type": "stream",
          "name": "stdout",
          "text": [
            "/content/drive/MyDrive/Colab Notebooks/10seconds/121/ECG bandpass_1.csv\n"
          ]
        },
        {
          "output_type": "stream",
          "name": "stderr",
          "text": [
            "\n",
            " 17%|█▋        | 1/6 [00:00<00:02,  1.72it/s]\u001b[A"
          ]
        },
        {
          "output_type": "stream",
          "name": "stdout",
          "text": [
            "/content/drive/MyDrive/Colab Notebooks/10seconds/121/ECG bandpass_2.csv\n"
          ]
        },
        {
          "output_type": "stream",
          "name": "stderr",
          "text": [
            "\n",
            " 33%|███▎      | 2/6 [00:00<00:01,  2.19it/s]\u001b[A"
          ]
        },
        {
          "output_type": "stream",
          "name": "stdout",
          "text": [
            "/content/drive/MyDrive/Colab Notebooks/10seconds/121/ECG bandpass_3.csv\n"
          ]
        },
        {
          "output_type": "stream",
          "name": "stderr",
          "text": [
            "\n",
            " 50%|█████     | 3/6 [00:01<00:01,  2.44it/s]\u001b[A"
          ]
        },
        {
          "output_type": "stream",
          "name": "stdout",
          "text": [
            "/content/drive/MyDrive/Colab Notebooks/10seconds/121/ECG bandpass_4.csv\n"
          ]
        },
        {
          "output_type": "stream",
          "name": "stderr",
          "text": [
            "\n",
            " 67%|██████▋   | 4/6 [00:01<00:00,  2.64it/s]\u001b[A"
          ]
        },
        {
          "output_type": "stream",
          "name": "stdout",
          "text": [
            "/content/drive/MyDrive/Colab Notebooks/10seconds/121/ECG bandpass_5.csv\n"
          ]
        },
        {
          "output_type": "stream",
          "name": "stderr",
          "text": [
            "\n",
            " 83%|████████▎ | 5/6 [00:01<00:00,  2.78it/s]\u001b[A"
          ]
        },
        {
          "output_type": "stream",
          "name": "stdout",
          "text": [
            "/content/drive/MyDrive/Colab Notebooks/10seconds/121/ECG bandpass_6.csv\n"
          ]
        },
        {
          "output_type": "stream",
          "name": "stderr",
          "text": [
            "\n",
            "100%|██████████| 6/6 [00:02<00:00,  2.61it/s]\n",
            " 42%|████▏     | 20/48 [00:55<01:20,  2.87s/it]\n",
            "  0%|          | 0/6 [00:00<?, ?it/s]\u001b[A"
          ]
        },
        {
          "output_type": "stream",
          "name": "stdout",
          "text": [
            "/content/drive/MyDrive/Colab Notebooks/10seconds/122/ECG bandpass_1.csv\n"
          ]
        },
        {
          "output_type": "stream",
          "name": "stderr",
          "text": [
            "\n",
            " 17%|█▋        | 1/6 [00:00<00:03,  1.64it/s]\u001b[A"
          ]
        },
        {
          "output_type": "stream",
          "name": "stdout",
          "text": [
            "/content/drive/MyDrive/Colab Notebooks/10seconds/122/ECG bandpass_2.csv\n"
          ]
        },
        {
          "output_type": "stream",
          "name": "stderr",
          "text": [
            "\n",
            " 33%|███▎      | 2/6 [00:01<00:01,  2.03it/s]\u001b[A"
          ]
        },
        {
          "output_type": "stream",
          "name": "stdout",
          "text": [
            "/content/drive/MyDrive/Colab Notebooks/10seconds/122/ECG bandpass_3.csv\n"
          ]
        },
        {
          "output_type": "stream",
          "name": "stderr",
          "text": [
            "\n",
            " 50%|█████     | 3/6 [00:01<00:01,  2.44it/s]\u001b[A"
          ]
        },
        {
          "output_type": "stream",
          "name": "stdout",
          "text": [
            "/content/drive/MyDrive/Colab Notebooks/10seconds/122/ECG bandpass_4.csv\n"
          ]
        },
        {
          "output_type": "stream",
          "name": "stderr",
          "text": [
            "\n",
            " 67%|██████▋   | 4/6 [00:01<00:00,  2.70it/s]\u001b[A"
          ]
        },
        {
          "output_type": "stream",
          "name": "stdout",
          "text": [
            "/content/drive/MyDrive/Colab Notebooks/10seconds/122/ECG bandpass_5.csv\n"
          ]
        },
        {
          "output_type": "stream",
          "name": "stderr",
          "text": [
            "\n",
            " 83%|████████▎ | 5/6 [00:02<00:00,  2.73it/s]\u001b[A"
          ]
        },
        {
          "output_type": "stream",
          "name": "stdout",
          "text": [
            "/content/drive/MyDrive/Colab Notebooks/10seconds/122/ECG bandpass_6.csv\n"
          ]
        },
        {
          "output_type": "stream",
          "name": "stderr",
          "text": [
            "\n",
            "100%|██████████| 6/6 [00:02<00:00,  2.55it/s]\n",
            " 44%|████▍     | 21/48 [00:57<01:16,  2.83s/it]\n",
            "  0%|          | 0/6 [00:00<?, ?it/s]\u001b[A"
          ]
        },
        {
          "output_type": "stream",
          "name": "stdout",
          "text": [
            "/content/drive/MyDrive/Colab Notebooks/10seconds/123/ECG bandpass_1.csv\n"
          ]
        },
        {
          "output_type": "stream",
          "name": "stderr",
          "text": [
            "\n",
            " 17%|█▋        | 1/6 [00:00<00:02,  2.09it/s]\u001b[A"
          ]
        },
        {
          "output_type": "stream",
          "name": "stdout",
          "text": [
            "/content/drive/MyDrive/Colab Notebooks/10seconds/123/ECG bandpass_2.csv\n"
          ]
        },
        {
          "output_type": "stream",
          "name": "stderr",
          "text": [
            "\n",
            " 33%|███▎      | 2/6 [00:00<00:01,  2.69it/s]\u001b[A"
          ]
        },
        {
          "output_type": "stream",
          "name": "stdout",
          "text": [
            "/content/drive/MyDrive/Colab Notebooks/10seconds/123/ECG bandpass_3.csv\n"
          ]
        },
        {
          "output_type": "stream",
          "name": "stderr",
          "text": [
            "\n",
            " 50%|█████     | 3/6 [00:01<00:01,  2.88it/s]\u001b[A"
          ]
        },
        {
          "output_type": "stream",
          "name": "stdout",
          "text": [
            "/content/drive/MyDrive/Colab Notebooks/10seconds/123/ECG bandpass_4.csv\n"
          ]
        },
        {
          "output_type": "stream",
          "name": "stderr",
          "text": [
            "\n",
            " 67%|██████▋   | 4/6 [00:01<00:00,  2.71it/s]\u001b[A"
          ]
        },
        {
          "output_type": "stream",
          "name": "stdout",
          "text": [
            "/content/drive/MyDrive/Colab Notebooks/10seconds/123/ECG bandpass_5.csv\n"
          ]
        },
        {
          "output_type": "stream",
          "name": "stderr",
          "text": [
            "\n",
            " 83%|████████▎ | 5/6 [00:01<00:00,  2.69it/s]\u001b[A"
          ]
        },
        {
          "output_type": "stream",
          "name": "stdout",
          "text": [
            "/content/drive/MyDrive/Colab Notebooks/10seconds/123/ECG bandpass_6.csv\n"
          ]
        },
        {
          "output_type": "stream",
          "name": "stderr",
          "text": [
            "\n",
            "100%|██████████| 6/6 [00:02<00:00,  2.68it/s]\n",
            " 46%|████▌     | 22/48 [01:00<01:11,  2.77s/it]\n",
            "  0%|          | 0/6 [00:00<?, ?it/s]\u001b[A"
          ]
        },
        {
          "output_type": "stream",
          "name": "stdout",
          "text": [
            "/content/drive/MyDrive/Colab Notebooks/10seconds/124/ECG bandpass_1.csv\n"
          ]
        },
        {
          "output_type": "stream",
          "name": "stderr",
          "text": [
            "\n",
            " 17%|█▋        | 1/6 [00:00<00:02,  1.98it/s]\u001b[A"
          ]
        },
        {
          "output_type": "stream",
          "name": "stdout",
          "text": [
            "/content/drive/MyDrive/Colab Notebooks/10seconds/124/ECG bandpass_2.csv\n"
          ]
        },
        {
          "output_type": "stream",
          "name": "stderr",
          "text": [
            "\n",
            " 33%|███▎      | 2/6 [00:00<00:01,  2.52it/s]\u001b[A"
          ]
        },
        {
          "output_type": "stream",
          "name": "stdout",
          "text": [
            "/content/drive/MyDrive/Colab Notebooks/10seconds/124/ECG bandpass_3.csv\n"
          ]
        },
        {
          "output_type": "stream",
          "name": "stderr",
          "text": [
            "\n",
            " 50%|█████     | 3/6 [00:01<00:01,  2.59it/s]\u001b[A"
          ]
        },
        {
          "output_type": "stream",
          "name": "stdout",
          "text": [
            "/content/drive/MyDrive/Colab Notebooks/10seconds/124/ECG bandpass_4.csv\n"
          ]
        },
        {
          "output_type": "stream",
          "name": "stderr",
          "text": [
            "\n",
            " 67%|██████▋   | 4/6 [00:01<00:00,  2.70it/s]\u001b[A"
          ]
        },
        {
          "output_type": "stream",
          "name": "stdout",
          "text": [
            "/content/drive/MyDrive/Colab Notebooks/10seconds/124/ECG bandpass_5.csv\n"
          ]
        },
        {
          "output_type": "stream",
          "name": "stderr",
          "text": [
            "\n",
            " 83%|████████▎ | 5/6 [00:01<00:00,  2.86it/s]\u001b[A"
          ]
        },
        {
          "output_type": "stream",
          "name": "stdout",
          "text": [
            "/content/drive/MyDrive/Colab Notebooks/10seconds/124/ECG bandpass_6.csv\n"
          ]
        },
        {
          "output_type": "stream",
          "name": "stderr",
          "text": [
            "\n",
            "100%|██████████| 6/6 [00:02<00:00,  2.69it/s]\n",
            " 48%|████▊     | 23/48 [01:03<01:15,  3.00s/it]\n",
            "  0%|          | 0/6 [00:00<?, ?it/s]\u001b[A"
          ]
        },
        {
          "output_type": "stream",
          "name": "stdout",
          "text": [
            "/content/drive/MyDrive/Colab Notebooks/10seconds/200/ECG bandpass_1.csv\n"
          ]
        },
        {
          "output_type": "stream",
          "name": "stderr",
          "text": [
            "\n",
            " 17%|█▋        | 1/6 [00:00<00:02,  2.05it/s]\u001b[A"
          ]
        },
        {
          "output_type": "stream",
          "name": "stdout",
          "text": [
            "/content/drive/MyDrive/Colab Notebooks/10seconds/200/ECG bandpass_2.csv\n"
          ]
        },
        {
          "output_type": "stream",
          "name": "stderr",
          "text": [
            "\n",
            " 33%|███▎      | 2/6 [00:00<00:01,  2.66it/s]\u001b[A"
          ]
        },
        {
          "output_type": "stream",
          "name": "stdout",
          "text": [
            "/content/drive/MyDrive/Colab Notebooks/10seconds/200/ECG bandpass_3.csv\n"
          ]
        },
        {
          "output_type": "stream",
          "name": "stderr",
          "text": [
            "\n",
            " 50%|█████     | 3/6 [00:01<00:01,  2.87it/s]\u001b[A"
          ]
        },
        {
          "output_type": "stream",
          "name": "stdout",
          "text": [
            "/content/drive/MyDrive/Colab Notebooks/10seconds/200/ECG bandpass_4.csv\n"
          ]
        },
        {
          "output_type": "stream",
          "name": "stderr",
          "text": [
            "\n",
            " 67%|██████▋   | 4/6 [00:01<00:00,  2.94it/s]\u001b[A"
          ]
        },
        {
          "output_type": "stream",
          "name": "stdout",
          "text": [
            "/content/drive/MyDrive/Colab Notebooks/10seconds/200/ECG bandpass_5.csv\n"
          ]
        },
        {
          "output_type": "stream",
          "name": "stderr",
          "text": [
            "\n",
            " 83%|████████▎ | 5/6 [00:01<00:00,  3.05it/s]\u001b[A"
          ]
        },
        {
          "output_type": "stream",
          "name": "stdout",
          "text": [
            "/content/drive/MyDrive/Colab Notebooks/10seconds/200/ECG bandpass_6.csv\n"
          ]
        },
        {
          "output_type": "stream",
          "name": "stderr",
          "text": [
            "\n",
            "100%|██████████| 6/6 [00:02<00:00,  2.87it/s]\n",
            " 50%|█████     | 24/48 [01:06<01:07,  2.81s/it]\n",
            "  0%|          | 0/6 [00:00<?, ?it/s]\u001b[A"
          ]
        },
        {
          "output_type": "stream",
          "name": "stdout",
          "text": [
            "/content/drive/MyDrive/Colab Notebooks/10seconds/201/ECG bandpass_1.csv\n"
          ]
        },
        {
          "output_type": "stream",
          "name": "stderr",
          "text": [
            "\n",
            " 17%|█▋        | 1/6 [00:00<00:02,  1.86it/s]\u001b[A"
          ]
        },
        {
          "output_type": "stream",
          "name": "stdout",
          "text": [
            "/content/drive/MyDrive/Colab Notebooks/10seconds/201/ECG bandpass_2.csv\n"
          ]
        },
        {
          "output_type": "stream",
          "name": "stderr",
          "text": [
            "\n",
            " 33%|███▎      | 2/6 [00:00<00:01,  2.45it/s]\u001b[A"
          ]
        },
        {
          "output_type": "stream",
          "name": "stdout",
          "text": [
            "/content/drive/MyDrive/Colab Notebooks/10seconds/201/ECG bandpass_3.csv\n"
          ]
        },
        {
          "output_type": "stream",
          "name": "stderr",
          "text": [
            "\n",
            " 50%|█████     | 3/6 [00:01<00:01,  2.81it/s]\u001b[A"
          ]
        },
        {
          "output_type": "stream",
          "name": "stdout",
          "text": [
            "/content/drive/MyDrive/Colab Notebooks/10seconds/201/ECG bandpass_4.csv\n"
          ]
        },
        {
          "output_type": "stream",
          "name": "stderr",
          "text": [
            "\n",
            " 67%|██████▋   | 4/6 [00:01<00:00,  2.89it/s]\u001b[A"
          ]
        },
        {
          "output_type": "stream",
          "name": "stdout",
          "text": [
            "/content/drive/MyDrive/Colab Notebooks/10seconds/201/ECG bandpass_5.csv\n"
          ]
        },
        {
          "output_type": "stream",
          "name": "stderr",
          "text": [
            "\n",
            " 83%|████████▎ | 5/6 [00:01<00:00,  2.94it/s]\u001b[A"
          ]
        },
        {
          "output_type": "stream",
          "name": "stdout",
          "text": [
            "/content/drive/MyDrive/Colab Notebooks/10seconds/201/ECG bandpass_6.csv\n"
          ]
        },
        {
          "output_type": "stream",
          "name": "stderr",
          "text": [
            "\n",
            "100%|██████████| 6/6 [00:02<00:00,  2.82it/s]\n",
            " 52%|█████▏    | 25/48 [01:08<01:01,  2.69s/it]\n",
            "  0%|          | 0/6 [00:00<?, ?it/s]\u001b[A"
          ]
        },
        {
          "output_type": "stream",
          "name": "stdout",
          "text": [
            "/content/drive/MyDrive/Colab Notebooks/10seconds/202/ECG bandpass_1.csv\n"
          ]
        },
        {
          "output_type": "stream",
          "name": "stderr",
          "text": [
            "\n",
            " 17%|█▋        | 1/6 [00:00<00:02,  2.03it/s]\u001b[A"
          ]
        },
        {
          "output_type": "stream",
          "name": "stdout",
          "text": [
            "/content/drive/MyDrive/Colab Notebooks/10seconds/202/ECG bandpass_2.csv\n"
          ]
        },
        {
          "output_type": "stream",
          "name": "stderr",
          "text": [
            "\n",
            " 33%|███▎      | 2/6 [00:00<00:01,  2.44it/s]\u001b[A"
          ]
        },
        {
          "output_type": "stream",
          "name": "stdout",
          "text": [
            "/content/drive/MyDrive/Colab Notebooks/10seconds/202/ECG bandpass_3.csv\n"
          ]
        },
        {
          "output_type": "stream",
          "name": "stderr",
          "text": [
            "\n",
            " 50%|█████     | 3/6 [00:01<00:01,  2.51it/s]\u001b[A"
          ]
        },
        {
          "output_type": "stream",
          "name": "stdout",
          "text": [
            "/content/drive/MyDrive/Colab Notebooks/10seconds/202/ECG bandpass_4.csv\n"
          ]
        },
        {
          "output_type": "stream",
          "name": "stderr",
          "text": [
            "\n",
            " 67%|██████▋   | 4/6 [00:01<00:00,  2.73it/s]\u001b[A"
          ]
        },
        {
          "output_type": "stream",
          "name": "stdout",
          "text": [
            "/content/drive/MyDrive/Colab Notebooks/10seconds/202/ECG bandpass_5.csv\n"
          ]
        },
        {
          "output_type": "stream",
          "name": "stderr",
          "text": [
            "\n",
            " 83%|████████▎ | 5/6 [00:01<00:00,  2.78it/s]\u001b[A"
          ]
        },
        {
          "output_type": "stream",
          "name": "stdout",
          "text": [
            "/content/drive/MyDrive/Colab Notebooks/10seconds/202/ECG bandpass_6.csv\n"
          ]
        },
        {
          "output_type": "stream",
          "name": "stderr",
          "text": [
            "\n",
            "100%|██████████| 6/6 [00:02<00:00,  2.69it/s]\n",
            " 54%|█████▍    | 26/48 [01:11<00:57,  2.63s/it]\n",
            "  0%|          | 0/6 [00:00<?, ?it/s]\u001b[A"
          ]
        },
        {
          "output_type": "stream",
          "name": "stdout",
          "text": [
            "/content/drive/MyDrive/Colab Notebooks/10seconds/203/ECG bandpass_1.csv\n"
          ]
        },
        {
          "output_type": "stream",
          "name": "stderr",
          "text": [
            "\n",
            " 17%|█▋        | 1/6 [00:00<00:02,  2.07it/s]\u001b[A"
          ]
        },
        {
          "output_type": "stream",
          "name": "stdout",
          "text": [
            "/content/drive/MyDrive/Colab Notebooks/10seconds/203/ECG bandpass_2.csv\n"
          ]
        },
        {
          "output_type": "stream",
          "name": "stderr",
          "text": [
            "\n",
            " 33%|███▎      | 2/6 [00:00<00:01,  2.51it/s]\u001b[A"
          ]
        },
        {
          "output_type": "stream",
          "name": "stdout",
          "text": [
            "/content/drive/MyDrive/Colab Notebooks/10seconds/203/ECG bandpass_3.csv\n"
          ]
        },
        {
          "output_type": "stream",
          "name": "stderr",
          "text": [
            "\n",
            " 50%|█████     | 3/6 [00:01<00:01,  2.51it/s]\u001b[A"
          ]
        },
        {
          "output_type": "stream",
          "name": "stdout",
          "text": [
            "/content/drive/MyDrive/Colab Notebooks/10seconds/203/ECG bandpass_4.csv\n"
          ]
        },
        {
          "output_type": "stream",
          "name": "stderr",
          "text": [
            "\n",
            " 67%|██████▋   | 4/6 [00:01<00:00,  2.32it/s]\u001b[A"
          ]
        },
        {
          "output_type": "stream",
          "name": "stdout",
          "text": [
            "/content/drive/MyDrive/Colab Notebooks/10seconds/203/ECG bandpass_5.csv\n"
          ]
        },
        {
          "output_type": "stream",
          "name": "stderr",
          "text": [
            "\n",
            " 83%|████████▎ | 5/6 [00:02<00:00,  2.32it/s]\u001b[A"
          ]
        },
        {
          "output_type": "stream",
          "name": "stdout",
          "text": [
            "/content/drive/MyDrive/Colab Notebooks/10seconds/203/ECG bandpass_6.csv\n"
          ]
        },
        {
          "output_type": "stream",
          "name": "stderr",
          "text": [
            "\n",
            "100%|██████████| 6/6 [00:02<00:00,  2.43it/s]\n",
            " 56%|█████▋    | 27/48 [01:14<00:56,  2.70s/it]\n",
            "  0%|          | 0/6 [00:00<?, ?it/s]\u001b[A"
          ]
        },
        {
          "output_type": "stream",
          "name": "stdout",
          "text": [
            "/content/drive/MyDrive/Colab Notebooks/10seconds/205/ECG bandpass_1.csv\n"
          ]
        },
        {
          "output_type": "stream",
          "name": "stderr",
          "text": [
            "\n",
            " 17%|█▋        | 1/6 [00:00<00:03,  1.41it/s]\u001b[A"
          ]
        },
        {
          "output_type": "stream",
          "name": "stdout",
          "text": [
            "/content/drive/MyDrive/Colab Notebooks/10seconds/205/ECG bandpass_2.csv\n"
          ]
        },
        {
          "output_type": "stream",
          "name": "stderr",
          "text": [
            "\n",
            " 33%|███▎      | 2/6 [00:01<00:01,  2.00it/s]\u001b[A"
          ]
        },
        {
          "output_type": "stream",
          "name": "stdout",
          "text": [
            "/content/drive/MyDrive/Colab Notebooks/10seconds/205/ECG bandpass_3.csv\n"
          ]
        },
        {
          "output_type": "stream",
          "name": "stderr",
          "text": [
            "\n",
            " 50%|█████     | 3/6 [00:01<00:01,  2.10it/s]\u001b[A"
          ]
        },
        {
          "output_type": "stream",
          "name": "stdout",
          "text": [
            "/content/drive/MyDrive/Colab Notebooks/10seconds/205/ECG bandpass_4.csv\n"
          ]
        },
        {
          "output_type": "stream",
          "name": "stderr",
          "text": [
            "\n",
            " 67%|██████▋   | 4/6 [00:01<00:00,  2.35it/s]\u001b[A"
          ]
        },
        {
          "output_type": "stream",
          "name": "stdout",
          "text": [
            "/content/drive/MyDrive/Colab Notebooks/10seconds/205/ECG bandpass_5.csv\n"
          ]
        },
        {
          "output_type": "stream",
          "name": "stderr",
          "text": [
            "\n",
            " 83%|████████▎ | 5/6 [00:02<00:00,  2.42it/s]\u001b[A"
          ]
        },
        {
          "output_type": "stream",
          "name": "stdout",
          "text": [
            "/content/drive/MyDrive/Colab Notebooks/10seconds/205/ECG bandpass_6.csv\n"
          ]
        },
        {
          "output_type": "stream",
          "name": "stderr",
          "text": [
            "\n",
            "100%|██████████| 6/6 [00:02<00:00,  2.24it/s]\n",
            " 58%|█████▊    | 28/48 [01:17<00:58,  2.91s/it]\n",
            "  0%|          | 0/6 [00:00<?, ?it/s]\u001b[A"
          ]
        },
        {
          "output_type": "stream",
          "name": "stdout",
          "text": [
            "/content/drive/MyDrive/Colab Notebooks/10seconds/207/ECG bandpass_1.csv\n"
          ]
        },
        {
          "output_type": "stream",
          "name": "stderr",
          "text": [
            "\n",
            " 17%|█▋        | 1/6 [00:00<00:02,  1.93it/s]\u001b[A"
          ]
        },
        {
          "output_type": "stream",
          "name": "stdout",
          "text": [
            "/content/drive/MyDrive/Colab Notebooks/10seconds/207/ECG bandpass_2.csv\n"
          ]
        },
        {
          "output_type": "stream",
          "name": "stderr",
          "text": [
            "\n",
            " 33%|███▎      | 2/6 [00:00<00:01,  2.54it/s]\u001b[A"
          ]
        },
        {
          "output_type": "stream",
          "name": "stdout",
          "text": [
            "/content/drive/MyDrive/Colab Notebooks/10seconds/207/ECG bandpass_3.csv\n"
          ]
        },
        {
          "output_type": "stream",
          "name": "stderr",
          "text": [
            "\n",
            " 50%|█████     | 3/6 [00:01<00:01,  2.69it/s]\u001b[A"
          ]
        },
        {
          "output_type": "stream",
          "name": "stdout",
          "text": [
            "/content/drive/MyDrive/Colab Notebooks/10seconds/207/ECG bandpass_4.csv\n"
          ]
        },
        {
          "output_type": "stream",
          "name": "stderr",
          "text": [
            "\n",
            " 67%|██████▋   | 4/6 [00:01<00:00,  2.82it/s]\u001b[A"
          ]
        },
        {
          "output_type": "stream",
          "name": "stdout",
          "text": [
            "/content/drive/MyDrive/Colab Notebooks/10seconds/207/ECG bandpass_5.csv\n"
          ]
        },
        {
          "output_type": "stream",
          "name": "stderr",
          "text": [
            "\n",
            " 83%|████████▎ | 5/6 [00:01<00:00,  2.80it/s]\u001b[A"
          ]
        },
        {
          "output_type": "stream",
          "name": "stdout",
          "text": [
            "/content/drive/MyDrive/Colab Notebooks/10seconds/207/ECG bandpass_6.csv\n"
          ]
        },
        {
          "output_type": "stream",
          "name": "stderr",
          "text": [
            "\n",
            "100%|██████████| 6/6 [00:02<00:00,  2.68it/s]\n",
            " 60%|██████    | 29/48 [01:20<00:53,  2.83s/it]\n",
            "  0%|          | 0/6 [00:00<?, ?it/s]\u001b[A"
          ]
        },
        {
          "output_type": "stream",
          "name": "stdout",
          "text": [
            "/content/drive/MyDrive/Colab Notebooks/10seconds/208/ECG bandpass_1.csv\n"
          ]
        },
        {
          "output_type": "stream",
          "name": "stderr",
          "text": [
            "\n",
            " 17%|█▋        | 1/6 [00:00<00:02,  1.88it/s]\u001b[A"
          ]
        },
        {
          "output_type": "stream",
          "name": "stdout",
          "text": [
            "/content/drive/MyDrive/Colab Notebooks/10seconds/208/ECG bandpass_2.csv\n"
          ]
        },
        {
          "output_type": "stream",
          "name": "stderr",
          "text": [
            "\n",
            " 33%|███▎      | 2/6 [00:00<00:01,  2.19it/s]\u001b[A"
          ]
        },
        {
          "output_type": "stream",
          "name": "stdout",
          "text": [
            "/content/drive/MyDrive/Colab Notebooks/10seconds/208/ECG bandpass_3.csv\n"
          ]
        },
        {
          "output_type": "stream",
          "name": "stderr",
          "text": [
            "\n",
            " 50%|█████     | 3/6 [00:01<00:01,  2.23it/s]\u001b[A"
          ]
        },
        {
          "output_type": "stream",
          "name": "stdout",
          "text": [
            "/content/drive/MyDrive/Colab Notebooks/10seconds/208/ECG bandpass_4.csv\n"
          ]
        },
        {
          "output_type": "stream",
          "name": "stderr",
          "text": [
            "\n",
            " 67%|██████▋   | 4/6 [00:01<00:00,  2.53it/s]\u001b[A"
          ]
        },
        {
          "output_type": "stream",
          "name": "stdout",
          "text": [
            "/content/drive/MyDrive/Colab Notebooks/10seconds/208/ECG bandpass_5.csv\n"
          ]
        },
        {
          "output_type": "stream",
          "name": "stderr",
          "text": [
            "\n",
            " 83%|████████▎ | 5/6 [00:02<00:00,  2.63it/s]\u001b[A"
          ]
        },
        {
          "output_type": "stream",
          "name": "stdout",
          "text": [
            "/content/drive/MyDrive/Colab Notebooks/10seconds/208/ECG bandpass_6.csv\n"
          ]
        },
        {
          "output_type": "stream",
          "name": "stderr",
          "text": [
            "\n",
            "100%|██████████| 6/6 [00:02<00:00,  2.52it/s]\n",
            " 62%|██████▎   | 30/48 [01:22<00:50,  2.81s/it]\n",
            "  0%|          | 0/6 [00:00<?, ?it/s]\u001b[A"
          ]
        },
        {
          "output_type": "stream",
          "name": "stdout",
          "text": [
            "/content/drive/MyDrive/Colab Notebooks/10seconds/209/ECG bandpass_1.csv\n"
          ]
        },
        {
          "output_type": "stream",
          "name": "stderr",
          "text": [
            "\n",
            " 17%|█▋        | 1/6 [00:00<00:03,  1.51it/s]\u001b[A"
          ]
        },
        {
          "output_type": "stream",
          "name": "stdout",
          "text": [
            "/content/drive/MyDrive/Colab Notebooks/10seconds/209/ECG bandpass_2.csv\n"
          ]
        },
        {
          "output_type": "stream",
          "name": "stderr",
          "text": [
            "\n",
            " 33%|███▎      | 2/6 [00:00<00:01,  2.17it/s]\u001b[A"
          ]
        },
        {
          "output_type": "stream",
          "name": "stdout",
          "text": [
            "/content/drive/MyDrive/Colab Notebooks/10seconds/209/ECG bandpass_3.csv\n"
          ]
        },
        {
          "output_type": "stream",
          "name": "stderr",
          "text": [
            "\n",
            " 50%|█████     | 3/6 [00:01<00:01,  2.61it/s]\u001b[A"
          ]
        },
        {
          "output_type": "stream",
          "name": "stdout",
          "text": [
            "/content/drive/MyDrive/Colab Notebooks/10seconds/209/ECG bandpass_4.csv\n"
          ]
        },
        {
          "output_type": "stream",
          "name": "stderr",
          "text": [
            "\n",
            " 67%|██████▋   | 4/6 [00:01<00:00,  2.78it/s]\u001b[A"
          ]
        },
        {
          "output_type": "stream",
          "name": "stdout",
          "text": [
            "/content/drive/MyDrive/Colab Notebooks/10seconds/209/ECG bandpass_5.csv\n"
          ]
        },
        {
          "output_type": "stream",
          "name": "stderr",
          "text": [
            "\n",
            " 83%|████████▎ | 5/6 [00:01<00:00,  2.77it/s]\u001b[A"
          ]
        },
        {
          "output_type": "stream",
          "name": "stdout",
          "text": [
            "/content/drive/MyDrive/Colab Notebooks/10seconds/209/ECG bandpass_6.csv\n"
          ]
        },
        {
          "output_type": "stream",
          "name": "stderr",
          "text": [
            "\n",
            "100%|██████████| 6/6 [00:02<00:00,  2.61it/s]\n",
            " 65%|██████▍   | 31/48 [01:25<00:47,  2.77s/it]\n",
            "  0%|          | 0/6 [00:00<?, ?it/s]\u001b[A"
          ]
        },
        {
          "output_type": "stream",
          "name": "stdout",
          "text": [
            "/content/drive/MyDrive/Colab Notebooks/10seconds/210/ECG bandpass_1.csv\n"
          ]
        },
        {
          "output_type": "stream",
          "name": "stderr",
          "text": [
            "\n",
            " 17%|█▋        | 1/6 [00:00<00:02,  1.86it/s]\u001b[A"
          ]
        },
        {
          "output_type": "stream",
          "name": "stdout",
          "text": [
            "/content/drive/MyDrive/Colab Notebooks/10seconds/210/ECG bandpass_2.csv\n"
          ]
        },
        {
          "output_type": "stream",
          "name": "stderr",
          "text": [
            "\n",
            " 33%|███▎      | 2/6 [00:00<00:01,  2.29it/s]\u001b[A"
          ]
        },
        {
          "output_type": "stream",
          "name": "stdout",
          "text": [
            "/content/drive/MyDrive/Colab Notebooks/10seconds/210/ECG bandpass_3.csv\n"
          ]
        },
        {
          "output_type": "stream",
          "name": "stderr",
          "text": [
            "\n",
            " 50%|█████     | 3/6 [00:01<00:01,  2.00it/s]\u001b[A"
          ]
        },
        {
          "output_type": "stream",
          "name": "stdout",
          "text": [
            "/content/drive/MyDrive/Colab Notebooks/10seconds/210/ECG bandpass_4.csv\n"
          ]
        },
        {
          "output_type": "stream",
          "name": "stderr",
          "text": [
            "\n",
            " 67%|██████▋   | 4/6 [00:01<00:00,  2.34it/s]\u001b[A"
          ]
        },
        {
          "output_type": "stream",
          "name": "stdout",
          "text": [
            "/content/drive/MyDrive/Colab Notebooks/10seconds/210/ECG bandpass_5.csv\n"
          ]
        },
        {
          "output_type": "stream",
          "name": "stderr",
          "text": [
            "\n",
            " 83%|████████▎ | 5/6 [00:02<00:00,  2.45it/s]\u001b[A"
          ]
        },
        {
          "output_type": "stream",
          "name": "stdout",
          "text": [
            "/content/drive/MyDrive/Colab Notebooks/10seconds/210/ECG bandpass_6.csv\n"
          ]
        },
        {
          "output_type": "stream",
          "name": "stderr",
          "text": [
            "\n",
            "100%|██████████| 6/6 [00:02<00:00,  2.24it/s]\n",
            " 67%|██████▋   | 32/48 [01:28<00:45,  2.84s/it]\n",
            "  0%|          | 0/6 [00:00<?, ?it/s]\u001b[A"
          ]
        },
        {
          "output_type": "stream",
          "name": "stdout",
          "text": [
            "/content/drive/MyDrive/Colab Notebooks/10seconds/212/ECG bandpass_1.csv\n"
          ]
        },
        {
          "output_type": "stream",
          "name": "stderr",
          "text": [
            "\n",
            " 17%|█▋        | 1/6 [00:00<00:02,  1.98it/s]\u001b[A"
          ]
        },
        {
          "output_type": "stream",
          "name": "stdout",
          "text": [
            "/content/drive/MyDrive/Colab Notebooks/10seconds/212/ECG bandpass_2.csv\n"
          ]
        },
        {
          "output_type": "stream",
          "name": "stderr",
          "text": [
            "\n",
            " 33%|███▎      | 2/6 [00:00<00:01,  2.52it/s]\u001b[A"
          ]
        },
        {
          "output_type": "stream",
          "name": "stdout",
          "text": [
            "/content/drive/MyDrive/Colab Notebooks/10seconds/212/ECG bandpass_3.csv\n"
          ]
        },
        {
          "output_type": "stream",
          "name": "stderr",
          "text": [
            "\n",
            " 50%|█████     | 3/6 [00:01<00:01,  2.35it/s]\u001b[A"
          ]
        },
        {
          "output_type": "stream",
          "name": "stdout",
          "text": [
            "/content/drive/MyDrive/Colab Notebooks/10seconds/212/ECG bandpass_4.csv\n"
          ]
        },
        {
          "output_type": "stream",
          "name": "stderr",
          "text": [
            "\n",
            " 67%|██████▋   | 4/6 [00:01<00:00,  2.41it/s]\u001b[A"
          ]
        },
        {
          "output_type": "stream",
          "name": "stdout",
          "text": [
            "/content/drive/MyDrive/Colab Notebooks/10seconds/212/ECG bandpass_5.csv\n"
          ]
        },
        {
          "output_type": "stream",
          "name": "stderr",
          "text": [
            "\n",
            " 83%|████████▎ | 5/6 [00:02<00:00,  2.64it/s]\u001b[A"
          ]
        },
        {
          "output_type": "stream",
          "name": "stdout",
          "text": [
            "/content/drive/MyDrive/Colab Notebooks/10seconds/212/ECG bandpass_6.csv\n"
          ]
        },
        {
          "output_type": "stream",
          "name": "stderr",
          "text": [
            "\n",
            "100%|██████████| 6/6 [00:02<00:00,  2.49it/s]\n",
            " 69%|██████▉   | 33/48 [01:32<00:45,  3.05s/it]\n",
            "  0%|          | 0/6 [00:00<?, ?it/s]\u001b[A"
          ]
        },
        {
          "output_type": "stream",
          "name": "stdout",
          "text": [
            "/content/drive/MyDrive/Colab Notebooks/10seconds/213/ECG bandpass_1.csv\n"
          ]
        },
        {
          "output_type": "stream",
          "name": "stderr",
          "text": [
            "\n",
            " 17%|█▋        | 1/6 [00:00<00:02,  1.93it/s]\u001b[A"
          ]
        },
        {
          "output_type": "stream",
          "name": "stdout",
          "text": [
            "/content/drive/MyDrive/Colab Notebooks/10seconds/213/ECG bandpass_2.csv\n"
          ]
        },
        {
          "output_type": "stream",
          "name": "stderr",
          "text": [
            "\n",
            " 33%|███▎      | 2/6 [00:00<00:01,  2.42it/s]\u001b[A"
          ]
        },
        {
          "output_type": "stream",
          "name": "stdout",
          "text": [
            "/content/drive/MyDrive/Colab Notebooks/10seconds/213/ECG bandpass_3.csv\n"
          ]
        },
        {
          "output_type": "stream",
          "name": "stderr",
          "text": [
            "\n",
            " 50%|█████     | 3/6 [00:01<00:01,  2.62it/s]\u001b[A"
          ]
        },
        {
          "output_type": "stream",
          "name": "stdout",
          "text": [
            "/content/drive/MyDrive/Colab Notebooks/10seconds/213/ECG bandpass_4.csv\n"
          ]
        },
        {
          "output_type": "stream",
          "name": "stderr",
          "text": [
            "\n",
            " 67%|██████▋   | 4/6 [00:01<00:00,  2.91it/s]\u001b[A"
          ]
        },
        {
          "output_type": "stream",
          "name": "stdout",
          "text": [
            "/content/drive/MyDrive/Colab Notebooks/10seconds/213/ECG bandpass_5.csv\n"
          ]
        },
        {
          "output_type": "stream",
          "name": "stderr",
          "text": [
            "\n",
            " 83%|████████▎ | 5/6 [00:01<00:00,  2.70it/s]\u001b[A"
          ]
        },
        {
          "output_type": "stream",
          "name": "stdout",
          "text": [
            "/content/drive/MyDrive/Colab Notebooks/10seconds/213/ECG bandpass_6.csv\n"
          ]
        },
        {
          "output_type": "stream",
          "name": "stderr",
          "text": [
            "\n",
            "100%|██████████| 6/6 [00:02<00:00,  2.67it/s]\n",
            " 71%|███████   | 34/48 [01:34<00:41,  2.94s/it]\n",
            "  0%|          | 0/6 [00:00<?, ?it/s]\u001b[A"
          ]
        },
        {
          "output_type": "stream",
          "name": "stdout",
          "text": [
            "/content/drive/MyDrive/Colab Notebooks/10seconds/214/ECG bandpass_1.csv\n"
          ]
        },
        {
          "output_type": "stream",
          "name": "stderr",
          "text": [
            "\n",
            " 17%|█▋        | 1/6 [00:00<00:02,  1.68it/s]\u001b[A"
          ]
        },
        {
          "output_type": "stream",
          "name": "stdout",
          "text": [
            "/content/drive/MyDrive/Colab Notebooks/10seconds/214/ECG bandpass_2.csv\n"
          ]
        },
        {
          "output_type": "stream",
          "name": "stderr",
          "text": [
            "\n",
            " 33%|███▎      | 2/6 [00:00<00:01,  2.16it/s]\u001b[A"
          ]
        },
        {
          "output_type": "stream",
          "name": "stdout",
          "text": [
            "/content/drive/MyDrive/Colab Notebooks/10seconds/214/ECG bandpass_3.csv\n"
          ]
        },
        {
          "output_type": "stream",
          "name": "stderr",
          "text": [
            "\n",
            " 50%|█████     | 3/6 [00:01<00:01,  2.56it/s]\u001b[A"
          ]
        },
        {
          "output_type": "stream",
          "name": "stdout",
          "text": [
            "/content/drive/MyDrive/Colab Notebooks/10seconds/214/ECG bandpass_4.csv\n"
          ]
        },
        {
          "output_type": "stream",
          "name": "stderr",
          "text": [
            "\n",
            " 67%|██████▋   | 4/6 [00:01<00:00,  2.58it/s]\u001b[A"
          ]
        },
        {
          "output_type": "stream",
          "name": "stdout",
          "text": [
            "/content/drive/MyDrive/Colab Notebooks/10seconds/214/ECG bandpass_5.csv\n"
          ]
        },
        {
          "output_type": "stream",
          "name": "stderr",
          "text": [
            "\n",
            " 83%|████████▎ | 5/6 [00:01<00:00,  2.81it/s]\u001b[A"
          ]
        },
        {
          "output_type": "stream",
          "name": "stdout",
          "text": [
            "/content/drive/MyDrive/Colab Notebooks/10seconds/214/ECG bandpass_6.csv\n"
          ]
        },
        {
          "output_type": "stream",
          "name": "stderr",
          "text": [
            "\n",
            "100%|██████████| 6/6 [00:02<00:00,  2.57it/s]\n",
            " 73%|███████▎  | 35/48 [01:37<00:37,  2.87s/it]\n",
            "  0%|          | 0/6 [00:00<?, ?it/s]\u001b[A"
          ]
        },
        {
          "output_type": "stream",
          "name": "stdout",
          "text": [
            "/content/drive/MyDrive/Colab Notebooks/10seconds/215/ECG bandpass_1.csv\n"
          ]
        },
        {
          "output_type": "stream",
          "name": "stderr",
          "text": [
            "\n",
            " 17%|█▋        | 1/6 [00:00<00:03,  1.57it/s]\u001b[A"
          ]
        },
        {
          "output_type": "stream",
          "name": "stdout",
          "text": [
            "/content/drive/MyDrive/Colab Notebooks/10seconds/215/ECG bandpass_2.csv\n"
          ]
        },
        {
          "output_type": "stream",
          "name": "stderr",
          "text": [
            "\n",
            " 33%|███▎      | 2/6 [00:00<00:01,  2.17it/s]\u001b[A"
          ]
        },
        {
          "output_type": "stream",
          "name": "stdout",
          "text": [
            "/content/drive/MyDrive/Colab Notebooks/10seconds/215/ECG bandpass_3.csv\n"
          ]
        },
        {
          "output_type": "stream",
          "name": "stderr",
          "text": [
            "\n",
            " 50%|█████     | 3/6 [00:01<00:01,  2.46it/s]\u001b[A"
          ]
        },
        {
          "output_type": "stream",
          "name": "stdout",
          "text": [
            "/content/drive/MyDrive/Colab Notebooks/10seconds/215/ECG bandpass_4.csv\n"
          ]
        },
        {
          "output_type": "stream",
          "name": "stderr",
          "text": [
            "\n",
            " 67%|██████▋   | 4/6 [00:01<00:00,  2.67it/s]\u001b[A"
          ]
        },
        {
          "output_type": "stream",
          "name": "stdout",
          "text": [
            "/content/drive/MyDrive/Colab Notebooks/10seconds/215/ECG bandpass_5.csv\n"
          ]
        },
        {
          "output_type": "stream",
          "name": "stderr",
          "text": [
            "\n",
            " 83%|████████▎ | 5/6 [00:02<00:00,  2.66it/s]\u001b[A"
          ]
        },
        {
          "output_type": "stream",
          "name": "stdout",
          "text": [
            "/content/drive/MyDrive/Colab Notebooks/10seconds/215/ECG bandpass_6.csv\n"
          ]
        },
        {
          "output_type": "stream",
          "name": "stderr",
          "text": [
            "\n",
            "100%|██████████| 6/6 [00:02<00:00,  2.48it/s]\n",
            " 75%|███████▌  | 36/48 [01:40<00:33,  2.83s/it]\n",
            "  0%|          | 0/6 [00:00<?, ?it/s]\u001b[A"
          ]
        },
        {
          "output_type": "stream",
          "name": "stdout",
          "text": [
            "/content/drive/MyDrive/Colab Notebooks/10seconds/217/ECG bandpass_1.csv\n"
          ]
        },
        {
          "output_type": "stream",
          "name": "stderr",
          "text": [
            "\n",
            " 17%|█▋        | 1/6 [00:00<00:03,  1.43it/s]\u001b[A"
          ]
        },
        {
          "output_type": "stream",
          "name": "stdout",
          "text": [
            "/content/drive/MyDrive/Colab Notebooks/10seconds/217/ECG bandpass_2.csv\n"
          ]
        },
        {
          "output_type": "stream",
          "name": "stderr",
          "text": [
            "\n",
            " 33%|███▎      | 2/6 [00:01<00:01,  2.02it/s]\u001b[A"
          ]
        },
        {
          "output_type": "stream",
          "name": "stdout",
          "text": [
            "/content/drive/MyDrive/Colab Notebooks/10seconds/217/ECG bandpass_3.csv\n"
          ]
        },
        {
          "output_type": "stream",
          "name": "stderr",
          "text": [
            "\n",
            " 50%|█████     | 3/6 [00:01<00:01,  2.00it/s]\u001b[A"
          ]
        },
        {
          "output_type": "stream",
          "name": "stdout",
          "text": [
            "/content/drive/MyDrive/Colab Notebooks/10seconds/217/ECG bandpass_4.csv\n"
          ]
        },
        {
          "output_type": "stream",
          "name": "stderr",
          "text": [
            "\n",
            " 67%|██████▋   | 4/6 [00:01<00:00,  2.17it/s]\u001b[A"
          ]
        },
        {
          "output_type": "stream",
          "name": "stdout",
          "text": [
            "/content/drive/MyDrive/Colab Notebooks/10seconds/217/ECG bandpass_5.csv\n"
          ]
        },
        {
          "output_type": "stream",
          "name": "stderr",
          "text": [
            "\n",
            " 83%|████████▎ | 5/6 [00:02<00:00,  2.25it/s]\u001b[A"
          ]
        },
        {
          "output_type": "stream",
          "name": "stdout",
          "text": [
            "/content/drive/MyDrive/Colab Notebooks/10seconds/217/ECG bandpass_6.csv\n"
          ]
        },
        {
          "output_type": "stream",
          "name": "stderr",
          "text": [
            "\n",
            "100%|██████████| 6/6 [00:02<00:00,  2.22it/s]\n",
            " 77%|███████▋  | 37/48 [01:43<00:32,  2.96s/it]\n",
            "  0%|          | 0/6 [00:00<?, ?it/s]\u001b[A"
          ]
        },
        {
          "output_type": "stream",
          "name": "stdout",
          "text": [
            "/content/drive/MyDrive/Colab Notebooks/10seconds/219/ECG bandpass_1.csv\n"
          ]
        },
        {
          "output_type": "stream",
          "name": "stderr",
          "text": [
            "\n",
            " 17%|█▋        | 1/6 [00:00<00:02,  2.01it/s]\u001b[A"
          ]
        },
        {
          "output_type": "stream",
          "name": "stdout",
          "text": [
            "/content/drive/MyDrive/Colab Notebooks/10seconds/219/ECG bandpass_2.csv\n"
          ]
        },
        {
          "output_type": "stream",
          "name": "stderr",
          "text": [
            "\n",
            " 33%|███▎      | 2/6 [00:00<00:01,  2.29it/s]\u001b[A"
          ]
        },
        {
          "output_type": "stream",
          "name": "stdout",
          "text": [
            "/content/drive/MyDrive/Colab Notebooks/10seconds/219/ECG bandpass_3.csv\n"
          ]
        },
        {
          "output_type": "stream",
          "name": "stderr",
          "text": [
            "\n",
            " 50%|█████     | 3/6 [00:01<00:01,  2.49it/s]\u001b[A"
          ]
        },
        {
          "output_type": "stream",
          "name": "stdout",
          "text": [
            "/content/drive/MyDrive/Colab Notebooks/10seconds/219/ECG bandpass_4.csv\n"
          ]
        },
        {
          "output_type": "stream",
          "name": "stderr",
          "text": [
            "\n",
            " 67%|██████▋   | 4/6 [00:01<00:00,  2.74it/s]\u001b[A"
          ]
        },
        {
          "output_type": "stream",
          "name": "stdout",
          "text": [
            "/content/drive/MyDrive/Colab Notebooks/10seconds/219/ECG bandpass_5.csv\n"
          ]
        },
        {
          "output_type": "stream",
          "name": "stderr",
          "text": [
            "\n",
            " 83%|████████▎ | 5/6 [00:02<00:00,  2.31it/s]\u001b[A"
          ]
        },
        {
          "output_type": "stream",
          "name": "stdout",
          "text": [
            "/content/drive/MyDrive/Colab Notebooks/10seconds/219/ECG bandpass_6.csv\n"
          ]
        },
        {
          "output_type": "stream",
          "name": "stderr",
          "text": [
            "\n",
            "100%|██████████| 6/6 [00:02<00:00,  2.38it/s]\n",
            " 79%|███████▉  | 38/48 [01:46<00:30,  3.08s/it]\n",
            "  0%|          | 0/6 [00:00<?, ?it/s]\u001b[A"
          ]
        },
        {
          "output_type": "stream",
          "name": "stdout",
          "text": [
            "/content/drive/MyDrive/Colab Notebooks/10seconds/220/ECG bandpass_1.csv\n"
          ]
        },
        {
          "output_type": "stream",
          "name": "stderr",
          "text": [
            "\n",
            " 17%|█▋        | 1/6 [00:00<00:03,  1.49it/s]\u001b[A"
          ]
        },
        {
          "output_type": "stream",
          "name": "stdout",
          "text": [
            "/content/drive/MyDrive/Colab Notebooks/10seconds/220/ECG bandpass_2.csv\n"
          ]
        },
        {
          "output_type": "stream",
          "name": "stderr",
          "text": [
            "\n",
            " 33%|███▎      | 2/6 [00:00<00:01,  2.17it/s]\u001b[A"
          ]
        },
        {
          "output_type": "stream",
          "name": "stdout",
          "text": [
            "/content/drive/MyDrive/Colab Notebooks/10seconds/220/ECG bandpass_3.csv\n"
          ]
        },
        {
          "output_type": "stream",
          "name": "stderr",
          "text": [
            "\n",
            " 50%|█████     | 3/6 [00:01<00:01,  2.15it/s]\u001b[A"
          ]
        },
        {
          "output_type": "stream",
          "name": "stdout",
          "text": [
            "/content/drive/MyDrive/Colab Notebooks/10seconds/220/ECG bandpass_4.csv\n"
          ]
        },
        {
          "output_type": "stream",
          "name": "stderr",
          "text": [
            "\n",
            " 67%|██████▋   | 4/6 [00:01<00:00,  2.50it/s]\u001b[A"
          ]
        },
        {
          "output_type": "stream",
          "name": "stdout",
          "text": [
            "/content/drive/MyDrive/Colab Notebooks/10seconds/220/ECG bandpass_5.csv\n"
          ]
        },
        {
          "output_type": "stream",
          "name": "stderr",
          "text": [
            "\n",
            " 83%|████████▎ | 5/6 [00:02<00:00,  2.63it/s]\u001b[A"
          ]
        },
        {
          "output_type": "stream",
          "name": "stdout",
          "text": [
            "/content/drive/MyDrive/Colab Notebooks/10seconds/220/ECG bandpass_6.csv\n"
          ]
        },
        {
          "output_type": "stream",
          "name": "stderr",
          "text": [
            "\n",
            "100%|██████████| 6/6 [00:02<00:00,  2.43it/s]\n",
            " 81%|████████▏ | 39/48 [01:49<00:27,  3.05s/it]\n",
            "  0%|          | 0/6 [00:00<?, ?it/s]\u001b[A"
          ]
        },
        {
          "output_type": "stream",
          "name": "stdout",
          "text": [
            "/content/drive/MyDrive/Colab Notebooks/10seconds/221/ECG bandpass_1.csv\n"
          ]
        },
        {
          "output_type": "stream",
          "name": "stderr",
          "text": [
            "\n",
            " 17%|█▋        | 1/6 [00:00<00:02,  1.81it/s]\u001b[A"
          ]
        },
        {
          "output_type": "stream",
          "name": "stdout",
          "text": [
            "/content/drive/MyDrive/Colab Notebooks/10seconds/221/ECG bandpass_2.csv\n"
          ]
        },
        {
          "output_type": "stream",
          "name": "stderr",
          "text": [
            "\n",
            " 33%|███▎      | 2/6 [00:00<00:01,  2.38it/s]\u001b[A"
          ]
        },
        {
          "output_type": "stream",
          "name": "stdout",
          "text": [
            "/content/drive/MyDrive/Colab Notebooks/10seconds/221/ECG bandpass_3.csv\n"
          ]
        },
        {
          "output_type": "stream",
          "name": "stderr",
          "text": [
            "\n",
            " 50%|█████     | 3/6 [00:01<00:01,  2.60it/s]\u001b[A"
          ]
        },
        {
          "output_type": "stream",
          "name": "stdout",
          "text": [
            "/content/drive/MyDrive/Colab Notebooks/10seconds/221/ECG bandpass_4.csv\n"
          ]
        },
        {
          "output_type": "stream",
          "name": "stderr",
          "text": [
            "\n",
            " 67%|██████▋   | 4/6 [00:01<00:00,  2.82it/s]\u001b[A"
          ]
        },
        {
          "output_type": "stream",
          "name": "stdout",
          "text": [
            "/content/drive/MyDrive/Colab Notebooks/10seconds/221/ECG bandpass_5.csv\n"
          ]
        },
        {
          "output_type": "stream",
          "name": "stderr",
          "text": [
            "\n",
            " 83%|████████▎ | 5/6 [00:01<00:00,  2.92it/s]\u001b[A"
          ]
        },
        {
          "output_type": "stream",
          "name": "stdout",
          "text": [
            "/content/drive/MyDrive/Colab Notebooks/10seconds/221/ECG bandpass_6.csv\n"
          ]
        },
        {
          "output_type": "stream",
          "name": "stderr",
          "text": [
            "\n",
            "100%|██████████| 6/6 [00:02<00:00,  2.66it/s]\n",
            " 83%|████████▎ | 40/48 [01:52<00:23,  2.89s/it]\n",
            "  0%|          | 0/6 [00:00<?, ?it/s]\u001b[A"
          ]
        },
        {
          "output_type": "stream",
          "name": "stdout",
          "text": [
            "/content/drive/MyDrive/Colab Notebooks/10seconds/222/ECG bandpass_1.csv\n"
          ]
        },
        {
          "output_type": "stream",
          "name": "stderr",
          "text": [
            "\n",
            " 17%|█▋        | 1/6 [00:00<00:02,  1.88it/s]\u001b[A"
          ]
        },
        {
          "output_type": "stream",
          "name": "stdout",
          "text": [
            "/content/drive/MyDrive/Colab Notebooks/10seconds/222/ECG bandpass_2.csv\n"
          ]
        },
        {
          "output_type": "stream",
          "name": "stderr",
          "text": [
            "\n",
            " 33%|███▎      | 2/6 [00:00<00:01,  2.51it/s]\u001b[A"
          ]
        },
        {
          "output_type": "stream",
          "name": "stdout",
          "text": [
            "/content/drive/MyDrive/Colab Notebooks/10seconds/222/ECG bandpass_3.csv\n"
          ]
        },
        {
          "output_type": "stream",
          "name": "stderr",
          "text": [
            "\n",
            " 50%|█████     | 3/6 [00:01<00:01,  2.61it/s]\u001b[A"
          ]
        },
        {
          "output_type": "stream",
          "name": "stdout",
          "text": [
            "/content/drive/MyDrive/Colab Notebooks/10seconds/222/ECG bandpass_4.csv\n"
          ]
        },
        {
          "output_type": "stream",
          "name": "stderr",
          "text": [
            "\n",
            " 67%|██████▋   | 4/6 [00:01<00:00,  2.52it/s]\u001b[A"
          ]
        },
        {
          "output_type": "stream",
          "name": "stdout",
          "text": [
            "/content/drive/MyDrive/Colab Notebooks/10seconds/222/ECG bandpass_5.csv\n"
          ]
        },
        {
          "output_type": "stream",
          "name": "stderr",
          "text": [
            "\n",
            " 83%|████████▎ | 5/6 [00:01<00:00,  2.72it/s]\u001b[A"
          ]
        },
        {
          "output_type": "stream",
          "name": "stdout",
          "text": [
            "/content/drive/MyDrive/Colab Notebooks/10seconds/222/ECG bandpass_6.csv\n"
          ]
        },
        {
          "output_type": "stream",
          "name": "stderr",
          "text": [
            "\n",
            "100%|██████████| 6/6 [00:02<00:00,  2.59it/s]\n",
            " 85%|████████▌ | 41/48 [01:54<00:19,  2.80s/it]\n",
            "  0%|          | 0/6 [00:00<?, ?it/s]\u001b[A"
          ]
        },
        {
          "output_type": "stream",
          "name": "stdout",
          "text": [
            "/content/drive/MyDrive/Colab Notebooks/10seconds/223/ECG bandpass_1.csv\n"
          ]
        },
        {
          "output_type": "stream",
          "name": "stderr",
          "text": [
            "\n",
            " 17%|█▋        | 1/6 [00:00<00:02,  1.82it/s]\u001b[A"
          ]
        },
        {
          "output_type": "stream",
          "name": "stdout",
          "text": [
            "/content/drive/MyDrive/Colab Notebooks/10seconds/223/ECG bandpass_2.csv\n"
          ]
        },
        {
          "output_type": "stream",
          "name": "stderr",
          "text": [
            "\n",
            " 33%|███▎      | 2/6 [00:00<00:01,  2.43it/s]\u001b[A"
          ]
        },
        {
          "output_type": "stream",
          "name": "stdout",
          "text": [
            "/content/drive/MyDrive/Colab Notebooks/10seconds/223/ECG bandpass_3.csv\n"
          ]
        },
        {
          "output_type": "stream",
          "name": "stderr",
          "text": [
            "\n",
            " 50%|█████     | 3/6 [00:01<00:01,  2.48it/s]\u001b[A"
          ]
        },
        {
          "output_type": "stream",
          "name": "stdout",
          "text": [
            "/content/drive/MyDrive/Colab Notebooks/10seconds/223/ECG bandpass_4.csv\n"
          ]
        },
        {
          "output_type": "stream",
          "name": "stderr",
          "text": [
            "\n",
            " 67%|██████▋   | 4/6 [00:01<00:00,  2.62it/s]\u001b[A"
          ]
        },
        {
          "output_type": "stream",
          "name": "stdout",
          "text": [
            "/content/drive/MyDrive/Colab Notebooks/10seconds/223/ECG bandpass_5.csv\n"
          ]
        },
        {
          "output_type": "stream",
          "name": "stderr",
          "text": [
            "\n",
            " 83%|████████▎ | 5/6 [00:01<00:00,  2.69it/s]\u001b[A"
          ]
        },
        {
          "output_type": "stream",
          "name": "stdout",
          "text": [
            "/content/drive/MyDrive/Colab Notebooks/10seconds/223/ECG bandpass_6.csv\n"
          ]
        },
        {
          "output_type": "stream",
          "name": "stderr",
          "text": [
            "\n",
            "100%|██████████| 6/6 [00:02<00:00,  2.54it/s]\n",
            " 88%|████████▊ | 42/48 [01:57<00:16,  2.75s/it]\n",
            "  0%|          | 0/6 [00:00<?, ?it/s]\u001b[A"
          ]
        },
        {
          "output_type": "stream",
          "name": "stdout",
          "text": [
            "/content/drive/MyDrive/Colab Notebooks/10seconds/228/ECG bandpass_1.csv\n"
          ]
        },
        {
          "output_type": "stream",
          "name": "stderr",
          "text": [
            "\n",
            " 17%|█▋        | 1/6 [00:00<00:03,  1.66it/s]\u001b[A"
          ]
        },
        {
          "output_type": "stream",
          "name": "stdout",
          "text": [
            "/content/drive/MyDrive/Colab Notebooks/10seconds/228/ECG bandpass_2.csv\n"
          ]
        },
        {
          "output_type": "stream",
          "name": "stderr",
          "text": [
            "\n",
            " 33%|███▎      | 2/6 [00:01<00:02,  1.96it/s]\u001b[A"
          ]
        },
        {
          "output_type": "stream",
          "name": "stdout",
          "text": [
            "/content/drive/MyDrive/Colab Notebooks/10seconds/228/ECG bandpass_3.csv\n"
          ]
        },
        {
          "output_type": "stream",
          "name": "stderr",
          "text": [
            "\n",
            " 50%|█████     | 3/6 [00:01<00:01,  2.40it/s]\u001b[A"
          ]
        },
        {
          "output_type": "stream",
          "name": "stdout",
          "text": [
            "/content/drive/MyDrive/Colab Notebooks/10seconds/228/ECG bandpass_4.csv\n"
          ]
        },
        {
          "output_type": "stream",
          "name": "stderr",
          "text": [
            "\n",
            " 67%|██████▋   | 4/6 [00:01<00:00,  2.62it/s]\u001b[A"
          ]
        },
        {
          "output_type": "stream",
          "name": "stdout",
          "text": [
            "/content/drive/MyDrive/Colab Notebooks/10seconds/228/ECG bandpass_5.csv\n"
          ]
        },
        {
          "output_type": "stream",
          "name": "stderr",
          "text": [
            "\n",
            " 83%|████████▎ | 5/6 [00:02<00:00,  2.45it/s]\u001b[A"
          ]
        },
        {
          "output_type": "stream",
          "name": "stdout",
          "text": [
            "/content/drive/MyDrive/Colab Notebooks/10seconds/228/ECG bandpass_6.csv\n"
          ]
        },
        {
          "output_type": "stream",
          "name": "stderr",
          "text": [
            "\n",
            "100%|██████████| 6/6 [00:02<00:00,  2.33it/s]\n",
            " 90%|████████▉ | 43/48 [02:00<00:14,  2.84s/it]\n",
            "  0%|          | 0/6 [00:00<?, ?it/s]\u001b[A"
          ]
        },
        {
          "output_type": "stream",
          "name": "stdout",
          "text": [
            "/content/drive/MyDrive/Colab Notebooks/10seconds/230/ECG bandpass_1.csv\n"
          ]
        },
        {
          "output_type": "stream",
          "name": "stderr",
          "text": [
            "\n",
            " 17%|█▋        | 1/6 [00:00<00:03,  1.60it/s]\u001b[A"
          ]
        },
        {
          "output_type": "stream",
          "name": "stdout",
          "text": [
            "/content/drive/MyDrive/Colab Notebooks/10seconds/230/ECG bandpass_2.csv\n"
          ]
        },
        {
          "output_type": "stream",
          "name": "stderr",
          "text": [
            "\n",
            " 33%|███▎      | 2/6 [00:01<00:02,  2.00it/s]\u001b[A"
          ]
        },
        {
          "output_type": "stream",
          "name": "stdout",
          "text": [
            "/content/drive/MyDrive/Colab Notebooks/10seconds/230/ECG bandpass_3.csv\n"
          ]
        },
        {
          "output_type": "stream",
          "name": "stderr",
          "text": [
            "\n",
            " 50%|█████     | 3/6 [00:01<00:01,  2.19it/s]\u001b[A"
          ]
        },
        {
          "output_type": "stream",
          "name": "stdout",
          "text": [
            "/content/drive/MyDrive/Colab Notebooks/10seconds/230/ECG bandpass_4.csv\n"
          ]
        },
        {
          "output_type": "stream",
          "name": "stderr",
          "text": [
            "\n",
            " 67%|██████▋   | 4/6 [00:01<00:00,  2.28it/s]\u001b[A"
          ]
        },
        {
          "output_type": "stream",
          "name": "stdout",
          "text": [
            "/content/drive/MyDrive/Colab Notebooks/10seconds/230/ECG bandpass_5.csv\n"
          ]
        },
        {
          "output_type": "stream",
          "name": "stderr",
          "text": [
            "\n",
            " 83%|████████▎ | 5/6 [00:02<00:00,  2.30it/s]\u001b[A"
          ]
        },
        {
          "output_type": "stream",
          "name": "stdout",
          "text": [
            "/content/drive/MyDrive/Colab Notebooks/10seconds/230/ECG bandpass_6.csv\n"
          ]
        },
        {
          "output_type": "stream",
          "name": "stderr",
          "text": [
            "\n",
            "100%|██████████| 6/6 [00:02<00:00,  2.28it/s]\n",
            " 92%|█████████▏| 44/48 [02:03<00:11,  2.93s/it]\n",
            "  0%|          | 0/6 [00:00<?, ?it/s]\u001b[A"
          ]
        },
        {
          "output_type": "stream",
          "name": "stdout",
          "text": [
            "/content/drive/MyDrive/Colab Notebooks/10seconds/231/ECG bandpass_1.csv\n"
          ]
        },
        {
          "output_type": "stream",
          "name": "stderr",
          "text": [
            "\n",
            " 17%|█▋        | 1/6 [00:00<00:02,  1.85it/s]\u001b[A"
          ]
        },
        {
          "output_type": "stream",
          "name": "stdout",
          "text": [
            "/content/drive/MyDrive/Colab Notebooks/10seconds/231/ECG bandpass_2.csv\n"
          ]
        },
        {
          "output_type": "stream",
          "name": "stderr",
          "text": [
            "\n",
            " 33%|███▎      | 2/6 [00:00<00:01,  2.39it/s]\u001b[A"
          ]
        },
        {
          "output_type": "stream",
          "name": "stdout",
          "text": [
            "/content/drive/MyDrive/Colab Notebooks/10seconds/231/ECG bandpass_3.csv\n"
          ]
        },
        {
          "output_type": "stream",
          "name": "stderr",
          "text": [
            "\n",
            " 50%|█████     | 3/6 [00:01<00:01,  2.67it/s]\u001b[A"
          ]
        },
        {
          "output_type": "stream",
          "name": "stdout",
          "text": [
            "/content/drive/MyDrive/Colab Notebooks/10seconds/231/ECG bandpass_4.csv\n"
          ]
        },
        {
          "output_type": "stream",
          "name": "stderr",
          "text": [
            "\n",
            " 67%|██████▋   | 4/6 [00:01<00:00,  2.85it/s]\u001b[A"
          ]
        },
        {
          "output_type": "stream",
          "name": "stdout",
          "text": [
            "/content/drive/MyDrive/Colab Notebooks/10seconds/231/ECG bandpass_5.csv\n"
          ]
        },
        {
          "output_type": "stream",
          "name": "stderr",
          "text": [
            "\n",
            " 83%|████████▎ | 5/6 [00:01<00:00,  2.87it/s]\u001b[A"
          ]
        },
        {
          "output_type": "stream",
          "name": "stdout",
          "text": [
            "/content/drive/MyDrive/Colab Notebooks/10seconds/231/ECG bandpass_6.csv\n"
          ]
        },
        {
          "output_type": "stream",
          "name": "stderr",
          "text": [
            "\n",
            "100%|██████████| 6/6 [00:02<00:00,  2.73it/s]\n",
            " 94%|█████████▍| 45/48 [02:06<00:08,  2.90s/it]\n",
            "  0%|          | 0/6 [00:00<?, ?it/s]\u001b[A"
          ]
        },
        {
          "output_type": "stream",
          "name": "stdout",
          "text": [
            "/content/drive/MyDrive/Colab Notebooks/10seconds/232/ECG bandpass_1.csv\n"
          ]
        },
        {
          "output_type": "stream",
          "name": "stderr",
          "text": [
            "\n",
            " 17%|█▋        | 1/6 [00:00<00:03,  1.56it/s]\u001b[A"
          ]
        },
        {
          "output_type": "stream",
          "name": "stdout",
          "text": [
            "/content/drive/MyDrive/Colab Notebooks/10seconds/232/ECG bandpass_2.csv\n"
          ]
        },
        {
          "output_type": "stream",
          "name": "stderr",
          "text": [
            "\n",
            " 33%|███▎      | 2/6 [00:00<00:01,  2.18it/s]\u001b[A"
          ]
        },
        {
          "output_type": "stream",
          "name": "stdout",
          "text": [
            "/content/drive/MyDrive/Colab Notebooks/10seconds/232/ECG bandpass_3.csv\n"
          ]
        },
        {
          "output_type": "stream",
          "name": "stderr",
          "text": [
            "\n",
            " 50%|█████     | 3/6 [00:01<00:01,  2.54it/s]\u001b[A"
          ]
        },
        {
          "output_type": "stream",
          "name": "stdout",
          "text": [
            "/content/drive/MyDrive/Colab Notebooks/10seconds/232/ECG bandpass_4.csv\n"
          ]
        },
        {
          "output_type": "stream",
          "name": "stderr",
          "text": [
            "\n",
            " 67%|██████▋   | 4/6 [00:01<00:00,  2.65it/s]\u001b[A"
          ]
        },
        {
          "output_type": "stream",
          "name": "stdout",
          "text": [
            "/content/drive/MyDrive/Colab Notebooks/10seconds/232/ECG bandpass_5.csv\n"
          ]
        },
        {
          "output_type": "stream",
          "name": "stderr",
          "text": [
            "\n",
            " 83%|████████▎ | 5/6 [00:02<00:00,  2.68it/s]\u001b[A"
          ]
        },
        {
          "output_type": "stream",
          "name": "stdout",
          "text": [
            "/content/drive/MyDrive/Colab Notebooks/10seconds/232/ECG bandpass_6.csv\n"
          ]
        },
        {
          "output_type": "stream",
          "name": "stderr",
          "text": [
            "\n",
            "100%|██████████| 6/6 [00:02<00:00,  2.48it/s]\n",
            " 96%|█████████▌| 46/48 [02:09<00:05,  2.84s/it]\n",
            "  0%|          | 0/6 [00:00<?, ?it/s]\u001b[A"
          ]
        },
        {
          "output_type": "stream",
          "name": "stdout",
          "text": [
            "/content/drive/MyDrive/Colab Notebooks/10seconds/233/ECG bandpass_1.csv\n"
          ]
        },
        {
          "output_type": "stream",
          "name": "stderr",
          "text": [
            "\n",
            " 17%|█▋        | 1/6 [00:00<00:02,  2.20it/s]\u001b[A"
          ]
        },
        {
          "output_type": "stream",
          "name": "stdout",
          "text": [
            "/content/drive/MyDrive/Colab Notebooks/10seconds/233/ECG bandpass_2.csv\n"
          ]
        },
        {
          "output_type": "stream",
          "name": "stderr",
          "text": [
            "\n",
            " 33%|███▎      | 2/6 [00:00<00:01,  2.52it/s]\u001b[A"
          ]
        },
        {
          "output_type": "stream",
          "name": "stdout",
          "text": [
            "/content/drive/MyDrive/Colab Notebooks/10seconds/233/ECG bandpass_3.csv\n"
          ]
        },
        {
          "output_type": "stream",
          "name": "stderr",
          "text": [
            "\n",
            " 50%|█████     | 3/6 [00:01<00:01,  2.73it/s]\u001b[A"
          ]
        },
        {
          "output_type": "stream",
          "name": "stdout",
          "text": [
            "/content/drive/MyDrive/Colab Notebooks/10seconds/233/ECG bandpass_4.csv\n"
          ]
        },
        {
          "output_type": "stream",
          "name": "stderr",
          "text": [
            "\n",
            " 67%|██████▋   | 4/6 [00:01<00:00,  2.91it/s]\u001b[A"
          ]
        },
        {
          "output_type": "stream",
          "name": "stdout",
          "text": [
            "/content/drive/MyDrive/Colab Notebooks/10seconds/233/ECG bandpass_5.csv\n"
          ]
        },
        {
          "output_type": "stream",
          "name": "stderr",
          "text": [
            "\n",
            " 83%|████████▎ | 5/6 [00:01<00:00,  3.07it/s]\u001b[A"
          ]
        },
        {
          "output_type": "stream",
          "name": "stdout",
          "text": [
            "/content/drive/MyDrive/Colab Notebooks/10seconds/233/ECG bandpass_6.csv\n"
          ]
        },
        {
          "output_type": "stream",
          "name": "stderr",
          "text": [
            "\n",
            "100%|██████████| 6/6 [00:02<00:00,  2.85it/s]\n",
            " 98%|█████████▊| 47/48 [02:11<00:02,  2.70s/it]\n",
            "  0%|          | 0/6 [00:00<?, ?it/s]\u001b[A"
          ]
        },
        {
          "output_type": "stream",
          "name": "stdout",
          "text": [
            "/content/drive/MyDrive/Colab Notebooks/10seconds/234/ECG bandpass_1.csv\n"
          ]
        },
        {
          "output_type": "stream",
          "name": "stderr",
          "text": [
            "\n",
            " 17%|█▋        | 1/6 [00:00<00:03,  1.52it/s]\u001b[A"
          ]
        },
        {
          "output_type": "stream",
          "name": "stdout",
          "text": [
            "/content/drive/MyDrive/Colab Notebooks/10seconds/234/ECG bandpass_2.csv\n"
          ]
        },
        {
          "output_type": "stream",
          "name": "stderr",
          "text": [
            "\n",
            " 33%|███▎      | 2/6 [00:01<00:01,  2.03it/s]\u001b[A"
          ]
        },
        {
          "output_type": "stream",
          "name": "stdout",
          "text": [
            "/content/drive/MyDrive/Colab Notebooks/10seconds/234/ECG bandpass_3.csv\n"
          ]
        },
        {
          "output_type": "stream",
          "name": "stderr",
          "text": [
            "\n",
            " 50%|█████     | 3/6 [00:01<00:01,  2.17it/s]\u001b[A"
          ]
        },
        {
          "output_type": "stream",
          "name": "stdout",
          "text": [
            "/content/drive/MyDrive/Colab Notebooks/10seconds/234/ECG bandpass_4.csv\n"
          ]
        },
        {
          "output_type": "stream",
          "name": "stderr",
          "text": [
            "\n",
            " 67%|██████▋   | 4/6 [00:01<00:00,  2.46it/s]\u001b[A"
          ]
        },
        {
          "output_type": "stream",
          "name": "stdout",
          "text": [
            "/content/drive/MyDrive/Colab Notebooks/10seconds/234/ECG bandpass_5.csv\n"
          ]
        },
        {
          "output_type": "stream",
          "name": "stderr",
          "text": [
            "\n",
            " 83%|████████▎ | 5/6 [00:02<00:00,  2.63it/s]\u001b[A"
          ]
        },
        {
          "output_type": "stream",
          "name": "stdout",
          "text": [
            "/content/drive/MyDrive/Colab Notebooks/10seconds/234/ECG bandpass_6.csv\n"
          ]
        },
        {
          "output_type": "stream",
          "name": "stderr",
          "text": [
            "\n",
            "100%|██████████| 6/6 [00:02<00:00,  2.36it/s]\n",
            "100%|██████████| 48/48 [02:14<00:00,  2.80s/it]\n"
          ]
        }
      ]
    },
    {
      "cell_type": "code",
      "source": [
        "data_url = '/content/drive/MyDrive/Colab Notebooks/10seconds/'\n",
        "\n",
        "number_pattern = re.compile(r'\\d+')\n",
        "\n",
        "for root, dirs, files in os.walk(data_url):\n",
        "  for csv_file in tqdm(files):\n",
        "    time.sleep(0.1)\n",
        "    file_path = os.path.join(root, csv_file)\n",
        "    file = pd.read_csv(file_path, header = 0)\n",
        "\n",
        "    match = number_pattern.search(csv_file)\n",
        "    if match:\n",
        "      folder_number = match.group()\n",
        "    else:\n",
        "      folder_number = '1'\n",
        "\n",
        "    folder_name = os.path.basename(root)\n",
        "\n",
        "    save_url = '/content/drive/MyDrive/Colab Notebooks/rpeak/' + folder_name\n",
        "    os.makedirs(save_url, exist_ok=True)\n",
        "\n",
        "    pantompkins1985 = nk.ecg_findpeaks(nk.ecg_clean(file.iloc[:,0], method='pantompkins1985'), method = 'pantompkins1985')\n",
        "    signals, info = nk.ecg_peaks(file.iloc[:,0], correct_artifacts = False)\n",
        "\n",
        "    peak = pd.DataFrame(info)\n",
        "\n",
        "    peak.to_csv(save_url + '/r_peak_{0}.csv'.format(folder_number))"
      ],
      "metadata": {
        "colab": {
          "base_uri": "https://localhost:8080/"
        },
        "id": "2B_N1oZpguo7",
        "outputId": "d0b8143e-293b-4686-e164-c5684e9655d3"
      },
      "execution_count": 14,
      "outputs": [
        {
          "output_type": "stream",
          "name": "stderr",
          "text": [
            "0it [00:00, ?it/s]\n",
            "100%|██████████| 6/6 [00:02<00:00,  2.45it/s]\n",
            "100%|██████████| 6/6 [00:02<00:00,  2.26it/s]\n",
            "100%|██████████| 6/6 [00:02<00:00,  2.20it/s]\n",
            "100%|██████████| 6/6 [00:02<00:00,  2.34it/s]\n",
            "100%|██████████| 6/6 [00:02<00:00,  2.31it/s]\n",
            "100%|██████████| 6/6 [00:02<00:00,  2.34it/s]\n",
            "100%|██████████| 6/6 [00:02<00:00,  2.30it/s]\n",
            "100%|██████████| 6/6 [00:02<00:00,  2.35it/s]\n",
            "100%|██████████| 6/6 [00:02<00:00,  2.22it/s]\n",
            "100%|██████████| 6/6 [00:02<00:00,  2.33it/s]\n",
            "100%|██████████| 6/6 [00:02<00:00,  2.44it/s]\n",
            "100%|██████████| 6/6 [00:02<00:00,  2.40it/s]\n",
            "100%|██████████| 6/6 [00:02<00:00,  2.19it/s]\n",
            "100%|██████████| 6/6 [00:02<00:00,  2.35it/s]\n",
            "100%|██████████| 6/6 [00:02<00:00,  2.14it/s]\n",
            "100%|██████████| 6/6 [00:02<00:00,  2.24it/s]\n",
            "100%|██████████| 6/6 [00:02<00:00,  2.43it/s]\n",
            "100%|██████████| 6/6 [00:02<00:00,  2.33it/s]\n",
            "100%|██████████| 6/6 [00:02<00:00,  2.37it/s]\n",
            "100%|██████████| 6/6 [00:02<00:00,  2.20it/s]\n",
            "100%|██████████| 6/6 [00:03<00:00,  1.80it/s]\n",
            "100%|██████████| 6/6 [00:02<00:00,  2.38it/s]\n",
            "100%|██████████| 6/6 [00:02<00:00,  2.45it/s]\n",
            "100%|██████████| 6/6 [00:02<00:00,  2.30it/s]\n",
            "100%|██████████| 6/6 [00:02<00:00,  2.42it/s]\n",
            "100%|██████████| 6/6 [00:02<00:00,  2.29it/s]\n",
            "100%|██████████| 6/6 [00:02<00:00,  2.34it/s]\n",
            "100%|██████████| 6/6 [00:02<00:00,  2.36it/s]\n",
            "100%|██████████| 6/6 [00:02<00:00,  2.28it/s]\n",
            "100%|██████████| 6/6 [00:02<00:00,  2.36it/s]\n",
            "100%|██████████| 6/6 [00:03<00:00,  2.00it/s]\n",
            "100%|██████████| 6/6 [00:02<00:00,  2.16it/s]\n",
            "100%|██████████| 6/6 [00:02<00:00,  2.25it/s]\n",
            "100%|██████████| 6/6 [00:02<00:00,  2.32it/s]\n",
            "100%|██████████| 6/6 [00:02<00:00,  2.19it/s]\n",
            "100%|██████████| 6/6 [00:02<00:00,  2.44it/s]\n",
            "100%|██████████| 6/6 [00:02<00:00,  2.37it/s]\n",
            "100%|██████████| 6/6 [00:02<00:00,  2.27it/s]\n",
            "100%|██████████| 6/6 [00:02<00:00,  2.38it/s]\n",
            "100%|██████████| 6/6 [00:02<00:00,  2.36it/s]\n",
            "100%|██████████| 6/6 [00:02<00:00,  2.36it/s]\n",
            "100%|██████████| 6/6 [00:02<00:00,  2.43it/s]\n",
            "100%|██████████| 6/6 [00:02<00:00,  2.35it/s]\n",
            "100%|██████████| 6/6 [00:02<00:00,  2.22it/s]\n",
            "100%|██████████| 6/6 [00:02<00:00,  2.22it/s]\n",
            "100%|██████████| 6/6 [00:02<00:00,  2.27it/s]\n",
            "100%|██████████| 6/6 [00:02<00:00,  2.41it/s]\n",
            "100%|██████████| 6/6 [00:02<00:00,  2.29it/s]\n"
          ]
        }
      ]
    },
    {
      "cell_type": "code",
      "source": [
        "file = pd.read_csv('/content/drive/MyDrive/Colab Notebooks/10seconds/115/ECG bandpass_5.csv')\n",
        "\n",
        "rpeaks = pd.read_csv('/content/drive/MyDrive/Colab Notebooks/rpeak/115/r_peak_5.csv')\n",
        "\n",
        "plt.figure(figsize=(10, 4))\n",
        "plt.plot(file.iloc[:,0], label = 'Original ECG')\n",
        "plt.plot(rpeaks['ECG_R_Peaks'], file.iloc[rpeaks[\"ECG_R_Peaks\"], 0], 'ro', label='R Peaks')\n",
        "plt.title('ECG with R Peak Detection')"
      ],
      "metadata": {
        "colab": {
          "base_uri": "https://localhost:8080/",
          "height": 316
        },
        "id": "txeyIsb3j0bn",
        "outputId": "c018ac21-5b87-4ba2-fd8c-997dcbc12039"
      },
      "execution_count": 15,
      "outputs": [
        {
          "output_type": "execute_result",
          "data": {
            "text/plain": [
              "Text(0.5, 1.0, 'ECG with R Peak Detection')"
            ]
          },
          "metadata": {},
          "execution_count": 15
        },
        {
          "output_type": "display_data",
          "data": {
            "text/plain": [
              "<Figure size 1000x400 with 1 Axes>"
            ],
            "image/png": "[encoded data removed]"
          },
          "metadata": {}
        }
      ]
    },
    {
      "cell_type": "code",
      "source": [
        "for k in range(100, 235):\n",
        "    data_url = '/content/drive/MyDrive/Colab Notebooks/10seconds/' + str(k)\n",
        "    peak_url = '/content/drive/MyDrive/Colab Notebooks/rpeak/' + str(k)\n",
        "    save_url = '/content/drive/MyDrive/Colab Notebooks/split_data/' + str(k)\n",
        "\n",
        "    sum = 0\n",
        "\n",
        "    # 해당 폴더가 없는 경우\n",
        "    if not os.path.exists(data_url) or not os.path.exists(peak_url):\n",
        "        continue\n",
        "\n",
        "    # 저장할 폴더가 없는 경우 생성\n",
        "    if not os.path.exists(save_url):\n",
        "        os.makedirs(save_url)\n",
        "\n",
        "    for i in range(1, 7):\n",
        "        file_path = data_url + \"/ECG bandpass_{0}.csv\".format(i)\n",
        "        data_path = peak_url + \"/r_peak_{0}.csv\".format(i)\n",
        "\n",
        "        # 파일이 존재하지 않는 경우\n",
        "        if not os.path.exists(file_path) or not os.path.exists(data_path):\n",
        "            continue\n",
        "\n",
        "        file_df = pd.read_csv(file_path, header=0)\n",
        "        data_df = pd.read_csv(data_path, header=0)\n",
        "\n",
        "        peaks = data_df.iloc[:, 3]\n",
        "\n",
        "        for j in range(len(peaks)):\n",
        "            rpeak= int(peaks[j])\n",
        "\n",
        "            ECG_down= file_df.iloc[(rpeak-144):(rpeak+216)]\n",
        "\n",
        "            ECG_down.to_csv(save_url + \"/one_cycle_{0}.csv\".format(sum))\n",
        "            sum = sum + 1"
      ],
      "metadata": {
        "id": "VttWTpxBnecb"
      },
      "execution_count": 43,
      "outputs": []
    },
    {
      "cell_type": "code",
      "source": [
        "file = pd.read_csv('/content/drive/MyDrive/Colab Notebooks/split_data/101/one_cycle_1.csv')\n",
        "\n",
        "plt.figure(figsize = (10,4))\n",
        "plt.plot(file.iloc[:,1])"
      ],
      "metadata": {
        "colab": {
          "base_uri": "https://localhost:8080/",
          "height": 302
        },
        "id": "ro2xs_c6cqQH",
        "outputId": "e0aba679-c102-44ba-a891-70bfbed1dd7c"
      },
      "execution_count": 44,
      "outputs": [
        {
          "output_type": "execute_result",
          "data": {
            "text/plain": [
              "[<matplotlib.lines.Line2D at 0x7f373eb5c3d0>]"
            ]
          },
          "metadata": {},
          "execution_count": 44
        },
        {
          "output_type": "display_data",
          "data": {
            "text/plain": [
              "<Figure size 1000x400 with 1 Axes>"
            ],
            "image/png": "[encoded data removed]"
          },
          "metadata": {}
        }
      ]
    },
    {
      "cell_type": "code",
      "source": [
        "combined_df = pd.DataFrame()\n",
        "\n",
        "sum = 0\n",
        "\n",
        "for i in range(100, 235):\n",
        "  folder_path = '/content/drive/MyDrive/Colab Notebooks/split_data/' + str(i)\n",
        "\n",
        "  if not os.path.exists(folder_path):\n",
        "    continue\n",
        "\n",
        "  csv_files = []\n",
        "\n",
        "  for filename in os.listdir(folder_path):\n",
        "    if filename.endswith('.csv'):\n",
        "      csv_files.append(os.path.join(folder_path, filename))\n",
        "\n",
        "  dataframes = []\n",
        "\n",
        "  for csv_file in csv_files:\n",
        "    df_csv = pd.read_csv(csv_file)\n",
        "    df = df_csv.iloc[:,1:]\n",
        "    df = df.transpose()\n",
        "    dataframes.append(df)\n",
        "\n",
        "  for df in dataframes:\n",
        "    df['label'] = sum\n",
        "\n",
        "  combined_df = pd.concat([combined_df] + dataframes, ignore_index = True)\n",
        "\n",
        "  sum = sum + 1\n",
        "\n",
        "combined_df"
      ],
      "metadata": {
        "colab": {
          "base_uri": "https://localhost:8080/",
          "height": 444
        },
        "id": "HziUVyT4dCjE",
        "outputId": "419aa1e5-b0d7-44b9-9216-b41d2068d5f5"
      },
      "execution_count": 51,
      "outputs": [
        {
          "output_type": "execute_result",
          "data": {
            "text/plain": [
              "             0         1         2         3         4         5         6  \\\n",
              "0    -0.084629 -0.086259 -0.087777 -0.091364 -0.097254 -0.103141 -0.106066   \n",
              "1    -0.060610 -0.064099 -0.064410 -0.064054 -0.065962 -0.070764 -0.076373   \n",
              "2    -0.134609 -0.137825 -0.138740 -0.137752 -0.135893 -0.133674 -0.130991   \n",
              "3    -0.098681 -0.102220 -0.105067 -0.107234 -0.109938 -0.113952 -0.118432   \n",
              "4    -0.064270 -0.064069 -0.065884 -0.068225 -0.068945 -0.067278 -0.064631   \n",
              "...        ...       ...       ...       ...       ...       ...       ...   \n",
              "2147 -0.222524 -0.216648 -0.210520 -0.204855 -0.200765 -0.199083 -0.199621   \n",
              "2148 -0.150620 -0.154459 -0.157645 -0.158474 -0.155907 -0.150331 -0.143098   \n",
              "2149 -0.093726 -0.103444 -0.116296 -0.127699 -0.133749 -0.132613 -0.124538   \n",
              "2150 -0.093726 -0.103444 -0.116296 -0.127699 -0.133749 -0.132613 -0.124538   \n",
              "2151  0.092845  0.109514  0.128728  0.146785  0.160502  0.168672  0.172429   \n",
              "\n",
              "             7         8         9  ...       351       352       353  \\\n",
              "0    -0.105059 -0.102030 -0.100189  ... -0.057389 -0.053507 -0.050789   \n",
              "1    -0.080141 -0.081362 -0.081650  ... -0.071610 -0.071240 -0.072870   \n",
              "2    -0.128209 -0.126779 -0.128081  ... -0.101131 -0.095199 -0.093669   \n",
              "3    -0.121503 -0.122000 -0.120505  ... -0.092594 -0.091616 -0.092290   \n",
              "4    -0.063559 -0.065856 -0.071169  ... -0.062921 -0.064976 -0.063727   \n",
              "...        ...       ...       ...  ...       ...       ...       ...   \n",
              "2147 -0.201040 -0.201393 -0.198907  ... -0.176903 -0.177045 -0.179303   \n",
              "2148 -0.135579 -0.128666 -0.122919  ... -0.136584 -0.135183 -0.129242   \n",
              "2149 -0.111094 -0.094692 -0.078502  ... -0.092868 -0.095649 -0.097671   \n",
              "2150 -0.111094 -0.094692 -0.078502  ... -0.092868 -0.095649 -0.097671   \n",
              "2151  0.173776  0.173617  0.171396  ...  0.105025  0.097271  0.088398   \n",
              "\n",
              "           354       355       356       357       358       359  label  \n",
              "0    -0.047556 -0.043824 -0.040404 -0.037265 -0.033157 -0.026744      0  \n",
              "1    -0.074870 -0.074901 -0.071919 -0.067006 -0.062299 -0.058989      0  \n",
              "2    -0.094918 -0.096073 -0.095777 -0.095088 -0.095883 -0.098681      0  \n",
              "3    -0.093704 -0.094133 -0.092820 -0.090634 -0.089144 -0.089054      0  \n",
              "4    -0.060054 -0.056991 -0.056945 -0.059586 -0.062326 -0.062642      0  \n",
              "...        ...       ...       ...       ...       ...       ...    ...  \n",
              "2147 -0.182793 -0.186234 -0.188907 -0.190698 -0.191712 -0.192297     47  \n",
              "2148 -0.119443 -0.108552 -0.101140 -0.101928 -0.113305 -0.133274     47  \n",
              "2149 -0.098776 -0.098388 -0.095774 -0.090688 -0.084279 -0.079399     47  \n",
              "2150 -0.098776 -0.098388 -0.095774 -0.090688 -0.084279 -0.079399     47  \n",
              "2151  0.079454  0.070960  0.062222  0.052269  0.041427  0.031746     47  \n",
              "\n",
              "[2152 rows x 361 columns]"
            ],
            "text/html": [
              "\n",
              "  <div id=\"df-0884b281-dcac-4d35-becb-8cc8c0dfd754\" class=\"colab-df-container\">\n",
              "    <div>\n",
              "<style scoped>\n",
              "    .dataframe tbody tr th:only-of-type {\n",
              "        vertical-align: middle;\n",
              "    }\n",
              "\n",
              "    .dataframe tbody tr th {\n",
              "        vertical-align: top;\n",
              "    }\n",
              "\n",
              "    .dataframe thead th {\n",
              "        text-align: right;\n",
              "    }\n",
              "</style>\n",
              "<table border=\"1\" class=\"dataframe\">\n",
              "  <thead>\n",
              "    <tr style=\"text-align: right;\">\n",
              "      <th></th>\n",
              "      <th>0</th>\n",
              "      <th>1</th>\n",
              "      <th>2</th>\n",
              "      <th>3</th>\n",
              "      <th>4</th>\n",
              "      <th>5</th>\n",
              "      <th>6</th>\n",
              "      <th>7</th>\n",
              "      <th>8</th>\n",
              "      <th>9</th>\n",
              "      <th>...</th>\n",
              "      <th>351</th>\n",
              "      <th>352</th>\n",
              "      <th>353</th>\n",
              "      <th>354</th>\n",
              "      <th>355</th>\n",
              "      <th>356</th>\n",
              "      <th>357</th>\n",
              "      <th>358</th>\n",
              "      <th>359</th>\n",
              "      <th>label</th>\n",
              "    </tr>\n",
              "  </thead>\n",
              "  <tbody>\n",
              "    <tr>\n",
              "      <th>0</th>\n",
              "      <td>-0.084629</td>\n",
              "      <td>-0.086259</td>\n",
              "      <td>-0.087777</td>\n",
              "      <td>-0.091364</td>\n",
              "      <td>-0.097254</td>\n",
              "      <td>-0.103141</td>\n",
              "      <td>-0.106066</td>\n",
              "      <td>-0.105059</td>\n",
              "      <td>-0.102030</td>\n",
              "      <td>-0.100189</td>\n",
              "      <td>...</td>\n",
              "      <td>-0.057389</td>\n",
              "      <td>-0.053507</td>\n",
              "      <td>-0.050789</td>\n",
              "      <td>-0.047556</td>\n",
              "      <td>-0.043824</td>\n",
              "      <td>-0.040404</td>\n",
              "      <td>-0.037265</td>\n",
              "      <td>-0.033157</td>\n",
              "      <td>-0.026744</td>\n",
              "      <td>0</td>\n",
              "    </tr>\n",
              "    <tr>\n",
              "      <th>1</th>\n",
              "      <td>-0.060610</td>\n",
              "      <td>-0.064099</td>\n",
              "      <td>-0.064410</td>\n",
              "      <td>-0.064054</td>\n",
              "      <td>-0.065962</td>\n",
              "      <td>-0.070764</td>\n",
              "      <td>-0.076373</td>\n",
              "      <td>-0.080141</td>\n",
              "      <td>-0.081362</td>\n",
              "      <td>-0.081650</td>\n",
              "      <td>...</td>\n",
              "      <td>-0.071610</td>\n",
              "      <td>-0.071240</td>\n",
              "      <td>-0.072870</td>\n",
              "      <td>-0.074870</td>\n",
              "      <td>-0.074901</td>\n",
              "      <td>-0.071919</td>\n",
              "      <td>-0.067006</td>\n",
              "      <td>-0.062299</td>\n",
              "      <td>-0.058989</td>\n",
              "      <td>0</td>\n",
              "    </tr>\n",
              "    <tr>\n",
              "      <th>2</th>\n",
              "      <td>-0.134609</td>\n",
              "      <td>-0.137825</td>\n",
              "      <td>-0.138740</td>\n",
              "      <td>-0.137752</td>\n",
              "      <td>-0.135893</td>\n",
              "      <td>-0.133674</td>\n",
              "      <td>-0.130991</td>\n",
              "      <td>-0.128209</td>\n",
              "      <td>-0.126779</td>\n",
              "      <td>-0.128081</td>\n",
              "      <td>...</td>\n",
              "      <td>-0.101131</td>\n",
              "      <td>-0.095199</td>\n",
              "      <td>-0.093669</td>\n",
              "      <td>-0.094918</td>\n",
              "      <td>-0.096073</td>\n",
              "      <td>-0.095777</td>\n",
              "      <td>-0.095088</td>\n",
              "      <td>-0.095883</td>\n",
              "      <td>-0.098681</td>\n",
              "      <td>0</td>\n",
              "    </tr>\n",
              "    <tr>\n",
              "      <th>3</th>\n",
              "      <td>-0.098681</td>\n",
              "      <td>-0.102220</td>\n",
              "      <td>-0.105067</td>\n",
              "      <td>-0.107234</td>\n",
              "      <td>-0.109938</td>\n",
              "      <td>-0.113952</td>\n",
              "      <td>-0.118432</td>\n",
              "      <td>-0.121503</td>\n",
              "      <td>-0.122000</td>\n",
              "      <td>-0.120505</td>\n",
              "      <td>...</td>\n",
              "      <td>-0.092594</td>\n",
              "      <td>-0.091616</td>\n",
              "      <td>-0.092290</td>\n",
              "      <td>-0.093704</td>\n",
              "      <td>-0.094133</td>\n",
              "      <td>-0.092820</td>\n",
              "      <td>-0.090634</td>\n",
              "      <td>-0.089144</td>\n",
              "      <td>-0.089054</td>\n",
              "      <td>0</td>\n",
              "    </tr>\n",
              "    <tr>\n",
              "      <th>4</th>\n",
              "      <td>-0.064270</td>\n",
              "      <td>-0.064069</td>\n",
              "      <td>-0.065884</td>\n",
              "      <td>-0.068225</td>\n",
              "      <td>-0.068945</td>\n",
              "      <td>-0.067278</td>\n",
              "      <td>-0.064631</td>\n",
              "      <td>-0.063559</td>\n",
              "      <td>-0.065856</td>\n",
              "      <td>-0.071169</td>\n",
              "      <td>...</td>\n",
              "      <td>-0.062921</td>\n",
              "      <td>-0.064976</td>\n",
              "      <td>-0.063727</td>\n",
              "      <td>-0.060054</td>\n",
              "      <td>-0.056991</td>\n",
              "      <td>-0.056945</td>\n",
              "      <td>-0.059586</td>\n",
              "      <td>-0.062326</td>\n",
              "      <td>-0.062642</td>\n",
              "      <td>0</td>\n",
              "    </tr>\n",
              "    <tr>\n",
              "      <th>...</th>\n",
              "      <td>...</td>\n",
              "      <td>...</td>\n",
              "      <td>...</td>\n",
              "      <td>...</td>\n",
              "      <td>...</td>\n",
              "      <td>...</td>\n",
              "      <td>...</td>\n",
              "      <td>...</td>\n",
              "      <td>...</td>\n",
              "      <td>...</td>\n",
              "      <td>...</td>\n",
              "      <td>...</td>\n",
              "      <td>...</td>\n",
              "      <td>...</td>\n",
              "      <td>...</td>\n",
              "      <td>...</td>\n",
              "      <td>...</td>\n",
              "      <td>...</td>\n",
              "      <td>...</td>\n",
              "      <td>...</td>\n",
              "      <td>...</td>\n",
              "    </tr>\n",
              "    <tr>\n",
              "      <th>2147</th>\n",
              "      <td>-0.222524</td>\n",
              "      <td>-0.216648</td>\n",
              "      <td>-0.210520</td>\n",
              "      <td>-0.204855</td>\n",
              "      <td>-0.200765</td>\n",
              "      <td>-0.199083</td>\n",
              "      <td>-0.199621</td>\n",
              "      <td>-0.201040</td>\n",
              "      <td>-0.201393</td>\n",
              "      <td>-0.198907</td>\n",
              "      <td>...</td>\n",
              "      <td>-0.176903</td>\n",
              "      <td>-0.177045</td>\n",
              "      <td>-0.179303</td>\n",
              "      <td>-0.182793</td>\n",
              "      <td>-0.186234</td>\n",
              "      <td>-0.188907</td>\n",
              "      <td>-0.190698</td>\n",
              "      <td>-0.191712</td>\n",
              "      <td>-0.192297</td>\n",
              "      <td>47</td>\n",
              "    </tr>\n",
              "    <tr>\n",
              "      <th>2148</th>\n",
              "      <td>-0.150620</td>\n",
              "      <td>-0.154459</td>\n",
              "      <td>-0.157645</td>\n",
              "      <td>-0.158474</td>\n",
              "      <td>-0.155907</td>\n",
              "      <td>-0.150331</td>\n",
              "      <td>-0.143098</td>\n",
              "      <td>-0.135579</td>\n",
              "      <td>-0.128666</td>\n",
              "      <td>-0.122919</td>\n",
              "      <td>...</td>\n",
              "      <td>-0.136584</td>\n",
              "      <td>-0.135183</td>\n",
              "      <td>-0.129242</td>\n",
              "      <td>-0.119443</td>\n",
              "      <td>-0.108552</td>\n",
              "      <td>-0.101140</td>\n",
              "      <td>-0.101928</td>\n",
              "      <td>-0.113305</td>\n",
              "      <td>-0.133274</td>\n",
              "      <td>47</td>\n",
              "    </tr>\n",
              "    <tr>\n",
              "      <th>2149</th>\n",
              "      <td>-0.093726</td>\n",
              "      <td>-0.103444</td>\n",
              "      <td>-0.116296</td>\n",
              "      <td>-0.127699</td>\n",
              "      <td>-0.133749</td>\n",
              "      <td>-0.132613</td>\n",
              "      <td>-0.124538</td>\n",
              "      <td>-0.111094</td>\n",
              "      <td>-0.094692</td>\n",
              "      <td>-0.078502</td>\n",
              "      <td>...</td>\n",
              "      <td>-0.092868</td>\n",
              "      <td>-0.095649</td>\n",
              "      <td>-0.097671</td>\n",
              "      <td>-0.098776</td>\n",
              "      <td>-0.098388</td>\n",
              "      <td>-0.095774</td>\n",
              "      <td>-0.090688</td>\n",
              "      <td>-0.084279</td>\n",
              "      <td>-0.079399</td>\n",
              "      <td>47</td>\n",
              "    </tr>\n",
              "    <tr>\n",
              "      <th>2150</th>\n",
              "      <td>-0.093726</td>\n",
              "      <td>-0.103444</td>\n",
              "      <td>-0.116296</td>\n",
              "      <td>-0.127699</td>\n",
              "      <td>-0.133749</td>\n",
              "      <td>-0.132613</td>\n",
              "      <td>-0.124538</td>\n",
              "      <td>-0.111094</td>\n",
              "      <td>-0.094692</td>\n",
              "      <td>-0.078502</td>\n",
              "      <td>...</td>\n",
              "      <td>-0.092868</td>\n",
              "      <td>-0.095649</td>\n",
              "      <td>-0.097671</td>\n",
              "      <td>-0.098776</td>\n",
              "      <td>-0.098388</td>\n",
              "      <td>-0.095774</td>\n",
              "      <td>-0.090688</td>\n",
              "      <td>-0.084279</td>\n",
              "      <td>-0.079399</td>\n",
              "      <td>47</td>\n",
              "    </tr>\n",
              "    <tr>\n",
              "      <th>2151</th>\n",
              "      <td>0.092845</td>\n",
              "      <td>0.109514</td>\n",
              "      <td>0.128728</td>\n",
              "      <td>0.146785</td>\n",
              "      <td>0.160502</td>\n",
              "      <td>0.168672</td>\n",
              "      <td>0.172429</td>\n",
              "      <td>0.173776</td>\n",
              "      <td>0.173617</td>\n",
              "      <td>0.171396</td>\n",
              "      <td>...</td>\n",
              "      <td>0.105025</td>\n",
              "      <td>0.097271</td>\n",
              "      <td>0.088398</td>\n",
              "      <td>0.079454</td>\n",
              "      <td>0.070960</td>\n",
              "      <td>0.062222</td>\n",
              "      <td>0.052269</td>\n",
              "      <td>0.041427</td>\n",
              "      <td>0.031746</td>\n",
              "      <td>47</td>\n",
              "    </tr>\n",
              "  </tbody>\n",
              "</table>\n",
              "<p>2152 rows × 361 columns</p>\n",
              "</div>\n",
              "    <div class=\"colab-df-buttons\">\n",
              "\n",
              "  <div class=\"colab-df-container\">\n",
              "    <button class=\"colab-df-convert\" onclick=\"convertToInteractive('df-0884b281-dcac-4d35-becb-8cc8c0dfd754')\"\n",
              "            title=\"Convert this dataframe to an interactive table.\"\n",
              "            style=\"display:none;\">\n",
              "\n",
              "  <svg xmlns=\"http://www.w3.org/2000/svg\" height=\"24px\" viewBox=\"0 -960 960 960\">\n",
              "    <path d=\"M120-120v-720h720v720H120Zm60-500h600v-160H180v160Zm220 220h160v-160H400v160Zm0 220h160v-160H400v160ZM180-400h160v-160H180v160Zm440 0h160v-160H620v160ZM180-180h160v-160H180v160Zm440 0h160v-160H620v160Z\"/>\n",
              "  </svg>\n",
              "    </button>\n",
              "\n",
              "  <style>\n",
              "    .colab-df-container {\n",
              "      display:flex;\n",
              "      gap: 12px;\n",
              "    }\n",
              "\n",
              "    .colab-df-convert {\n",
              "      background-color: #E8F0FE;\n",
              "      border: none;\n",
              "      border-radius: 50%;\n",
              "      cursor: pointer;\n",
              "      display: none;\n",
              "      fill: #1967D2;\n",
              "      height: 32px;\n",
              "      padding: 0 0 0 0;\n",
              "      width: 32px;\n",
              "    }\n",
              "\n",
              "    .colab-df-convert:hover {\n",
              "      background-color: #E2EBFA;\n",
              "      box-shadow: 0px 1px 2px rgba(60, 64, 67, 0.3), 0px 1px 3px 1px rgba(60, 64, 67, 0.15);\n",
              "      fill: #174EA6;\n",
              "    }\n",
              "\n",
              "    .colab-df-buttons div {\n",
              "      margin-bottom: 4px;\n",
              "    }\n",
              "\n",
              "    [theme=dark] .colab-df-convert {\n",
              "      background-color: #3B4455;\n",
              "      fill: #D2E3FC;\n",
              "    }\n",
              "\n",
              "    [theme=dark] .colab-df-convert:hover {\n",
              "      background-color: #434B5C;\n",
              "      box-shadow: 0px 1px 3px 1px rgba(0, 0, 0, 0.15);\n",
              "      filter: drop-shadow(0px 1px 2px rgba(0, 0, 0, 0.3));\n",
              "      fill: #FFFFFF;\n",
              "    }\n",
              "  </style>\n",
              "\n",
              "    <script>\n",
              "      const buttonEl =\n",
              "        document.querySelector('#df-0884b281-dcac-4d35-becb-8cc8c0dfd754 button.colab-df-convert');\n",
              "      buttonEl.style.display =\n",
              "        google.colab.kernel.accessAllowed ? 'block' : 'none';\n",
              "\n",
              "      async function convertToInteractive(key) {\n",
              "        const element = document.querySelector('#df-0884b281-dcac-4d35-becb-8cc8c0dfd754');\n",
              "        const dataTable =\n",
              "          await google.colab.kernel.invokeFunction('convertToInteractive',\n",
              "                                                    [key], {});\n",
              "        if (!dataTable) return;\n",
              "\n",
              "        const docLinkHtml = 'Like what you see? Visit the ' +\n",
              "          '<a target=\"_blank\" href=https://colab.research.google.com/notebooks/data_table.ipynb>data table notebook</a>'\n",
              "          + ' to learn more about interactive tables.';\n",
              "        element.innerHTML = '';\n",
              "        dataTable['output_type'] = 'display_data';\n",
              "        await google.colab.output.renderOutput(dataTable, element);\n",
              "        const docLink = document.createElement('div');\n",
              "        docLink.innerHTML = docLinkHtml;\n",
              "        element.appendChild(docLink);\n",
              "      }\n",
              "    </script>\n",
              "  </div>\n",
              "\n",
              "\n",
              "<div id=\"df-1bb76b78-d7b4-406e-9536-09d9e3da22a9\">\n",
              "  <button class=\"colab-df-quickchart\" onclick=\"quickchart('df-1bb76b78-d7b4-406e-9536-09d9e3da22a9')\"\n",
              "            title=\"Suggest charts.\"\n",
              "            style=\"display:none;\">\n",
              "\n",
              "<svg xmlns=\"http://www.w3.org/2000/svg\" height=\"24px\"viewBox=\"0 0 24 24\"\n",
              "     width=\"24px\">\n",
              "    <g>\n",
              "        <path d=\"M19 3H5c-1.1 0-2 .9-2 2v14c0 1.1.9 2 2 2h14c1.1 0 2-.9 2-2V5c0-1.1-.9-2-2-2zM9 17H7v-7h2v7zm4 0h-2V7h2v10zm4 0h-2v-4h2v4z\"/>\n",
              "    </g>\n",
              "</svg>\n",
              "  </button>\n",
              "\n",
              "<style>\n",
              "  .colab-df-quickchart {\n",
              "      --bg-color: #E8F0FE;\n",
              "      --fill-color: #1967D2;\n",
              "      --hover-bg-color: #E2EBFA;\n",
              "      --hover-fill-color: #174EA6;\n",
              "      --disabled-fill-color: #AAA;\n",
              "      --disabled-bg-color: #DDD;\n",
              "  }\n",
              "\n",
              "  [theme=dark] .colab-df-quickchart {\n",
              "      --bg-color: #3B4455;\n",
              "      --fill-color: #D2E3FC;\n",
              "      --hover-bg-color: #434B5C;\n",
              "      --hover-fill-color: #FFFFFF;\n",
              "      --disabled-bg-color: #3B4455;\n",
              "      --disabled-fill-color: #666;\n",
              "  }\n",
              "\n",
              "  .colab-df-quickchart {\n",
              "    background-color: var(--bg-color);\n",
              "    border: none;\n",
              "    border-radius: 50%;\n",
              "    cursor: pointer;\n",
              "    display: none;\n",
              "    fill: var(--fill-color);\n",
              "    height: 32px;\n",
              "    padding: 0;\n",
              "    width: 32px;\n",
              "  }\n",
              "\n",
              "  .colab-df-quickchart:hover {\n",
              "    background-color: var(--hover-bg-color);\n",
              "    box-shadow: 0 1px 2px rgba(60, 64, 67, 0.3), 0 1px 3px 1px rgba(60, 64, 67, 0.15);\n",
              "    fill: var(--button-hover-fill-color);\n",
              "  }\n",
              "\n",
              "  .colab-df-quickchart-complete:disabled,\n",
              "  .colab-df-quickchart-complete:disabled:hover {\n",
              "    background-color: var(--disabled-bg-color);\n",
              "    fill: var(--disabled-fill-color);\n",
              "    box-shadow: none;\n",
              "  }\n",
              "\n",
              "  .colab-df-spinner {\n",
              "    border: 2px solid var(--fill-color);\n",
              "    border-color: transparent;\n",
              "    border-bottom-color: var(--fill-color);\n",
              "    animation:\n",
              "      spin 1s steps(1) infinite;\n",
              "  }\n",
              "\n",
              "  @keyframes spin {\n",
              "    0% {\n",
              "      border-color: transparent;\n",
              "      border-bottom-color: var(--fill-color);\n",
              "      border-left-color: var(--fill-color);\n",
              "    }\n",
              "    20% {\n",
              "      border-color: transparent;\n",
              "      border-left-color: var(--fill-color);\n",
              "      border-top-color: var(--fill-color);\n",
              "    }\n",
              "    30% {\n",
              "      border-color: transparent;\n",
              "      border-left-color: var(--fill-color);\n",
              "      border-top-color: var(--fill-color);\n",
              "      border-right-color: var(--fill-color);\n",
              "    }\n",
              "    40% {\n",
              "      border-color: transparent;\n",
              "      border-right-color: var(--fill-color);\n",
              "      border-top-color: var(--fill-color);\n",
              "    }\n",
              "    60% {\n",
              "      border-color: transparent;\n",
              "      border-right-color: var(--fill-color);\n",
              "    }\n",
              "    80% {\n",
              "      border-color: transparent;\n",
              "      border-right-color: var(--fill-color);\n",
              "      border-bottom-color: var(--fill-color);\n",
              "    }\n",
              "    90% {\n",
              "      border-color: transparent;\n",
              "      border-bottom-color: var(--fill-color);\n",
              "    }\n",
              "  }\n",
              "</style>\n",
              "\n",
              "  <script>\n",
              "    async function quickchart(key) {\n",
              "      const quickchartButtonEl =\n",
              "        document.querySelector('#' + key + ' button');\n",
              "      quickchartButtonEl.disabled = true;  // To prevent multiple clicks.\n",
              "      quickchartButtonEl.classList.add('colab-df-spinner');\n",
              "      try {\n",
              "        const charts = await google.colab.kernel.invokeFunction(\n",
              "            'suggestCharts', [key], {});\n",
              "      } catch (error) {\n",
              "        console.error('Error during call to suggestCharts:', error);\n",
              "      }\n",
              "      quickchartButtonEl.classList.remove('colab-df-spinner');\n",
              "      quickchartButtonEl.classList.add('colab-df-quickchart-complete');\n",
              "    }\n",
              "    (() => {\n",
              "      let quickchartButtonEl =\n",
              "        document.querySelector('#df-1bb76b78-d7b4-406e-9536-09d9e3da22a9 button');\n",
              "      quickchartButtonEl.style.display =\n",
              "        google.colab.kernel.accessAllowed ? 'block' : 'none';\n",
              "    })();\n",
              "  </script>\n",
              "</div>\n",
              "    </div>\n",
              "  </div>\n"
            ]
          },
          "metadata": {},
          "execution_count": 51
        }
      ]
    },
    {
      "cell_type": "code",
      "source": [
        "combined_df = combined_df.dropna()\n",
        "combined_df"
      ],
      "metadata": {
        "colab": {
          "base_uri": "https://localhost:8080/",
          "height": 444
        },
        "id": "90nF0d6zfUQc",
        "outputId": "8757feaa-5968-4219-a789-a69fb456322e"
      },
      "execution_count": 52,
      "outputs": [
        {
          "output_type": "execute_result",
          "data": {
            "text/plain": [
              "             0         1         2         3         4         5         6  \\\n",
              "0    -0.084629 -0.086259 -0.087777 -0.091364 -0.097254 -0.103141 -0.106066   \n",
              "1    -0.060610 -0.064099 -0.064410 -0.064054 -0.065962 -0.070764 -0.076373   \n",
              "2    -0.134609 -0.137825 -0.138740 -0.137752 -0.135893 -0.133674 -0.130991   \n",
              "3    -0.098681 -0.102220 -0.105067 -0.107234 -0.109938 -0.113952 -0.118432   \n",
              "4    -0.064270 -0.064069 -0.065884 -0.068225 -0.068945 -0.067278 -0.064631   \n",
              "...        ...       ...       ...       ...       ...       ...       ...   \n",
              "2147 -0.222524 -0.216648 -0.210520 -0.204855 -0.200765 -0.199083 -0.199621   \n",
              "2148 -0.150620 -0.154459 -0.157645 -0.158474 -0.155907 -0.150331 -0.143098   \n",
              "2149 -0.093726 -0.103444 -0.116296 -0.127699 -0.133749 -0.132613 -0.124538   \n",
              "2150 -0.093726 -0.103444 -0.116296 -0.127699 -0.133749 -0.132613 -0.124538   \n",
              "2151  0.092845  0.109514  0.128728  0.146785  0.160502  0.168672  0.172429   \n",
              "\n",
              "             7         8         9  ...       351       352       353  \\\n",
              "0    -0.105059 -0.102030 -0.100189  ... -0.057389 -0.053507 -0.050789   \n",
              "1    -0.080141 -0.081362 -0.081650  ... -0.071610 -0.071240 -0.072870   \n",
              "2    -0.128209 -0.126779 -0.128081  ... -0.101131 -0.095199 -0.093669   \n",
              "3    -0.121503 -0.122000 -0.120505  ... -0.092594 -0.091616 -0.092290   \n",
              "4    -0.063559 -0.065856 -0.071169  ... -0.062921 -0.064976 -0.063727   \n",
              "...        ...       ...       ...  ...       ...       ...       ...   \n",
              "2147 -0.201040 -0.201393 -0.198907  ... -0.176903 -0.177045 -0.179303   \n",
              "2148 -0.135579 -0.128666 -0.122919  ... -0.136584 -0.135183 -0.129242   \n",
              "2149 -0.111094 -0.094692 -0.078502  ... -0.092868 -0.095649 -0.097671   \n",
              "2150 -0.111094 -0.094692 -0.078502  ... -0.092868 -0.095649 -0.097671   \n",
              "2151  0.173776  0.173617  0.171396  ...  0.105025  0.097271  0.088398   \n",
              "\n",
              "           354       355       356       357       358       359  label  \n",
              "0    -0.047556 -0.043824 -0.040404 -0.037265 -0.033157 -0.026744      0  \n",
              "1    -0.074870 -0.074901 -0.071919 -0.067006 -0.062299 -0.058989      0  \n",
              "2    -0.094918 -0.096073 -0.095777 -0.095088 -0.095883 -0.098681      0  \n",
              "3    -0.093704 -0.094133 -0.092820 -0.090634 -0.089144 -0.089054      0  \n",
              "4    -0.060054 -0.056991 -0.056945 -0.059586 -0.062326 -0.062642      0  \n",
              "...        ...       ...       ...       ...       ...       ...    ...  \n",
              "2147 -0.182793 -0.186234 -0.188907 -0.190698 -0.191712 -0.192297     47  \n",
              "2148 -0.119443 -0.108552 -0.101140 -0.101928 -0.113305 -0.133274     47  \n",
              "2149 -0.098776 -0.098388 -0.095774 -0.090688 -0.084279 -0.079399     47  \n",
              "2150 -0.098776 -0.098388 -0.095774 -0.090688 -0.084279 -0.079399     47  \n",
              "2151  0.079454  0.070960  0.062222  0.052269  0.041427  0.031746     47  \n",
              "\n",
              "[2026 rows x 361 columns]"
            ],
            "text/html": [
              "\n",
              "  <div id=\"df-097b2f31-a4f8-4e36-a3e7-c6f7e954d266\" class=\"colab-df-container\">\n",
              "    <div>\n",
              "<style scoped>\n",
              "    .dataframe tbody tr th:only-of-type {\n",
              "        vertical-align: middle;\n",
              "    }\n",
              "\n",
              "    .dataframe tbody tr th {\n",
              "        vertical-align: top;\n",
              "    }\n",
              "\n",
              "    .dataframe thead th {\n",
              "        text-align: right;\n",
              "    }\n",
              "</style>\n",
              "<table border=\"1\" class=\"dataframe\">\n",
              "  <thead>\n",
              "    <tr style=\"text-align: right;\">\n",
              "      <th></th>\n",
              "      <th>0</th>\n",
              "      <th>1</th>\n",
              "      <th>2</th>\n",
              "      <th>3</th>\n",
              "      <th>4</th>\n",
              "      <th>5</th>\n",
              "      <th>6</th>\n",
              "      <th>7</th>\n",
              "      <th>8</th>\n",
              "      <th>9</th>\n",
              "      <th>...</th>\n",
              "      <th>351</th>\n",
              "      <th>352</th>\n",
              "      <th>353</th>\n",
              "      <th>354</th>\n",
              "      <th>355</th>\n",
              "      <th>356</th>\n",
              "      <th>357</th>\n",
              "      <th>358</th>\n",
              "      <th>359</th>\n",
              "      <th>label</th>\n",
              "    </tr>\n",
              "  </thead>\n",
              "  <tbody>\n",
              "    <tr>\n",
              "      <th>0</th>\n",
              "      <td>-0.084629</td>\n",
              "      <td>-0.086259</td>\n",
              "      <td>-0.087777</td>\n",
              "      <td>-0.091364</td>\n",
              "      <td>-0.097254</td>\n",
              "      <td>-0.103141</td>\n",
              "      <td>-0.106066</td>\n",
              "      <td>-0.105059</td>\n",
              "      <td>-0.102030</td>\n",
              "      <td>-0.100189</td>\n",
              "      <td>...</td>\n",
              "      <td>-0.057389</td>\n",
              "      <td>-0.053507</td>\n",
              "      <td>-0.050789</td>\n",
              "      <td>-0.047556</td>\n",
              "      <td>-0.043824</td>\n",
              "      <td>-0.040404</td>\n",
              "      <td>-0.037265</td>\n",
              "      <td>-0.033157</td>\n",
              "      <td>-0.026744</td>\n",
              "      <td>0</td>\n",
              "    </tr>\n",
              "    <tr>\n",
              "      <th>1</th>\n",
              "      <td>-0.060610</td>\n",
              "      <td>-0.064099</td>\n",
              "      <td>-0.064410</td>\n",
              "      <td>-0.064054</td>\n",
              "      <td>-0.065962</td>\n",
              "      <td>-0.070764</td>\n",
              "      <td>-0.076373</td>\n",
              "      <td>-0.080141</td>\n",
              "      <td>-0.081362</td>\n",
              "      <td>-0.081650</td>\n",
              "      <td>...</td>\n",
              "      <td>-0.071610</td>\n",
              "      <td>-0.071240</td>\n",
              "      <td>-0.072870</td>\n",
              "      <td>-0.074870</td>\n",
              "      <td>-0.074901</td>\n",
              "      <td>-0.071919</td>\n",
              "      <td>-0.067006</td>\n",
              "      <td>-0.062299</td>\n",
              "      <td>-0.058989</td>\n",
              "      <td>0</td>\n",
              "    </tr>\n",
              "    <tr>\n",
              "      <th>2</th>\n",
              "      <td>-0.134609</td>\n",
              "      <td>-0.137825</td>\n",
              "      <td>-0.138740</td>\n",
              "      <td>-0.137752</td>\n",
              "      <td>-0.135893</td>\n",
              "      <td>-0.133674</td>\n",
              "      <td>-0.130991</td>\n",
              "      <td>-0.128209</td>\n",
              "      <td>-0.126779</td>\n",
              "      <td>-0.128081</td>\n",
              "      <td>...</td>\n",
              "      <td>-0.101131</td>\n",
              "      <td>-0.095199</td>\n",
              "      <td>-0.093669</td>\n",
              "      <td>-0.094918</td>\n",
              "      <td>-0.096073</td>\n",
              "      <td>-0.095777</td>\n",
              "      <td>-0.095088</td>\n",
              "      <td>-0.095883</td>\n",
              "      <td>-0.098681</td>\n",
              "      <td>0</td>\n",
              "    </tr>\n",
              "    <tr>\n",
              "      <th>3</th>\n",
              "      <td>-0.098681</td>\n",
              "      <td>-0.102220</td>\n",
              "      <td>-0.105067</td>\n",
              "      <td>-0.107234</td>\n",
              "      <td>-0.109938</td>\n",
              "      <td>-0.113952</td>\n",
              "      <td>-0.118432</td>\n",
              "      <td>-0.121503</td>\n",
              "      <td>-0.122000</td>\n",
              "      <td>-0.120505</td>\n",
              "      <td>...</td>\n",
              "      <td>-0.092594</td>\n",
              "      <td>-0.091616</td>\n",
              "      <td>-0.092290</td>\n",
              "      <td>-0.093704</td>\n",
              "      <td>-0.094133</td>\n",
              "      <td>-0.092820</td>\n",
              "      <td>-0.090634</td>\n",
              "      <td>-0.089144</td>\n",
              "      <td>-0.089054</td>\n",
              "      <td>0</td>\n",
              "    </tr>\n",
              "    <tr>\n",
              "      <th>4</th>\n",
              "      <td>-0.064270</td>\n",
              "      <td>-0.064069</td>\n",
              "      <td>-0.065884</td>\n",
              "      <td>-0.068225</td>\n",
              "      <td>-0.068945</td>\n",
              "      <td>-0.067278</td>\n",
              "      <td>-0.064631</td>\n",
              "      <td>-0.063559</td>\n",
              "      <td>-0.065856</td>\n",
              "      <td>-0.071169</td>\n",
              "      <td>...</td>\n",
              "      <td>-0.062921</td>\n",
              "      <td>-0.064976</td>\n",
              "      <td>-0.063727</td>\n",
              "      <td>-0.060054</td>\n",
              "      <td>-0.056991</td>\n",
              "      <td>-0.056945</td>\n",
              "      <td>-0.059586</td>\n",
              "      <td>-0.062326</td>\n",
              "      <td>-0.062642</td>\n",
              "      <td>0</td>\n",
              "    </tr>\n",
              "    <tr>\n",
              "      <th>...</th>\n",
              "      <td>...</td>\n",
              "      <td>...</td>\n",
              "      <td>...</td>\n",
              "      <td>...</td>\n",
              "      <td>...</td>\n",
              "      <td>...</td>\n",
              "      <td>...</td>\n",
              "      <td>...</td>\n",
              "      <td>...</td>\n",
              "      <td>...</td>\n",
              "      <td>...</td>\n",
              "      <td>...</td>\n",
              "      <td>...</td>\n",
              "      <td>...</td>\n",
              "      <td>...</td>\n",
              "      <td>...</td>\n",
              "      <td>...</td>\n",
              "      <td>...</td>\n",
              "      <td>...</td>\n",
              "      <td>...</td>\n",
              "      <td>...</td>\n",
              "    </tr>\n",
              "    <tr>\n",
              "      <th>2147</th>\n",
              "      <td>-0.222524</td>\n",
              "      <td>-0.216648</td>\n",
              "      <td>-0.210520</td>\n",
              "      <td>-0.204855</td>\n",
              "      <td>-0.200765</td>\n",
              "      <td>-0.199083</td>\n",
              "      <td>-0.199621</td>\n",
              "      <td>-0.201040</td>\n",
              "      <td>-0.201393</td>\n",
              "      <td>-0.198907</td>\n",
              "      <td>...</td>\n",
              "      <td>-0.176903</td>\n",
              "      <td>-0.177045</td>\n",
              "      <td>-0.179303</td>\n",
              "      <td>-0.182793</td>\n",
              "      <td>-0.186234</td>\n",
              "      <td>-0.188907</td>\n",
              "      <td>-0.190698</td>\n",
              "      <td>-0.191712</td>\n",
              "      <td>-0.192297</td>\n",
              "      <td>47</td>\n",
              "    </tr>\n",
              "    <tr>\n",
              "      <th>2148</th>\n",
              "      <td>-0.150620</td>\n",
              "      <td>-0.154459</td>\n",
              "      <td>-0.157645</td>\n",
              "      <td>-0.158474</td>\n",
              "      <td>-0.155907</td>\n",
              "      <td>-0.150331</td>\n",
              "      <td>-0.143098</td>\n",
              "      <td>-0.135579</td>\n",
              "      <td>-0.128666</td>\n",
              "      <td>-0.122919</td>\n",
              "      <td>...</td>\n",
              "      <td>-0.136584</td>\n",
              "      <td>-0.135183</td>\n",
              "      <td>-0.129242</td>\n",
              "      <td>-0.119443</td>\n",
              "      <td>-0.108552</td>\n",
              "      <td>-0.101140</td>\n",
              "      <td>-0.101928</td>\n",
              "      <td>-0.113305</td>\n",
              "      <td>-0.133274</td>\n",
              "      <td>47</td>\n",
              "    </tr>\n",
              "    <tr>\n",
              "      <th>2149</th>\n",
              "      <td>-0.093726</td>\n",
              "      <td>-0.103444</td>\n",
              "      <td>-0.116296</td>\n",
              "      <td>-0.127699</td>\n",
              "      <td>-0.133749</td>\n",
              "      <td>-0.132613</td>\n",
              "      <td>-0.124538</td>\n",
              "      <td>-0.111094</td>\n",
              "      <td>-0.094692</td>\n",
              "      <td>-0.078502</td>\n",
              "      <td>...</td>\n",
              "      <td>-0.092868</td>\n",
              "      <td>-0.095649</td>\n",
              "      <td>-0.097671</td>\n",
              "      <td>-0.098776</td>\n",
              "      <td>-0.098388</td>\n",
              "      <td>-0.095774</td>\n",
              "      <td>-0.090688</td>\n",
              "      <td>-0.084279</td>\n",
              "      <td>-0.079399</td>\n",
              "      <td>47</td>\n",
              "    </tr>\n",
              "    <tr>\n",
              "      <th>2150</th>\n",
              "      <td>-0.093726</td>\n",
              "      <td>-0.103444</td>\n",
              "      <td>-0.116296</td>\n",
              "      <td>-0.127699</td>\n",
              "      <td>-0.133749</td>\n",
              "      <td>-0.132613</td>\n",
              "      <td>-0.124538</td>\n",
              "      <td>-0.111094</td>\n",
              "      <td>-0.094692</td>\n",
              "      <td>-0.078502</td>\n",
              "      <td>...</td>\n",
              "      <td>-0.092868</td>\n",
              "      <td>-0.095649</td>\n",
              "      <td>-0.097671</td>\n",
              "      <td>-0.098776</td>\n",
              "      <td>-0.098388</td>\n",
              "      <td>-0.095774</td>\n",
              "      <td>-0.090688</td>\n",
              "      <td>-0.084279</td>\n",
              "      <td>-0.079399</td>\n",
              "      <td>47</td>\n",
              "    </tr>\n",
              "    <tr>\n",
              "      <th>2151</th>\n",
              "      <td>0.092845</td>\n",
              "      <td>0.109514</td>\n",
              "      <td>0.128728</td>\n",
              "      <td>0.146785</td>\n",
              "      <td>0.160502</td>\n",
              "      <td>0.168672</td>\n",
              "      <td>0.172429</td>\n",
              "      <td>0.173776</td>\n",
              "      <td>0.173617</td>\n",
              "      <td>0.171396</td>\n",
              "      <td>...</td>\n",
              "      <td>0.105025</td>\n",
              "      <td>0.097271</td>\n",
              "      <td>0.088398</td>\n",
              "      <td>0.079454</td>\n",
              "      <td>0.070960</td>\n",
              "      <td>0.062222</td>\n",
              "      <td>0.052269</td>\n",
              "      <td>0.041427</td>\n",
              "      <td>0.031746</td>\n",
              "      <td>47</td>\n",
              "    </tr>\n",
              "  </tbody>\n",
              "</table>\n",
              "<p>2026 rows × 361 columns</p>\n",
              "</div>\n",
              "    <div class=\"colab-df-buttons\">\n",
              "\n",
              "  <div class=\"colab-df-container\">\n",
              "    <button class=\"colab-df-convert\" onclick=\"convertToInteractive('df-097b2f31-a4f8-4e36-a3e7-c6f7e954d266')\"\n",
              "            title=\"Convert this dataframe to an interactive table.\"\n",
              "            style=\"display:none;\">\n",
              "\n",
              "  <svg xmlns=\"http://www.w3.org/2000/svg\" height=\"24px\" viewBox=\"0 -960 960 960\">\n",
              "    <path d=\"M120-120v-720h720v720H120Zm60-500h600v-160H180v160Zm220 220h160v-160H400v160Zm0 220h160v-160H400v160ZM180-400h160v-160H180v160Zm440 0h160v-160H620v160ZM180-180h160v-160H180v160Zm440 0h160v-160H620v160Z\"/>\n",
              "  </svg>\n",
              "    </button>\n",
              "\n",
              "  <style>\n",
              "    .colab-df-container {\n",
              "      display:flex;\n",
              "      gap: 12px;\n",
              "    }\n",
              "\n",
              "    .colab-df-convert {\n",
              "      background-color: #E8F0FE;\n",
              "      border: none;\n",
              "      border-radius: 50%;\n",
              "      cursor: pointer;\n",
              "      display: none;\n",
              "      fill: #1967D2;\n",
              "      height: 32px;\n",
              "      padding: 0 0 0 0;\n",
              "      width: 32px;\n",
              "    }\n",
              "\n",
              "    .colab-df-convert:hover {\n",
              "      background-color: #E2EBFA;\n",
              "      box-shadow: 0px 1px 2px rgba(60, 64, 67, 0.3), 0px 1px 3px 1px rgba(60, 64, 67, 0.15);\n",
              "      fill: #174EA6;\n",
              "    }\n",
              "\n",
              "    .colab-df-buttons div {\n",
              "      margin-bottom: 4px;\n",
              "    }\n",
              "\n",
              "    [theme=dark] .colab-df-convert {\n",
              "      background-color: #3B4455;\n",
              "      fill: #D2E3FC;\n",
              "    }\n",
              "\n",
              "    [theme=dark] .colab-df-convert:hover {\n",
              "      background-color: #434B5C;\n",
              "      box-shadow: 0px 1px 3px 1px rgba(0, 0, 0, 0.15);\n",
              "      filter: drop-shadow(0px 1px 2px rgba(0, 0, 0, 0.3));\n",
              "      fill: #FFFFFF;\n",
              "    }\n",
              "  </style>\n",
              "\n",
              "    <script>\n",
              "      const buttonEl =\n",
              "        document.querySelector('#df-097b2f31-a4f8-4e36-a3e7-c6f7e954d266 button.colab-df-convert');\n",
              "      buttonEl.style.display =\n",
              "        google.colab.kernel.accessAllowed ? 'block' : 'none';\n",
              "\n",
              "      async function convertToInteractive(key) {\n",
              "        const element = document.querySelector('#df-097b2f31-a4f8-4e36-a3e7-c6f7e954d266');\n",
              "        const dataTable =\n",
              "          await google.colab.kernel.invokeFunction('convertToInteractive',\n",
              "                                                    [key], {});\n",
              "        if (!dataTable) return;\n",
              "\n",
              "        const docLinkHtml = 'Like what you see? Visit the ' +\n",
              "          '<a target=\"_blank\" href=https://colab.research.google.com/notebooks/data_table.ipynb>data table notebook</a>'\n",
              "          + ' to learn more about interactive tables.';\n",
              "        element.innerHTML = '';\n",
              "        dataTable['output_type'] = 'display_data';\n",
              "        await google.colab.output.renderOutput(dataTable, element);\n",
              "        const docLink = document.createElement('div');\n",
              "        docLink.innerHTML = docLinkHtml;\n",
              "        element.appendChild(docLink);\n",
              "      }\n",
              "    </script>\n",
              "  </div>\n",
              "\n",
              "\n",
              "<div id=\"df-b3004bd1-fe1c-467c-8d66-fec8f2e3d2a4\">\n",
              "  <button class=\"colab-df-quickchart\" onclick=\"quickchart('df-b3004bd1-fe1c-467c-8d66-fec8f2e3d2a4')\"\n",
              "            title=\"Suggest charts.\"\n",
              "            style=\"display:none;\">\n",
              "\n",
              "<svg xmlns=\"http://www.w3.org/2000/svg\" height=\"24px\"viewBox=\"0 0 24 24\"\n",
              "     width=\"24px\">\n",
              "    <g>\n",
              "        <path d=\"M19 3H5c-1.1 0-2 .9-2 2v14c0 1.1.9 2 2 2h14c1.1 0 2-.9 2-2V5c0-1.1-.9-2-2-2zM9 17H7v-7h2v7zm4 0h-2V7h2v10zm4 0h-2v-4h2v4z\"/>\n",
              "    </g>\n",
              "</svg>\n",
              "  </button>\n",
              "\n",
              "<style>\n",
              "  .colab-df-quickchart {\n",
              "      --bg-color: #E8F0FE;\n",
              "      --fill-color: #1967D2;\n",
              "      --hover-bg-color: #E2EBFA;\n",
              "      --hover-fill-color: #174EA6;\n",
              "      --disabled-fill-color: #AAA;\n",
              "      --disabled-bg-color: #DDD;\n",
              "  }\n",
              "\n",
              "  [theme=dark] .colab-df-quickchart {\n",
              "      --bg-color: #3B4455;\n",
              "      --fill-color: #D2E3FC;\n",
              "      --hover-bg-color: #434B5C;\n",
              "      --hover-fill-color: #FFFFFF;\n",
              "      --disabled-bg-color: #3B4455;\n",
              "      --disabled-fill-color: #666;\n",
              "  }\n",
              "\n",
              "  .colab-df-quickchart {\n",
              "    background-color: var(--bg-color);\n",
              "    border: none;\n",
              "    border-radius: 50%;\n",
              "    cursor: pointer;\n",
              "    display: none;\n",
              "    fill: var(--fill-color);\n",
              "    height: 32px;\n",
              "    padding: 0;\n",
              "    width: 32px;\n",
              "  }\n",
              "\n",
              "  .colab-df-quickchart:hover {\n",
              "    background-color: var(--hover-bg-color);\n",
              "    box-shadow: 0 1px 2px rgba(60, 64, 67, 0.3), 0 1px 3px 1px rgba(60, 64, 67, 0.15);\n",
              "    fill: var(--button-hover-fill-color);\n",
              "  }\n",
              "\n",
              "  .colab-df-quickchart-complete:disabled,\n",
              "  .colab-df-quickchart-complete:disabled:hover {\n",
              "    background-color: var(--disabled-bg-color);\n",
              "    fill: var(--disabled-fill-color);\n",
              "    box-shadow: none;\n",
              "  }\n",
              "\n",
              "  .colab-df-spinner {\n",
              "    border: 2px solid var(--fill-color);\n",
              "    border-color: transparent;\n",
              "    border-bottom-color: var(--fill-color);\n",
              "    animation:\n",
              "      spin 1s steps(1) infinite;\n",
              "  }\n",
              "\n",
              "  @keyframes spin {\n",
              "    0% {\n",
              "      border-color: transparent;\n",
              "      border-bottom-color: var(--fill-color);\n",
              "      border-left-color: var(--fill-color);\n",
              "    }\n",
              "    20% {\n",
              "      border-color: transparent;\n",
              "      border-left-color: var(--fill-color);\n",
              "      border-top-color: var(--fill-color);\n",
              "    }\n",
              "    30% {\n",
              "      border-color: transparent;\n",
              "      border-left-color: var(--fill-color);\n",
              "      border-top-color: var(--fill-color);\n",
              "      border-right-color: var(--fill-color);\n",
              "    }\n",
              "    40% {\n",
              "      border-color: transparent;\n",
              "      border-right-color: var(--fill-color);\n",
              "      border-top-color: var(--fill-color);\n",
              "    }\n",
              "    60% {\n",
              "      border-color: transparent;\n",
              "      border-right-color: var(--fill-color);\n",
              "    }\n",
              "    80% {\n",
              "      border-color: transparent;\n",
              "      border-right-color: var(--fill-color);\n",
              "      border-bottom-color: var(--fill-color);\n",
              "    }\n",
              "    90% {\n",
              "      border-color: transparent;\n",
              "      border-bottom-color: var(--fill-color);\n",
              "    }\n",
              "  }\n",
              "</style>\n",
              "\n",
              "  <script>\n",
              "    async function quickchart(key) {\n",
              "      const quickchartButtonEl =\n",
              "        document.querySelector('#' + key + ' button');\n",
              "      quickchartButtonEl.disabled = true;  // To prevent multiple clicks.\n",
              "      quickchartButtonEl.classList.add('colab-df-spinner');\n",
              "      try {\n",
              "        const charts = await google.colab.kernel.invokeFunction(\n",
              "            'suggestCharts', [key], {});\n",
              "      } catch (error) {\n",
              "        console.error('Error during call to suggestCharts:', error);\n",
              "      }\n",
              "      quickchartButtonEl.classList.remove('colab-df-spinner');\n",
              "      quickchartButtonEl.classList.add('colab-df-quickchart-complete');\n",
              "    }\n",
              "    (() => {\n",
              "      let quickchartButtonEl =\n",
              "        document.querySelector('#df-b3004bd1-fe1c-467c-8d66-fec8f2e3d2a4 button');\n",
              "      quickchartButtonEl.style.display =\n",
              "        google.colab.kernel.accessAllowed ? 'block' : 'none';\n",
              "    })();\n",
              "  </script>\n",
              "</div>\n",
              "    </div>\n",
              "  </div>\n"
            ]
          },
          "metadata": {},
          "execution_count": 52
        }
      ]
    },
    {
      "cell_type": "code",
      "source": [
        "unique_labels = combined_df['label'].unique()\n",
        "print(unique_labels)"
      ],
      "metadata": {
        "colab": {
          "base_uri": "https://localhost:8080/"
        },
        "id": "Cy20JmTOfYIb",
        "outputId": "9747aa8b-b57a-4da4-9505-f3533cdc43fc"
      },
      "execution_count": 53,
      "outputs": [
        {
          "output_type": "stream",
          "name": "stdout",
          "text": [
            "[ 0  1  2  3  4  5  6  7  8  9 10 11 12 13 14 15 16 17 18 19 20 21 22 23\n",
            " 24 25 26 27 28 29 30 31 32 33 34 35 36 37 38 39 40 41 42 43 44 45 46 47]\n"
          ]
        }
      ]
    },
    {
      "cell_type": "code",
      "source": [
        "from sklearn.model_selection import train_test_split\n",
        "from tensorflow.keras.utils import to_categorical\n",
        "import tensorflow as tf\n",
        "from tensorflow.keras.layers import Input, Conv1D, BatchNormalization, Activation, SpatialDropout1D, GlobalAveragePooling1D, Dense\n",
        "from tensorflow.keras.models import Model"
      ],
      "metadata": {
        "id": "JZgnB9mgfkch"
      },
      "execution_count": 54,
      "outputs": []
    },
    {
      "cell_type": "code",
      "source": [
        "train_data = []\n",
        "test_data = []\n",
        "\n",
        "for label in combined_df['label'].unique():\n",
        "  label_data = combined_df[combined_df['label'] == label]\n",
        "\n",
        "  train_subset, test_subset = train_test_split(label_data, test_size = 0.2, random_state = 42)\n",
        "\n",
        "  train_data.append(train_subset)\n",
        "  test_data.append(test_subset)\n",
        "\n",
        "\n",
        "train_data = pd.concat(train_data, ignore_index=True)\n",
        "test_data = pd.concat(test_data, ignore_index=True)\n",
        "\n",
        "X_train = train_data.drop(columns=['label'])\n",
        "y_train = train_data['label']\n",
        "\n",
        "X_test = test_data.drop(columns=['label'])\n",
        "y_test = test_data['label']\n"
      ],
      "metadata": {
        "id": "4rLX6-PefmuY"
      },
      "execution_count": 56,
      "outputs": []
    },
    {
      "cell_type": "code",
      "source": [
        "X_train = np.array(X_train)\n",
        "X_test = np.array(X_test)\n",
        "y_train = np.array(y_train)\n",
        "y_test = np.array(y_test)\n",
        "\n",
        "y_train = to_categorical(y_train)\n",
        "y_test = to_categorical(y_test)\n",
        "\n",
        "X_train = X_train.reshape(X_train.shape[0], 1, X_train.shape[1])\n",
        "X_test = X_test.reshape(X_test.shape[0], 1, X_test.shape[1])"
      ],
      "metadata": {
        "id": "c9_S18YTsmTW"
      },
      "execution_count": 57,
      "outputs": []
    },
    {
      "cell_type": "code",
      "source": [
        "def residual_block(x, dilation_rate, nb_filters, kernel_size, padding, dropout_rate=0.0):\n",
        "    # 첫 번째 컨볼루션 레이어\n",
        "    x_res = Conv1D(filters=nb_filters, kernel_size=1, padding='same')(x)\n",
        "    x_res = BatchNormalization()(x_res)\n",
        "    x_res = Activation('relu')(x_res)\n",
        "\n",
        "    # 두 번째 컨볼루션 레이어\n",
        "    x = Conv1D(filters=nb_filters, kernel_size=kernel_size,\n",
        "               dilation_rate=dilation_rate, padding=padding)(x)\n",
        "    x = BatchNormalization()(x)\n",
        "    x = Activation('relu')(x)\n",
        "    x = SpatialDropout1D(dropout_rate)(x)\n",
        "\n",
        "    # 세 번째 컨볼루션 레이어\n",
        "    x = Conv1D(filters=nb_filters, kernel_size=kernel_size,\n",
        "               dilation_rate=dilation_rate, padding=padding)(x)\n",
        "    x = BatchNormalization()(x)\n",
        "    x = Activation('relu')(x)\n",
        "    x = SpatialDropout1D(dropout_rate)(x)\n",
        "\n",
        "    # 스킵 연결 추가\n",
        "    x = tf.keras.layers.add([x_res, x])\n",
        "\n",
        "    return x\n",
        "\n",
        "\n",
        "def TCN(nb_filters, kernel_size, dilations, padding, dropout_rate):\n",
        "    # 입력 레이어\n",
        "    inputs = Input(shape=(1,360))\n",
        "\n",
        "    # 임베딩 레이어\n",
        "    x = Conv1D(filters=nb_filters, kernel_size=1, padding='same')(inputs)\n",
        "    x = BatchNormalization()(x)\n",
        "    x = Activation('relu')(x)\n",
        "\n",
        "    # residual blocks 쌓기\n",
        "    for dilation_rate in dilations:\n",
        "        x = residual_block(x, dilation_rate, nb_filters, kernel_size, padding, dropout_rate)\n",
        "\n",
        "    # Global Average Pooling 레이어\n",
        "    x = GlobalAveragePooling1D()(x)\n",
        "\n",
        "    # 출력 레이어\n",
        "    outputs = Dense(units=48, activation='softmax')(x)\n",
        "\n",
        "    # 모델 생성\n",
        "    model = Model(inputs=inputs, outputs=outputs)\n",
        "\n",
        "    return model\n",
        "\n",
        ""
      ],
      "metadata": {
        "id": "gKi_8G_rtBIk"
      },
      "execution_count": 58,
      "outputs": []
    },
    {
      "cell_type": "code",
      "source": [
        "nb_filters = 256  # 컨볼루션 필터 수\n",
        "kernel_size = 2  # 컨볼루션 필터 크기\n",
        "dilations = [2 ** i for i in range(1)] * 2  # dilation rate\n",
        "padding = 'same'\n",
        "dropout_rate = 0.4  # dropout 비율\n",
        "\n",
        "# 모델 생성\n",
        "model = TCN(nb_filters, kernel_size, dilations, padding, dropout_rate)\n",
        "\n",
        "# 모델 컴파일\n",
        "model.compile(optimizer='adam', loss='categorical_crossentropy', metrics=['accuracy'])\n",
        "\n",
        "# model.summary()\n",
        "# 모델 훈련\n",
        "history = model.fit(X_train, y_train, batch_size=256, epochs=100, validation_data=(X_test, y_test))"
      ],
      "metadata": {
        "colab": {
          "base_uri": "https://localhost:8080/"
        },
        "id": "Ata6xkXtt2XI",
        "outputId": "9e87f447-bee6-4eae-be9b-7278c8245b56"
      },
      "execution_count": 59,
      "outputs": [
        {
          "output_type": "stream",
          "name": "stdout",
          "text": [
            "Epoch 1/100\n",
            "7/7 [==============================] - 16s 126ms/step - loss: 3.8726 - accuracy: 0.1462 - val_loss: 3.5929 - val_accuracy: 0.0988\n",
            "Epoch 2/100\n",
            "7/7 [==============================] - 0s 18ms/step - loss: 2.1237 - accuracy: 0.5147 - val_loss: 3.3807 - val_accuracy: 0.1788\n",
            "Epoch 3/100\n",
            "7/7 [==============================] - 0s 18ms/step - loss: 1.3601 - accuracy: 0.7039 - val_loss: 3.1998 - val_accuracy: 0.3953\n",
            "Epoch 4/100\n",
            "7/7 [==============================] - 0s 18ms/step - loss: 0.8895 - accuracy: 0.8232 - val_loss: 3.0316 - val_accuracy: 0.5741\n",
            "Epoch 5/100\n",
            "7/7 [==============================] - 0s 17ms/step - loss: 0.6136 - accuracy: 0.8819 - val_loss: 2.8631 - val_accuracy: 0.6141\n",
            "Epoch 6/100\n",
            "7/7 [==============================] - 0s 18ms/step - loss: 0.4236 - accuracy: 0.9225 - val_loss: 2.6916 - val_accuracy: 0.6612\n",
            "Epoch 7/100\n",
            "7/7 [==============================] - 0s 19ms/step - loss: 0.3062 - accuracy: 0.9494 - val_loss: 2.5306 - val_accuracy: 0.6588\n",
            "Epoch 8/100\n",
            "7/7 [==============================] - 0s 19ms/step - loss: 0.2436 - accuracy: 0.9513 - val_loss: 2.3862 - val_accuracy: 0.6518\n",
            "Epoch 9/100\n",
            "7/7 [==============================] - 0s 18ms/step - loss: 0.1929 - accuracy: 0.9694 - val_loss: 2.2282 - val_accuracy: 0.6635\n",
            "Epoch 10/100\n",
            "7/7 [==============================] - 0s 18ms/step - loss: 0.1495 - accuracy: 0.9725 - val_loss: 2.0618 - val_accuracy: 0.6847\n",
            "Epoch 11/100\n",
            "7/7 [==============================] - 0s 16ms/step - loss: 0.1299 - accuracy: 0.9738 - val_loss: 1.8906 - val_accuracy: 0.6824\n",
            "Epoch 12/100\n",
            "7/7 [==============================] - 0s 18ms/step - loss: 0.1034 - accuracy: 0.9813 - val_loss: 1.7234 - val_accuracy: 0.7153\n",
            "Epoch 13/100\n",
            "7/7 [==============================] - 0s 16ms/step - loss: 0.0842 - accuracy: 0.9894 - val_loss: 1.5920 - val_accuracy: 0.7153\n",
            "Epoch 14/100\n",
            "7/7 [==============================] - 0s 17ms/step - loss: 0.0827 - accuracy: 0.9881 - val_loss: 1.4802 - val_accuracy: 0.7200\n",
            "Epoch 15/100\n",
            "7/7 [==============================] - 0s 20ms/step - loss: 0.0659 - accuracy: 0.9944 - val_loss: 1.3728 - val_accuracy: 0.7176\n",
            "Epoch 16/100\n",
            "7/7 [==============================] - 0s 18ms/step - loss: 0.0555 - accuracy: 0.9925 - val_loss: 1.2172 - val_accuracy: 0.7506\n",
            "Epoch 17/100\n",
            "7/7 [==============================] - 0s 18ms/step - loss: 0.0471 - accuracy: 0.9956 - val_loss: 1.0774 - val_accuracy: 0.7929\n",
            "Epoch 18/100\n",
            "7/7 [==============================] - 0s 17ms/step - loss: 0.0432 - accuracy: 0.9944 - val_loss: 0.9682 - val_accuracy: 0.8212\n",
            "Epoch 19/100\n",
            "7/7 [==============================] - 0s 19ms/step - loss: 0.0410 - accuracy: 0.9944 - val_loss: 0.8933 - val_accuracy: 0.8188\n",
            "Epoch 20/100\n",
            "7/7 [==============================] - 0s 17ms/step - loss: 0.0341 - accuracy: 0.9963 - val_loss: 0.8160 - val_accuracy: 0.8212\n",
            "Epoch 21/100\n",
            "7/7 [==============================] - 0s 18ms/step - loss: 0.0348 - accuracy: 0.9956 - val_loss: 0.7252 - val_accuracy: 0.8471\n",
            "Epoch 22/100\n",
            "7/7 [==============================] - 0s 16ms/step - loss: 0.0309 - accuracy: 0.9981 - val_loss: 0.6536 - val_accuracy: 0.8612\n",
            "Epoch 23/100\n",
            "7/7 [==============================] - 0s 20ms/step - loss: 0.0301 - accuracy: 0.9956 - val_loss: 0.5779 - val_accuracy: 0.8824\n",
            "Epoch 24/100\n",
            "7/7 [==============================] - 0s 19ms/step - loss: 0.0212 - accuracy: 0.9994 - val_loss: 0.5100 - val_accuracy: 0.9012\n",
            "Epoch 25/100\n",
            "7/7 [==============================] - 0s 19ms/step - loss: 0.0228 - accuracy: 0.9975 - val_loss: 0.4465 - val_accuracy: 0.9224\n",
            "Epoch 26/100\n",
            "7/7 [==============================] - 0s 19ms/step - loss: 0.0203 - accuracy: 0.9981 - val_loss: 0.3938 - val_accuracy: 0.9294\n",
            "Epoch 27/100\n",
            "7/7 [==============================] - 0s 17ms/step - loss: 0.0214 - accuracy: 0.9981 - val_loss: 0.3629 - val_accuracy: 0.9294\n",
            "Epoch 28/100\n",
            "7/7 [==============================] - 0s 20ms/step - loss: 0.0180 - accuracy: 0.9994 - val_loss: 0.3477 - val_accuracy: 0.9176\n",
            "Epoch 29/100\n",
            "7/7 [==============================] - 0s 19ms/step - loss: 0.0185 - accuracy: 0.9981 - val_loss: 0.3221 - val_accuracy: 0.9247\n",
            "Epoch 30/100\n",
            "7/7 [==============================] - 0s 17ms/step - loss: 0.0158 - accuracy: 0.9994 - val_loss: 0.2957 - val_accuracy: 0.9388\n",
            "Epoch 31/100\n",
            "7/7 [==============================] - 0s 18ms/step - loss: 0.0148 - accuracy: 0.9988 - val_loss: 0.2760 - val_accuracy: 0.9388\n",
            "Epoch 32/100\n",
            "7/7 [==============================] - 0s 22ms/step - loss: 0.0157 - accuracy: 0.9963 - val_loss: 0.2524 - val_accuracy: 0.9435\n",
            "Epoch 33/100\n",
            "7/7 [==============================] - 0s 16ms/step - loss: 0.0168 - accuracy: 0.9981 - val_loss: 0.2348 - val_accuracy: 0.9482\n",
            "Epoch 34/100\n",
            "7/7 [==============================] - 0s 17ms/step - loss: 0.0159 - accuracy: 0.9994 - val_loss: 0.2301 - val_accuracy: 0.9482\n",
            "Epoch 35/100\n",
            "7/7 [==============================] - 0s 18ms/step - loss: 0.0146 - accuracy: 0.9994 - val_loss: 0.2165 - val_accuracy: 0.9506\n",
            "Epoch 36/100\n",
            "7/7 [==============================] - 0s 19ms/step - loss: 0.0126 - accuracy: 0.9994 - val_loss: 0.1979 - val_accuracy: 0.9553\n",
            "Epoch 37/100\n",
            "7/7 [==============================] - 0s 16ms/step - loss: 0.0135 - accuracy: 0.9981 - val_loss: 0.1964 - val_accuracy: 0.9553\n",
            "Epoch 38/100\n",
            "7/7 [==============================] - 0s 16ms/step - loss: 0.0109 - accuracy: 1.0000 - val_loss: 0.1889 - val_accuracy: 0.9600\n",
            "Epoch 39/100\n",
            "7/7 [==============================] - 0s 17ms/step - loss: 0.0139 - accuracy: 0.9981 - val_loss: 0.1846 - val_accuracy: 0.9624\n",
            "Epoch 40/100\n",
            "7/7 [==============================] - 0s 21ms/step - loss: 0.0129 - accuracy: 0.9981 - val_loss: 0.1851 - val_accuracy: 0.9576\n",
            "Epoch 41/100\n",
            "7/7 [==============================] - 0s 19ms/step - loss: 0.0138 - accuracy: 0.9981 - val_loss: 0.1891 - val_accuracy: 0.9576\n",
            "Epoch 42/100\n",
            "7/7 [==============================] - 0s 20ms/step - loss: 0.0101 - accuracy: 1.0000 - val_loss: 0.1857 - val_accuracy: 0.9600\n",
            "Epoch 43/100\n",
            "7/7 [==============================] - 0s 17ms/step - loss: 0.0118 - accuracy: 0.9981 - val_loss: 0.1836 - val_accuracy: 0.9600\n",
            "Epoch 44/100\n",
            "7/7 [==============================] - 0s 17ms/step - loss: 0.0087 - accuracy: 1.0000 - val_loss: 0.1806 - val_accuracy: 0.9553\n",
            "Epoch 45/100\n",
            "7/7 [==============================] - 0s 16ms/step - loss: 0.0107 - accuracy: 0.9994 - val_loss: 0.1753 - val_accuracy: 0.9576\n",
            "Epoch 46/100\n",
            "7/7 [==============================] - 0s 17ms/step - loss: 0.0087 - accuracy: 0.9994 - val_loss: 0.1745 - val_accuracy: 0.9624\n",
            "Epoch 47/100\n",
            "7/7 [==============================] - 0s 17ms/step - loss: 0.0117 - accuracy: 0.9981 - val_loss: 0.1833 - val_accuracy: 0.9624\n",
            "Epoch 48/100\n",
            "7/7 [==============================] - 0s 19ms/step - loss: 0.0065 - accuracy: 1.0000 - val_loss: 0.1807 - val_accuracy: 0.9624\n",
            "Epoch 49/100\n",
            "7/7 [==============================] - 0s 17ms/step - loss: 0.0073 - accuracy: 0.9988 - val_loss: 0.1778 - val_accuracy: 0.9576\n",
            "Epoch 50/100\n",
            "7/7 [==============================] - 0s 19ms/step - loss: 0.0059 - accuracy: 1.0000 - val_loss: 0.1762 - val_accuracy: 0.9576\n",
            "Epoch 51/100\n",
            "7/7 [==============================] - 0s 18ms/step - loss: 0.0073 - accuracy: 0.9994 - val_loss: 0.1774 - val_accuracy: 0.9553\n",
            "Epoch 52/100\n",
            "7/7 [==============================] - 0s 17ms/step - loss: 0.0066 - accuracy: 1.0000 - val_loss: 0.1788 - val_accuracy: 0.9576\n",
            "Epoch 53/100\n",
            "7/7 [==============================] - 0s 17ms/step - loss: 0.0056 - accuracy: 1.0000 - val_loss: 0.1765 - val_accuracy: 0.9647\n",
            "Epoch 54/100\n",
            "7/7 [==============================] - 0s 18ms/step - loss: 0.0043 - accuracy: 1.0000 - val_loss: 0.1768 - val_accuracy: 0.9671\n",
            "Epoch 55/100\n",
            "7/7 [==============================] - 0s 16ms/step - loss: 0.0046 - accuracy: 1.0000 - val_loss: 0.1771 - val_accuracy: 0.9647\n",
            "Epoch 56/100\n",
            "7/7 [==============================] - 0s 19ms/step - loss: 0.0037 - accuracy: 1.0000 - val_loss: 0.1768 - val_accuracy: 0.9647\n",
            "Epoch 57/100\n",
            "7/7 [==============================] - 0s 18ms/step - loss: 0.0034 - accuracy: 1.0000 - val_loss: 0.1785 - val_accuracy: 0.9671\n",
            "Epoch 58/100\n",
            "7/7 [==============================] - 0s 16ms/step - loss: 0.0029 - accuracy: 1.0000 - val_loss: 0.1783 - val_accuracy: 0.9671\n",
            "Epoch 59/100\n",
            "7/7 [==============================] - 0s 18ms/step - loss: 0.0031 - accuracy: 1.0000 - val_loss: 0.1780 - val_accuracy: 0.9671\n",
            "Epoch 60/100\n",
            "7/7 [==============================] - 0s 20ms/step - loss: 0.0028 - accuracy: 1.0000 - val_loss: 0.1792 - val_accuracy: 0.9647\n",
            "Epoch 61/100\n",
            "7/7 [==============================] - 0s 15ms/step - loss: 0.0038 - accuracy: 1.0000 - val_loss: 0.1795 - val_accuracy: 0.9647\n",
            "Epoch 62/100\n",
            "7/7 [==============================] - 0s 16ms/step - loss: 0.0031 - accuracy: 1.0000 - val_loss: 0.1780 - val_accuracy: 0.9647\n",
            "Epoch 63/100\n",
            "7/7 [==============================] - 0s 17ms/step - loss: 0.0047 - accuracy: 1.0000 - val_loss: 0.1772 - val_accuracy: 0.9647\n",
            "Epoch 64/100\n",
            "7/7 [==============================] - 0s 16ms/step - loss: 0.0038 - accuracy: 1.0000 - val_loss: 0.1751 - val_accuracy: 0.9647\n",
            "Epoch 65/100\n",
            "7/7 [==============================] - 0s 16ms/step - loss: 0.0026 - accuracy: 1.0000 - val_loss: 0.1778 - val_accuracy: 0.9647\n",
            "Epoch 66/100\n",
            "7/7 [==============================] - 0s 20ms/step - loss: 0.0044 - accuracy: 1.0000 - val_loss: 0.1792 - val_accuracy: 0.9647\n",
            "Epoch 67/100\n",
            "7/7 [==============================] - 0s 26ms/step - loss: 0.0038 - accuracy: 0.9994 - val_loss: 0.1760 - val_accuracy: 0.9647\n",
            "Epoch 68/100\n",
            "7/7 [==============================] - 0s 23ms/step - loss: 0.0032 - accuracy: 1.0000 - val_loss: 0.1736 - val_accuracy: 0.9624\n",
            "Epoch 69/100\n",
            "7/7 [==============================] - 0s 30ms/step - loss: 0.0057 - accuracy: 0.9988 - val_loss: 0.1742 - val_accuracy: 0.9624\n",
            "Epoch 70/100\n",
            "7/7 [==============================] - 0s 22ms/step - loss: 0.0030 - accuracy: 1.0000 - val_loss: 0.1763 - val_accuracy: 0.9647\n",
            "Epoch 71/100\n",
            "7/7 [==============================] - 0s 23ms/step - loss: 0.0038 - accuracy: 1.0000 - val_loss: 0.1806 - val_accuracy: 0.9647\n",
            "Epoch 72/100\n",
            "7/7 [==============================] - 0s 28ms/step - loss: 0.0035 - accuracy: 0.9994 - val_loss: 0.1810 - val_accuracy: 0.9647\n",
            "Epoch 73/100\n",
            "7/7 [==============================] - 0s 23ms/step - loss: 0.0049 - accuracy: 0.9988 - val_loss: 0.1796 - val_accuracy: 0.9647\n",
            "Epoch 74/100\n",
            "7/7 [==============================] - 0s 25ms/step - loss: 0.0037 - accuracy: 0.9994 - val_loss: 0.1729 - val_accuracy: 0.9647\n",
            "Epoch 75/100\n",
            "7/7 [==============================] - 0s 26ms/step - loss: 0.0070 - accuracy: 0.9988 - val_loss: 0.1696 - val_accuracy: 0.9647\n",
            "Epoch 76/100\n",
            "7/7 [==============================] - 0s 23ms/step - loss: 0.0067 - accuracy: 0.9994 - val_loss: 0.1836 - val_accuracy: 0.9647\n",
            "Epoch 77/100\n",
            "7/7 [==============================] - 0s 25ms/step - loss: 0.0042 - accuracy: 0.9994 - val_loss: 0.1788 - val_accuracy: 0.9694\n",
            "Epoch 78/100\n",
            "7/7 [==============================] - 0s 30ms/step - loss: 0.0031 - accuracy: 1.0000 - val_loss: 0.1789 - val_accuracy: 0.9671\n",
            "Epoch 79/100\n",
            "7/7 [==============================] - 0s 25ms/step - loss: 0.0057 - accuracy: 0.9988 - val_loss: 0.1911 - val_accuracy: 0.9600\n",
            "Epoch 80/100\n",
            "7/7 [==============================] - 0s 23ms/step - loss: 0.0054 - accuracy: 0.9994 - val_loss: 0.1770 - val_accuracy: 0.9694\n",
            "Epoch 81/100\n",
            "7/7 [==============================] - 0s 24ms/step - loss: 0.0067 - accuracy: 0.9988 - val_loss: 0.1786 - val_accuracy: 0.9741\n",
            "Epoch 82/100\n",
            "7/7 [==============================] - 0s 24ms/step - loss: 0.0043 - accuracy: 1.0000 - val_loss: 0.1776 - val_accuracy: 0.9741\n",
            "Epoch 83/100\n",
            "7/7 [==============================] - 0s 24ms/step - loss: 0.0051 - accuracy: 0.9994 - val_loss: 0.1788 - val_accuracy: 0.9718\n",
            "Epoch 84/100\n",
            "7/7 [==============================] - 0s 31ms/step - loss: 0.0034 - accuracy: 1.0000 - val_loss: 0.1833 - val_accuracy: 0.9694\n",
            "Epoch 85/100\n",
            "7/7 [==============================] - 0s 22ms/step - loss: 0.0087 - accuracy: 0.9988 - val_loss: 0.1924 - val_accuracy: 0.9671\n",
            "Epoch 86/100\n",
            "7/7 [==============================] - 0s 24ms/step - loss: 0.0208 - accuracy: 0.9963 - val_loss: 0.2508 - val_accuracy: 0.9671\n",
            "Epoch 87/100\n",
            "7/7 [==============================] - 0s 26ms/step - loss: 0.0182 - accuracy: 0.9956 - val_loss: 0.2222 - val_accuracy: 0.9553\n",
            "Epoch 88/100\n",
            "7/7 [==============================] - 0s 24ms/step - loss: 0.0248 - accuracy: 0.9938 - val_loss: 0.2517 - val_accuracy: 0.9506\n",
            "Epoch 89/100\n",
            "7/7 [==============================] - 0s 26ms/step - loss: 0.0245 - accuracy: 0.9950 - val_loss: 0.2244 - val_accuracy: 0.9600\n",
            "Epoch 90/100\n",
            "7/7 [==============================] - 0s 21ms/step - loss: 0.0197 - accuracy: 0.9963 - val_loss: 0.2295 - val_accuracy: 0.9600\n",
            "Epoch 91/100\n",
            "7/7 [==============================] - 0s 19ms/step - loss: 0.0227 - accuracy: 0.9950 - val_loss: 0.2155 - val_accuracy: 0.9694\n",
            "Epoch 92/100\n",
            "7/7 [==============================] - 0s 18ms/step - loss: 0.0209 - accuracy: 0.9969 - val_loss: 0.2409 - val_accuracy: 0.9506\n",
            "Epoch 93/100\n",
            "7/7 [==============================] - 0s 17ms/step - loss: 0.0225 - accuracy: 0.9956 - val_loss: 0.2095 - val_accuracy: 0.9671\n",
            "Epoch 94/100\n",
            "7/7 [==============================] - 0s 17ms/step - loss: 0.0157 - accuracy: 0.9969 - val_loss: 0.1986 - val_accuracy: 0.9671\n",
            "Epoch 95/100\n",
            "7/7 [==============================] - 0s 20ms/step - loss: 0.0149 - accuracy: 0.9956 - val_loss: 0.1779 - val_accuracy: 0.9741\n",
            "Epoch 96/100\n",
            "7/7 [==============================] - 0s 19ms/step - loss: 0.0150 - accuracy: 0.9950 - val_loss: 0.1754 - val_accuracy: 0.9788\n",
            "Epoch 97/100\n",
            "7/7 [==============================] - 0s 17ms/step - loss: 0.0133 - accuracy: 0.9969 - val_loss: 0.1695 - val_accuracy: 0.9765\n",
            "Epoch 98/100\n",
            "7/7 [==============================] - 0s 19ms/step - loss: 0.0075 - accuracy: 0.9994 - val_loss: 0.2032 - val_accuracy: 0.9718\n",
            "Epoch 99/100\n",
            "7/7 [==============================] - 0s 17ms/step - loss: 0.0074 - accuracy: 1.0000 - val_loss: 0.2176 - val_accuracy: 0.9694\n",
            "Epoch 100/100\n",
            "7/7 [==============================] - 0s 18ms/step - loss: 0.0070 - accuracy: 0.9988 - val_loss: 0.2049 - val_accuracy: 0.9718\n"
          ]
        }
      ]
    },
    {
      "cell_type": "code",
      "source": [
        "train_acc = max(history.history['accuracy'])\n",
        "print(f'best train accuracy: {train_acc}')\n",
        "\n",
        "val_acc = max(history.history['val_accuracy'])\n",
        "print(f'best val accuracy: {val_acc}')"
      ],
      "metadata": {
        "colab": {
          "base_uri": "https://localhost:8080/"
        },
        "id": "aUboaykPuPa4",
        "outputId": "d1e26ae7-a3a3-4623-e2b1-9ee926e3f7d2"
      },
      "execution_count": 60,
      "outputs": [
        {
          "output_type": "stream",
          "name": "stdout",
          "text": [
            "best train accuracy: 1.0\n",
            "best val accuracy: 0.9788235425949097\n"
          ]
        }
      ]
    }
  ]
}