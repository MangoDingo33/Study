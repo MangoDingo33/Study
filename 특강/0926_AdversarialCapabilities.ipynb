{
  "nbformat": 4,
  "nbformat_minor": 0,
  "metadata": {
    "colab": {
      "provenance": [],
      "gpuType": "T4",
      "authorship_tag": "ABX9TyOn3rlD30fkvgGBlOh/9XUQ",
      "include_colab_link": true
    },
    "kernelspec": {
      "name": "python3",
      "display_name": "Python 3"
    },
    "language_info": {
      "name": "python"
    },
    "accelerator": "GPU"
  },
  "cells": [
    {
      "cell_type": "markdown",
      "metadata": {
        "id": "view-in-github",
        "colab_type": "text"
      },
      "source": [
        "<a href=\"https://colab.research.google.com/github/MangoDingo33/Study/blob/main/%ED%8A%B9%EA%B0%95/0926_AdversarialCapabilities.ipynb\" target=\"_parent\"><img src=\"https://colab.research.google.com/assets/colab-badge.svg\" alt=\"Open In Colab\"/></a>"
      ]
    },
    {
      "cell_type": "code",
      "source": [
        "from google.colab import drive\n",
        "drive.mount('/content/drive')"
      ],
      "metadata": {
        "colab": {
          "base_uri": "https://localhost:8080/"
        },
        "id": "hXFEHJEtB0z8",
        "outputId": "234ca852-6812-42b1-b122-6bc73815037f"
      },
      "execution_count": null,
      "outputs": [
        {
          "output_type": "stream",
          "name": "stdout",
          "text": [
            "Mounted at /content/drive\n"
          ]
        }
      ]
    },
    {
      "cell_type": "code",
      "source": [
        "%load_ext tensorboard\n",
        "\n",
        "import torch\n",
        "import torch.nn as nn\n",
        "import torch.optim as optim\n",
        "import torchvision\n",
        "from torch.utils.data import DataLoader\n",
        "from torchvision import models, transforms\n",
        "from tqdm import tqdm"
      ],
      "metadata": {
        "id": "ihsSOfwzCRmo"
      },
      "execution_count": null,
      "outputs": []
    },
    {
      "cell_type": "code",
      "source": [
        "trans = transforms.Compose([transforms.Resize((224, 224)), transforms.ToTensor()])\n",
        "\n",
        "trans_train = transforms.Compose([transforms.Resize((224, 224)),\n",
        "                                  transforms.RandomHorizontalFlip(p = 0.5),\n",
        "                                  transforms.RandomRotation(degrees = (-90, 90)),\n",
        "                                  transforms.RandomVerticalFlip(p = 0.5),\n",
        "                                  transforms.ToTensor()])"
      ],
      "metadata": {
        "id": "kDcD_txUC_OV"
      },
      "execution_count": null,
      "outputs": []
    },
    {
      "cell_type": "code",
      "source": [
        "def save_checkpoint(model, filename):\n",
        "  torch.save(model.state_dict(), filename)\n",
        "\n",
        "train_set = torchvision.datasets.CIFAR10(\n",
        "    root = './data', train = True, download = True, transform= trans_train)\n",
        "test_set = torchvision.datasets.CIFAR10(\n",
        "    root = './data', train = False, download= True, transform = trans)\n",
        "\n",
        "trainloader = torch.utils.data.DataLoader(\n",
        "    train_set, batch_size = 32, shuffle = True)\n",
        "testloader = torch.utils.data.DataLoader(\n",
        "    test_set, batch_size = 32, shuffle = False)"
      ],
      "metadata": {
        "colab": {
          "base_uri": "https://localhost:8080/"
        },
        "id": "LIfS_qGAEJNw",
        "outputId": "c35dd4f2-e0cb-452b-fe30-2ced7cad51e4"
      },
      "execution_count": null,
      "outputs": [
        {
          "output_type": "stream",
          "name": "stdout",
          "text": [
            "Downloading https://www.cs.toronto.edu/~kriz/cifar-10-python.tar.gz to ./data/cifar-10-python.tar.gz\n"
          ]
        },
        {
          "output_type": "stream",
          "name": "stderr",
          "text": [
            "100%|██████████| 170498071/170498071 [00:13<00:00, 12182275.65it/s]\n"
          ]
        },
        {
          "output_type": "stream",
          "name": "stdout",
          "text": [
            "Extracting ./data/cifar-10-python.tar.gz to ./data\n",
            "Files already downloaded and verified\n"
          ]
        }
      ]
    },
    {
      "cell_type": "code",
      "source": [
        "model = models.resnet50(pretrained = True)\n",
        "\n",
        "num_classes = 10\n",
        "num_ftrs = model.fc.in_features\n",
        "model.fc = nn.Linear(num_ftrs, num_classes)\n",
        "\n",
        "device = torch.device(\"cuda:0\" if torch.cuda.is_available() else 'cpu')\n",
        "model = model.to(device)\n",
        "\n",
        "criterion = nn.CrossEntropyLoss()\n",
        "optimizer = torch.optim.Adam(model.parameters(), lr = 1e-4)\n",
        "scheduler = torch.optim.lr_scheduler.CosineAnnealingLR(optimizer, T_max = 50, eta_min = 0)"
      ],
      "metadata": {
        "id": "Chpg9QnCFz1P"
      },
      "execution_count": null,
      "outputs": []
    },
    {
      "cell_type": "code",
      "source": [
        "h_acc = 0\n",
        "n = 2\n",
        "\n",
        "for epoch in range(n):\n",
        "  loop = tqdm(enumerate(trainloader), total = len(trainloader))\n",
        "  total_loss = 0\n",
        "  total_correct = 0\n",
        "  model.train()\n",
        "  for i, data in loop:\n",
        "    inputs, labels = data\n",
        "    inputs = inputs.to(device)\n",
        "    labels = labels.to(device)\n",
        "\n",
        "    optimizer.zero_grad()\n",
        "    outputs = model(inputs)\n",
        "\n",
        "    loss = criterion(outputs, labels)\n",
        "    loss.backward()\n",
        "    optimizer.step()\n",
        "    _, predicted = torch.max(outputs, 1)\n",
        "\n",
        "    train_loss = loss.item()\n",
        "    train_correct = torch.sum(predicted == labels.data).item()\n",
        "\n",
        "    loop.set_description(f\"Epoch [{epoch + 1}/{n}]\")\n",
        "    loop.set_postfix(loss = train_loss, acc = train_correct / len(labels))\n",
        "\n",
        "    total_loss += train_loss\n",
        "    total_correct += train_correct\n",
        "\n",
        "scheduler.step()\n",
        "\n",
        "e_loss = total_loss / len(train_set)\n",
        "e_acc = total_correct / len(train_set)"
      ],
      "metadata": {
        "colab": {
          "base_uri": "https://localhost:8080/"
        },
        "id": "th-XYpvXHFkH",
        "outputId": "67aca543-878f-4054-e86a-b9a69bff09ee"
      },
      "execution_count": null,
      "outputs": [
        {
          "output_type": "stream",
          "name": "stderr",
          "text": [
            "Epoch [1/2]: 100%|██████████| 1563/1563 [10:02<00:00,  2.59it/s, acc=0.938, loss=0.425]\n",
            "Epoch [2/2]: 100%|██████████| 1563/1563 [09:59<00:00,  2.61it/s, acc=0.562, loss=1.15]\n"
          ]
        }
      ]
    },
    {
      "cell_type": "code",
      "source": [
        "class_correct = list(0. for i in range(num_classes))\n",
        "class_total = list(0. for i in range(num_classes))\n",
        "model.eval()\n",
        "with torch.no_grad():\n",
        "  total_loss = 0\n",
        "  total_correct = 0\n",
        "  loop = tqdm(enumerate(testloader), total = len(testloader))\n",
        "  for i, data in loop:\n",
        "    inputs, labels = data\n",
        "    inputs = inputs.to(device)\n",
        "    labels = labels.to(device)\n",
        "\n",
        "    outputs = model(inputs)\n",
        "    loss = criterion(outputs, labels)\n",
        "    _, predicted = torch.max(outputs, 1)\n",
        "    c = (predicted == labels).squeeze()\n",
        "\n",
        "    test_loss = loss.item()\n",
        "    test_correct = torch.sum(predicted == labels.data).item()\n",
        "\n",
        "    total_loss += test_loss\n",
        "    total_correct += test_correct\n",
        "\n",
        "    for i in range(len(labels)):\n",
        "      label = labels[i]\n",
        "      class_correct[label] += c[i].item()\n",
        "      class_total[label] += 1\n",
        "\n",
        "  e_loss = total_loss / len(test_set)\n",
        "  e_acc = total_correct / len(test_set)"
      ],
      "metadata": {
        "colab": {
          "base_uri": "https://localhost:8080/"
        },
        "id": "-F4kRQfzJzca",
        "outputId": "148d5dfe-8a2b-417e-8e60-9878f68569da"
      },
      "execution_count": null,
      "outputs": [
        {
          "output_type": "stream",
          "name": "stderr",
          "text": [
            "100%|██████████| 313/313 [00:41<00:00,  7.52it/s]\n"
          ]
        }
      ]
    },
    {
      "cell_type": "code",
      "source": [
        "if h_acc <= e_acc:\n",
        "  save_checkpoint(model, '/content/drive/MyDrive/Colab Notebooks/Cifar_Best_resnet50.pth')\n",
        "  h_acc = e_acc\n",
        "\n",
        "print(\"fin\")\n",
        "print('best resnet50 Acc : ', h_acc)"
      ],
      "metadata": {
        "colab": {
          "base_uri": "https://localhost:8080/"
        },
        "id": "DqxakGwuSyAU",
        "outputId": "e8ed69f4-b0eb-48cc-b2d4-5a7f60b14e0a"
      },
      "execution_count": null,
      "outputs": [
        {
          "output_type": "stream",
          "name": "stdout",
          "text": [
            "fin\n",
            "best resnet50 Acc :  0.8708\n"
          ]
        }
      ]
    }
  ]
}