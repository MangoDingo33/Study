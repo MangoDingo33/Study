{
 "cells": [
  {
   "cell_type": "code",
   "execution_count": 1,
   "metadata": {},
   "outputs": [
    {
     "name": "stderr",
     "output_type": "stream",
     "text": [
      "2023-11-20 05:15:56.531272: I tensorflow/core/platform/cpu_feature_guard.cc:182] This TensorFlow binary is optimized to use available CPU instructions in performance-critical operations.\n",
      "To enable the following instructions: AVX2 FMA, in other operations, rebuild TensorFlow with the appropriate compiler flags.\n"
     ]
    }
   ],
   "source": [
    "from tensorflow import keras\n",
    "from sklearn.model_selection import train_test_split\n",
    "\n",
    "(train_input, train_target), (test_input, test_target) = \\\n",
    "    keras.datasets.fashion_mnist.load_data()\n",
    "\n",
    "train_scaled = train_input.reshape(-1, 28, 28, 1) / 255.0\n",
    "\n",
    "train_scaled, val_scaled, train_target, val_target = train_test_split(\n",
    "    train_scaled, train_target, test_size=0.2, random_state=42)"
   ]
  },
  {
   "cell_type": "code",
   "execution_count": 2,
   "metadata": {},
   "outputs": [],
   "source": [
    "model = keras.Sequential()\n",
    "model.add(keras.layers.Conv2D(32, kernel_size=3, activation='relu',\n",
    "                              padding='same', input_shape=(28,28,1))) #28, 28, 32\n",
    "model.add(keras.layers.MaxPooling2D(2)) #14, 14, 32\n",
    "model.add(keras.layers.Conv2D(64, kernel_size=(3,3), activation='relu',\n",
    "                              padding='same')) #14, 14, 64\n",
    "model.add(keras.layers.MaxPooling2D(2)) #7, 7, 64\n",
    "\n",
    "model.add(keras.layers.Flatten()) # \n",
    "model.add(keras.layers.Dense(100, activation='relu'))\n",
    "model.add(keras.layers.Dropout(0.4))\n",
    "model.add(keras.layers.Dense(10, activation='softmax'))"
   ]
  },
  {
   "cell_type": "code",
   "execution_count": 3,
   "metadata": {},
   "outputs": [
    {
     "name": "stdout",
     "output_type": "stream",
     "text": [
      "Model: \"sequential\"\n",
      "_________________________________________________________________\n",
      " Layer (type)                Output Shape              Param #   \n",
      "=================================================================\n",
      " conv2d (Conv2D)             (None, 28, 28, 32)        320       \n",
      "                                                                 \n",
      " max_pooling2d (MaxPooling2  (None, 14, 14, 32)        0         \n",
      " D)                                                              \n",
      "                                                                 \n",
      " conv2d_1 (Conv2D)           (None, 14, 14, 64)        18496     \n",
      "                                                                 \n",
      " max_pooling2d_1 (MaxPoolin  (None, 7, 7, 64)          0         \n",
      " g2D)                                                            \n",
      "                                                                 \n",
      " flatten (Flatten)           (None, 3136)              0         \n",
      "                                                                 \n",
      " dense (Dense)               (None, 100)               313700    \n",
      "                                                                 \n",
      " dropout (Dropout)           (None, 100)               0         \n",
      "                                                                 \n",
      " dense_1 (Dense)             (None, 10)                1010      \n",
      "                                                                 \n",
      "=================================================================\n",
      "Total params: 333526 (1.27 MB)\n",
      "Trainable params: 333526 (1.27 MB)\n",
      "Non-trainable params: 0 (0.00 Byte)\n",
      "_________________________________________________________________\n"
     ]
    }
   ],
   "source": [
    "model.summary()"
   ]
  },
  {
   "cell_type": "code",
   "execution_count": 4,
   "metadata": {},
   "outputs": [
    {
     "name": "stdout",
     "output_type": "stream",
     "text": [
      "You must install pydot (`pip install pydot`) and install graphviz (see instructions at https://graphviz.gitlab.io/download/) for plot_model to work.\n"
     ]
    }
   ],
   "source": [
    "keras.utils.plot_model(model)"
   ]
  },
  {
   "cell_type": "code",
   "execution_count": 5,
   "metadata": {},
   "outputs": [
    {
     "name": "stdout",
     "output_type": "stream",
     "text": [
      "Epoch 1/20\n",
      "1500/1500 [==============================] - 27s 17ms/step - loss: 0.5257 - accuracy: 0.8115 - val_loss: 0.3282 - val_accuracy: 0.8817\n",
      "Epoch 2/20\n",
      "   7/1500 [..............................] - ETA: 25s - loss: 0.3891 - accuracy: 0.8304"
     ]
    },
    {
     "name": "stderr",
     "output_type": "stream",
     "text": [
      "/opt/anaconda3/lib/python3.9/site-packages/keras/src/engine/training.py:3103: UserWarning: You are saving your model as an HDF5 file via `model.save()`. This file format is considered legacy. We recommend using instead the native Keras format, e.g. `model.save('my_model.keras')`.\n",
      "  saving_api.save_model(\n"
     ]
    },
    {
     "name": "stdout",
     "output_type": "stream",
     "text": [
      "1500/1500 [==============================] - 28s 19ms/step - loss: 0.3512 - accuracy: 0.8737 - val_loss: 0.2815 - val_accuracy: 0.8972\n",
      "Epoch 3/20\n",
      "1500/1500 [==============================] - 25s 17ms/step - loss: 0.3068 - accuracy: 0.8902 - val_loss: 0.2782 - val_accuracy: 0.8975\n",
      "Epoch 4/20\n",
      "1500/1500 [==============================] - 31s 20ms/step - loss: 0.2735 - accuracy: 0.8998 - val_loss: 0.2452 - val_accuracy: 0.9096\n",
      "Epoch 5/20\n",
      "1500/1500 [==============================] - 29s 20ms/step - loss: 0.2475 - accuracy: 0.9094 - val_loss: 0.2369 - val_accuracy: 0.9118\n",
      "Epoch 6/20\n",
      "1500/1500 [==============================] - 29s 19ms/step - loss: 0.2302 - accuracy: 0.9161 - val_loss: 0.2412 - val_accuracy: 0.9106\n",
      "Epoch 7/20\n",
      "1500/1500 [==============================] - 37s 24ms/step - loss: 0.2130 - accuracy: 0.9225 - val_loss: 0.2326 - val_accuracy: 0.9159\n",
      "Epoch 8/20\n",
      "1500/1500 [==============================] - 31s 21ms/step - loss: 0.1957 - accuracy: 0.9281 - val_loss: 0.2210 - val_accuracy: 0.9193\n",
      "Epoch 9/20\n",
      "1500/1500 [==============================] - 35s 23ms/step - loss: 0.1847 - accuracy: 0.9313 - val_loss: 0.2177 - val_accuracy: 0.9174\n",
      "Epoch 10/20\n",
      "1500/1500 [==============================] - 33s 22ms/step - loss: 0.1719 - accuracy: 0.9360 - val_loss: 0.2168 - val_accuracy: 0.9179\n",
      "Epoch 11/20\n",
      "1500/1500 [==============================] - 31s 21ms/step - loss: 0.1598 - accuracy: 0.9400 - val_loss: 0.2345 - val_accuracy: 0.9203\n",
      "Epoch 12/20\n",
      "1500/1500 [==============================] - 33s 22ms/step - loss: 0.1496 - accuracy: 0.9428 - val_loss: 0.2374 - val_accuracy: 0.9222\n"
     ]
    }
   ],
   "source": [
    "model.compile(optimizer='adam', loss='sparse_categorical_crossentropy',\n",
    "              metrics='accuracy')\n",
    "\n",
    "checkpoint_cb = keras.callbacks.ModelCheckpoint('best-cnn-model.h5',\n",
    "                                                save_best_only=True)\n",
    "early_stopping_cb = keras.callbacks.EarlyStopping(patience=2,\n",
    "                                                  restore_best_weights=True)\n",
    "\n",
    "history = model.fit(train_scaled, train_target, epochs=20,\n",
    "                    validation_data=(val_scaled, val_target),\n",
    "                    callbacks=[checkpoint_cb, early_stopping_cb])"
   ]
  },
  {
   "cell_type": "code",
   "execution_count": 6,
   "metadata": {},
   "outputs": [
    {
     "data": {
      "image/png": "[encoded data removed]",
      "text/plain": [
       "<Figure size 640x480 with 1 Axes>"
      ]
     },
     "metadata": {},
     "output_type": "display_data"
    }
   ],
   "source": [
    "import matplotlib.pyplot as plt\n",
    "\n",
    "plt.plot(history.history['loss'])\n",
    "plt.plot(history.history['val_loss'])\n",
    "plt.xlabel('epoch')\n",
    "plt.ylabel('loss')\n",
    "plt.legend(['train', 'val'])\n",
    "plt.show()"
   ]
  },
  {
   "cell_type": "code",
   "execution_count": 7,
   "metadata": {},
   "outputs": [
    {
     "name": "stdout",
     "output_type": "stream",
     "text": [
      "375/375 [==============================] - 1s 4ms/step - loss: 0.2168 - accuracy: 0.9179\n"
     ]
    },
    {
     "data": {
      "text/plain": [
       "[0.2167646735906601, 0.9179166555404663]"
      ]
     },
     "execution_count": 7,
     "metadata": {},
     "output_type": "execute_result"
    }
   ],
   "source": [
    "model.evaluate(val_scaled, val_target)"
   ]
  },
  {
   "cell_type": "code",
   "execution_count": 8,
   "metadata": {},
   "outputs": [
    {
     "data": {
      "image/png": "[encoded data removed]",
      "text/plain": [
       "<Figure size 640x480 with 1 Axes>"
      ]
     },
     "metadata": {},
     "output_type": "display_data"
    }
   ],
   "source": [
    "plt.imshow(val_scaled[0].reshape(28, 28), cmap='gray_r')\n",
    "plt.show()"
   ]
  },
  {
   "cell_type": "code",
   "execution_count": 9,
   "metadata": {},
   "outputs": [
    {
     "name": "stdout",
     "output_type": "stream",
     "text": [
      "1/1 [==============================] - 0s 91ms/step\n",
      "[[4.3254742e-18 7.9125202e-24 7.7321248e-22 1.2313659e-19 7.1791114e-16\n",
      "  3.6046943e-17 2.4130885e-18 5.4781547e-21 1.0000000e+00 4.6142829e-21]]\n"
     ]
    }
   ],
   "source": [
    "preds = model.predict(val_scaled[0:1])\n",
    "print(preds)"
   ]
  },
  {
   "cell_type": "code",
   "execution_count": 10,
   "metadata": {},
   "outputs": [
    {
     "data": {
      "image/png": "[encoded data removed]",
      "text/plain": [
       "<Figure size 640x480 with 1 Axes>"
      ]
     },
     "metadata": {},
     "output_type": "display_data"
    }
   ],
   "source": [
    "plt.bar(range(1, 11), preds[0])\n",
    "plt.xlabel('class')\n",
    "plt.ylabel('prob.')\n",
    "plt.show()"
   ]
  },
  {
   "cell_type": "code",
   "execution_count": 12,
   "metadata": {},
   "outputs": [],
   "source": [
    "classes = ['티셔츠', '바지', '스웨터', '드레스', '코트', '샌달', '셔츠', '스니커즈', '가방', '앵클 부츠']"
   ]
  },
  {
   "cell_type": "code",
   "execution_count": 13,
   "metadata": {},
   "outputs": [
    {
     "name": "stdout",
     "output_type": "stream",
     "text": [
      "가방\n"
     ]
    }
   ],
   "source": [
    "import numpy as np\n",
    "print(classes[np.argmax(preds)])"
   ]
  },
  {
   "cell_type": "code",
   "execution_count": 14,
   "metadata": {},
   "outputs": [
    {
     "name": "stdout",
     "output_type": "stream",
     "text": [
      "313/313 [==============================] - 1s 4ms/step - loss: 0.2397 - accuracy: 0.9155\n"
     ]
    },
    {
     "data": {
      "text/plain": [
       "[0.23970769345760345, 0.9154999852180481]"
      ]
     },
     "execution_count": 14,
     "metadata": {},
     "output_type": "execute_result"
    }
   ],
   "source": [
    "test_scaled = test_input.reshape(-1, 28, 28, 1) / 255.0\n",
    "model.evaluate(test_scaled, test_target)"
   ]
  }
 ],
 "metadata": {
  "kernelspec": {
   "display_name": "base",
   "language": "python",
   "name": "python3"
  },
  "language_info": {
   "codemirror_mode": {
    "name": "ipython",
    "version": 3
   },
   "file_extension": ".py",
   "mimetype": "text/x-python",
   "name": "python",
   "nbconvert_exporter": "python",
   "pygments_lexer": "ipython3",
   "version": "3.9.18"
  }
 },
 "nbformat": 4,
 "nbformat_minor": 2
}
